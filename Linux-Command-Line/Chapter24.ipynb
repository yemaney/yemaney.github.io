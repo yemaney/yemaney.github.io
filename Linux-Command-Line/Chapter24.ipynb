{
 "cells": [
  {
   "cell_type": "markdown",
   "metadata": {},
   "source": [
    "# Writing Your First Script"
   ]
  },
  {
   "cell_type": "markdown",
   "metadata": {},
   "source": [
    "## What Are Shell Scripts?\n",
    "A shell script is a file containing a series of commands. The shell reads the file and carries out the commands as if they have been entered directly on the command line."
   ]
  },
  {
   "cell_type": "markdown",
   "metadata": {},
   "source": [
    "## How to Write a Shell Script\n",
    "1. Write a script. Shell scripts are ordinary files, so they are made with a text editor. Preferably with syntax highlightin.\n",
    "2. Make the script executable.\n",
    "3. Put the script somewhere the shell can find it."
   ]
  },
  {
   "cell_type": "markdown",
   "metadata": {},
   "source": [
    "### Script file format\n",
    "\n",
    "```sh\n",
    "#!/bin/bash\n",
    "# This is out first script\n",
    "\n",
    "echo 'Hello World!'\n",
    "```\n",
    "\n",
    "\n",
    "Comments designated by # symbol can also be at the end of a code line.\n"
   ]
  },
  {
   "cell_type": "markdown",
   "metadata": {},
   "source": [
    "### Executable Permissions\n"
   ]
  },
  {
   "cell_type": "code",
   "execution_count": 4,
   "metadata": {},
   "outputs": [
    {
     "name": "stdout",
     "output_type": "stream",
     "text": [
      "-rwxrwxrwx 1 yemane yemane 61 Jan 21 15:54 hello_world\n"
     ]
    }
   ],
   "source": [
    "!ls -l hello_world"
   ]
  },
  {
   "cell_type": "markdown",
   "metadata": {},
   "source": [
    "There are two common permission settings for scripts: 755 for scripts \n",
    "that everyone can execute and 700 for scripts that only the owner can execute. Note that scripts must be readable to be executed"
   ]
  },
  {
   "cell_type": "code",
   "execution_count": 2,
   "metadata": {},
   "outputs": [],
   "source": [
    "# in case it is not executable\n",
    "!chmod 755 hello_world"
   ]
  },
  {
   "cell_type": "markdown",
   "metadata": {},
   "source": [
    "### Script File Location\n",
    "With the permissions set, we can now execute our script. For the script to run, we must precede the script name with an explicit path."
   ]
  },
  {
   "cell_type": "code",
   "execution_count": 8,
   "metadata": {},
   "outputs": [
    {
     "name": "stdout",
     "output_type": "stream",
     "text": [
      "Hello World!\n"
     ]
    }
   ],
   "source": [
    "!./hello_world"
   ]
  },
  {
   "cell_type": "markdown",
   "metadata": {},
   "source": [
    "To use script without stating the path. You will have to add it to a directory that is registered in the PATH variable.\n",
    "\n",
    "```sh \n",
    "export PATH=~/bin:\"$PATH\"\n",
    "```"
   ]
  },
  {
   "cell_type": "markdown",
   "metadata": {},
   "source": [
    "### Good Locations for Scripts\n",
    "- personal use: ~/bin\n",
    "- everyone: ~/usr/local/bin\n",
    "- sys admin: ~/usr/local/sbin"
   ]
  },
  {
   "cell_type": "markdown",
   "metadata": {},
   "source": [
    "## More Formatting Tricks\n",
    "\n",
    "- If a command has both  long and short option, use the short option\n",
    "- If command is long, readability can be enhanced by spreading it over several lines and indenting\n",
    "    - Using line continuation backslash \\\n",
    "    "
   ]
  },
  {
   "cell_type": "markdown",
   "metadata": {},
   "source": [
    "# Summing Up\n",
    "- What are shell scripts\n",
    "- How they are written\n",
    "- How they are executed"
   ]
  }
 ],
 "metadata": {
  "interpreter": {
   "hash": "fbbcd2e6edcb24eb7238d003204e89dfec81969763d5f6010a55d994217de1a3"
  },
  "kernelspec": {
   "display_name": "Python 3.9.7 64-bit ('base': conda)",
   "language": "python",
   "name": "python3"
  },
  "language_info": {
   "codemirror_mode": {
    "name": "ipython",
    "version": 3
   },
   "file_extension": ".py",
   "mimetype": "text/x-python",
   "name": "python",
   "nbconvert_exporter": "python",
   "pygments_lexer": "ipython3",
   "version": "3.9.7"
  },
  "orig_nbformat": 4
 },
 "nbformat": 4,
 "nbformat_minor": 2
}
