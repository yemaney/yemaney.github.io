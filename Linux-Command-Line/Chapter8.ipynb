{
 "cells": [
  {
   "cell_type": "markdown",
   "metadata": {},
   "source": [
    "# 8 Advanced Keyboard Tricks\n",
    "\n",
    "`clear` - Clear the terminal screen\n",
    "`history` - Display or manipulate the history list"
   ]
  },
  {
   "cell_type": "markdown",
   "metadata": {},
   "source": [
    "## Command Line Editing"
   ]
  },
  {
   "cell_type": "markdown",
   "metadata": {},
   "source": [
    "### Cursor Movement\n",
    "\n",
    "|Key| Action|\n",
    "|-|-|\n",
    "|ctrl-A| Move cursor to the beginning of the line.|\n",
    "|ctrl-E| Move cursor to the end of the line.|\n",
    "|ctrl-F| Move cursor forward one character; same as the right arrow key.|\n",
    "|ctrl-B| Move cursor backward one character; same as the left arrow key.|\n",
    "|alt-F| Move cursor forward one word.|\n",
    "|alt-B| Move cursor backward one word.|\n",
    "|ctrl-L| Clear the screen and move the cursor to the top-left corner. The clear command does the same thing.|"
   ]
  },
  {
   "cell_type": "markdown",
   "metadata": {},
   "source": [
    "### Modifying Text\n",
    "- edit characters on the command line."
   ]
  },
  {
   "cell_type": "markdown",
   "metadata": {},
   "source": [
    "|Key| Action|\n",
    "|-|-|\n",
    "|ctrl-D| Delete the character at the cursor location.|\n",
    "|ctrl-T| Transpose (exchange) the character at the cursor location with the one preceding it.|\n",
    "|alt-T| Transpose the word at the cursor location with the one preceding it.|\n",
    "|alt-L| Convert the characters from the cursor location to the end of the word to lowercase.|\n",
    "|alt-U| Convert the characters from the cursor location to the end of the word to uppercase|"
   ]
  },
  {
   "cell_type": "markdown",
   "metadata": {},
   "source": [
    "### Cutting and Pasting Text\n",
    "\n",
    "|Key| Action|\n",
    "|-|-|\n",
    "|ctrl-K| Kill text from the cursor location to the end of line.|\n",
    "|ctrl-U| Kill text from the cursor location to the beginning of the line.|\n",
    "|alt-D| Kill text from the cursor location to the end of the current word.|\n",
    "|alt-backspace| Kill text from the cursor location to the beginning of the current word. If the cursor is at the beginning of a word, kill the previous word.|\n",
    "|ctrl-Y| Yank text from the kill-ring and insert it at the cursor location.|"
   ]
  },
  {
   "cell_type": "markdown",
   "metadata": {},
   "source": [
    "## Completion\n",
    "\n",
    "Completion occurs when you press the tab key while typing a command.\n",
    "\n",
    "While this example shows completion of `pathnames`, which is its most \n",
    "common use, completion will also work on `variables` (if the beginning of the word is a `$`), `usernames` (if the word begins with `~`), `commands` (if the word is the `first word on the line`), and `hostnames` (if the beginning of the word is `@`). Hostname completion works only for hostnames listed in /etc/hosts\n",
    "\n",
    "|Key| Action|\n",
    "|-|-|\n",
    "|alt-?| Display a list of possible completions. On most systems, you can also do this by pressing the tab key a second time, which is much easier.|\n",
    "|alt-*| Insert all possible completions. This is useful when you want to use more than one possible match.|"
   ]
  },
  {
   "cell_type": "markdown",
   "metadata": {},
   "source": [
    "## Using History\n",
    "\n",
    "bash maintains a history of commands that have been entered"
   ]
  },
  {
   "cell_type": "markdown",
   "metadata": {},
   "source": [
    "### Searching History\n"
   ]
  },
  {
   "cell_type": "markdown",
   "metadata": {},
   "source": [
    "find the commands we used to list /usr/bin. "
   ]
  },
  {
   "cell_type": "code",
   "execution_count": 6,
   "metadata": {},
   "outputs": [],
   "source": [
    "!history | grep /usr/bin"
   ]
  },
  {
   "cell_type": "markdown",
   "metadata": {},
   "source": [
    "#### history expansion\n",
    "Bash will expand !88 into the contents of the 88th line in the history list."
   ]
  },
  {
   "cell_type": "markdown",
   "metadata": {},
   "source": [
    "bash also provides the ability to search the history list incrementally. This means we can tell bash to search the history list as we enter characters, with each additional character further refining our search. \n",
    "\n",
    "| Key| Action|\n",
    "|-|-|\n",
    "|ctrl-R| start incremental history search|\n",
    "|ctrl-J| copy line from history list|\n",
    "|ctrl-C or ctrl-G| quit searching|"
   ]
  },
  {
   "cell_type": "markdown",
   "metadata": {},
   "source": [
    "|Key| Action|\n",
    "|-|-|\n",
    "|ctrl-P| Move to the previous history entry. This is the same action as the up arrow.|\n",
    "|ctrl-N| Move to the next history entry. This is the same action as the down arrow.|\n",
    "|alt-<| Move to the beginning (top) of the history list.|\n",
    "|alt->| Move to the end (bottom) of the history list, i.e., the current command line.|\n",
    "|ctrl-R| Reverse incremental search. This searches incrementally from the current com\u0002mand line up the history list.|\n",
    "|alt-P| Reverse search, nonincremental. With this key, type in the search string and press enter before the search is performed.|\n",
    "|alt-N| Forward search, nonincremental.|\n",
    "|ctrl-O| Execute the current item in the history list and advance to the next one. This is handy if you are trying to re-execute a sequence of commands in the history list|"
   ]
  },
  {
   "cell_type": "markdown",
   "metadata": {},
   "source": [
    "### History Expansion\n",
    "\n",
    "|Sequence| Action|\n",
    "|-|-|\n",
    "|!!| Repeat the last command. It is probably easier to press the up arrow and enter.|\n",
    "|!number |Repeat history list item number.|\n",
    "|!string| Repeat last history list item starting with string.|\n",
    "|!?string |Repeat last history list item containing string.|"
   ]
  }
 ],
 "metadata": {
  "interpreter": {
   "hash": "fbbcd2e6edcb24eb7238d003204e89dfec81969763d5f6010a55d994217de1a3"
  },
  "kernelspec": {
   "display_name": "Python 3.9.7 64-bit ('base': conda)",
   "language": "python",
   "name": "python3"
  },
  "language_info": {
   "codemirror_mode": {
    "name": "ipython",
    "version": 3
   },
   "file_extension": ".py",
   "mimetype": "text/x-python",
   "name": "python",
   "nbconvert_exporter": "python",
   "pygments_lexer": "ipython3",
   "version": "3.9.7"
  },
  "orig_nbformat": 4
 },
 "nbformat": 4,
 "nbformat_minor": 2
}
