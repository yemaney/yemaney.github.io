{
 "cells": [
  {
   "cell_type": "markdown",
   "metadata": {},
   "source": [
    "# 1 What is the Shell?\n",
    "\n",
    "- The shell is a `program that takes keyboard commands and passes them to the operating system` to carry out. \n",
    "- Terminal emulators are `GUI for the shell`.\n",
    "- If the last character of the prompt is a hash mark `(#)` rather than a dollar sign, the terminal session has `superuser` privileges.\n",
    "- command history, linux distributions `remember the last 1,000 commands` by default\n",
    "- double-clicking a word copies it"
   ]
  },
  {
   "cell_type": "code",
   "execution_count": 2,
   "metadata": {},
   "outputs": [
    {
     "name": "stdout",
     "output_type": "stream",
     "text": [
      "Wed Nov 24 00:24:08 EST 2021\n"
     ]
    }
   ],
   "source": [
    "!date"
   ]
  },
  {
   "cell_type": "code",
   "execution_count": 4,
   "metadata": {},
   "outputs": [
    {
     "name": "stdout",
     "output_type": "stream",
     "text": [
      "   November 2021      \n",
      "Su Mo Tu We Th Fr Sa  \n",
      "    1  2  3  4  5  6  \n",
      " 7  8  9 10 11 12 13  \n",
      "14 15 16 17 18 19 20  \n",
      "21 22 23 \u001b[7m24\u001b[m 25 26 27  \n",
      "28 29 30              \n",
      "                      \n"
     ]
    }
   ],
   "source": [
    "!cal"
   ]
  },
  {
   "cell_type": "markdown",
   "metadata": {},
   "source": [
    "see current amount of free space on our disk"
   ]
  },
  {
   "cell_type": "code",
   "execution_count": 1,
   "metadata": {},
   "outputs": [
    {
     "name": "stdout",
     "output_type": "stream",
     "text": [
      "Filesystem     1K-blocks      Used Available Use% Mounted on\n",
      "/dev/sdd       263174212   3934396 245801660   2% /\n",
      "tmpfs            2397672    410040   1987632  18% /mnt/wsl\n",
      "/dev/sdc       263174212   7251308 242484748   3% /mnt/wsl/docker-desktop-data/isocache\n",
      "none             2397672        12   2397660   1% /mnt/wsl/docker-desktop/shared-sockets/host-services\n",
      "/dev/sdb       263174212    134176 249601880   1% /mnt/wsl/docker-desktop/docker-desktop-proxy\n",
      "/dev/loop0        404596    404596         0 100% /mnt/wsl/docker-desktop/cli-tools\n",
      "tools          498952516 217134732 281817784  44% /init\n",
      "none             2395380         0   2395380   0% /dev\n",
      "none             2397672         4   2397668   1% /run\n",
      "none             2397672         0   2397672   0% /run/lock\n",
      "none             2397672         0   2397672   0% /run/shm\n",
      "none             2397672         0   2397672   0% /run/user\n",
      "tmpfs            2397672         0   2397672   0% /sys/fs/cgroup\n",
      "drivers        498952516 217134732 281817784  44% /usr/lib/wsl/drivers\n",
      "lib            498952516 217134732 281817784  44% /usr/lib/wsl/lib\n",
      "C:\\            498952516 217134732 281817784  44% /mnt/c\n"
     ]
    }
   ],
   "source": [
    "!df"
   ]
  },
  {
   "cell_type": "markdown",
   "metadata": {},
   "source": [
    "free memory"
   ]
  },
  {
   "cell_type": "code",
   "execution_count": 2,
   "metadata": {},
   "outputs": [
    {
     "name": "stdout",
     "output_type": "stream",
     "text": [
      "              total        used        free      shared  buff/cache   available\n",
      "Mem:        4795344     1145068     2623948      410328     1026328     3018808\n",
      "Swap:       2097152        3596     2093556\n"
     ]
    }
   ],
   "source": [
    "!free"
   ]
  },
  {
   "cell_type": "markdown",
   "metadata": {},
   "source": [
    "# 2 Navigation\n",
    "\n",
    "- `pwd` print name of current working directory\n",
    "- `cd` change directory\n",
    "- `ls` list directory contents"
   ]
  },
  {
   "cell_type": "code",
   "execution_count": 4,
   "metadata": {},
   "outputs": [
    {
     "name": "stdout",
     "output_type": "stream",
     "text": [
      "/mnt/c/Users/yeman_s1h20q2/Yemane/Linux-Command-Line\n"
     ]
    }
   ],
   "source": [
    "!pwd"
   ]
  },
  {
   "cell_type": "code",
   "execution_count": 6,
   "metadata": {},
   "outputs": [
    {
     "name": "stdout",
     "output_type": "stream",
     "text": [
      ".  ..  .git  LearningTheShell.ipynb  README.md\n"
     ]
    }
   ],
   "source": [
    "!ls -a"
   ]
  },
  {
   "cell_type": "markdown",
   "metadata": {},
   "source": [
    "- absolute pathname starts from the root directory and leads to its destination\n",
    "-a relative pathname starts from the working directory. \n",
    "\n",
    "- To do this, it uses `(dot) and .. (dot dot).` to represent relative positions in the file system tree. \n",
    "\n",
    "- The `. notation refers to the working directory`, and the `.. notation refers to the working directory’s parent directory.`"
   ]
  },
  {
   "cell_type": "markdown",
   "metadata": {},
   "source": [
    "# 3 Exploring the System\n",
    "\n",
    "- ls -a\n",
    "    - show hidden files\n",
    "- ls -l\n",
    "    - output long format\n",
    "- file \n",
    "    - determine file type\n",
    "- less\n",
    "    - view file contents"
   ]
  },
  {
   "cell_type": "markdown",
   "metadata": {},
   "source": [
    "## Options and Arguments\n",
    "\n",
    "Commands are often followed by one or more options.\n",
    "\n",
    "```sh\n",
    "command -options arguments\n",
    "```"
   ]
  },
  {
   "cell_type": "markdown",
   "metadata": {},
   "source": [
    "list files in long form (-l) and order by date modifcation(-t)"
   ]
  },
  {
   "cell_type": "code",
   "execution_count": 7,
   "metadata": {},
   "outputs": [
    {
     "name": "stdout",
     "output_type": "stream",
     "text": [
      "total 8\n",
      "-rwxrwxrwx 1 yemane yemane 6150 Nov 24 18:34 LearningTheShell.ipynb\n",
      "-rwxrwxrwx 1 yemane yemane   55 Nov 22 20:54 README.md\n"
     ]
    }
   ],
   "source": [
    "!ls -lt "
   ]
  },
  {
   "cell_type": "code",
   "execution_count": 8,
   "metadata": {},
   "outputs": [
    {
     "name": "stdout",
     "output_type": "stream",
     "text": [
      "total 8\n",
      "-rwxrwxrwx 1 yemane yemane   55 Nov 22 20:54 README.md\n",
      "-rwxrwxrwx 1 yemane yemane 6679 Nov 24 18:35 LearningTheShell.ipynb\n"
     ]
    }
   ],
   "source": [
    "!ls -lt --reverse"
   ]
  },
  {
   "cell_type": "markdown",
   "metadata": {},
   "source": [
    "## Long format"
   ]
  },
  {
   "cell_type": "code",
   "execution_count": 13,
   "metadata": {},
   "outputs": [
    {
     "name": "stdout",
     "output_type": "stream",
     "text": [
      "total 8\n",
      "-rwxrwxrwx 1 yemane yemane 7197 Nov 24 18:38 LearningTheShell.ipynb\n",
      "-rwxrwxrwx 1 yemane yemane   55 Nov 22 20:54 README.md\n"
     ]
    }
   ],
   "source": [
    "!ls -l"
   ]
  },
  {
   "cell_type": "markdown",
   "metadata": {},
   "source": [
    "- access rights to a file [`-rwxrwxrwx`]\n",
    "    - first character indicate file type\n",
    "        - a dash (-) means regular file\n",
    "        - a d means a directory\n",
    "    - the next nine, split into groups of three characters are the access rights for the file owners, members of the files group, and everyone else respectively\n",
    "- File number of hard links [1]\n",
    "- username of the files owner [root]\n",
    "- names of the hroup that owns the file [root]\n",
    "- Size of file in bytes [7197]\n",
    "- Date and itme of the files last modication [Nov 24 18:38]\n",
    "- Name of file [LearningTheShell.ipynb]"
   ]
  },
  {
   "cell_type": "code",
   "execution_count": 14,
   "metadata": {},
   "outputs": [
    {
     "name": "stdout",
     "output_type": "stream",
     "text": [
      "LearningTheShell.ipynb: UTF-8 Unicode text\n"
     ]
    }
   ],
   "source": [
    "!file LearningTheShell.ipynb"
   ]
  },
  {
   "cell_type": "code",
   "execution_count": 16,
   "metadata": {},
   "outputs": [
    {
     "name": "stdout",
     "output_type": "stream",
     "text": [
      "# Linux-Command-Line\n",
      "Learning the Linux Command Line\n",
      "\u001b[K\u001b[7m(END)\u001b[m\u001b[K"
     ]
    }
   ],
   "source": [
    "!less README.md"
   ]
  },
  {
   "cell_type": "markdown",
   "metadata": {},
   "source": [
    "|Directory||\n",
    "|-|-|\n",
    "|/home|ordinary users can only write files only in their home directory|\n",
    "|/lib|Contains shared library files used by the core system programs.|\n",
    "|/lost+found|used in the case of a partial recovery from a file system corruption event|\n",
    "|/media|contain the mount points for removable media such as USB drives|\n",
    "|/mnt|contains mount points for removable devices that have been mounted manually|\n",
    "|/opt|used to install “optional” software. This is mainly used to hold commercial software products|\n",
    "|/proc|It’s not a real file system in the sense of files stored on your hard drive. Rather, it is a virtual file system maintained by the Linux kernel. The “files” it contains are peepholes into the kernel itself. The files are readable and will give you a picture of how the kernel sees your computer|\n",
    "|/root|home directory for the root account|\n",
    "|/sbin|This directory contains “system” binaries. These are programs that perform vital system tasks that are generally reserved for the superuser.|\n",
    "|/tmp| intended for the storage of temporary, transient files created by various programs.|\n",
    "|/usr|contains all the programs and support files used by regular user|\n",
    "|/usr/bin|contains the executable programs installed by your Linux distribution|\n",
    "|/usr/lib|The shared libraries for the programs in /usr/bin|\n",
    "|/usr/local|where programs that are not included with your distribution but are intended for system-wide use are installed|\n",
    "|/usr/sbin|Contains more system administration programs|\n",
    "|/usr/share|contains all the shared data used by programs in /usr/bin|\n",
    "|/usr/share/doc|we will find documentation files organized by packages|\n",
    "|/var|where data that is likely to change is stored. Various databases, spool files, user mail, and so forth, are located here|\n",
    "|/var/log| contains log files, records of various system activity.The most useful ones are /var/log/messages and /var/log/syslog|"
   ]
  },
  {
   "cell_type": "markdown",
   "metadata": {},
   "source": [
    "## Symbolic Links"
   ]
  },
  {
   "cell_type": "markdown",
   "metadata": {},
   "source": [
    "A way to reference a file with several names point to it."
   ]
  },
  {
   "cell_type": "markdown",
   "metadata": {},
   "source": [
    "# 4 Manipulating Files and Directories\n",
    "\n",
    "|command||\n",
    "|-|-|\n",
    "|cp| copy files and directories|\n",
    "|mv| move/rename files and directories|\n",
    "|mkdir| create directories|\n",
    "|rm| remove files and directories|\n",
    "|ln| create hard and symbolic links|"
   ]
  },
  {
   "cell_type": "markdown",
   "metadata": {},
   "source": [
    "## Wildcards\n",
    "\n",
    "|wildcard|meaning|\n",
    "|-|-|\n",
    "|*|matches any character|\n",
    "|?|matches any single character|\n",
    "|[characters]|matches any character that is a member of the set characters|\n",
    "|[!characters]|matches any character that not is a member of the set characters|\n",
    "|[[:class:]]|matches any character that is a member of the specified class| "
   ]
  },
  {
   "cell_type": "markdown",
   "metadata": {},
   "source": [
    "|character class|meaning|\n",
    "|-|-|\n",
    "|[:alnum:]|matches any alphanumeric character|\n",
    "|[:alpha:]|matches any alphabetic character|\n",
    "|[:digit:]|matches any numeral|\n",
    "|[:lower:]|matches any lowercase letter|\n",
    "|[:upper:]|matches any uppercase letter\\"
   ]
  },
  {
   "cell_type": "code",
   "execution_count": 2,
   "metadata": {},
   "outputs": [
    {
     "name": "stdout",
     "output_type": "stream",
     "text": [
      "LearningTheShell.ipynb\tREADME.md\n"
     ]
    }
   ],
   "source": [
    "!ls *"
   ]
  },
  {
   "cell_type": "code",
   "execution_count": 5,
   "metadata": {},
   "outputs": [
    {
     "name": "stdout",
     "output_type": "stream",
     "text": [
      "LearningTheShell.ipynb\n"
     ]
    }
   ],
   "source": [
    "!ls [[:upper:]]*.i*"
   ]
  },
  {
   "cell_type": "markdown",
   "metadata": {},
   "source": [
    "## Useful options\n",
    "\n",
    "|options for cp||\n",
    "|-|-|\n",
    "|-a, --archive|copy file and directories and all their attributes including ownerships and permissions|\n",
    "|-i, --interactive|before overwriting a file, prompt user for confirmation|\n",
    "|-r, --recursive|recursively copy directories and their contents|\n",
    "|-u, --update| when copying files from one directory into another, only copy files that either don't exist or  are newer than the existing corresponding files in the destination directory|\n",
    "|-v, --verbose|display informative messages as the copt is performed|"
   ]
  },
  {
   "cell_type": "markdown",
   "metadata": {},
   "source": [
    "|options for mv||\n",
    "|-|-|\n",
    "|-i, --interactive||\n",
    "|-u, --update||\n",
    "|-v, --verbose||"
   ]
  },
  {
   "cell_type": "markdown",
   "metadata": {},
   "source": [
    "|options for rm||\n",
    "|-|-|\n",
    "|-i, --interactive||\n",
    "|-r, --recursive||\n",
    "|-f, --force|Ignore nonexistent files and do not prompt. This overrides the --interactive option.|\n",
    "|-v, --verbose||"
   ]
  },
  {
   "cell_type": "markdown",
   "metadata": {},
   "source": [
    "## ln - Create Links\n",
    "\n",
    "The ln command is used to create either hard or symbolic links. It is used in one of two ways.\n",
    "\n",
    "- hard link\n",
    "    - ln file link\n",
    "- symbolic link\n",
    "    - ln -s item link"
   ]
  },
  {
   "cell_type": "markdown",
   "metadata": {},
   "source": [
    "### Hard Links\n",
    "\n",
    "Hard links are the original Unix way of creating links, compared to symbolic links, which are more modern. By default, every file has a single hard link that gives the file its name. When we create a hard link, we create an additional directory entry for a file\n",
    "\n",
    "- A hard link cannot reference a file outside its own file system, disk partition\n",
    "- A hard link may not reference a directory\n",
    "\n",
    "A hard link is indistinguishable from the file itself."
   ]
  },
  {
   "cell_type": "markdown",
   "metadata": {},
   "source": [
    "### Symbolic Links\n",
    "Work by creating a file that contains a text pointer to the referenced file or directory. In this way, they operate much in the same way of a `Windows shortcut`.\n",
    "\n",
    "A file pointed to by a symbolic link and the symbolic link itself are \n",
    "largely indistinguishable from one another. For example, if you write something to the symbolic link, the referenced file is written to. When you delete a symbolic link, however, only the link is deleted, not the file itself. If the file is deleted before the symbolic link, the link will continue to exist but will point to nothing. In this case, the link is said to be broken. In many imple\u0002mentations, the ls command will display broken links in a distinguishing color, such as red, to reveal their presence"
   ]
  },
  {
   "cell_type": "markdown",
   "metadata": {},
   "source": [
    "## Building a Playground\n",
    "\n",
    "First create a directory to work in and call it playground."
   ]
  },
  {
   "cell_type": "code",
   "execution_count": 33,
   "metadata": {},
   "outputs": [],
   "source": [
    "mkdir playground"
   ]
  },
  {
   "cell_type": "markdown",
   "metadata": {},
   "source": [
    "create a couple of directories inside it called dir1 and dir2"
   ]
  },
  {
   "cell_type": "code",
   "execution_count": 37,
   "metadata": {},
   "outputs": [
    {
     "name": "stdout",
     "output_type": "stream",
     "text": [
      "/mnt/c/Users/yeman_s1h20q2/Yemane/Linux-Command-Line/playground\n"
     ]
    }
   ],
   "source": [
    "cd playground"
   ]
  },
  {
   "cell_type": "code",
   "execution_count": 38,
   "metadata": {},
   "outputs": [],
   "source": [
    "mkdir dir1 dir2"
   ]
  },
  {
   "cell_type": "code",
   "execution_count": 39,
   "metadata": {},
   "outputs": [],
   "source": [
    "cp /etc/passwd ."
   ]
  },
  {
   "cell_type": "code",
   "execution_count": 40,
   "metadata": {},
   "outputs": [
    {
     "name": "stdout",
     "output_type": "stream",
     "text": [
      "total 4\n",
      "drwxrwxrwx 1 yemane yemane 4096 Nov 25 17:36 \u001b[0m\u001b[34;42mdir1\u001b[0m/\n",
      "drwxrwxrwx 1 yemane yemane 4096 Nov 25 17:36 \u001b[34;42mdir2\u001b[0m/\n",
      "-rwxrwxrwx 1 yemane yemane 2321 Nov 25 17:39 \u001b[01;32mpasswd\u001b[0m*\n"
     ]
    }
   ],
   "source": [
    "ls -l"
   ]
  },
  {
   "cell_type": "code",
   "execution_count": 53,
   "metadata": {},
   "outputs": [
    {
     "name": "stdout",
     "output_type": "stream",
     "text": [
      "'/etc/passwd' -> './passwd'\n"
     ]
    }
   ],
   "source": [
    "cp -v /etc/passwd ."
   ]
  },
  {
   "cell_type": "code",
   "execution_count": 44,
   "metadata": {},
   "outputs": [
    {
     "name": "stdout",
     "output_type": "stream",
     "text": [
      "passwd: ASCII text\n"
     ]
    }
   ],
   "source": [
    "!file passwd"
   ]
  },
  {
   "cell_type": "markdown",
   "metadata": {},
   "source": [
    "### Moving and Renaming Files"
   ]
  },
  {
   "cell_type": "code",
   "execution_count": 55,
   "metadata": {},
   "outputs": [],
   "source": [
    "mv passwd fun"
   ]
  },
  {
   "cell_type": "code",
   "execution_count": 56,
   "metadata": {},
   "outputs": [
    {
     "name": "stdout",
     "output_type": "stream",
     "text": [
      "\u001b[0m\u001b[34;42mdir1\u001b[0m/  \u001b[34;42mdir2\u001b[0m/  \u001b[01;32mfun\u001b[0m*\n"
     ]
    }
   ],
   "source": [
    "ls"
   ]
  },
  {
   "cell_type": "code",
   "execution_count": 57,
   "metadata": {},
   "outputs": [],
   "source": [
    "mv fun dir1"
   ]
  },
  {
   "cell_type": "code",
   "execution_count": 58,
   "metadata": {},
   "outputs": [
    {
     "name": "stdout",
     "output_type": "stream",
     "text": [
      "\u001b[0m\u001b[01;32mfun\u001b[0m*\n"
     ]
    }
   ],
   "source": [
    "ls dir1"
   ]
  },
  {
   "cell_type": "code",
   "execution_count": 59,
   "metadata": {},
   "outputs": [],
   "source": [
    "mv dir1 dir2"
   ]
  },
  {
   "cell_type": "code",
   "execution_count": 61,
   "metadata": {},
   "outputs": [
    {
     "name": "stdout",
     "output_type": "stream",
     "text": [
      "total 0\n",
      "drwxrwxrwx 1 yemane yemane 4096 Nov 25 17:47 \u001b[0m\u001b[34;42mdir1\u001b[0m/\n"
     ]
    }
   ],
   "source": [
    "ls -l dir2"
   ]
  },
  {
   "cell_type": "code",
   "execution_count": 63,
   "metadata": {},
   "outputs": [
    {
     "name": "stdout",
     "output_type": "stream",
     "text": [
      "total 4\n",
      "-rwxrwxrwx 1 yemane yemane 2321 Nov 25 17:46 \u001b[0m\u001b[01;32mfun\u001b[0m*\n"
     ]
    }
   ],
   "source": [
    "ls -l dir2/dir1/"
   ]
  },
  {
   "cell_type": "code",
   "execution_count": 65,
   "metadata": {},
   "outputs": [],
   "source": [
    "mv dir2/dir1 ."
   ]
  },
  {
   "cell_type": "code",
   "execution_count": 66,
   "metadata": {},
   "outputs": [],
   "source": [
    "mv dir1/fun ."
   ]
  },
  {
   "cell_type": "code",
   "execution_count": 69,
   "metadata": {},
   "outputs": [
    {
     "name": "stdout",
     "output_type": "stream",
     "text": [
      "\u001b[0m\u001b[34;42mdir1\u001b[0m/  \u001b[34;42mdir2\u001b[0m/  \u001b[01;32mfun\u001b[0m*\n"
     ]
    }
   ],
   "source": [
    "ls"
   ]
  },
  {
   "cell_type": "markdown",
   "metadata": {},
   "source": [
    "### Creating hard links"
   ]
  },
  {
   "cell_type": "code",
   "execution_count": 71,
   "metadata": {},
   "outputs": [],
   "source": [
    "!ln fun fun-hard"
   ]
  },
  {
   "cell_type": "code",
   "execution_count": 70,
   "metadata": {},
   "outputs": [],
   "source": [
    "!ln fun dir1/fun-hard"
   ]
  },
  {
   "cell_type": "code",
   "execution_count": 72,
   "metadata": {},
   "outputs": [],
   "source": [
    "!ln fun dir2/fun-hard"
   ]
  },
  {
   "cell_type": "code",
   "execution_count": 73,
   "metadata": {},
   "outputs": [
    {
     "name": "stdout",
     "output_type": "stream",
     "text": [
      "total 8\n",
      "drwxrwxrwx 1 yemane yemane 4096 Nov 25 19:50 dir1\n",
      "drwxrwxrwx 1 yemane yemane 4096 Nov 25 19:50 dir2\n",
      "-rwxrwxrwx 4 yemane yemane 2321 Nov 25 17:46 fun\n",
      "-rwxrwxrwx 4 yemane yemane 2321 Nov 25 17:46 fun-hard\n"
     ]
    }
   ],
   "source": [
    "!ls -l"
   ]
  },
  {
   "cell_type": "markdown",
   "metadata": {},
   "source": [
    "both the second fields in the listings for fun and fun-hard contain a 4, which is the number of hard links that now exist for the file. Remember that a file will always have at least one link because the file’s name is created by a link."
   ]
  },
  {
   "cell_type": "markdown",
   "metadata": {},
   "source": [
    "When thinking about hard links, it is helpful to imagine that files are made up of two parts.\n",
    "    - the data part containing the file's contents\n",
    "    - the name part that holds the file's name\n",
    "\n",
    "When we created hard links, we are actually creating additional name parts that all refer to the same data part. "
   ]
  },
  {
   "cell_type": "code",
   "execution_count": 76,
   "metadata": {},
   "outputs": [
    {
     "name": "stdout",
     "output_type": "stream",
     "text": [
      "total 8\n",
      " 12947848929171375 drwxrwxrwx 1 yemane yemane 4096 Nov 25 19:50 dir1\n",
      " 12666373952460722 drwxrwxrwx 1 yemane yemane 4096 Nov 25 19:50 dir2\n",
      "116530640358274685 -rwxrwxrwx 4 yemane yemane 2321 Nov 25 17:46 fun\n",
      "116530640358274685 -rwxrwxrwx 4 yemane yemane 2321 Nov 25 17:46 fun-hard\n"
     ]
    }
   ],
   "source": [
    "!ls -li"
   ]
  },
  {
   "cell_type": "markdown",
   "metadata": {},
   "source": [
    "the first field is the inode number and, as we can see, both fun and fun-hard share the same inode number, which confirms they are the same file"
   ]
  },
  {
   "cell_type": "markdown",
   "metadata": {},
   "source": [
    "### Creating symbolic links\n",
    "\n",
    "Symbolic links were created to overcome the two disadvantages of hard links:\n",
    "    - hard links cannot span physical devices\n",
    "    - hard links cannot reference directories, only files\n",
    "\n",
    "Symbolic links are a special type of file that contains a text pointer to the target file or directory."
   ]
  },
  {
   "cell_type": "code",
   "execution_count": 77,
   "metadata": {},
   "outputs": [],
   "source": [
    "!ln -s fun fun-smy"
   ]
  },
  {
   "cell_type": "code",
   "execution_count": 79,
   "metadata": {},
   "outputs": [],
   "source": [
    "!ln -s ../fun dir1/fun-sym"
   ]
  },
  {
   "cell_type": "code",
   "execution_count": 80,
   "metadata": {},
   "outputs": [],
   "source": [
    "!ln -s ../fun dir2/fun-sym"
   ]
  },
  {
   "cell_type": "markdown",
   "metadata": {},
   "source": [
    "The listing for fun-sym in dir1 shows that it is a symbolic link by the leading l in the first field and that it points to ../fun, which is correct. Relative to the location of fun-sym, fun is in the directory above it. Notice, too, that the length of the symbolic link file is 6, the number of characters in the string ../fun rather than the length of the file to which it is pointing."
   ]
  },
  {
   "cell_type": "code",
   "execution_count": 81,
   "metadata": {},
   "outputs": [
    {
     "name": "stdout",
     "output_type": "stream",
     "text": [
      "total 4\n",
      "-rwxrwxrwx 4 yemane yemane 2321 Nov 25 17:46 fun-hard\n",
      "lrwxrwxrwx 1 yemane yemane    6 Nov 25 20:00 fun-sym -> ../fun\n"
     ]
    }
   ],
   "source": [
    "!ls -l dir1"
   ]
  },
  {
   "cell_type": "markdown",
   "metadata": {},
   "source": [
    "### Removing files and Directories"
   ]
  },
  {
   "cell_type": "code",
   "execution_count": 82,
   "metadata": {},
   "outputs": [],
   "source": [
    "!rm fun-hard"
   ]
  },
  {
   "cell_type": "markdown",
   "metadata": {},
   "source": [
    "That worked as expected. The file fun-hard is gone, and the link count \n",
    "shown for fun is reduced from four to three, as indicated in the second field of the directory listing."
   ]
  },
  {
   "cell_type": "code",
   "execution_count": 83,
   "metadata": {},
   "outputs": [
    {
     "name": "stdout",
     "output_type": "stream",
     "text": [
      "total 4\n",
      "drwxrwxrwx 1 yemane yemane 4096 Nov 25 20:00 dir1\n",
      "drwxrwxrwx 1 yemane yemane 4096 Nov 25 20:00 dir2\n",
      "-rwxrwxrwx 3 yemane yemane 2321 Nov 25 17:46 fun\n",
      "lrwxrwxrwx 1 yemane yemane    3 Nov 25 20:00 fun-smy -> fun\n"
     ]
    }
   ],
   "source": [
    "!ls -l"
   ]
  },
  {
   "cell_type": "code",
   "execution_count": 84,
   "metadata": {},
   "outputs": [],
   "source": [
    "!rm fun"
   ]
  },
  {
   "cell_type": "code",
   "execution_count": 85,
   "metadata": {},
   "outputs": [
    {
     "name": "stdout",
     "output_type": "stream",
     "text": [
      "total 0\n",
      "drwxrwxrwx 1 yemane yemane 4096 Nov 25 20:00 dir1\n",
      "drwxrwxrwx 1 yemane yemane 4096 Nov 25 20:00 dir2\n",
      "lrwxrwxrwx 1 yemane yemane    3 Nov 25 20:00 fun-smy -> fun\n"
     ]
    }
   ],
   "source": [
    "!ls -l"
   ]
  },
  {
   "cell_type": "code",
   "execution_count": 86,
   "metadata": {},
   "outputs": [
    {
     "name": "stdout",
     "output_type": "stream",
     "text": [
      "fun-smy: No such file or directory\n"
     ]
    }
   ],
   "source": [
    "!less fun-smy"
   ]
  },
  {
   "cell_type": "code",
   "execution_count": 89,
   "metadata": {},
   "outputs": [
    {
     "name": "stdout",
     "output_type": "stream",
     "text": [
      "rm: cannot remove 'fun-smy': No such file or directory\n"
     ]
    }
   ],
   "source": [
    "!rm fun-smy "
   ]
  },
  {
   "cell_type": "code",
   "execution_count": 90,
   "metadata": {},
   "outputs": [
    {
     "name": "stdout",
     "output_type": "stream",
     "text": [
      "total 0\n",
      "drwxrwxrwx 1 yemane yemane 4096 Nov 25 20:00 dir1\n",
      "drwxrwxrwx 1 yemane yemane 4096 Nov 25 20:00 dir2\n"
     ]
    }
   ],
   "source": [
    "!ls -l"
   ]
  },
  {
   "cell_type": "code",
   "execution_count": 105,
   "metadata": {},
   "outputs": [
    {
     "name": "stdout",
     "output_type": "stream",
     "text": [
      "/mnt/c/Users/yeman_s1h20q2/Yemane/Linux-Command-Line\n"
     ]
    }
   ],
   "source": [
    "cd .."
   ]
  },
  {
   "cell_type": "code",
   "execution_count": 108,
   "metadata": {},
   "outputs": [],
   "source": [
    "!rm -r playground"
   ]
  },
  {
   "cell_type": "code",
   "execution_count": 109,
   "metadata": {},
   "outputs": [
    {
     "name": "stdout",
     "output_type": "stream",
     "text": [
      "LearningTheShell.ipynb\tREADME.md\n"
     ]
    }
   ],
   "source": [
    "!ls"
   ]
  }
 ],
 "metadata": {
  "interpreter": {
   "hash": "d58cd66771b86600ed196df3ae1631a1e510be967e3cfbdfd84098f57ff410b8"
  },
  "kernelspec": {
   "display_name": "Python 3.8.11 64-bit ('base': conda)",
   "language": "python",
   "name": "python3"
  },
  "language_info": {
   "codemirror_mode": {
    "name": "ipython",
    "version": 3
   },
   "file_extension": ".py",
   "mimetype": "text/x-python",
   "name": "python",
   "nbconvert_exporter": "python",
   "pygments_lexer": "ipython3",
   "version": "3.8.11"
  },
  "orig_nbformat": 4
 },
 "nbformat": 4,
 "nbformat_minor": 2
}
