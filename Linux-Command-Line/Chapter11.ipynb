{
 "cells": [
  {
   "cell_type": "markdown",
   "metadata": {},
   "source": [
    "# The Environment\n",
    "\n",
    "The shell maintains a body of information during the session called the `environment`. Programs use the data stored in the environment to determine facts about the systems configuration and values that can adjust their behavior.\n",
    "\n",
    "- `printenv` print part or all of the environment\n",
    "- `set` set shell options\n",
    "- `export` export environment to subsequently executed programs\n",
    "- `alias` create an alias for a command"
   ]
  },
  {
   "cell_type": "markdown",
   "metadata": {},
   "source": [
    "## What is stored in the environment\n",
    "- environmental variables\n",
    "- shell variables\n",
    "\n",
    "shell variables are bits of data placed there by bash and environment variables are everything else.\n",
    "\n",
    "- programmatic data\n",
    "aliases and shell functions"
   ]
  },
  {
   "cell_type": "markdown",
   "metadata": {},
   "source": [
    "### Examining the Environment\n",
    "- `set` shell and environment variables\n",
    "- `printenv` environment variables"
   ]
  },
  {
   "cell_type": "markdown",
   "metadata": {},
   "source": [
    "printenv shows a list of variables, but can also show a specific variable"
   ]
  },
  {
   "cell_type": "code",
   "execution_count": 4,
   "metadata": {},
   "outputs": [
    {
     "name": "stdout",
     "output_type": "stream",
     "text": [
      "yemane\n"
     ]
    }
   ],
   "source": [
    "!printenv USER"
   ]
  },
  {
   "cell_type": "markdown",
   "metadata": {},
   "source": [
    "show contents of a variable using the echo command"
   ]
  },
  {
   "cell_type": "code",
   "execution_count": 7,
   "metadata": {},
   "outputs": [
    {
     "name": "stdout",
     "output_type": "stream",
     "text": [
      "/home/yemane\n"
     ]
    }
   ],
   "source": [
    "!echo $HOME"
   ]
  },
  {
   "cell_type": "markdown",
   "metadata": {},
   "source": [
    "neither set nor printenv can see aliases, use alias to see them"
   ]
  },
  {
   "cell_type": "code",
   "execution_count": 8,
   "metadata": {},
   "outputs": [],
   "source": [
    "!alias"
   ]
  },
  {
   "cell_type": "markdown",
   "metadata": {},
   "source": [
    "when a command is usedThe shell  searches a list of directories that are contained  in the PATH variable."
   ]
  },
  {
   "cell_type": "markdown",
   "metadata": {},
   "source": [
    "### Modifying the Environment\n"
   ]
  },
  {
   "cell_type": "markdown",
   "metadata": {},
   "source": [
    "### Which Files Should We Modify?\n",
    "As a general  rule, to add directories to your PATH or define additional environment variables, place those changes in `.bash_profile` Everything else, place the changes in the `.bashrc`"
   ]
  },
  {
   "cell_type": "markdown",
   "metadata": {},
   "source": [
    "# Summing Up\n",
    "- The environment is a body of information maintained during a shell session\n",
    "- environmental vs shell variables"
   ]
  }
 ],
 "metadata": {
  "interpreter": {
   "hash": "fbbcd2e6edcb24eb7238d003204e89dfec81969763d5f6010a55d994217de1a3"
  },
  "kernelspec": {
   "display_name": "Python 3.9.7 64-bit ('base': conda)",
   "language": "python",
   "name": "python3"
  },
  "language_info": {
   "codemirror_mode": {
    "name": "ipython",
    "version": 3
   },
   "file_extension": ".py",
   "mimetype": "text/x-python",
   "name": "python",
   "nbconvert_exporter": "python",
   "pygments_lexer": "ipython3",
   "version": "3.9.7"
  },
  "orig_nbformat": 4
 },
 "nbformat": 4,
 "nbformat_minor": 2
}
