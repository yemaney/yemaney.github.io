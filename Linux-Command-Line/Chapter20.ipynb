{
 "cells": [
  {
   "cell_type": "markdown",
   "metadata": {},
   "source": [
    "# Text Processing\n",
    "|command|function|\n",
    "|-|-|\n",
    "|cat| Concatenate files and print on the standard output|\n",
    "|sort| Sort lines of text files|\n",
    "|uniq| Report or omit repeated lines|\n",
    "|cut| Remove sections from each line of files|\n",
    "|paste| Merge lines of files|\n",
    "|join| Join lines of two files on a common field|\n",
    "|comm| Compare two sorted files line by line|\n",
    "|diff| Compare files line by line|\n",
    "|patch |Apply a diff file to an original|\n",
    "|tr| Translate or delete characters|\n",
    "|sed| Stream editor for filtering and transforming text|\n",
    "|aspell| Interactive spellchecker|"
   ]
  },
  {
   "cell_type": "markdown",
   "metadata": {},
   "source": [
    "### cat\n",
    "Extra flags:\n",
    "- A display non printing characters in display\n",
    "    - can be used to find tabs or trailing spaces\n",
    "- n numbers lines\n",
    "- s suppresses multiple blank lines"
   ]
  },
  {
   "cell_type": "code",
   "execution_count": 1,
   "metadata": {},
   "outputs": [
    {
     "name": "stdout",
     "output_type": "stream",
     "text": [
      "Roses are red\n",
      "\n",
      "\n",
      "Violets are blue\n"
     ]
    }
   ],
   "source": [
    "!cat foo.txt"
   ]
  },
  {
   "cell_type": "code",
   "execution_count": 2,
   "metadata": {},
   "outputs": [
    {
     "name": "stdout",
     "output_type": "stream",
     "text": [
      "     1\tRoses are red\n",
      "     2\t\n",
      "     3\tViolets are blue\n"
     ]
    }
   ],
   "source": [
    "!cat -ns foo.txt"
   ]
  },
  {
   "cell_type": "markdown",
   "metadata": {},
   "source": [
    "### sort"
   ]
  },
  {
   "cell_type": "code",
   "execution_count": 6,
   "metadata": {},
   "outputs": [
    {
     "name": "stdout",
     "output_type": "stream",
     "text": [
      "zebra\n",
      "cats\n",
      "dogs\n",
      "\n"
     ]
    }
   ],
   "source": [
    "!cat foo.txt"
   ]
  },
  {
   "cell_type": "code",
   "execution_count": 7,
   "metadata": {},
   "outputs": [
    {
     "name": "stdout",
     "output_type": "stream",
     "text": [
      "\n",
      "cats\n",
      "dogs\n",
      "zebra\n"
     ]
    }
   ],
   "source": [
    "!sort foo.txt"
   ]
  },
  {
   "cell_type": "markdown",
   "metadata": {},
   "source": [
    "|Option| Description |\n",
    "|-|-|\n",
    "|-b| By default, sorting is performed on the entire line, starting with the first character in the line. This option causes sort to ignore leading  spaces in lines and calculates sorting based on the first non-whitespace character on the line. |\n",
    "|-f|Make sorting case-insensitive.|\n",
    "|-n| Perform sorting based on the numeric evaluation of a string. Using this option allows sorting  to be performed on numeric values rather than alphabetic values.|\n",
    "|-r|  Sort in reverse order. Results are in descending rather than ascending order.|\n",
    "|-k|  Sort based on a key field located from field1 to field2 rather than the entire line. See the following discussion.|\n",
    "|-m|  Treat each argument as the name of a presorted  file. Merge multiple files into a single sorted result without performing any additional sorting.|\n",
    "|-o|  Send sorted output to file rather than standard output.|\n",
    "|-t|  Define the field-separator character. By default fields are separated by spaces or tabs.|"
   ]
  },
  {
   "cell_type": "markdown",
   "metadata": {},
   "source": [
    "### uniq\n",
    "For uniq to do its job, the input must be sorted first."
   ]
  },
  {
   "cell_type": "code",
   "execution_count": 9,
   "metadata": {},
   "outputs": [
    {
     "name": "stdout",
     "output_type": "stream",
     "text": [
      "apple\n",
      "banana\n",
      "apple\n",
      "orange\n",
      "apple\n"
     ]
    }
   ],
   "source": [
    "!cat foo.txt"
   ]
  },
  {
   "cell_type": "code",
   "execution_count": 11,
   "metadata": {},
   "outputs": [
    {
     "name": "stdout",
     "output_type": "stream",
     "text": [
      "apple\n",
      "banana\n",
      "apple\n",
      "orange\n",
      "apple\n"
     ]
    }
   ],
   "source": [
    "!uniq foo.txt"
   ]
  },
  {
   "cell_type": "code",
   "execution_count": 13,
   "metadata": {},
   "outputs": [
    {
     "name": "stdout",
     "output_type": "stream",
     "text": [
      "      3 apple\n",
      "      1 banana\n",
      "      1 orange\n"
     ]
    }
   ],
   "source": [
    "!sort foo.txt | uniq -c"
   ]
  },
  {
   "cell_type": "markdown",
   "metadata": {},
   "source": [
    "|Option| Description|\n",
    "|-|-|\n",
    "|-c| Output a list of duplicate lines preceded by the number of times the line occurs.|\n",
    "|-d| Output only repeated lines, rather than unique lines.|\n",
    "|-f n|  Ignore n leading fields in each line. Fields are separated by whitespace as they are in sort; however, unlike sort, uniq has no option for setting an alternate field separator.|\n",
    "|-i|  Ignore case during the line comparisons.|\n",
    "|-s n|  Skip (ignore) the leading n characters of each line.|\n",
    "|-u|  Output only uniq|"
   ]
  },
  {
   "cell_type": "markdown",
   "metadata": {},
   "source": [
    "## Slicing and Dicing\n",
    "The next three programs we will discuss are used to peel columns of text \n",
    "out of files and recombine them in useful ways"
   ]
  },
  {
   "cell_type": "markdown",
   "metadata": {},
   "source": [
    "### cut—Remove Sections from Each Line of Files\n",
    "The cut program is used to extract a section of text from a line and output the extracted section to standard output. It can accept multiple file arguments or input from standard input.\n",
    "\n",
    "\n",
    "|Option| Long option| Description|\n",
    "|-|-|-|\n",
    "|-c list| --characters=list| Extract the portion of the line defined by list. The list may consist of one or more comma-separated numerical ranges.|\n",
    "|-f list| --fields=list| Extract one or more fields from the line as defined by list. The list may contain one or more fields or field  ranges separated by commas.|\n",
    "|-d delim| --delimiter=delim| When -f is specified, use delim as the field delimiting character. By default, fields must be separated by  a single tab character.|\n",
    "||--complement| Extract the entire line of text,  except for those portions specified by -c and/or -f.|"
   ]
  },
  {
   "cell_type": "code",
   "execution_count": 18,
   "metadata": {},
   "outputs": [
    {
     "name": "stdout",
     "output_type": "stream",
     "text": [
      "a^I12/07/2020$\n",
      "b^I02/30/2021$\n",
      "c^I03/12/2022$\n"
     ]
    }
   ],
   "source": [
    "!cat -A foo.txt"
   ]
  },
  {
   "cell_type": "code",
   "execution_count": 19,
   "metadata": {},
   "outputs": [
    {
     "name": "stdout",
     "output_type": "stream",
     "text": [
      "12/07/2020\n",
      "02/30/2021\n",
      "03/12/2022\n"
     ]
    }
   ],
   "source": [
    "!cut -f 2 foo.txt"
   ]
  },
  {
   "cell_type": "code",
   "execution_count": 20,
   "metadata": {},
   "outputs": [
    {
     "name": "stdout",
     "output_type": "stream",
     "text": [
      "2020\n",
      "2021\n",
      "2022\n"
     ]
    }
   ],
   "source": [
    "!cut -f 2 foo.txt | cut -c 7-10"
   ]
  },
  {
   "cell_type": "code",
   "execution_count": 36,
   "metadata": {},
   "outputs": [
    {
     "name": "stdout",
     "output_type": "stream",
     "text": [
      "12\n",
      "02\n",
      "03\n"
     ]
    }
   ],
   "source": [
    "!cut -f 2 foo.txt | cut -d '/' -f 1"
   ]
  },
  {
   "cell_type": "markdown",
   "metadata": {},
   "source": [
    "### paste—Merge Lines of Files\n",
    "The paste command does the opposite of cut. Rather than extracting a \n",
    "column of text from a file, it adds one or more columns of text to a file."
   ]
  },
  {
   "cell_type": "code",
   "execution_count": 37,
   "metadata": {},
   "outputs": [
    {
     "name": "stdout",
     "output_type": "stream",
     "text": [
      "a\t12/07/2020\n",
      "b\t02/30/2021\n",
      "c\t03/12/2022\n"
     ]
    }
   ],
   "source": [
    "!cat foo.txt"
   ]
  },
  {
   "cell_type": "code",
   "execution_count": 38,
   "metadata": {},
   "outputs": [
    {
     "name": "stdout",
     "output_type": "stream",
     "text": [
      "a\t12/07/2020\n",
      "b\t02/30/2021\n",
      "c\t03/12/2022\n"
     ]
    }
   ],
   "source": [
    "!cat bar.txt"
   ]
  },
  {
   "cell_type": "code",
   "execution_count": 39,
   "metadata": {},
   "outputs": [
    {
     "name": "stdout",
     "output_type": "stream",
     "text": [
      "a\t12/07/2020\ta\t12/07/2020\n",
      "b\t02/30/2021\tb\t02/30/2021\n",
      "c\t03/12/2022\tc\t03/12/2022\n"
     ]
    }
   ],
   "source": [
    "!paste foo.txt bar.txt"
   ]
  },
  {
   "cell_type": "markdown",
   "metadata": {},
   "source": [
    "### join—Join Lines of Two Files on a Common Field\n",
    "joins data from multiple files based on a shared key field."
   ]
  },
  {
   "cell_type": "code",
   "execution_count": 41,
   "metadata": {},
   "outputs": [
    {
     "name": "stdout",
     "output_type": "stream",
     "text": [
      "a\t12/07/2020\n",
      "b\t02/30/2021\n",
      "c\t03/12/2022\n"
     ]
    }
   ],
   "source": [
    "!cat foo.txt"
   ]
  },
  {
   "cell_type": "code",
   "execution_count": 42,
   "metadata": {},
   "outputs": [
    {
     "name": "stdout",
     "output_type": "stream",
     "text": [
      "a\tpizza\n",
      "b\trice\n",
      "c\tsoup\n"
     ]
    }
   ],
   "source": [
    "!cat bar.txt"
   ]
  },
  {
   "cell_type": "code",
   "execution_count": 43,
   "metadata": {},
   "outputs": [
    {
     "name": "stdout",
     "output_type": "stream",
     "text": [
      "a pizza 12/07/2020\n",
      "b rice 02/30/2021\n",
      "c soup 03/12/2022\n"
     ]
    }
   ],
   "source": [
    "!join bar.txt foo.txt"
   ]
  },
  {
   "cell_type": "markdown",
   "metadata": {},
   "source": [
    "## Comparing Text"
   ]
  },
  {
   "cell_type": "markdown",
   "metadata": {},
   "source": [
    "### comm—Compare Two Sorted Files Line by Line\n",
    "The comm program compares two text files and displays the lines that are \n",
    "unique to each one and the lines they have in common."
   ]
  },
  {
   "cell_type": "code",
   "execution_count": 47,
   "metadata": {},
   "outputs": [
    {
     "name": "stdout",
     "output_type": "stream",
     "text": [
      "a\tpizza\n",
      "b\trice\n",
      "c\tsoup\n",
      "d\twaffle\n"
     ]
    }
   ],
   "source": [
    "!cat foo.txt"
   ]
  },
  {
   "cell_type": "code",
   "execution_count": 48,
   "metadata": {},
   "outputs": [
    {
     "name": "stdout",
     "output_type": "stream",
     "text": [
      "a\tpizza\n",
      "b\trice\n",
      "c\tsoup\n",
      "e\tchicken\n"
     ]
    }
   ],
   "source": [
    "!cat bar.txt"
   ]
  },
  {
   "cell_type": "code",
   "execution_count": 49,
   "metadata": {},
   "outputs": [
    {
     "name": "stdout",
     "output_type": "stream",
     "text": [
      "\t\ta\tpizza\n",
      "\t\tb\trice\n",
      "\t\tc\tsoup\n",
      "d\twaffle\n",
      "\te\tchicken\n"
     ]
    }
   ],
   "source": [
    "!comm foo.txt bar.txt"
   ]
  },
  {
   "cell_type": "markdown",
   "metadata": {},
   "source": [
    "### diff—Compare Files Line by Line\n",
    "Like the comm program, diff is used to detect the differences between files. However, diff is a much more complex tool.  Often used by software developers to examine changes between different versions of program source code"
   ]
  },
  {
   "cell_type": "code",
   "execution_count": 50,
   "metadata": {},
   "outputs": [
    {
     "name": "stdout",
     "output_type": "stream",
     "text": [
      "4c4\n",
      "< d\twaffle\n",
      "---\n",
      "> e\tchicken\n"
     ]
    }
   ],
   "source": [
    "!diff foo.txt bar.txt"
   ]
  },
  {
   "cell_type": "code",
   "execution_count": 52,
   "metadata": {},
   "outputs": [
    {
     "name": "stdout",
     "output_type": "stream",
     "text": [
      "*** foo.txt\t2022-01-20 23:10:17.733310000 -0500\n",
      "--- bar.txt\t2022-01-20 23:12:23.317395600 -0500\n",
      "***************\n",
      "*** 1,4 ****\n",
      "  a\tpizza\n",
      "  b\trice\n",
      "  c\tsoup\n",
      "! d\twaffle\n",
      "--- 1,4 ----\n",
      "  a\tpizza\n",
      "  b\trice\n",
      "  c\tsoup\n",
      "! e\tchicken\n"
     ]
    }
   ],
   "source": [
    "!diff -c foo.txt bar.txt"
   ]
  },
  {
   "cell_type": "markdown",
   "metadata": {},
   "source": [
    "|Indicator| Meaning|\n",
    "|-|-|\n",
    "|blank| A line shown for context. It does not indicate a difference between the two files.|\n",
    "|-| A line deleted. This line will appear in the first file but not in the second file.|\n",
    "|+| A line added. This line will appear in the second file but not in the first file.|\n",
    "|!| A line changed. The two versions of the line will be displayed, each in its  respective section of the change group|"
   ]
  },
  {
   "cell_type": "markdown",
   "metadata": {},
   "source": [
    "### patch—Apply a diff to an Original\n",
    "The patch program is used to apply changes to text files. It accepts output from diff and is generally used to convert older-version files into newer versions.\n",
    "\n",
    "Using diff/patch offers two significant advantages.\n",
    "- The diff file is small, compared to the full size of the source tree.\n",
    "- The diff file concisely shows the change being made, allowing reviewers of the patch to quickly evaluate it.\n",
    "\n",
    "\n",
    "`diff -Naur old_file new_file > diff_file`\n",
    "\n",
    "`patch < diff_file`"
   ]
  },
  {
   "cell_type": "code",
   "execution_count": 53,
   "metadata": {},
   "outputs": [
    {
     "name": "stdout",
     "output_type": "stream",
     "text": [
      "a\tpizza\n",
      "b\trice\n",
      "c\tsoup\n",
      "d\twaffle\n"
     ]
    }
   ],
   "source": [
    "!cat foo.txt"
   ]
  },
  {
   "cell_type": "code",
   "execution_count": 54,
   "metadata": {},
   "outputs": [
    {
     "name": "stdout",
     "output_type": "stream",
     "text": [
      "a\tpizza\n",
      "b\trice\n",
      "c\tsoup\n",
      "e\tchicken\n"
     ]
    }
   ],
   "source": [
    "!cat bar.txt"
   ]
  },
  {
   "cell_type": "code",
   "execution_count": 55,
   "metadata": {},
   "outputs": [],
   "source": [
    "!diff -Naur foo.txt bar.txt > diff_file"
   ]
  },
  {
   "cell_type": "code",
   "execution_count": 57,
   "metadata": {},
   "outputs": [
    {
     "name": "stdout",
     "output_type": "stream",
     "text": [
      "--- foo.txt\t2022-01-20 23:10:17.733310000 -0500\n",
      "+++ bar.txt\t2022-01-20 23:12:23.317395600 -0500\n",
      "@@ -1,4 +1,4 @@\n",
      " a\tpizza\n",
      " b\trice\n",
      " c\tsoup\n",
      "-d\twaffle\n",
      "+e\tchicken\n"
     ]
    }
   ],
   "source": [
    "!cat diff_file"
   ]
  },
  {
   "cell_type": "code",
   "execution_count": 58,
   "metadata": {},
   "outputs": [
    {
     "name": "stdout",
     "output_type": "stream",
     "text": [
      "patching file foo.txt\n"
     ]
    }
   ],
   "source": [
    "!patch < diff_file"
   ]
  },
  {
   "cell_type": "code",
   "execution_count": 59,
   "metadata": {},
   "outputs": [
    {
     "name": "stdout",
     "output_type": "stream",
     "text": [
      "a\tpizza\n",
      "b\trice\n",
      "c\tsoup\n",
      "e\tchicken\n"
     ]
    }
   ],
   "source": [
    "!cat foo.txt"
   ]
  },
  {
   "cell_type": "markdown",
   "metadata": {},
   "source": [
    "## Editing on the Fly"
   ]
  },
  {
   "cell_type": "markdown",
   "metadata": {},
   "source": [
    "### tr—Transliterate or Delete Characters\n",
    "The tr program is used to transliterate characters. We can think of this as a sort of character-based search-and-replace operation.\n",
    "\n",
    "\n",
    "tr accepts two arguments: a set of characters to convert from and a corresponding set of characters to convert to. Character sets \n",
    "may be expressed in one of three ways.\n",
    "- An enumerated list. For example, ABCDEFGHIJKLMNOPQRSTUVWXYZ.\n",
    "- A character range. For example, A-Z.\n",
    "- POSIX character classes. For example, [:upper:]"
   ]
  },
  {
   "cell_type": "code",
   "execution_count": 60,
   "metadata": {},
   "outputs": [
    {
     "name": "stdout",
     "output_type": "stream",
     "text": [
      "LOWERCASE LETTERS\n"
     ]
    }
   ],
   "source": [
    "!echo \"lowercase letters\" | tr a-z A-Z"
   ]
  },
  {
   "cell_type": "code",
   "execution_count": 62,
   "metadata": {},
   "outputs": [
    {
     "name": "stdout",
     "output_type": "stream",
     "text": [
      "AAAAAAAAA AAAAAAA\n"
     ]
    }
   ],
   "source": [
    "!echo \"lowercase letters\" | tr [:lower:] A"
   ]
  },
  {
   "cell_type": "markdown",
   "metadata": {},
   "source": [
    "In addition to transliteration, tr allows characters to simply be deleted from the input stream."
   ]
  },
  {
   "cell_type": "code",
   "execution_count": 63,
   "metadata": {},
   "outputs": [
    {
     "name": "stdout",
     "output_type": "stream",
     "text": [
      "abccc\n"
     ]
    }
   ],
   "source": [
    "!echo \"aaabbbccc\" | tr -s ab"
   ]
  },
  {
   "cell_type": "markdown",
   "metadata": {},
   "source": [
    "### sed—Stream Editor for Filtering and Transforming Text\n",
    "In general, the way sed works is that it is given either a single editing command (on the command line) or the name of a script file containing multiple commands, and it then performs these commands upon each line in the stream of text."
   ]
  },
  {
   "cell_type": "code",
   "execution_count": 64,
   "metadata": {},
   "outputs": [
    {
     "name": "stdout",
     "output_type": "stream",
     "text": [
      "back\n"
     ]
    }
   ],
   "source": [
    "!echo \"front\" | sed 's/front/back/'"
   ]
  },
  {
   "cell_type": "markdown",
   "metadata": {},
   "source": [
    "|Address| Description|\n",
    "|-|-|\n",
    "|n| A line number where n is a positive integer.|\n",
    "|$| The last line.|\n",
    "|/regexp/| Lines matching a POSIX basic regular expression. Note that the regular expression is delimited by slash characters. Optionally, the regular expression may be delimited by an alternate character,  by specifying the expression with \\cregexpc, where c is the alternate  character.|\n",
    "|addr1,addr2| A range of lines from addr1 to addr2, inclusive. Addresses may be any of the single address forms listed earlier.|\n",
    "|first~step| Match the line represented by the number first and then each subsequent line at step intervals. For example, 1~2 refers to each odd numbered line, and 5~5 refers to the fifth line and every fifth line thereafter.|\n",
    "|addr1,+n| Match addr1 and the following n lines.|\n",
    "|addr!| Match all lines except addr, which may be any of the forms listed earlier.|\n"
   ]
  },
  {
   "cell_type": "markdown",
   "metadata": {},
   "source": [
    "|Command| Description|\n",
    "|-|-|\n",
    "|=| Output the current line number.|\n",
    "|a| Append text after the current line.|\n",
    "|d| Delete the current line.|\n",
    "|i| Insert text in front of the current line.|\n",
    "|p| Print the current line. By default, sed prints every line and only edits lines that match a specified address within the file. The default behavior can be overridden by specifying the -n option.|\n",
    "|q| Exit sed without processing any more lines. If the -n option is not specified, output the current line.|\n",
    "|Q| Exit sed without processing any more lines.|\n",
    "|s/regexp/replacement/| Substitute the contents of replacement wherever regexp is found. replacement may include the special character &, which is equivalent to the text matched by regexp. In addition, replacement may include the sequences \\1 through \\9, which are the contents of the corresponding subexpressions in regexp. For more about this, see the following discussion of back references. After the trailing slash following replacement, an optional flag may be specified to modify the s command’s behavior.|\n",
    "|y/set1/set2| Perform transliteration by converting characters from set1 to the corresponding characters in set2. Note that unlike tr, sed requires that both sets be of the same length.|"
   ]
  },
  {
   "cell_type": "markdown",
   "metadata": {},
   "source": [
    "### aspell—Interactive Spellchecker\n",
    "an interactive spelling checker.\n",
    "\n",
    "`aspell check textfile`\n",
    "\n",
    "Can also be used to check code files like HTML or C"
   ]
  },
  {
   "cell_type": "code",
   "execution_count": 66,
   "metadata": {},
   "outputs": [],
   "source": [
    "!echo \"The quick brown fox jimped over the laxy dog.\" > foo.txt"
   ]
  },
  {
   "cell_type": "code",
   "execution_count": 67,
   "metadata": {},
   "outputs": [
    {
     "name": "stdout",
     "output_type": "stream",
     "text": [
      "The quick brown fox jimped over the laxy dog.\n"
     ]
    }
   ],
   "source": [
    "!cat foo.txt"
   ]
  },
  {
   "cell_type": "code",
   "execution_count": 68,
   "metadata": {},
   "outputs": [
    {
     "name": "stdout",
     "output_type": "stream",
     "text": [
      "?\u001b[K ou sure you want to abort (y/n)?                                                   \u001b[24;1H\u001b[m?  jumped\u001b[14;41H6) comped^C"
     ]
    }
   ],
   "source": [
    "!aspell check foo.txt"
   ]
  },
  {
   "cell_type": "markdown",
   "metadata": {},
   "source": [
    "# Summing Up\n",
    "\n",
    "- Slicing and dicing\n",
    "- Comparing text\n",
    "- editing text"
   ]
  }
 ],
 "metadata": {
  "interpreter": {
   "hash": "fbbcd2e6edcb24eb7238d003204e89dfec81969763d5f6010a55d994217de1a3"
  },
  "kernelspec": {
   "display_name": "Python 3.9.7 64-bit ('base': conda)",
   "language": "python",
   "name": "python3"
  },
  "language_info": {
   "codemirror_mode": {
    "name": "ipython",
    "version": 3
   },
   "file_extension": ".py",
   "mimetype": "text/x-python",
   "name": "python",
   "nbconvert_exporter": "python",
   "pygments_lexer": "ipython3",
   "version": "3.9.7"
  },
  "orig_nbformat": 4
 },
 "nbformat": 4,
 "nbformat_minor": 2
}
