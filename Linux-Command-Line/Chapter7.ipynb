{
 "cells": [
  {
   "cell_type": "markdown",
   "metadata": {},
   "source": [
    "# 7 Seeing the World as the Shell sees it\n",
    "\n",
    "`echo` Display a line of text"
   ]
  },
  {
   "cell_type": "markdown",
   "metadata": {},
   "source": [
    "## Expansion \n",
    "With expansion, we enter something, and it is expanded into something else before the shell acts upon it."
   ]
  },
  {
   "cell_type": "code",
   "execution_count": 1,
   "metadata": {},
   "outputs": [
    {
     "name": "stdout",
     "output_type": "stream",
     "text": [
      "this is a test\n"
     ]
    }
   ],
   "source": [
    "!echo this is a test"
   ]
  },
  {
   "cell_type": "markdown",
   "metadata": {},
   "source": [
    "When the enter key is pressed, the shell automatically expands any qualifying characters on the command line before the command is carried out, so the echo command never sees the `*`."
   ]
  },
  {
   "cell_type": "code",
   "execution_count": 2,
   "metadata": {},
   "outputs": [
    {
     "name": "stdout",
     "output_type": "stream",
     "text": [
      "Chapter5.ipynb Chapter6.ipynb Chapter7.ipynb Chapters_1to4.ipynb README.md\n"
     ]
    }
   ],
   "source": [
    "!echo *"
   ]
  },
  {
   "cell_type": "markdown",
   "metadata": {},
   "source": [
    "### Pathname Expansion\n",
    "The mechanism by which wildcards work is called pathname expansion"
   ]
  },
  {
   "cell_type": "code",
   "execution_count": 3,
   "metadata": {},
   "outputs": [
    {
     "name": "stdout",
     "output_type": "stream",
     "text": [
      "Chapter5.ipynb\tChapter6.ipynb\tChapter7.ipynb\tChapters_1to4.ipynb  README.md\n"
     ]
    }
   ],
   "source": [
    "!ls"
   ]
  },
  {
   "cell_type": "code",
   "execution_count": 4,
   "metadata": {},
   "outputs": [
    {
     "name": "stdout",
     "output_type": "stream",
     "text": [
      "Chapter5.ipynb Chapter6.ipynb Chapter7.ipynb Chapters_1to4.ipynb\n"
     ]
    }
   ],
   "source": [
    "!echo C*"
   ]
  },
  {
   "cell_type": "code",
   "execution_count": 8,
   "metadata": {},
   "outputs": [
    {
     "name": "stdout",
     "output_type": "stream",
     "text": [
      "Chapter5.ipynb Chapter6.ipynb Chapter7.ipynb Chapters_1to4.ipynb\n"
     ]
    }
   ],
   "source": [
    "!echo *[[:digit:]]*"
   ]
  },
  {
   "cell_type": "code",
   "execution_count": 11,
   "metadata": {},
   "outputs": [
    {
     "name": "stdout",
     "output_type": "stream",
     "text": [
      ".git\n"
     ]
    }
   ],
   "source": [
    "!echo  .[!.]*"
   ]
  },
  {
   "cell_type": "code",
   "execution_count": 13,
   "metadata": {},
   "outputs": [
    {
     "name": "stdout",
     "output_type": "stream",
     "text": [
      ".git\t\tChapter6.ipynb\tChapters_1to4.ipynb\n",
      "Chapter5.ipynb\tChapter7.ipynb\tREADME.md\n"
     ]
    }
   ],
   "source": [
    "!ls -A"
   ]
  },
  {
   "cell_type": "markdown",
   "metadata": {},
   "source": [
    "### Tilde Expansion ~\n",
    "When used at the beginning of a word, it expands into the name of the home directory of the named user or, if no user is named, the home directory of the current user\n"
   ]
  },
  {
   "cell_type": "code",
   "execution_count": 14,
   "metadata": {},
   "outputs": [
    {
     "name": "stdout",
     "output_type": "stream",
     "text": [
      "/home/yemane\n"
     ]
    }
   ],
   "source": [
    "!echo ~"
   ]
  },
  {
   "cell_type": "markdown",
   "metadata": {},
   "source": [
    "### Arithmetic Expansion\n",
    "\n",
    "The shell allows arithmetic to be performed by expansion. This allows us to use the shell prompt as a calculator."
   ]
  },
  {
   "cell_type": "code",
   "execution_count": 16,
   "metadata": {},
   "outputs": [
    {
     "name": "stdout",
     "output_type": "stream",
     "text": [
      "4\n"
     ]
    }
   ],
   "source": [
    "!echo $((2 + 2))"
   ]
  },
  {
   "cell_type": "markdown",
   "metadata": {},
   "source": [
    "**Arithmetic expansion supports only integers**\n",
    "\n",
    "|Operator| Description|\n",
    "|-|-|\n",
    "|+| Addition|\n",
    "|-| Subtraction|\n",
    "|*| Multiplication|\n",
    "|/| Division (but remember, since expansion supports only integer arithmetic, results are integers)|\n",
    "|%| Modulo, which simply means “remainder”|\n",
    "|**| Exponentiation|"
   ]
  },
  {
   "cell_type": "markdown",
   "metadata": {},
   "source": [
    "Spaces are not significant in arithmetic expressions, and expressions \n",
    "may be nested."
   ]
  },
  {
   "cell_type": "code",
   "execution_count": 17,
   "metadata": {},
   "outputs": [
    {
     "name": "stdout",
     "output_type": "stream",
     "text": [
      "75\n"
     ]
    }
   ],
   "source": [
    "!echo $(($((5**2)) * 3))"
   ]
  },
  {
   "cell_type": "markdown",
   "metadata": {},
   "source": [
    "Single parentheses may be used to group multiple subexpressions."
   ]
  },
  {
   "cell_type": "code",
   "execution_count": 18,
   "metadata": {},
   "outputs": [
    {
     "name": "stdout",
     "output_type": "stream",
     "text": [
      "75\n"
     ]
    }
   ],
   "source": [
    "!echo $(((5**2) * 3))"
   ]
  },
  {
   "cell_type": "markdown",
   "metadata": {},
   "source": [
    "### Brace Expansion\n",
    "With it, you can create multiple text strings from a pattern containing braces.\n",
    "\n",
    "Patterns to be brace expanded may contain a leading portion called a \n",
    "preamble and a trailing portion called a postscript. The brace expression itself may contain either a comma-separated list of strings or a range of integers or single characters. The pattern may not contain unquoted whitespace. "
   ]
  },
  {
   "cell_type": "code",
   "execution_count": 19,
   "metadata": {},
   "outputs": [
    {
     "name": "stdout",
     "output_type": "stream",
     "text": [
      "Front-A-Back Front-B-Back Front-C-Back\n"
     ]
    }
   ],
   "source": [
    "!echo Front-{A,B,C}-Back"
   ]
  },
  {
   "cell_type": "code",
   "execution_count": 20,
   "metadata": {},
   "outputs": [
    {
     "name": "stdout",
     "output_type": "stream",
     "text": [
      "Number_1 Number_2 Number_3 Number_4 Number_5\n"
     ]
    }
   ],
   "source": [
    "!echo Number_{1..5}"
   ]
  },
  {
   "cell_type": "code",
   "execution_count": 21,
   "metadata": {},
   "outputs": [
    {
     "name": "stdout",
     "output_type": "stream",
     "text": [
      "01 02 03 04 05 06 07 08 09 10 11 12 13 14 15\n"
     ]
    }
   ],
   "source": [
    "!echo {01..15}"
   ]
  },
  {
   "cell_type": "code",
   "execution_count": 22,
   "metadata": {},
   "outputs": [
    {
     "name": "stdout",
     "output_type": "stream",
     "text": [
      "Z Y X W V U T S R Q P O N M L K J I H G F E D C B A\n"
     ]
    }
   ],
   "source": [
    "!echo {Z..A}"
   ]
  },
  {
   "cell_type": "markdown",
   "metadata": {},
   "source": [
    "brace expansions can be nested"
   ]
  },
  {
   "cell_type": "code",
   "execution_count": 24,
   "metadata": {},
   "outputs": [
    {
     "name": "stdout",
     "output_type": "stream",
     "text": [
      "aA1b aA2b aB3b aB4b\n"
     ]
    }
   ],
   "source": [
    "!echo a{A{1,2},B{3,4}}b"
   ]
  },
  {
   "cell_type": "markdown",
   "metadata": {},
   "source": [
    "Useful for making many file or directories that fit a pattern."
   ]
  },
  {
   "cell_type": "code",
   "execution_count": 25,
   "metadata": {},
   "outputs": [
    {
     "name": "stdout",
     "output_type": "stream",
     "text": [
      "2007-01 2007-02 2007-03 2007-04 2007-05 2007-06 2007-07 2007-08 2007-09 2007-10 2007-11 2007-12 2008-01 2008-02 2008-03 2008-04 2008-05 2008-06 2008-07 2008-08 2008-09 2008-10 2008-11 2008-12 2009-01 2009-02 2009-03 2009-04 2009-05 2009-06 2009-07 2009-08 2009-09 2009-10 2009-11 2009-12\n"
     ]
    }
   ],
   "source": [
    "!echo {2007..2009}-{01..12} "
   ]
  },
  {
   "cell_type": "markdown",
   "metadata": {},
   "source": [
    "### Parameter Expansion\n",
    "\n",
    "The system can store many small chunks of  data and give them name, referred to as `variables`."
   ]
  },
  {
   "cell_type": "code",
   "execution_count": 26,
   "metadata": {},
   "outputs": [
    {
     "name": "stdout",
     "output_type": "stream",
     "text": [
      "yemane\n"
     ]
    }
   ],
   "source": [
    "!echo $USER"
   ]
  },
  {
   "cell_type": "markdown",
   "metadata": {},
   "source": [
    "To see a lest of available variable"
   ]
  },
  {
   "cell_type": "code",
   "execution_count": null,
   "metadata": {},
   "outputs": [],
   "source": [
    "!printenv"
   ]
  },
  {
   "cell_type": "markdown",
   "metadata": {},
   "source": [
    "### Command Substitution \n",
    "Command substitution allows us to use the output of a command as an \n",
    "expansion."
   ]
  },
  {
   "cell_type": "code",
   "execution_count": 29,
   "metadata": {},
   "outputs": [
    {
     "name": "stdout",
     "output_type": "stream",
     "text": [
      "Chapter5.ipynb\tChapter6.ipynb\tChapter7.ipynb\tChapters_1to4.ipynb  README.md\n"
     ]
    }
   ],
   "source": [
    "!ls"
   ]
  },
  {
   "cell_type": "code",
   "execution_count": 30,
   "metadata": {},
   "outputs": [
    {
     "name": "stdout",
     "output_type": "stream",
     "text": [
      "Chapter5.ipynb Chapter6.ipynb Chapter7.ipynb Chapters_1to4.ipynb README.md\n"
     ]
    }
   ],
   "source": [
    "!echo $(ls)"
   ]
  },
  {
   "cell_type": "markdown",
   "metadata": {},
   "source": [
    "Here we passed the results of which cp as an argument to the ls command, thereby getting the listing of the cp program without having to know its full pathname"
   ]
  },
  {
   "cell_type": "code",
   "execution_count": 32,
   "metadata": {},
   "outputs": [
    {
     "name": "stdout",
     "output_type": "stream",
     "text": [
      "/usr/bin/cp\n"
     ]
    }
   ],
   "source": [
    "!which cp"
   ]
  },
  {
   "cell_type": "code",
   "execution_count": 31,
   "metadata": {},
   "outputs": [
    {
     "name": "stdout",
     "output_type": "stream",
     "text": [
      "-rwxr-xr-x 1 root root 153976 Sep  5  2019 /usr/bin/cp\n"
     ]
    }
   ],
   "source": [
    "!ls -l $(which cp)"
   ]
  },
  {
   "cell_type": "code",
   "execution_count": 41,
   "metadata": {},
   "outputs": [
    {
     "name": "stdout",
     "output_type": "stream",
     "text": [
      "-rwxr-xr-x 1 root root 153976 Sep  5  2019 /usr/bin/cp\n"
     ]
    }
   ],
   "source": [
    "!ls -l `which cp`"
   ]
  },
  {
   "cell_type": "markdown",
   "metadata": {},
   "source": [
    "## Quoting "
   ]
  },
  {
   "cell_type": "markdown",
   "metadata": {},
   "source": [
    "### Double Quotes\n",
    "\n",
    "If we place text inside double quotes, all the special characters used by the shell lose their special meaning and are treated as ordinary characters. \n",
    "- **The exceptions are $ (dollar sign), \\ (backslash), and ` (backtick).**\n",
    "-  **parameter expansion, arithmetic expansion, and command substitution still take place within double quotes.**"
   ]
  },
  {
   "cell_type": "code",
   "execution_count": 42,
   "metadata": {},
   "outputs": [
    {
     "name": "stdout",
     "output_type": "stream",
     "text": [
      "yemane 4    November 2021      \n",
      "Su Mo Tu We Th Fr Sa  \n",
      "    1  2  3  4  5  6  \n",
      " 7  8  9 10 11 12 13  \n",
      "14 15 16 17 18 19 20  \n",
      "21 22 23 24 25 26 27  \n",
      "28 29 30              \n",
      "                      \n"
     ]
    }
   ],
   "source": [
    "!echo \"$USER $((2+2)) $(cal)\""
   ]
  },
  {
   "cell_type": "markdown",
   "metadata": {},
   "source": [
    "By default, `word splitting looks for the presence of spaces, tabs, and newlines` (line feed characters) and `treats them as delimiters` between words. This means unquoted spaces, tabs, and newlines are `not considered to be part of the text`. They serve `only as separators`. "
   ]
  },
  {
   "cell_type": "markdown",
   "metadata": {},
   "source": [
    "The unquoted command substitution resulted in a command line containing 38 arguments."
   ]
  },
  {
   "cell_type": "code",
   "execution_count": 43,
   "metadata": {},
   "outputs": [
    {
     "name": "stdout",
     "output_type": "stream",
     "text": [
      "November 2021 Su Mo Tu We Th Fr Sa 1 2 3 4 5 6 7 8 9 10 11 12 13 14 15 16 17 18 19 20 21 22 23 24 25 26 27 28 29 30\n"
     ]
    }
   ],
   "source": [
    "!echo $(cal)"
   ]
  },
  {
   "cell_type": "markdown",
   "metadata": {},
   "source": [
    "### Single Quotes\n",
    "\n",
    "If we need to suppress all expansions, we use single quotes."
   ]
  },
  {
   "cell_type": "code",
   "execution_count": 44,
   "metadata": {},
   "outputs": [
    {
     "name": "stdout",
     "output_type": "stream",
     "text": [
      "text /home/yemane/*.txt a b foo 4 yemane\n"
     ]
    }
   ],
   "source": [
    "!echo text ~/*.txt {a,b} $(echo foo) $((2+2)) $USER"
   ]
  },
  {
   "cell_type": "code",
   "execution_count": 45,
   "metadata": {},
   "outputs": [
    {
     "name": "stdout",
     "output_type": "stream",
     "text": [
      "text ~/*.txt {a,b} foo 4 yemane\n"
     ]
    }
   ],
   "source": [
    "!echo \"text ~/*.txt {a,b} $(echo foo) $((2+2)) $USER\""
   ]
  },
  {
   "cell_type": "code",
   "execution_count": 46,
   "metadata": {},
   "outputs": [
    {
     "name": "stdout",
     "output_type": "stream",
     "text": [
      "text ~/*.txt {a,b} $(echo foo) $((2+2)) $USER\n"
     ]
    }
   ],
   "source": [
    "!echo 'text ~/*.txt {a,b} $(echo foo) $((2+2)) $USER'"
   ]
  },
  {
   "cell_type": "markdown",
   "metadata": {},
   "source": [
    "## Escaping Characters\n",
    "\n",
    "Sometimes we want to quote only a single character. To do this, we can precede a character with a backslash, which in this context is called the escape character.\n",
    "\n",
    "To allow a backslash character to appear, escape it by typing \\\\. Note \n",
    "that within single quotes, the backslash loses its special meaning and is treated as an ordinary character"
   ]
  },
  {
   "cell_type": "code",
   "execution_count": 47,
   "metadata": {},
   "outputs": [
    {
     "name": "stdout",
     "output_type": "stream",
     "text": [
      "The balance for user yemane is: $5.00\n"
     ]
    }
   ],
   "source": [
    "!echo \"The balance for user $USER is: \\$5.00\""
   ]
  },
  {
   "cell_type": "markdown",
   "metadata": {},
   "source": [
    "### Backslash Escape Sequences\n",
    "\n",
    "In addition to its role as the escape character, the backslash is used as part of a notation to represent certain special characters called control codes."
   ]
  },
  {
   "cell_type": "markdown",
   "metadata": {},
   "source": [
    "|Escape sequence| Meaning|\n",
    "|-|-|\n",
    "|\\a| Bell (an alert that causes the computer to beep)|\n",
    "|\\b| Backspace|\n",
    "|\\n| Newline; on Unix-like systems, this produces a line feed|\n",
    "|\\r| Carriage return|\n",
    "|\\t| Tab|\n"
   ]
  },
  {
   "cell_type": "markdown",
   "metadata": {},
   "source": [
    "Adding the `-e` option to echo will enable interpretation of escape \n",
    "sequences. You can also place them inside $' '."
   ]
  },
  {
   "cell_type": "code",
   "execution_count": 48,
   "metadata": {},
   "outputs": [
    {
     "name": "stdout",
     "output_type": "stream",
     "text": [
      "Time's up\u0007\n"
     ]
    }
   ],
   "source": [
    "!sleep 10; echo -e \"Time's up\\a\""
   ]
  },
  {
   "cell_type": "markdown",
   "metadata": {},
   "source": [
    "# Summing Up\n",
    "\n"
   ]
  }
 ],
 "metadata": {
  "interpreter": {
   "hash": "fbbcd2e6edcb24eb7238d003204e89dfec81969763d5f6010a55d994217de1a3"
  },
  "kernelspec": {
   "display_name": "Python 3.9.7 64-bit ('base': conda)",
   "language": "python",
   "name": "python3"
  },
  "language_info": {
   "codemirror_mode": {
    "name": "ipython",
    "version": 3
   },
   "file_extension": ".py",
   "mimetype": "text/x-python",
   "name": "python",
   "nbconvert_exporter": "python",
   "pygments_lexer": "ipython3",
   "version": "3.9.7"
  },
  "orig_nbformat": 4
 },
 "nbformat": 4,
 "nbformat_minor": 2
}
