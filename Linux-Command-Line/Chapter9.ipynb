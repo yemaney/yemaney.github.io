{
 "cells": [
  {
   "cell_type": "markdown",
   "metadata": {},
   "source": [
    "# 9 Permissions\n",
    "\n",
    "|id| Display user identity|\n",
    "|-|-|\n",
    "|chmod| Change a file’s mode|\n",
    "|umask| Set the default file permissions|\n",
    "|su| Run a shell as another user|\n",
    "|sudo Execute a command as another user|\n",
    "|chown| Change a file’s owner|\n",
    "|chgrp| Change a file’s group ownership|\n",
    "|passwd| Change a user’s password|"
   ]
  },
  {
   "cell_type": "markdown",
   "metadata": {},
   "source": [
    "## Owners, Groups Members, and Everybody Else\n",
    "\n",
    "In the Unix security model, \n",
    "- a user may own files and directories. When a user owns a file or directory, the user has control over its access.\n",
    "- Users can, in turn, belong to a group consisting of one or more users who are given access to files and directories by their owners.\n",
    "-  an owner may also grant some set of access rights to everybody"
   ]
  },
  {
   "cell_type": "code",
   "execution_count": 1,
   "metadata": {},
   "outputs": [
    {
     "name": "stdout",
     "output_type": "stream",
     "text": [
      "/etc/shadow: regular file, no read permission\n"
     ]
    }
   ],
   "source": [
    "!file /etc/shadow"
   ]
  },
  {
   "cell_type": "markdown",
   "metadata": {},
   "source": [
    "User accounts are defined in the /etc/passwd file, and groups are defined in the /etc/group file."
   ]
  },
  {
   "cell_type": "code",
   "execution_count": 2,
   "metadata": {},
   "outputs": [
    {
     "name": "stdout",
     "output_type": "stream",
     "text": [
      "uid=1000(yemane) gid=1000(yemane) groups=1000(yemane),4(adm),20(dialout),24(cdrom),25(floppy),27(sudo),29(audio),30(dip),44(video),46(plugdev),117(netdev)\n"
     ]
    }
   ],
   "source": [
    "!id"
   ]
  },
  {
   "cell_type": "markdown",
   "metadata": {},
   "source": [
    "## Reading, Writing, and Executing\n",
    "\n",
    "Access rights to files and directories are defined in terms of `read access, write access, and execution access.`"
   ]
  },
  {
   "cell_type": "code",
   "execution_count": 3,
   "metadata": {},
   "outputs": [],
   "source": [
    "!> foo.txt"
   ]
  },
  {
   "cell_type": "markdown",
   "metadata": {},
   "source": [
    "The first 10 characters of the listing are the file attributes. The first of these characters is the file type"
   ]
  },
  {
   "cell_type": "code",
   "execution_count": 4,
   "metadata": {},
   "outputs": [
    {
     "name": "stdout",
     "output_type": "stream",
     "text": [
      "0 -rwxrwxrwx 1 yemane yemane 0 Dec  8 18:23 foo.txt\n"
     ]
    }
   ],
   "source": [
    "!ls -ls foo.txt"
   ]
  },
  {
   "cell_type": "markdown",
   "metadata": {},
   "source": [
    "|Attribute| File type|\n",
    "|-|-|\n",
    "|-| A regular file.|\n",
    "|d| A directory.|\n",
    "|l| A symbolic link. Notice that with symbolic links, the remaining file attributes are always rwxrwxrwx and are dummy values. The real file attributes are those of the file the symbolic link points to.|\n",
    "|c| A character special file. This file type refers to a device that handles data as a stream of bytes, such as a terminal or /dev/null.|\n",
    "|b| A block special file. This file type refers to a device that handles data in blocks, such as a hard drive or DVD drive|"
   ]
  },
  {
   "cell_type": "markdown",
   "metadata": {},
   "source": [
    "The remaining nine characters of the file attributes, called the file mode, represent the read, write, and execute permissions for the file’s owner, the file’s group owner, and everybody else"
   ]
  },
  {
   "cell_type": "markdown",
   "metadata": {},
   "source": [
    "|Owner|Group|World|\n",
    "|-|-|-|\n",
    "|rwx|rwx|rwx|"
   ]
  },
  {
   "cell_type": "markdown",
   "metadata": {},
   "source": [
    "|Attribute| Files Directories|\n",
    "|-|-|\n",
    "|r| Allows a file to be opened and read. Allows a directory’s contents to be listed if the execute attribute is also set.|\n",
    "|w| Allows a file to be written to or truncated; however, this attribute does not allow files to be renamed or deleted. The ability to delete or rename files is determined by directory attributes. Allows files within a directory to be created, deleted, and renamed if the execute attribute is also set.|\n",
    "|x| Allows a file to be treated as a program and executed. Program files written in scripting languages must also be set as readable to be executed.|"
   ]
  },
  {
   "cell_type": "markdown",
   "metadata": {},
   "source": [
    "### chmod: Change file mode\n",
    "\n",
    "- Octal number representation\n",
    "- Symbolic representation"
   ]
  },
  {
   "cell_type": "markdown",
   "metadata": {},
   "source": [
    "#### Octal number representation"
   ]
  },
  {
   "cell_type": "markdown",
   "metadata": {},
   "source": [
    "|Octal| Binary File mode|\n",
    "|-|-|\n",
    "|0 |000 ---|\n",
    "|1 |001 --x|\n",
    "|2| 010 -w| \n",
    "|3| 011 -wx|\n",
    "|4 |100 r--|\n",
    "|5| 101 r-x|\n",
    "|6| 110 rw 111 rw|"
   ]
  },
  {
   "cell_type": "code",
   "execution_count": 18,
   "metadata": {},
   "outputs": [],
   "source": [
    "!chmod 600 foo.txt"
   ]
  },
  {
   "cell_type": "markdown",
   "metadata": {},
   "source": [
    "#### Symbolic representation"
   ]
  },
  {
   "cell_type": "markdown",
   "metadata": {},
   "source": [
    "|Symbol| Meaning|\n",
    "|-|-|\n",
    "|u| Short for “user” but means the file or directory owner.|\n",
    "|g| Group owner.|\n",
    "|o| Short for “others” but means world.|\n",
    "|a| Short for “all.” This is a combination of u, g, and o|"
   ]
  },
  {
   "cell_type": "markdown",
   "metadata": {},
   "source": [
    "|Notation| Meaning|\n",
    "|-|-|\n",
    "|u+x| Add execute permission for the owner.|\n",
    "|u-x| Remove execute permission from the owner.|\n",
    "|+x| Add execute permission for the owner, group, and world. This is equivalent to a+x.|\n",
    "|o-rw |Remove the read and write permissions from anyone besides the owner and group owner.|\n",
    "|go=rw| Set the group owner and anyone besides the owner to have read and  write permissions. If either the group owner or the world previously had execute permission, it is removed.|\n",
    "|u+x,go=rx| Add execute permission for the owner and set the permissions for the group and others to read and execute. Multiple specifications may be separated by commas|"
   ]
  },
  {
   "cell_type": "markdown",
   "metadata": {},
   "source": [
    "### unmask: Set Default Permissions"
   ]
  },
  {
   "cell_type": "markdown",
   "metadata": {},
   "source": [
    "The umask command controls the default permissions given to a file when \n",
    "it is created. It uses octal notation to express a mask of bits to be removed from a file’s mode attributes."
   ]
  },
  {
   "cell_type": "markdown",
   "metadata": {},
   "source": [
    "## Changing Identities"
   ]
  },
  {
   "cell_type": "markdown",
   "metadata": {},
   "source": [
    "### su: Run a Shell with Substitute User and Group IDs\n",
    "\n",
    "The su command is used to start a shell as another user. The command syntax looks like this\n",
    "- su [-[l]] [user]\n",
    "- If the -l option is included, the resulting shell session is a login shell for the specified user.\n",
    "-  If the user is not specified, the superuser is assumed.\n",
    "- After entering the command, we are prompted for the superuser’s password If it is successfully entered, a new shell prompt a appears\n",
    "- o execute a single command rather than starting a new interactive `su -c 'command'`"
   ]
  },
  {
   "cell_type": "markdown",
   "metadata": {},
   "source": [
    "### sudo: Execute a Command As Another User\n",
    "\n",
    "The sudo command is like su in many ways but has some important additional capabilities. \n",
    "- The administrator can configure sudo to allow an ordinary user to execute commands as a different user (usually the superuser) in a controlled way. \n",
    "- In particular, a user may be restricted to one or more specific commands and no others. \n",
    "- Another important difference is that the use of sudo does not require access to the superuser’s password. \n",
    "- Authenticating using sudo requires the user’s own password."
   ]
  },
  {
   "cell_type": "markdown",
   "metadata": {},
   "source": [
    "### chown: Change File Owner and Group\n",
    "\n",
    "The chown command is used to change the owner and group owner of a file \n",
    "or directory. Superuser privileges are required to use this command. The \n",
    "syntax of chown looks like this:\n",
    "- chown [owner][:[group]] file..."
   ]
  },
  {
   "cell_type": "markdown",
   "metadata": {},
   "source": [
    "|Argument| Results|\n",
    "|-|-|\n",
    "|bob| Changes the ownership of the file from its current owner to user bob.|\n",
    "|bob:users| Changes the ownership of the file from its current owner to user bob and changes the file group owner to group users|\n",
    "|:admins| Changes the group owner to the group admins. The file owner is unchanged.|\n",
    "|bob:| Changes the file owner from the current owner to user bob and changes the group owner to the login group of user bob.|"
   ]
  },
  {
   "cell_type": "markdown",
   "metadata": {},
   "source": [
    "### chgrp: Change Group Ownership\n",
    "\n",
    "works much the same way as chown, except for being more limited."
   ]
  },
  {
   "cell_type": "markdown",
   "metadata": {},
   "source": [
    "## Change Your Password\n",
    "\n",
    "passwd [user]\n",
    "\n",
    "To change your password, just enter the passwd command. You will be \n",
    "prompted for your old password and your new password"
   ]
  }
 ],
 "metadata": {
  "interpreter": {
   "hash": "fbbcd2e6edcb24eb7238d003204e89dfec81969763d5f6010a55d994217de1a3"
  },
  "kernelspec": {
   "display_name": "Python 3.9.7 64-bit ('base': conda)",
   "language": "python",
   "name": "python3"
  },
  "language_info": {
   "codemirror_mode": {
    "name": "ipython",
    "version": 3
   },
   "file_extension": ".py",
   "mimetype": "text/x-python",
   "name": "python",
   "nbconvert_exporter": "python",
   "pygments_lexer": "ipython3",
   "version": "3.9.7"
  },
  "orig_nbformat": 4
 },
 "nbformat": 4,
 "nbformat_minor": 2
}
