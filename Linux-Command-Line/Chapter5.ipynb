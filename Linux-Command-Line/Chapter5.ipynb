{
 "cells": [
  {
   "cell_type": "markdown",
   "metadata": {},
   "source": [
    "# 5 Working With Commands\n",
    "\n",
    "|command||\n",
    "|-|-|\n",
    "|type| indicate how a command name is interpreted|\n",
    "|which|display which executable program will be executed|\n",
    "|help|get help for shell built-ins|\n",
    "|man|display a command's manual page|\n",
    "|apropos|display a list of appropriate commands|\n",
    "|info|display a command's info entry|\n",
    "|whatis|display one-line manual page descriptions|\n",
    "|alias|creat an alias for a command|"
   ]
  },
  {
   "cell_type": "markdown",
   "metadata": {},
   "source": [
    "## What exactly are commands\n",
    "\n",
    "One of the four:\n",
    "\n",
    "- An executable program like all those files in /usr/bin. Within this category programs can be compiled binaries such as programs written in C and C++, or programs written in scripting languages such as the shell, perl, python, ruby etc.\n",
    "\n",
    "- A command built into the shell itself. Bash supports a number of commands internally called shell built-ins. The cd command for example, is a shell builtin.\n",
    "\n",
    "- A shell function. Shell functions are miniature shell scripts incorporated into the environment. \n",
    "\n",
    "- An alias, Aliases are commands that we can define ourselves, built from other commans"
   ]
  },
  {
   "cell_type": "markdown",
   "metadata": {},
   "source": [
    "## Identifying Commands"
   ]
  },
  {
   "cell_type": "markdown",
   "metadata": {},
   "source": [
    "### type - display a commands type"
   ]
  },
  {
   "cell_type": "code",
   "execution_count": 2,
   "metadata": {},
   "outputs": [
    {
     "name": "stdout",
     "output_type": "stream",
     "text": [
      "type is a shell builtin\n"
     ]
    }
   ],
   "source": [
    "!type type"
   ]
  },
  {
   "cell_type": "code",
   "execution_count": 3,
   "metadata": {},
   "outputs": [
    {
     "name": "stdout",
     "output_type": "stream",
     "text": [
      "ls is /usr/bin/ls\n"
     ]
    }
   ],
   "source": [
    "!type ls"
   ]
  },
  {
   "cell_type": "markdown",
   "metadata": {},
   "source": [
    "### which - display an executables location"
   ]
  },
  {
   "cell_type": "code",
   "execution_count": 4,
   "metadata": {},
   "outputs": [
    {
     "name": "stdout",
     "output_type": "stream",
     "text": [
      "/usr/bin/ls\n"
     ]
    }
   ],
   "source": [
    "!which ls"
   ]
  },
  {
   "cell_type": "markdown",
   "metadata": {},
   "source": [
    "on a shell builtin, get no response"
   ]
  },
  {
   "cell_type": "code",
   "execution_count": 5,
   "metadata": {},
   "outputs": [],
   "source": [
    "!which cd"
   ]
  },
  {
   "cell_type": "markdown",
   "metadata": {},
   "source": [
    "## Getting a Commands Documentation"
   ]
  },
  {
   "cell_type": "markdown",
   "metadata": {},
   "source": [
    "### help - get help for shell built-ins"
   ]
  },
  {
   "cell_type": "code",
   "execution_count": 6,
   "metadata": {},
   "outputs": [
    {
     "name": "stdout",
     "output_type": "stream",
     "text": [
      "cd: cd [-L|[-P [-e]] [-@]] [dir]\n",
      "    Change the shell working directory.\n",
      "    \n",
      "    Change the current directory to DIR.  The default DIR is the value of the\n",
      "    HOME shell variable.\n",
      "    \n",
      "    The variable CDPATH defines the search path for the directory containing\n",
      "    DIR.  Alternative directory names in CDPATH are separated by a colon (:).\n",
      "    A null directory name is the same as the current directory.  If DIR begins\n",
      "    with a slash (/), then CDPATH is not used.\n",
      "    \n",
      "    If the directory is not found, and the shell option `cdable_vars' is set,\n",
      "    the word is assumed to be  a variable name.  If that variable has a value,\n",
      "    its value is used for DIR.\n",
      "    \n",
      "    Options:\n",
      "      -L\tforce symbolic links to be followed: resolve symbolic\n",
      "    \t\tlinks in DIR after processing instances of `..'\n",
      "      -P\tuse the physical directory structure without following\n",
      "    \t\tsymbolic links: resolve symbolic links in DIR before\n",
      "    \t\tprocessing instances of `..'\n",
      "      -e\tif the -P option is supplied, and the current working\n",
      "    \t\tdirectory cannot be determined successfully, exit with\n",
      "    \t\ta non-zero status\n",
      "      -@\ton systems that support it, present a file with extended\n",
      "    \t\tattributes as a directory containing the file attributes\n",
      "    \n",
      "    The default is to follow symbolic links, as if `-L' were specified.\n",
      "    `..' is processed by removing the immediately previous pathname component\n",
      "    back to a slash or the beginning of DIR.\n",
      "    \n",
      "    Exit Status:\n",
      "    Returns 0 if the directory is changed, and if $PWD is set successfully when\n",
      "    -P is used; non-zero otherwise.\n"
     ]
    }
   ],
   "source": [
    "!help cd"
   ]
  },
  {
   "cell_type": "markdown",
   "metadata": {},
   "source": [
    "A note on notation: When square brackets appear in the description of a command's syntax, they indicate optional items."
   ]
  },
  {
   "cell_type": "markdown",
   "metadata": {},
   "source": [
    "### --help - display usage information\n",
    "\n",
    "Many executable programs support a --help option that displays a description of the command's supported syntax and options."
   ]
  },
  {
   "cell_type": "code",
   "execution_count": 8,
   "metadata": {},
   "outputs": [
    {
     "name": "stdout",
     "output_type": "stream",
     "text": [
      "Usage: mkdir [OPTION]... DIRECTORY...\n",
      "Create the DIRECTORY(ies), if they do not already exist.\n",
      "\n",
      "Mandatory arguments to long options are mandatory for short options too.\n",
      "  -m, --mode=MODE   set file mode (as in chmod), not a=rwx - umask\n",
      "  -p, --parents     no error if existing, make parent directories as needed\n",
      "  -v, --verbose     print a message for each created directory\n",
      "  -Z                   set SELinux security context of each created directory\n",
      "                         to the default type\n",
      "      --context[=CTX]  like -Z, or if CTX is specified then set the SELinux\n",
      "                         or SMACK security context to CTX\n",
      "      --help     display this help and exit\n",
      "      --version  output version information and exit\n",
      "\n",
      "GNU coreutils online help: <https://www.gnu.org/software/coreutils/>\n",
      "Report mkdir translation bugs to <https://translationproject.org/team/>\n",
      "Full documentation at: <https://www.gnu.org/software/coreutils/mkdir>\n",
      "or available locally via: info '(coreutils) mkdir invocation'\n"
     ]
    }
   ],
   "source": [
    "!mkdir --help"
   ]
  },
  {
   "cell_type": "markdown",
   "metadata": {},
   "source": [
    "### man - display a programs manual page\n",
    "\n",
    "Most executable programs intended for command line use provide a formal piece of documentation called a manual or man page.\n",
    "\n",
    "Man pages can vary in format but generally contain the following:\n",
    "- A title \n",
    "- A synopsis of the command's syntax\n",
    "- A description of the command's purpose\n",
    "- A listing and description of each of the command's options"
   ]
  },
  {
   "cell_type": "code",
   "execution_count": 9,
   "metadata": {},
   "outputs": [
    {
     "name": "stdout",
     "output_type": "stream",
     "text": [
      "LS(1)                            User Commands                           LS(1)\n",
      "\n",
      "NAME\n",
      "       ls - list directory contents\n",
      "\n",
      "SYNOPSIS\n",
      "       ls [OPTION]... [FILE]...\n",
      "\n",
      "DESCRIPTION\n",
      "       List  information  about  the FILEs (the current directory by default).\n",
      "       Sort entries alphabetically if none of -cftuvSUX nor --sort  is  speci‐\n",
      "       fied.\n",
      "\n",
      "       Mandatory  arguments  to  long  options are mandatory for short options\n",
      "       too.\n",
      "\n",
      "       -a, --all\n",
      "              do not ignore entries starting with .\n",
      "\n",
      "       -A, --almost-all\n",
      "              do not list implied . and ..\n",
      "\n",
      "       --author\n",
      "              with -l, print the author of each file\n",
      "\n",
      "       -b, --escape\n",
      "              print C-style escapes for nongraphic characters\n",
      "\n",
      "       --block-size=SIZE\n",
      "              with  -l,  scale  sizes  by  SIZE  when  printing  them;   e.g.,\n",
      "              '--block-size=M'; see SIZE format below\n",
      "\n",
      "       -B, --ignore-backups\n",
      "              do not list implied entries ending with ~\n",
      "\n",
      "       -c     with -lt: sort by, and show, ctime (time of last modification of\n",
      "              file status information); with -l: show ctime and sort by  name;\n",
      "              otherwise: sort by ctime, newest first\n",
      "\n",
      "       -C     list entries by columns\n",
      "\n",
      "       --color[=WHEN]\n",
      "              colorize  the output; WHEN can be 'always' (default if omitted),\n",
      "              'auto', or 'never'; more info below\n",
      "\n",
      "       -d, --directory\n",
      "              list directories themselves, not their contents\n",
      "\n",
      "       -D, --dired\n",
      "              generate output designed for Emacs' dired mode\n",
      "\n",
      "       -f     do not sort, enable -aU, disable -ls --color\n",
      "\n",
      "       -F, --classify\n",
      "              append indicator (one of */=>@|) to entries\n",
      "\n",
      "       --file-type\n",
      "              likewise, except do not append '*'\n",
      "\n",
      "       --format=WORD\n",
      "              across -x, commas -m, horizontal -x, long -l, single-column  -1,\n",
      "              verbose -l, vertical -C\n",
      "\n",
      "       --full-time\n",
      "              like -l --time-style=full-iso\n",
      "\n",
      "       -g     like -l, but do not list owner\n",
      "\n",
      "       --group-directories-first\n",
      "              group directories before files;\n",
      "\n",
      "              can   be  augmented  with  a  --sort  option,  but  any  use  of\n",
      "              --sort=none (-U) disables grouping\n",
      "\n",
      "       -G, --no-group\n",
      "              in a long listing, don't print group names\n",
      "\n",
      "       -h, --human-readable\n",
      "              with -l and -s, print sizes like 1K 234M 2G etc.\n",
      "\n",
      "       --si   likewise, but use powers of 1000 not 1024\n",
      "\n",
      "       -H, --dereference-command-line\n",
      "              follow symbolic links listed on the command line\n",
      "\n",
      "       --dereference-command-line-symlink-to-dir\n",
      "              follow each command line symbolic link\n",
      "\n",
      "              that points to a directory\n",
      "\n",
      "       --hide=PATTERN\n",
      "              do not list implied entries matching shell  PATTERN  (overridden\n",
      "              by -a or -A)\n",
      "\n",
      "       --hyperlink[=WHEN]\n",
      "              hyperlink file names; WHEN can be 'always' (default if omitted),\n",
      "              'auto', or 'never'\n",
      "\n",
      "       --indicator-style=WORD\n",
      "              append indicator with style WORD to entry names: none (default),\n",
      "              slash (-p), file-type (--file-type), classify (-F)\n",
      "\n",
      "       -i, --inode\n",
      "              print the index number of each file\n",
      "\n",
      "       -I, --ignore=PATTERN\n",
      "              do not list implied entries matching shell PATTERN\n",
      "\n",
      "       -k, --kibibytes\n",
      "              default  to  1024-byte  blocks for disk usage; used only with -s\n",
      "              and per directory totals\n",
      "\n",
      "       -l     use a long listing format\n",
      "\n",
      "       -L, --dereference\n",
      "              when showing file information for a symbolic link, show informa‐\n",
      "              tion  for  the file the link references rather than for the link\n",
      "              itself\n",
      "\n",
      "       -m     fill width with a comma separated list of entries\n",
      "\n",
      "       -n, --numeric-uid-gid\n",
      "              like -l, but list numeric user and group IDs\n",
      "\n",
      "       -N, --literal\n",
      "              print entry names without quoting\n",
      "\n",
      "       -o     like -l, but do not list group information\n",
      "\n",
      "       -p, --indicator-style=slash\n",
      "              append / indicator to directories\n",
      "\n",
      "       -q, --hide-control-chars\n",
      "              print ? instead of nongraphic characters\n",
      "\n",
      "       --show-control-chars\n",
      "              show nongraphic characters as-is (the default, unless program is\n",
      "              'ls' and output is a terminal)\n",
      "\n",
      "       -Q, --quote-name\n",
      "              enclose entry names in double quotes\n",
      "\n",
      "       --quoting-style=WORD\n",
      "              use  quoting style WORD for entry names: literal, locale, shell,\n",
      "              shell-always,  shell-escape,  shell-escape-always,   c,   escape\n",
      "              (overrides QUOTING_STYLE environment variable)\n",
      "\n",
      "       -r, --reverse\n",
      "              reverse order while sorting\n",
      "\n",
      "       -R, --recursive\n",
      "              list subdirectories recursively\n",
      "\n",
      "       -s, --size\n",
      "              print the allocated size of each file, in blocks\n",
      "\n",
      "       -S     sort by file size, largest first\n",
      "\n",
      "       --sort=WORD\n",
      "              sort  by  WORD instead of name: none (-U), size (-S), time (-t),\n",
      "              version (-v), extension (-X)\n",
      "\n",
      "       --time=WORD\n",
      "              with -l, show time as WORD instead of default modification time:\n",
      "              atime  or  access  or  use  (-u); ctime or status (-c); also use\n",
      "              specified time as sort key if --sort=time (newest first)\n",
      "\n",
      "       --time-style=TIME_STYLE\n",
      "              time/date format with -l; see TIME_STYLE below\n",
      "\n",
      "       -t     sort by modification time, newest first\n",
      "\n",
      "       -T, --tabsize=COLS\n",
      "              assume tab stops at each COLS instead of 8\n",
      "\n",
      "       -u     with -lt: sort by, and show, access time; with -l:  show  access\n",
      "              time  and  sort  by name; otherwise: sort by access time, newest\n",
      "              first\n",
      "\n",
      "       -U     do not sort; list entries in directory order\n",
      "\n",
      "       -v     natural sort of (version) numbers within text\n",
      "\n",
      "       -w, --width=COLS\n",
      "              set output width to COLS.  0 means no limit\n",
      "\n",
      "       -x     list entries by lines instead of by columns\n",
      "\n",
      "       -X     sort alphabetically by entry extension\n",
      "\n",
      "       -Z, --context\n",
      "              print any security context of each file\n",
      "\n",
      "       -1     list one file per line.  Avoid '\\n' with -q or -b\n",
      "\n",
      "       --help display this help and exit\n",
      "\n",
      "       --version\n",
      "              output version information and exit\n",
      "\n",
      "       The SIZE argument is an integer and  optional  unit  (example:  10K  is\n",
      "       10*1024).   Units  are  K,M,G,T,P,E,Z,Y  (powers  of 1024) or KB,MB,...\n",
      "       (powers of 1000).\n",
      "\n",
      "       The TIME_STYLE argument can be  full-iso,  long-iso,  iso,  locale,  or\n",
      "       +FORMAT.   FORMAT  is  interpreted  like in date(1).  If FORMAT is FOR‐\n",
      "       MAT1<newline>FORMAT2, then FORMAT1 applies to non-recent files and FOR‐\n",
      "       MAT2  to  recent files.  TIME_STYLE prefixed with 'posix-' takes effect\n",
      "       only outside the POSIX locale.  Also the TIME_STYLE  environment  vari‐\n",
      "       able sets the default style to use.\n",
      "\n",
      "       Using  color  to distinguish file types is disabled both by default and\n",
      "       with --color=never.  With --color=auto, ls emits color codes only  when\n",
      "       standard  output is connected to a terminal.  The LS_COLORS environment\n",
      "       variable can change the settings.  Use the dircolors command to set it.\n",
      "\n",
      "   Exit status:\n",
      "       0      if OK,\n",
      "\n",
      "       1      if minor problems (e.g., cannot access subdirectory),\n",
      "\n",
      "       2      if serious trouble (e.g., cannot access command-line argument).\n",
      "\n",
      "AUTHOR\n",
      "       Written by Richard M. Stallman and David MacKenzie.\n",
      "\n",
      "REPORTING BUGS\n",
      "       GNU coreutils online help: <https://www.gnu.org/software/coreutils/>\n",
      "       Report ls translation bugs to <https://translationproject.org/team/>\n",
      "\n",
      "COPYRIGHT\n",
      "       Copyright © 2018 Free Software Foundation, Inc.   License  GPLv3+:  GNU\n",
      "       GPL version 3 or later <https://gnu.org/licenses/gpl.html>.\n",
      "       This  is  free  software:  you  are free to change and redistribute it.\n",
      "       There is NO WARRANTY, to the extent permitted by law.\n",
      "\n",
      "SEE ALSO\n",
      "       Full documentation at: <https://www.gnu.org/software/coreutils/ls>\n",
      "       or available locally via: info '(coreutils) ls invocation'\n",
      "\n",
      "GNU coreutils 8.30              September 2019                           LS(1)\n"
     ]
    }
   ],
   "source": [
    "!man ls"
   ]
  },
  {
   "cell_type": "code",
   "execution_count": 11,
   "metadata": {},
   "outputs": [
    {
     "name": "stdout",
     "output_type": "stream",
     "text": [
      "PASSWD(5)                File Formats and Conversions                PASSWD(5)\n",
      "\n",
      "NAME\n",
      "       passwd - the password file\n",
      "\n",
      "DESCRIPTION\n",
      "       /etc/passwd contains one line for each user account, with seven fields\n",
      "       delimited by colons (“:”). These fields are:\n",
      "\n",
      "       •   login name\n",
      "\n",
      "       •   optional encrypted password\n",
      "\n",
      "       •   numerical user ID\n",
      "\n",
      "       •   numerical group ID\n",
      "\n",
      "       •   user name or comment field\n",
      "\n",
      "       •   user home directory\n",
      "\n",
      "       •   optional user command interpreter\n",
      "\n",
      "       If the password field is a lower-case “x”, then the encrypted password\n",
      "       is actually stored in the shadow(5) file instead; there must be a\n",
      "       corresponding line in the /etc/shadow file, or else the user account is\n",
      "       invalid.\n",
      "\n",
      "       The encrypted password field may be empty, in which case no password is\n",
      "       required to authenticate as the specified login name. However, some\n",
      "       applications which read the /etc/passwd file may decide not to permit\n",
      "       any access at all if the password field is blank.\n",
      "\n",
      "       A password field which starts with an exclamation mark means that the\n",
      "       password is locked. The remaining characters on the line represent the\n",
      "       password field before the password was locked.\n",
      "\n",
      "       Refer to crypt(3) for details on how this string is interpreted.\n",
      "\n",
      "       If the password field contains some string that is not a valid result\n",
      "       of crypt(3), for instance ! or *, the user will not be able to use a\n",
      "       unix password to log in (but the user may log in the system by other\n",
      "       means).\n",
      "\n",
      "       The comment field is used by various system utilities, such as\n",
      "       finger(1).\n",
      "\n",
      "       The home directory field provides the name of the initial working\n",
      "       directory. The login program uses this information to set the value of\n",
      "       the $HOME environmental variable.\n",
      "\n",
      "       The command interpreter field provides the name of the user's command\n",
      "       language interpreter, or the name of the initial program to execute.\n",
      "       The login program uses this information to set the value of the $SHELL\n",
      "       environmental variable. If this field is empty, it defaults to the\n",
      "       value /bin/sh.\n",
      "\n",
      "FILES\n",
      "       /etc/passwd\n",
      "           User account information.\n",
      "\n",
      "       /etc/shadow\n",
      "           optional encrypted password file\n",
      "\n",
      "       /etc/passwd-\n",
      "           Backup file for /etc/passwd.\n",
      "\n",
      "           Note that this file is used by the tools of the shadow toolsuite,\n",
      "           but not by all user and password management tools.\n",
      "\n",
      "SEE ALSO\n",
      "       crypt(3), getent(1), getpwnam(3), login(1), passwd(1), pwck(8),\n",
      "       pwconv(8), pwunconv(8), shadow(5), su(1), sulogin(8).\n",
      "\n",
      "shadow-utils 4.8.1                07/14/2021                         PASSWD(5)\n"
     ]
    }
   ],
   "source": [
    "!man 5 passwd"
   ]
  },
  {
   "cell_type": "markdown",
   "metadata": {},
   "source": [
    "|Section| Contents|\n",
    "|-|-|\n",
    "|1| User commands|\n",
    "|2| Programming interfaces for kernel system calls|\n",
    "|3| Programming interfaces to the C library|\n",
    "|4| Special files such as device nodes and drivers|\n",
    "|5| File formats|\n",
    "|6| Games and amusements such as screen savers|\n",
    "|7| Miscellaneous|\n",
    "|8| System administration commands|"
   ]
  },
  {
   "cell_type": "markdown",
   "metadata": {},
   "source": [
    "### apropos - display appropriate commands\n",
    "\n",
    "It is also possible to search the list of man pages for possible matches based on a search term."
   ]
  },
  {
   "cell_type": "code",
   "execution_count": 12,
   "metadata": {},
   "outputs": [
    {
     "name": "stdout",
     "output_type": "stream",
     "text": [
      "addpart (8)          - tell the kernel about the existence of a partition\n",
      "cfdisk (8)           - display or manipulate a disk partition table\n",
      "cgdisk (8)           - Curses-based GUID partition table (GPT) manipulator\n",
      "delpart (8)          - tell the kernel to forget about a partition\n",
      "fdisk (8)            - manipulate disk partition table\n",
      "fixparts (8)         - MBR partition table repair utility\n",
      "gdisk (8)            - Interactive GUID partition table (GPT) manipulator\n",
      "growpart (1)         - extend a partition in a partition table to fill availa...\n",
      "kpartx (8)           - Create device maps from partition tables.\n",
      "parted (8)           - a partition manipulation program\n",
      "partprobe (8)        - inform the OS of partition table changes\n",
      "partx (8)            - tell the kernel about the presence and numbering of on...\n",
      "resizepart (8)       - tell the kernel about the new size of a partition\n",
      "sfdisk (8)           - display or manipulate a disk partition table\n",
      "sgdisk (8)           - Command-line GUID partition table (GPT) manipulator fo...\n",
      "systemd-gpt-auto-generator (8) - Generator for automatically discovering and ...\n"
     ]
    }
   ],
   "source": [
    "!apropos partition"
   ]
  },
  {
   "cell_type": "markdown",
   "metadata": {},
   "source": [
    "Note that the man command with the -k option performs the same function as apropos."
   ]
  },
  {
   "cell_type": "markdown",
   "metadata": {},
   "source": [
    "### whatis - display one-line manual page descriptions"
   ]
  },
  {
   "cell_type": "code",
   "execution_count": 13,
   "metadata": {},
   "outputs": [
    {
     "name": "stdout",
     "output_type": "stream",
     "text": [
      "ls (1)               - list directory contents\n"
     ]
    }
   ],
   "source": [
    "!whatis ls"
   ]
  },
  {
   "cell_type": "markdown",
   "metadata": {},
   "source": [
    "### info - display a program's info entry\n",
    "\n",
    "The GNU Project provides an alternative to man pages for their programs, called info. Info manuals are displayed with a reader program named, appropriately enough, info. Info pages are hyperlinked much like web pages. \n",
    "\n",
    "The info program reads info files, which are tree structured into individual nodes, each containing a single topic. Info files contain hyperlinks that can move you from node to node. A hyperlink can be identified by its leading asterisk and is activated by placing the cursor upon it and pressing enter."
   ]
  },
  {
   "cell_type": "markdown",
   "metadata": {},
   "source": [
    "How to control the reader while displaying info page\n",
    "\n",
    "|Command| Action|\n",
    "|-|-|\n",
    "|?| Display command help|\n",
    "|page up or backspace| Display previous page|\n",
    "|page down or spacebar| Display next page|\n",
    "|n| Next—display the next node|\n",
    "|p| Previous—display the previous node|\n",
    "|U| Up—display the parent node of the currently displayed node, usually a menu|\n",
    "|enter| Follow the hyperlink at the cursor location|\n",
    "|Q| Quit|"
   ]
  },
  {
   "cell_type": "code",
   "execution_count": 14,
   "metadata": {},
   "outputs": [
    {
     "name": "stdout",
     "output_type": "stream",
     "text": [
      "\u001b[?1h\u001b=\u001b7\u001b[?47h\u001b[H\u001b[2J\u001b[24;1HWelcome to Info version 6.7.  Type H for help, h for tutorial.\u001b[24;1Hgzip -d < /usr/share/info/coreutils.info.gz...\u001b[K\u001b[24;1HWelcome to Info version 6.7.  Type H for help, h for tutorial.\u001b[23;1H\u001b[7m-----Info: (coreutils)Top, 347 lines --Top--------------------------------------\u001b[m\u001b[1;1HNext: Introduction,  Up: (dir)\u001b[3;1HGNU Coreutils\u001b[4;1H*************\u001b[6;1HThis manual documents version 8.30 of the GNU core utilities, including\u001b[7;1Hthe standard programs for text and file manipulation.\u001b[9;1H   Copyright © 1994-2018 Free Software Foundation, Inc.\u001b[11;1H     Permission is granted to copy, distribute and/or modify this\u001b[12;1H     document under the terms of the GNU Free Documentation License,\u001b[13;1H     Version 1.3 or any later version published by the Free Software\u001b[14;1H     Foundation; with no Invariant Sections, with no Front-Cover Texts,\u001b[15;1H     and with no Back-Cover Texts.  A copy of the license is included in\u001b[16;1H     the section entitled “GNU Free Documentation License”.\u001b[18;1H* Menu:\u001b[20;1H\u001b[4m* Introduction\u001b[m::                 Caveats, overview, and authors\u001b[K\u001b[21;1H\u001b[4m* Common options\u001b[m::               Common options\u001b[K\u001b[22;1H\u001b[4m* Output of entire files\u001b[m::       cat tac nl od base32 base64\u001b[K\u001b[1;1H\u001b[24;1H\u001b[K\u001b[?1l\u001b>\u001b[2J\u001b[?47l\u001b8"
     ]
    }
   ],
   "source": [
    "!info coreutils"
   ]
  },
  {
   "cell_type": "markdown",
   "metadata": {},
   "source": [
    "### README and Other Program Documentation Files\n",
    "\n",
    "Many software packages installed on your system have documentation files residing in the /usr/share/doc directory. Most of these are stored in ordinary text format and can be viewed with the less command. \n",
    "\n",
    "We may encounter some files ending with a `.gz` extension. This indicates that they have been compressed with the `gzip` compression program. The gzip package includes a special version of less called `zless` that will display the contents of gzip compressed text files"
   ]
  },
  {
   "cell_type": "markdown",
   "metadata": {},
   "source": [
    "## Creating our own commands with alias"
   ]
  },
  {
   "cell_type": "markdown",
   "metadata": {},
   "source": [
    "Possible to put more than one command a line by seperating each command with a semicolon"
   ]
  },
  {
   "cell_type": "code",
   "execution_count": 25,
   "metadata": {},
   "outputs": [
    {
     "name": "stdout",
     "output_type": "stream",
     "text": [
      "bin\tgames\t lib\tlib64\t libx32  sbin\tsrc\n",
      "config\tinclude  lib32\tlibexec  local\t share\n",
      "/mnt/c/Users/yeman_s1h20q2/Yemane/Linux-Command-Line\n"
     ]
    }
   ],
   "source": [
    "!cd /usr; ls; cd -"
   ]
  },
  {
   "cell_type": "markdown",
   "metadata": {},
   "source": [
    "- Now let’s turn this sequence into a new command using alias.\n",
    "- think of a name for new command\n",
    "- make sure the name is not already being used"
   ]
  },
  {
   "cell_type": "code",
   "execution_count": 21,
   "metadata": {},
   "outputs": [
    {
     "name": "stdout",
     "output_type": "stream",
     "text": [
      "/bin/bash: line 0: type: foo: not found\n"
     ]
    }
   ],
   "source": [
    "!type foo"
   ]
  },
  {
   "cell_type": "markdown",
   "metadata": {},
   "source": [
    "alias name='string"
   ]
  },
  {
   "cell_type": "code",
   "execution_count": 28,
   "metadata": {},
   "outputs": [],
   "source": [
    "!alias foo='cd /usr; ls; cd -'"
   ]
  },
  {
   "cell_type": "code",
   "execution_count": null,
   "metadata": {},
   "outputs": [],
   "source": [
    "!foo"
   ]
  },
  {
   "cell_type": "code",
   "execution_count": null,
   "metadata": {},
   "outputs": [],
   "source": [
    "!type foo"
   ]
  },
  {
   "cell_type": "code",
   "execution_count": null,
   "metadata": {},
   "outputs": [],
   "source": [
    "!unalias foo"
   ]
  },
  {
   "cell_type": "code",
   "execution_count": null,
   "metadata": {},
   "outputs": [],
   "source": [
    "type foo"
   ]
  },
  {
   "cell_type": "markdown",
   "metadata": {},
   "source": [
    "To see all the aliases defined in the environment, use the alias command without arguments."
   ]
  },
  {
   "cell_type": "code",
   "execution_count": 29,
   "metadata": {},
   "outputs": [],
   "source": [
    "!alias"
   ]
  }
 ],
 "metadata": {
  "interpreter": {
   "hash": "fbbcd2e6edcb24eb7238d003204e89dfec81969763d5f6010a55d994217de1a3"
  },
  "kernelspec": {
   "display_name": "Python 3.9.7 64-bit ('base': conda)",
   "language": "python",
   "name": "python3"
  },
  "language_info": {
   "codemirror_mode": {
    "name": "ipython",
    "version": 3
   },
   "file_extension": ".py",
   "mimetype": "text/x-python",
   "name": "python",
   "nbconvert_exporter": "python",
   "pygments_lexer": "ipython3",
   "version": "3.9.7"
  },
  "orig_nbformat": 4
 },
 "nbformat": 4,
 "nbformat_minor": 2
}
