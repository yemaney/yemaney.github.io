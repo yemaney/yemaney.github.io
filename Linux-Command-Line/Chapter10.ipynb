{
 "cells": [
  {
   "cell_type": "markdown",
   "metadata": {},
   "source": [
    "# 10 Processes\n",
    "\n",
    "Modern operating  create the illusion of doing more than one thing at once by rapidly switching from one executing program to another.\n",
    "\n",
    "- ps \n",
    "    - Report a snapshot of current processes\n",
    "- top \n",
    "    - Display tasks\n",
    "- jobs \n",
    "    - List active jobs\n",
    "- bg \n",
    "    - Place a job in the background\n",
    "- fg \n",
    "    - Place a job in the foreground\n",
    "- kill \n",
    "    - Send a signal to a process\n",
    "- killall \n",
    "    - Kill processes by name\n",
    "- shutdown \n",
    "    - Shut down or reboot the system"
   ]
  },
  {
   "cell_type": "markdown",
   "metadata": {},
   "source": [
    "## How a Process Works\n",
    "\n",
    "When a system starts up, the kernel initiates a few of its own activities as  processes and launches a program called `init`. init, in turn, runs a series of  shell scripts (located in /etc) called init scripts, which start all the system services.\n",
    "\n",
    "Many of these services are implemented as `daemon programs`, programs \n",
    "that just `sit in the background and do their thing without having any user interface`. \n",
    "\n",
    "The fact that a program can launch other programs is expressed in the \n",
    "process scheme as a` parent process` producing a `child process`.\n",
    "\n",
    "The kernel maintains information about each process to help keep things organized.\n",
    "-  each process is assigned a number called  a process ID (PID)\n",
    "-  keeps track of the memory assigned to each  process, as well as the processes’ readiness to resume execution. "
   ]
  },
  {
   "cell_type": "markdown",
   "metadata": {},
   "source": [
    "## Viewing Processes\n"
   ]
  },
  {
   "cell_type": "markdown",
   "metadata": {},
   "source": [
    "Show the processes associated with current terminal session"
   ]
  },
  {
   "cell_type": "code",
   "execution_count": 2,
   "metadata": {},
   "outputs": [
    {
     "name": "stdout",
     "output_type": "stream",
     "text": [
      "  PID TTY          TIME CMD\n",
      " 1100 pts/4    00:00:00 ps\n"
     ]
    }
   ],
   "source": [
    "!ps"
   ]
  },
  {
   "cell_type": "markdown",
   "metadata": {},
   "source": [
    "Adding the x option (note that there is no leading dash) tells ps to show  all of our processes regardless of what terminal (if any) they are controlled by."
   ]
  },
  {
   "cell_type": "code",
   "execution_count": 3,
   "metadata": {},
   "outputs": [
    {
     "name": "stdout",
     "output_type": "stream",
     "text": [
      "  PID TTY      STAT   TIME COMMAND\n",
      "    9 pts/0    Ss+    0:00 -bash\n",
      "  763 pts/1    Ss+    0:00 sh -c \"$VSCODE_WSL_EXT_LOCATION/scripts/wslServer.sh\"\n",
      "  764 pts/1    S+     0:00 sh /mnt/c/Users/yeman_s1h20q2/.vscode/extensions/ms-v\n",
      "  770 pts/1    S+     0:00 sh /home/yemane/.vscode-server/bin/899d46d82c4c95423f\n",
      "  772 pts/1    Sl+    0:05 /home/yemane/.vscode-server/bin/899d46d82c4c95423fb7e\n",
      "  783 pts/1    Sl+    0:00 /home/yemane/.vscode-server/bin/899d46d82c4c95423fb7e\n",
      "  809 pts/2    Ssl+   0:00 /home/yemane/.vscode-server/bin/899d46d82c4c95423fb7e\n",
      "  820 pts/3    Ssl+   0:01 /home/yemane/.vscode-server/bin/899d46d82c4c95423fb7e\n",
      "  840 pts/1    Rl+    0:26 /home/yemane/.vscode-server/bin/899d46d82c4c95423fb7e\n",
      "  851 pts/1    Sl+    0:00 /home/yemane/.vscode-server/bin/899d46d82c4c95423fb7e\n",
      "  878 pts/1    Sl+    0:16 /home/yemane/.vscode-server/bin/899d46d82c4c95423fb7e\n",
      "  936 pts/1    Sl+    0:05 /home/yemane/.vscode-server/bin/899d46d82c4c95423fb7e\n",
      "  944 pts/1    Sl+    0:08 /home/yemane/.vscode-server/bin/899d46d82c4c95423fb7e\n",
      " 1047 pts/1    Sl+    0:00 /home/yemane/miniconda3/bin/python -m vscode_datascie\n",
      " 1048 ?        Rsl    0:01 /home/yemane/miniconda3/bin/python -m ipykernel_launc\n",
      " 1069 pts/1    Sl+    0:05 /home/yemane/.vscode-server/bin/899d46d82c4c95423fb7e\n",
      " 1101 pts/4    Rs+    0:00 ps x\n"
     ]
    }
   ],
   "source": [
    "!ps x"
   ]
  },
  {
   "cell_type": "markdown",
   "metadata": {},
   "source": [
    "The presence of a ? in the TTY column indicates no controlling terminal.\n",
    "\n",
    "It is often helpful to pipe the output from ps into less for easier viewing.\n",
    "\n",
    "A new column titled STAT has been added to the output. STAT is short for \n",
    "state and reveals the current status of the process"
   ]
  },
  {
   "cell_type": "markdown",
   "metadata": {},
   "source": [
    "|S|tate Meaning|\n",
    "|-|-|\n",
    "|R| Running. This means the process is running or ready to run.|\n",
    "|S| Sleeping. The process is not running; rather, it is waiting for an event, such as a keystroke or network packet.|\n",
    "|D| Uninterruptible sleep. The process is waiting for I/O such as a disk drive.|\n",
    "|T| Stopped. The process has been instructed to stop. You’ll learn more about  this later in the chapter.|\n",
    "|Z| A defunct or “zombie” process. This is a child process that has terminated  but has not been cleaned up by its parent.|\n",
    "|<| A high-priority process. It’s possible to grant more importance to a process, giving it more time on the CPU. This property of a process is called niceness.  A process with high priority is said to be less nice because it’s taking more  of the CPU’s time, which leaves less for everybody else.|\n",
    "|N| A low-priority process. A process with low priority (a nice process) will get  processor time only after other processes with higher priority have been  serviced|"
   ]
  },
  {
   "cell_type": "markdown",
   "metadata": {},
   "source": [
    "This set of options displays the processes belonging to every user."
   ]
  },
  {
   "cell_type": "code",
   "execution_count": 4,
   "metadata": {},
   "outputs": [
    {
     "name": "stdout",
     "output_type": "stream",
     "text": [
      "USER       PID %CPU %MEM    VSZ   RSS TTY      STAT START   TIME COMMAND\n",
      "root         1  0.0  0.0    904   504 ?        Sl   22:57   0:00 /init\n",
      "root         7  0.0  0.0    896    80 ?        Ss   22:57   0:00 /init\n",
      "root         8  0.0  0.0    896    80 ?        S    22:57   0:00 /init\n",
      "yemane       9  0.0  0.1  10184  5328 pts/0    Ss+  22:57   0:00 -bash\n",
      "root       761  0.0  0.0    912    88 ?        Ss   23:10   0:00 /init\n",
      "root       762  0.0  0.0    912    96 ?        S    23:10   0:00 /init\n",
      "yemane     763  0.0  0.0   2608   604 pts/1    Ss+  23:10   0:00 sh -c \"$VSCODE_\n",
      "yemane     764  0.0  0.0   2608  1636 pts/1    S+   23:10   0:00 sh /mnt/c/Users\n",
      "yemane     770  0.0  0.0   2608   536 pts/1    S+   23:10   0:00 sh /home/yemane\n",
      "yemane     772  0.4  1.3 924584 62960 pts/1    Sl+  23:10   0:05 /home/yemane/.v\n",
      "yemane     783  0.0  0.7 613588 36576 pts/1    Sl+  23:10   0:00 /home/yemane/.v\n",
      "root       806  0.0  0.0    912    88 ?        Ss   23:10   0:00 /init\n",
      "root       807  0.0  0.0    912    96 ?        S    23:10   0:00 /init\n",
      "yemane     809  0.0  0.8 584028 39556 pts/2    Ssl+ 23:10   0:00 /home/yemane/.v\n",
      "root       818  0.0  0.0    912    88 ?        Ss   23:10   0:00 /init\n",
      "root       819  0.0  0.0    912    96 ?        S    23:10   0:00 /init\n",
      "yemane     820  0.1  0.8 582436 41048 pts/3    Ssl+ 23:10   0:01 /home/yemane/.v\n",
      "yemane     840  2.4  3.4 1105916 165812 pts/1  Rl+  23:11   0:34 /home/yemane/.v\n",
      "yemane     851  0.0  0.7 697008 35796 pts/1    Sl+  23:11   0:00 /home/yemane/.v\n",
      "yemane     878  1.4  2.3 951348 110404 pts/1   Sl+  23:11   0:20 /home/yemane/.v\n",
      "yemane     936  0.3  2.8 911356 136968 pts/1   Sl+  23:11   0:05 /home/yemane/.v\n",
      "yemane     944  0.5  3.2 974524 157716 pts/1   Sl+  23:11   0:08 /home/yemane/.v\n",
      "yemane    1047  0.0  0.3 240964 14712 pts/1    Sl+  23:13   0:00 /home/yemane/mi\n",
      "yemane    1048  0.0  1.2 746808 61056 ?        Ssl  23:13   0:01 /home/yemane/mi\n",
      "yemane    1069  0.4  3.2 924256 156632 pts/1   Sl+  23:13   0:05 /home/yemane/.v\n",
      "yemane    1102  0.0  0.0  10620  3296 pts/4    Rs+  23:34   0:00 ps aux\n"
     ]
    }
   ],
   "source": [
    "!ps aux"
   ]
  },
  {
   "cell_type": "markdown",
   "metadata": {},
   "source": [
    "|Header| Meaning|\n",
    "|-|-|\n",
    "|USER| User ID. This is the owner of the process.|\n",
    "|%CPU| CPU usage in percent.|\n",
    "|%MEM| Memory usage in percent.|\n",
    "|VSZ| Virtual memory size.|\n",
    "|RSS| Resident set size. This is the amount of physical memory (RAM) the process is using in kilobytes.|\n",
    "|START| Time when the process started. For values over 24 hours, a date is used|"
   ]
  },
  {
   "cell_type": "markdown",
   "metadata": {},
   "source": [
    "### Viewing Processes Dynamically with top\n",
    "\n",
    "The top program displays a continuously updating display of the system processes listed in order of process activity.\n",
    "\n",
    "The top display consists of two parts: a system summary at the top of the display, followed by a table of processes sorted by CPU activity"
   ]
  },
  {
   "cell_type": "code",
   "execution_count": 5,
   "metadata": {},
   "outputs": [
    {
     "name": "stdout",
     "output_type": "stream",
     "text": [
      "\u001b[?1h\u001b=\u001b[H\u001b[2J\u001b[mtop - 23:37:16 up 1 day, 18:02,  0 users,  load average: 0.00, 0.00, 0.03\u001b[m\u001b[m\u001b[m\u001b[m\u001b[K\n",
      "Tasks:\u001b[m\u001b[m\u001b[1m  26 \u001b[m\u001b[mtotal,\u001b[m\u001b[m\u001b[1m   1 \u001b[m\u001b[mrunning,\u001b[m\u001b[m\u001b[1m  25 \u001b[m\u001b[msleeping,\u001b[m\u001b[m\u001b[1m   0 \u001b[m\u001b[mstopped,\u001b[m\u001b[m\u001b[1m   0 \u001b[m\u001b[mzombie\u001b[m\u001b[m\u001b[m\u001b[m\u001b[K\n",
      "%Cpu(s):\u001b[m\u001b[m\u001b[1m  4.0 \u001b[m\u001b[mus,\u001b[m\u001b[m\u001b[1m  0.8 \u001b[m\u001b[msy,\u001b[m\u001b[m\u001b[1m  0.0 \u001b[m\u001b[mni,\u001b[m\u001b[m\u001b[1m 93.7 \u001b[m\u001b[mid,\u001b[m\u001b[m\u001b[1m  0.0 \u001b[m\u001b[mwa,\u001b[m\u001b[m\u001b[1m  0.0 \u001b[m\u001b[mhi,\u001b[m\u001b[m\u001b[1m  1.6 \u001b[m\u001b[msi,\u001b[m\u001b[m\u001b[1m  0.0 \u001b[m\u001b[mst\u001b[m\u001b[m\u001b[m\u001b[m\u001b[K\n",
      "MiB Mem :\u001b[m\u001b[m\u001b[1m   4683.0 \u001b[m\u001b[mtotal,\u001b[m\u001b[m\u001b[1m   2067.7 \u001b[m\u001b[mfree,\u001b[m\u001b[m\u001b[1m   1233.1 \u001b[m\u001b[mused,\u001b[m\u001b[m\u001b[1m   1382.1 \u001b[m\u001b[mbuff/cache\u001b[m\u001b[m\u001b[m\u001b[m\u001b[K\n",
      "MiB Swap:\u001b[m\u001b[m\u001b[1m   2048.0 \u001b[m\u001b[mtotal,\u001b[m\u001b[m\u001b[1m   2048.0 \u001b[m\u001b[mfree,\u001b[m\u001b[m\u001b[1m      0.0 \u001b[m\u001b[mused.\u001b[m\u001b[m\u001b[1m   2848.7 \u001b[m\u001b[mavail Mem \u001b[m\u001b[m\u001b[m\u001b[m\u001b[K\n",
      "\u001b[K\n",
      "\u001b[7m  PID USER      PR  NI    VIRT    RES    SHR S  %CPU  %MEM     TIME+ COMMAND    \u001b[m\u001b[m\u001b[K\n",
      "\u001b[m  840 yemane    20   0 1095872 177900  40580 S  13.3   3.7   0:41.08 node       \u001b[m\u001b[m\u001b[K\n",
      "\u001b[m  820 yemane    20   0  582700  41176  28684 S   6.7   0.9   0:01.89 node       \u001b[m\u001b[m\u001b[K\n",
      "\u001b[m 1048 yemane    20   0  746808  61124  14668 S   6.7   1.3   0:01.21 python     \u001b[m\u001b[m\u001b[K\n",
      "\u001b[m    1 root      20   0     904    504    468 S   0.0   0.0   0:00.03 init       \u001b[m\u001b[m\u001b[K\n",
      "\u001b[m    7 root      20   0     896     80     20 S   0.0   0.0   0:00.00 init       \u001b[m\u001b[m\u001b[K\n",
      "\u001b[m    8 root      20   0     896     80     20 S   0.0   0.0   0:00.15 init       \u001b[m\u001b[m\u001b[K\n",
      "\u001b[m    9 yemane    20   0   10184   5328   3464 S   0.0   0.1   0:00.25 bash       \u001b[m\u001b[m\u001b[K\n",
      "\u001b[m  761 root      20   0     912     88     20 S   0.0   0.0   0:00.00 init       \u001b[m\u001b[m\u001b[K\n",
      "\u001b[m  762 root      20   0     912     96     20 S   0.0   0.0   0:00.00 init       \u001b[m\u001b[m\u001b[K\n",
      "\u001b[m  763 yemane    20   0    2608    604    532 S   0.0   0.0   0:00.00 sh         \u001b[m\u001b[m\u001b[K\n",
      "\u001b[m  764 yemane    20   0    2608   1636   1520 S   0.0   0.0   0:00.00 sh         \u001b[m\u001b[m\u001b[K\n",
      "\u001b[m  770 yemane    20   0    2608    536    468 S   0.0   0.0   0:00.00 sh         \u001b[m\u001b[m\u001b[K\n",
      "\u001b[m  772 yemane    20   0  924888  62548  33012 S   0.0   1.3   0:05.98 node       \u001b[m\u001b[m\u001b[K\n",
      "\u001b[m  783 yemane    20   0  613588  36576  27324 S   0.0   0.8   0:00.47 node       \u001b[m\u001b[m\u001b[K\n",
      "\u001b[m  806 root      20   0     912     88     20 S   0.0   0.0   0:00.00 init       \u001b[m\u001b[m\u001b[K\n",
      "\u001b[m  807 root      20   0     912     96     20 S   0.0   0.0   0:00.29 init       \u001b[m\u001b[m\u001b[K\n",
      "\u001b[m  809 yemane    20   0  584028  38532  27872 S   0.0   0.8   0:00.82 node       \u001b[m\u001b[m\u001b[K\u001b[H\u001b[mtop - 23:37:19 up 1 day, 18:02,  0 users,  load average: 0.00, 0.00, 0.03\u001b[m\u001b[m\u001b[m\u001b[m\u001b[K\n",
      "\n",
      "%Cpu(s):\u001b[m\u001b[m\u001b[1m  0.5 \u001b[m\u001b[mus,\u001b[m\u001b[m\u001b[1m  0.3 \u001b[m\u001b[msy,\u001b[m\u001b[m\u001b[1m  0.0 \u001b[m\u001b[mni,\u001b[m\u001b[m\u001b[1m 99.2 \u001b[m\u001b[mid,\u001b[m\u001b[m\u001b[1m  0.0 \u001b[m\u001b[mwa,\u001b[m\u001b[m\u001b[1m  0.0 \u001b[m\u001b[mhi,\u001b[m\u001b[m\u001b[1m  0.0 \u001b[m\u001b[msi,\u001b[m\u001b[m\u001b[1m  0.0 \u001b[m\u001b[mst\u001b[m\u001b[m\u001b[m\u001b[m\u001b[K\n",
      "MiB Mem :\u001b[m\u001b[m\u001b[1m   4683.0 \u001b[m\u001b[mtotal,\u001b[m\u001b[m\u001b[1m   2066.0 \u001b[m\u001b[mfree,\u001b[m\u001b[m\u001b[1m   1234.8 \u001b[m\u001b[mused,\u001b[m\u001b[m\u001b[1m   1382.1 \u001b[m\u001b[mbuff/cache\u001b[m\u001b[m\u001b[m\u001b[m\u001b[K\n",
      "MiB Swap:\u001b[m\u001b[m\u001b[1m   2048.0 \u001b[m\u001b[mtotal,\u001b[m\u001b[m\u001b[1m   2048.0 \u001b[m\u001b[mfree,\u001b[m\u001b[m\u001b[1m      0.0 \u001b[m\u001b[mused.\u001b[m\u001b[m\u001b[1m   2847.0 \u001b[m\u001b[mavail Mem \u001b[m\u001b[m\u001b[m\u001b[m\u001b[K\n",
      "\u001b[K\n",
      "\n",
      "\u001b[m 1048 yemane    20   0  746808  61124  14668 S   3.7   1.3   0:01.32 python     \u001b[m\u001b[m\u001b[K\n",
      "\u001b[m  840 yemane    20   0 1092264 176800  40580 S   2.0   3.7   0:41.14 node       \u001b[m\u001b[m\u001b[K\n",
      "\u001b[m  878 yemane    20   0  962120 144112  32556 S   0.7   3.0   0:23.23 node       \u001b[m\u001b[m\u001b[K\n",
      "\u001b[m 1069 yemane    20   0  924256 155880  30000 S   0.3   3.3   0:05.93 node       \u001b[m\u001b[m\u001b[K\n",
      "\u001b[m    1 root      20   0     904    504    468 S   0.0   0.0   0:00.03 init       \u001b[m\u001b[m\u001b[K\n",
      "\u001b[m    7 root      20   0     896     80     20 S   0.0   0.0   0:00.00 init       \u001b[m\u001b[m\u001b[K\n",
      "\u001b[m    8 root      20   0     896     80     20 S   0.0   0.0   0:00.15 init       \u001b[m\u001b[m\u001b[K\n",
      "\u001b[m    9 yemane    20   0   10184   5328   3464 S   0.0   0.1   0:00.25 bash       \u001b[m\u001b[m\u001b[K\n",
      "\u001b[m  761 root      20   0     912     88     20 S   0.0   0.0   0:00.00 init       \u001b[m\u001b[m\u001b[K\n",
      "\u001b[m  762 root      20   0     912     96     20 S   0.0   0.0   0:00.00 init       \u001b[m\u001b[m\u001b[K\n",
      "\u001b[m  763 yemane    20   0    2608    604    532 S   0.0   0.0   0:00.00 sh         \u001b[m\u001b[m\u001b[K\n",
      "\u001b[m  764 yemane    20   0    2608   1636   1520 S   0.0   0.0   0:00.00 sh         \u001b[m\u001b[m\u001b[K\n",
      "\u001b[m  770 yemane    20   0    2608    536    468 S   0.0   0.0   0:00.00 sh         \u001b[m\u001b[m\u001b[K\n",
      "\u001b[m  772 yemane    20   0  924888  62548  33012 S   0.0   1.3   0:05.98 node       \u001b[m\u001b[m\u001b[K\n",
      "\u001b[m  783 yemane    20   0  613588  36576  27324 S   0.0   0.8   0:00.47 node       \u001b[m\u001b[m\u001b[K\n",
      "\u001b[m  806 root      20   0     912     88     20 S   0.0   0.0   0:00.00 init       \u001b[m\u001b[m\u001b[K\n",
      "\u001b[m  807 root      20   0     912     96     20 S   0.0   0.0   0:00.29 init       \u001b[m\u001b[m\u001b[K\u001b[H\u001b[mtop - 23:37:22 up 1 day, 18:02,  0 users,  load average: 0.00, 0.00, 0.03\u001b[m\u001b[m\u001b[m\u001b[m\u001b[K\n",
      "\n",
      "%Cpu(s):\u001b[m\u001b[m\u001b[1m  0.4 \u001b[m\u001b[mus,\u001b[m\u001b[m\u001b[1m  0.1 \u001b[m\u001b[msy,\u001b[m\u001b[m\u001b[1m  0.0 \u001b[m\u001b[mni,\u001b[m\u001b[m\u001b[1m 99.5 \u001b[m\u001b[mid,\u001b[m\u001b[m\u001b[1m  0.0 \u001b[m\u001b[mwa,\u001b[m\u001b[m\u001b[1m  0.0 \u001b[m\u001b[mhi,\u001b[m\u001b[m\u001b[1m  0.0 \u001b[m\u001b[msi,\u001b[m\u001b[m\u001b[1m  0.0 \u001b[m\u001b[mst\u001b[m\u001b[m\u001b[m\u001b[m\u001b[K\n",
      "MiB Mem :\u001b[m\u001b[m\u001b[1m   4683.0 \u001b[m\u001b[mtotal,\u001b[m\u001b[m\u001b[1m   2066.2 \u001b[m\u001b[mfree,\u001b[m\u001b[m\u001b[1m   1234.6 \u001b[m\u001b[mused,\u001b[m\u001b[m\u001b[1m   1382.1 \u001b[m\u001b[mbuff/cache\u001b[m\u001b[m\u001b[m\u001b[m\u001b[K\n",
      "MiB Swap:\u001b[m\u001b[m\u001b[1m   2048.0 \u001b[m\u001b[mtotal,\u001b[m\u001b[m\u001b[1m   2048.0 \u001b[m\u001b[mfree,\u001b[m\u001b[m\u001b[1m      0.0 \u001b[m\u001b[mused.\u001b[m\u001b[m\u001b[1m   2847.2 \u001b[m\u001b[mavail Mem \u001b[m\u001b[m\u001b[m\u001b[m\u001b[K\n",
      "\u001b[K\n",
      "\n",
      "\u001b[m 1048 yemane    20   0  746808  61124  14668 S   4.0   1.3   0:01.44 python     \u001b[m\u001b[m\u001b[K\n",
      "\u001b[m  840 yemane    20   0 1092264 177064  40580 S   0.7   3.7   0:41.16 node       \u001b[m\u001b[m\u001b[K\n",
      "\u001b[m  772 yemane    20   0  924888  62548  33012 S   0.3   1.3   0:05.99 node       \u001b[m\u001b[m\u001b[K\n",
      "\u001b[m  809 yemane    20   0  584028  38532  27872 S   0.3   0.8   0:00.83 node       \u001b[m\u001b[m\u001b[K\n",
      "\u001b[m  819 root      20   0     912     96     20 S   0.3   0.0   0:00.64 init       \u001b[m\u001b[m\u001b[K\n",
      "\u001b[m    1 root      20   0     904    504    468 S   0.0   0.0   0:00.03 init       \u001b[m\u001b[m\u001b[K\n",
      "\u001b[m    7 root      20   0     896     80     20 S   0.0   0.0   0:00.00 init       \u001b[m\u001b[m\u001b[K\n",
      "\u001b[m    8 root      20   0     896     80     20 S   0.0   0.0   0:00.15 init       \u001b[m\u001b[m\u001b[K\n",
      "\u001b[m    9 yemane    20   0   10184   5328   3464 S   0.0   0.1   0:00.25 bash       \u001b[m\u001b[m\u001b[K\n",
      "\u001b[m  761 root      20   0     912     88     20 S   0.0   0.0   0:00.00 init       \u001b[m\u001b[m\u001b[K\n",
      "\u001b[m  762 root      20   0     912     96     20 S   0.0   0.0   0:00.00 init       \u001b[m\u001b[m\u001b[K\n",
      "\u001b[m  763 yemane    20   0    2608    604    532 S   0.0   0.0   0:00.00 sh         \u001b[m\u001b[m\u001b[K\n",
      "\u001b[m  764 yemane    20   0    2608   1636   1520 S   0.0   0.0   0:00.00 sh         \u001b[m\u001b[m\u001b[K\n",
      "\u001b[m  770 yemane    20   0    2608    536    468 S   0.0   0.0   0:00.00 sh         \u001b[m\u001b[m\u001b[K\n",
      "\n",
      "\n",
      "\u001b[H\u001b[mtop - 23:37:25 up 1 day, 18:02,  0 users,  load average: 0.00, 0.00, 0.03\u001b[m\u001b[m\u001b[m\u001b[m\u001b[K\n",
      "\n",
      "%Cpu(s):\u001b[m\u001b[m\u001b[1m  1.8 \u001b[m\u001b[mus,\u001b[m\u001b[m\u001b[1m  0.2 \u001b[m\u001b[msy,\u001b[m\u001b[m\u001b[1m  0.0 \u001b[m\u001b[mni,\u001b[m\u001b[m\u001b[1m 98.0 \u001b[m\u001b[mid,\u001b[m\u001b[m\u001b[1m  0.0 \u001b[m\u001b[mwa,\u001b[m\u001b[m\u001b[1m  0.0 \u001b[m\u001b[mhi,\u001b[m\u001b[m\u001b[1m  0.0 \u001b[m\u001b[msi,\u001b[m\u001b[m\u001b[1m  0.0 \u001b[m\u001b[mst\u001b[m\u001b[m\u001b[m\u001b[m\u001b[K\n",
      "MiB Mem :\u001b[m\u001b[m\u001b[1m   4683.0 \u001b[m\u001b[mtotal,\u001b[m\u001b[m\u001b[1m   2092.1 \u001b[m\u001b[mfree,\u001b[m\u001b[m\u001b[1m   1208.7 \u001b[m\u001b[mused,\u001b[m\u001b[m\u001b[1m   1382.1 \u001b[m\u001b[mbuff/cache\u001b[m\u001b[m\u001b[m\u001b[m\u001b[K\n",
      "MiB Swap:\u001b[m\u001b[m\u001b[1m   2048.0 \u001b[m\u001b[mtotal,\u001b[m\u001b[m\u001b[1m   2048.0 \u001b[m\u001b[mfree,\u001b[m\u001b[m\u001b[1m      0.0 \u001b[m\u001b[mused.\u001b[m\u001b[m\u001b[1m   2873.1 \u001b[m\u001b[mavail Mem \u001b[m\u001b[m\u001b[m\u001b[m\u001b[K\n",
      "\u001b[K\n",
      "\n",
      "\u001b[m  840 yemane    20   0 1089448 149460  40580 S  13.6   3.1   0:41.57 node       \u001b[m\u001b[m\u001b[K\n",
      "\u001b[m 1048 yemane    20   0  746808  61124  14668 S   3.7   1.3   0:01.55 python     \u001b[m\u001b[m\u001b[K\n",
      "\u001b[m  772 yemane    20   0  924888  62804  33012 S   0.3   1.3   0:06.00 node       \u001b[m\u001b[m\u001b[K\n",
      "\u001b[m  820 yemane    20   0  582976  41440  28684 S   0.3   0.9   0:01.90 node       \u001b[m\u001b[m\u001b[K\n",
      "\u001b[m    1 root      20   0     904    504    468 S   0.0   0.0   0:00.03 init       \u001b[m\u001b[m\u001b[K\n",
      "\u001b[m    7 root      20   0     896     80     20 S   0.0   0.0   0:00.00 init       \u001b[m\u001b[m\u001b[K\n",
      "\u001b[m    8 root      20   0     896     80     20 S   0.0   0.0   0:00.15 init       \u001b[m\u001b[m\u001b[K\n",
      "\u001b[m    9 yemane    20   0   10184   5328   3464 S   0.0   0.1   0:00.25 bash       \u001b[m\u001b[m\u001b[K\n",
      "\u001b[m  761 root      20   0     912     88     20 S   0.0   0.0   0:00.00 init       \u001b[m\u001b[m\u001b[K\n",
      "\u001b[m  762 root      20   0     912     96     20 S   0.0   0.0   0:00.00 init       \u001b[m\u001b[m\u001b[K\n",
      "\u001b[m  763 yemane    20   0    2608    604    532 S   0.0   0.0   0:00.00 sh         \u001b[m\u001b[m\u001b[K\n",
      "\u001b[m  764 yemane    20   0    2608   1636   1520 S   0.0   0.0   0:00.00 sh         \u001b[m\u001b[m\u001b[K\n",
      "\u001b[m  770 yemane    20   0    2608    536    468 S   0.0   0.0   0:00.00 sh         \u001b[m\u001b[m\u001b[K\n",
      "\u001b[m  783 yemane    20   0  613588  36576  27324 S   0.0   0.8   0:00.47 node       \u001b[m\u001b[m\u001b[K\n",
      "\u001b[m  806 root      20   0     912     88     20 S   0.0   0.0   0:00.00 init       \u001b[m\u001b[m\u001b[K\n",
      "\u001b[m  807 root      20   0     912     96     20 S   0.0   0.0   0:00.29 init       \u001b[m\u001b[m\u001b[K\n",
      "\u001b[m  809 yemane    20   0  584028  38532  27872 S   0.0   0.8   0:00.83 node       \u001b[m\u001b[m\u001b[K\u001b[H\u001b[mtop - 23:37:28 up 1 day, 18:02,  0 users,  load average: 0.00, 0.00, 0.03\u001b[m\u001b[m\u001b[m\u001b[m\u001b[K\n",
      "\n",
      "%Cpu(s):\u001b[m\u001b[m\u001b[1m  0.4 \u001b[m\u001b[mus,\u001b[m\u001b[m\u001b[1m  0.1 \u001b[m\u001b[msy,\u001b[m\u001b[m\u001b[1m  0.0 \u001b[m\u001b[mni,\u001b[m\u001b[m\u001b[1m 99.5 \u001b[m\u001b[mid,\u001b[m\u001b[m\u001b[1m  0.0 \u001b[m\u001b[mwa,\u001b[m\u001b[m\u001b[1m  0.0 \u001b[m\u001b[mhi,\u001b[m\u001b[m\u001b[1m  0.0 \u001b[m\u001b[msi,\u001b[m\u001b[m\u001b[1m  0.0 \u001b[m\u001b[mst\u001b[m\u001b[m\u001b[m\u001b[m\u001b[K\n",
      "MiB Mem :\u001b[m\u001b[m\u001b[1m   4683.0 \u001b[m\u001b[mtotal,\u001b[m\u001b[m\u001b[1m   2091.8 \u001b[m\u001b[mfree,\u001b[m\u001b[m\u001b[1m   1209.0 \u001b[m\u001b[mused,\u001b[m\u001b[m\u001b[1m   1382.1 \u001b[m\u001b[mbuff/cache\u001b[m\u001b[m\u001b[m\u001b[m\u001b[K\n",
      "MiB Swap:\u001b[m\u001b[m\u001b[1m   2048.0 \u001b[m\u001b[mtotal,\u001b[m\u001b[m\u001b[1m   2048.0 \u001b[m\u001b[mfree,\u001b[m\u001b[m\u001b[1m      0.0 \u001b[m\u001b[mused.\u001b[m\u001b[m\u001b[1m   2872.8 \u001b[m\u001b[mavail Mem \u001b[m\u001b[m\u001b[m\u001b[m\u001b[K\n",
      "\u001b[K\n",
      "\n",
      "\u001b[m 1048 yemane    20   0  746808  61124  14668 S   4.0   1.3   0:01.67 python     \u001b[m\u001b[m\u001b[K\n",
      "\u001b[m  840 yemane    20   0 1090036 150064  40580 S   1.3   3.1   0:41.61 node       \u001b[m\u001b[m\u001b[K\n",
      "\u001b[m  772 yemane    20   0  924888  62804  33012 S   0.7   1.3   0:06.02 node       \u001b[m\u001b[m\u001b[K\n",
      "\u001b[m    1 root      20   0     904    504    468 S   0.0   0.0   0:00.03 init       \u001b[m\u001b[m\u001b[K\n",
      "\u001b[m    7 root      20   0     896     80     20 S   0.0   0.0   0:00.00 init       \u001b[m\u001b[m\u001b[K\n",
      "\u001b[m    8 root      20   0     896     80     20 S   0.0   0.0   0:00.15 init       \u001b[m\u001b[m\u001b[K\n",
      "\u001b[m    9 yemane    20   0   10184   5328   3464 S   0.0   0.1   0:00.25 bash       \u001b[m\u001b[m\u001b[K\n",
      "\u001b[m  761 root      20   0     912     88     20 S   0.0   0.0   0:00.00 init       \u001b[m\u001b[m\u001b[K\n",
      "\u001b[m  762 root      20   0     912     96     20 S   0.0   0.0   0:00.00 init       \u001b[m\u001b[m\u001b[K\n",
      "\u001b[m  763 yemane    20   0    2608    604    532 S   0.0   0.0   0:00.00 sh         \u001b[m\u001b[m\u001b[K\n",
      "\u001b[m  764 yemane    20   0    2608   1636   1520 S   0.0   0.0   0:00.00 sh         \u001b[m\u001b[m\u001b[K\n",
      "\u001b[m  770 yemane    20   0    2608    536    468 S   0.0   0.0   0:00.00 sh         \u001b[m\u001b[m\u001b[K\n",
      "\u001b[m  783 yemane    20   0  613588  36576  27324 S   0.0   0.8   0:00.47 node       \u001b[m\u001b[m\u001b[K\n",
      "\u001b[m  806 root      20   0     912     88     20 S   0.0   0.0   0:00.00 init       \u001b[m\u001b[m\u001b[K\n",
      "\u001b[m  807 root      20   0     912     96     20 S   0.0   0.0   0:00.29 init       \u001b[m\u001b[m\u001b[K\n",
      "\u001b[m  809 yemane    20   0  584028  38532  27872 S   0.0   0.8   0:00.83 node       \u001b[m\u001b[m\u001b[K\n",
      "\u001b[m  818 root      20   0     912     88     20 S   0.0   0.0   0:00.00 init       \u001b[m\u001b[m\u001b[K\u001b[H\u001b[mtop - 23:37:31 up 1 day, 18:02,  0 users,  load average: 0.00, 0.00, 0.03\u001b[m\u001b[m\u001b[m\u001b[m\u001b[K\n",
      "\n",
      "%Cpu(s):\u001b[m\u001b[m\u001b[1m  0.3 \u001b[m\u001b[mus,\u001b[m\u001b[m\u001b[1m  0.2 \u001b[m\u001b[msy,\u001b[m\u001b[m\u001b[1m  0.0 \u001b[m\u001b[mni,\u001b[m\u001b[m\u001b[1m 99.5 \u001b[m\u001b[mid,\u001b[m\u001b[m\u001b[1m  0.0 \u001b[m\u001b[mwa,\u001b[m\u001b[m\u001b[1m  0.0 \u001b[m\u001b[mhi,\u001b[m\u001b[m\u001b[1m  0.0 \u001b[m\u001b[msi,\u001b[m\u001b[m\u001b[1m  0.0 \u001b[m\u001b[mst\u001b[m\u001b[m\u001b[m\u001b[m\u001b[K\n",
      "MiB Mem :\u001b[m\u001b[m\u001b[1m   4683.0 \u001b[m\u001b[mtotal,\u001b[m\u001b[m\u001b[1m   2090.3 \u001b[m\u001b[mfree,\u001b[m\u001b[m\u001b[1m   1210.5 \u001b[m\u001b[mused,\u001b[m\u001b[m\u001b[1m   1382.1 \u001b[m\u001b[mbuff/cache\u001b[m\u001b[m\u001b[m\u001b[m\u001b[K\n",
      "MiB Swap:\u001b[m\u001b[m\u001b[1m   2048.0 \u001b[m\u001b[mtotal,\u001b[m\u001b[m\u001b[1m   2048.0 \u001b[m\u001b[mfree,\u001b[m\u001b[m\u001b[1m      0.0 \u001b[m\u001b[mused.\u001b[m\u001b[m\u001b[1m   2871.3 \u001b[m\u001b[mavail Mem \u001b[m\u001b[m\u001b[m\u001b[m\u001b[K\n",
      "\u001b[K\n",
      "\n",
      "\u001b[m 1048 yemane    20   0  746808  61124  14668 S   3.7   1.3   0:01.78 python     \u001b[m\u001b[m\u001b[K\n",
      "\u001b[m  840 yemane    20   0 1090096 150076  40580 S   1.3   3.1   0:41.65 node       \u001b[m\u001b[m\u001b[K\n",
      "\u001b[m\u001b[1m 1103 yemane    20   0   10876   3720   3220 R   0.3   0.1   0:00.02 top        \u001b[m\u001b[m\u001b[K\n",
      "\n",
      "\n",
      "\n",
      "\n",
      "\n",
      "\n",
      "\n",
      "\n",
      "\n",
      "\u001b[m  772 yemane    20   0  924888  62804  33012 S   0.0   1.3   0:06.02 node       \u001b[m\u001b[m\u001b[K\n",
      "\u001b[m  783 yemane    20   0  613588  36576  27324 S   0.0   0.8   0:00.47 node       \u001b[m\u001b[m\u001b[K\n",
      "\u001b[m  806 root      20   0     912     88     20 S   0.0   0.0   0:00.00 init       \u001b[m\u001b[m\u001b[K\n",
      "\u001b[m  807 root      20   0     912     96     20 S   0.0   0.0   0:00.29 init       \u001b[m\u001b[m\u001b[K\n",
      "\u001b[m  809 yemane    20   0  584028  38532  27872 S   0.0   0.8   0:00.83 node       \u001b[m\u001b[m\u001b[K\u001b[H\u001b[mtop - 23:37:34 up 1 day, 18:02,  0 users,  load average: 0.00, 0.00, 0.03\u001b[m\u001b[m\u001b[m\u001b[m\u001b[K\n",
      "\n",
      "\n",
      "MiB Mem :\u001b[m\u001b[m\u001b[1m   4683.0 \u001b[m\u001b[mtotal,\u001b[m\u001b[m\u001b[1m   2090.5 \u001b[m\u001b[mfree,\u001b[m\u001b[m\u001b[1m   1210.3 \u001b[m\u001b[mused,\u001b[m\u001b[m\u001b[1m   1382.1 \u001b[m\u001b[mbuff/cache\u001b[m\u001b[m\u001b[m\u001b[m\u001b[K\n",
      "MiB Swap:\u001b[m\u001b[m\u001b[1m   2048.0 \u001b[m\u001b[mtotal,\u001b[m\u001b[m\u001b[1m   2048.0 \u001b[m\u001b[mfree,\u001b[m\u001b[m\u001b[1m      0.0 \u001b[m\u001b[mused.\u001b[m\u001b[m\u001b[1m   2871.6 \u001b[m\u001b[mavail Mem \u001b[m\u001b[m\u001b[m\u001b[m\u001b[K\n",
      "\u001b[K\n",
      "\n",
      "\u001b[m 1048 yemane    20   0  746808  61124  14668 S   3.7   1.3   0:01.89 python     \u001b[m\u001b[m\u001b[K\n",
      "\u001b[m  840 yemane    20   0 1089704 149832  40580 S   0.7   3.1   0:41.67 node       \u001b[m\u001b[m\u001b[K\n",
      "\u001b[m  772 yemane    20   0  924888  63064  33012 S   0.3   1.3   0:06.03 node       \u001b[m\u001b[m\u001b[K\n",
      "\n",
      "\n",
      "\n",
      "\n",
      "\n",
      "\n",
      "\n",
      "\n",
      "\n",
      "\u001b[m  783 yemane    20   0  613588  36576  27324 S   0.0   0.8   0:00.47 node       \u001b[m\u001b[m\u001b[K\n",
      "\u001b[m  806 root      20   0     912     88     20 S   0.0   0.0   0:00.00 init       \u001b[m\u001b[m\u001b[K\n",
      "\u001b[m  807 root      20   0     912     96     20 S   0.0   0.0   0:00.29 init       \u001b[m\u001b[m\u001b[K\n",
      "\u001b[m  809 yemane    20   0  584028  38532  27872 S   0.0   0.8   0:00.83 node       \u001b[m\u001b[m\u001b[K\n",
      "\u001b[m  818 root      20   0     912     88     20 S   0.0   0.0   0:00.00 init       \u001b[m\u001b[m\u001b[K\u001b[H\u001b[mtop - 23:37:37 up 1 day, 18:02,  0 users,  load average: 0.00, 0.00, 0.03\u001b[m\u001b[m\u001b[m\u001b[m\u001b[K\n",
      "\n",
      "%Cpu(s):\u001b[m\u001b[m\u001b[1m  0.4 \u001b[m\u001b[mus,\u001b[m\u001b[m\u001b[1m  0.1 \u001b[m\u001b[msy,\u001b[m\u001b[m\u001b[1m  0.0 \u001b[m\u001b[mni,\u001b[m\u001b[m\u001b[1m 99.5 \u001b[m\u001b[mid,\u001b[m\u001b[m\u001b[1m  0.0 \u001b[m\u001b[mwa,\u001b[m\u001b[m\u001b[1m  0.0 \u001b[m\u001b[mhi,\u001b[m\u001b[m\u001b[1m  0.0 \u001b[m\u001b[msi,\u001b[m\u001b[m\u001b[1m  0.0 \u001b[m\u001b[mst\u001b[m\u001b[m\u001b[m\u001b[m\u001b[K\n",
      "MiB Mem :\u001b[m\u001b[m\u001b[1m   4683.0 \u001b[m\u001b[mtotal,\u001b[m\u001b[m\u001b[1m   2090.1 \u001b[m\u001b[mfree,\u001b[m\u001b[m\u001b[1m   1210.7 \u001b[m\u001b[mused,\u001b[m\u001b[m\u001b[1m   1382.2 \u001b[m\u001b[mbuff/cache\u001b[m\u001b[m\u001b[m\u001b[m\u001b[K\n",
      "MiB Swap:\u001b[m\u001b[m\u001b[1m   2048.0 \u001b[m\u001b[mtotal,\u001b[m\u001b[m\u001b[1m   2048.0 \u001b[m\u001b[mfree,\u001b[m\u001b[m\u001b[1m      0.0 \u001b[m\u001b[mused.\u001b[m\u001b[m\u001b[1m   2871.1 \u001b[m\u001b[mavail Mem \u001b[m\u001b[m\u001b[m\u001b[m\u001b[K\n",
      "\u001b[K\n",
      "\n",
      "\u001b[m 1048 yemane    20   0  746808  61124  14668 S   4.0   1.3   0:02.01 python     \u001b[m\u001b[m\u001b[K\n",
      "\u001b[m  840 yemane    20   0 1089704 150092  40580 S   0.7   3.1   0:41.69 node       \u001b[m\u001b[m\u001b[K\n",
      "\u001b[m  809 yemane    20   0  584028  38532  27872 S   0.3   0.8   0:00.84 node       \u001b[m\u001b[m\u001b[K\n",
      "\u001b[m  820 yemane    20   0  583256  41704  28684 S   0.3   0.9   0:01.91 node       \u001b[m\u001b[m\u001b[K\n",
      "\u001b[m    1 root      20   0     904    504    468 S   0.0   0.0   0:00.03 init       \u001b[m\u001b[m\u001b[K\n",
      "\u001b[m    7 root      20   0     896     80     20 S   0.0   0.0   0:00.00 init       \u001b[m\u001b[m\u001b[K\n",
      "\u001b[m    8 root      20   0     896     80     20 S   0.0   0.0   0:00.15 init       \u001b[m\u001b[m\u001b[K\n",
      "\u001b[m    9 yemane    20   0   10184   5328   3464 S   0.0   0.1   0:00.25 bash       \u001b[m\u001b[m\u001b[K\n",
      "\u001b[m  761 root      20   0     912     88     20 S   0.0   0.0   0:00.00 init       \u001b[m\u001b[m\u001b[K\n",
      "\u001b[m  762 root      20   0     912     96     20 S   0.0   0.0   0:00.00 init       \u001b[m\u001b[m\u001b[K\n",
      "\u001b[m  763 yemane    20   0    2608    604    532 S   0.0   0.0   0:00.00 sh         \u001b[m\u001b[m\u001b[K\n",
      "\u001b[m  764 yemane    20   0    2608   1636   1520 S   0.0   0.0   0:00.00 sh         \u001b[m\u001b[m\u001b[K\n",
      "\u001b[m  770 yemane    20   0    2608    536    468 S   0.0   0.0   0:00.00 sh         \u001b[m\u001b[m\u001b[K\n",
      "\u001b[m  772 yemane    20   0  924888  63064  33012 S   0.0   1.3   0:06.03 node       \u001b[m\u001b[m\u001b[K\n",
      "\u001b[m  783 yemane    20   0  613588  36576  27324 S   0.0   0.8   0:00.47 node       \u001b[m\u001b[m\u001b[K\n",
      "\u001b[m  806 root      20   0     912     88     20 S   0.0   0.0   0:00.00 init       \u001b[m\u001b[m\u001b[K\n",
      "\u001b[m  807 root      20   0     912     96     20 S   0.0   0.0   0:00.29 init       \u001b[m\u001b[m\u001b[K\u001b[?1l\u001b>\u001b[25;1H\n",
      "\u001b[K"
     ]
    }
   ],
   "source": [
    "!top"
   ]
  },
  {
   "cell_type": "code",
   "execution_count": null,
   "metadata": {},
   "outputs": [],
   "source": [
    "|Row| Field Meaning|\n",
    "|-|-|\n",
    "|1 |top This is the name of the program.|\n",
    "||14:59:20 This is the current time of day.|\n",
    "||up 6:30 This is called uptime. It is the amount of time since the  machine was last booted. In this example, the system has  been up for six and a half hours.|\n",
    "||2 users There are two users logged in.|\n",
    "||load average: Load average refers to the number of processes that are  waiting to run; that is, the number of processes that are in  a runnable state and are sharing the CPU. Three values are  shown, each for a different period of time. The first is the  average for the last 60 seconds, the next the previous 5 minutes, and finally the previous 15 minutes. Values less than 1.0 indicate that the machine is not busy.|\n",
    "|2| Tasks: This summarizes the number of processes and their various process states.|\n",
    "|3| Cpu(s): This row describes the character of the activities that the CPU is performing.|\n",
    "||0.7%us 0.7 percent of the CPU is being used for user processes. This  means processes outside the kernel.|\n",
    "||1.0%sy 1.0 percent of the CPU is being used for system (kernel) processes.|\n",
    "||0.0%ni 0.0 percent of the CPU is being used by “nice” (low-priority) processes.|\n",
    "||98.3%id 98.3 percent of the CPU is idle.|\n",
    "||0.0%wa 0.0 percent of the CPU is waiting for I/O.|\n",
    "|4| Mem: This shows how physical RAM is being used.|\n",
    "|5| Swap: This shows how swap space (virtual memory) is being used.|"
   ]
  },
  {
   "cell_type": "markdown",
   "metadata": {},
   "source": [
    "## Controlling Processes\n"
   ]
  },
  {
   "cell_type": "markdown",
   "metadata": {},
   "source": [
    "- Interrupting a Process\n",
    "    - ctrl-C.\n",
    "- Putting a Process in the Background\n",
    "    - To launch a program so that it is immediately placed in the background, we follow the command with an ampersand (&) character.\n",
    "- Returning a Process to the Foreground\n",
    "    - fg command followed by a percent sign and the job number\n",
    "- Stopping (Pausing) a Process\n",
    "    - ctrl-Z"
   ]
  },
  {
   "cell_type": "markdown",
   "metadata": {},
   "source": [
    "## Signals\n",
    "The kill command is used to “kill” processes.\n",
    "- use the kill command and specify the PID or jobspec of the process we want to terminate\n",
    "\n",
    "The kill command doesn’t exactly “kill” processes; rather, it sends them \n",
    "signals. Signals are one of several ways that the operating system communicates with programs. In the case of ctrl-C, a signal called INT (interrupt) is sent; with ctrl-Z, a signal called TSTP (terminal stop) is sent. Programs, in turn, “listen” for signals and may act upon \n",
    "them as they are received."
   ]
  },
  {
   "cell_type": "markdown",
   "metadata": {},
   "source": [
    "### Sending Signals to Multiple Processes with killall\n",
    "\n",
    " \n",
    "`killall [-u user] [-signal] name...`"
   ]
  },
  {
   "cell_type": "markdown",
   "metadata": {},
   "source": [
    "## Shutting Down the System\n",
    "The process of shutting down the system involves the orderly termination \n",
    "of all the processes on the system, as well as performing some vital housekeeping chores\n",
    "\n",
    "- halt\n",
    "- poweroff\n",
    "- reboot\n",
    "- shutdown\n",
    "\n",
    "With shutdown, can specify which of the actions to perform (halt, power down, or reboot) and provide a time delay to the shutdown event\n",
    "- `sudo shutdown -h now`"
   ]
  },
  {
   "cell_type": "markdown",
   "metadata": {},
   "source": [
    "## More Process-Related Commands\n",
    "\n",
    "|Command| Description|\n",
    "|-|-|\n",
    "|pstree| Outputs a process list arranged in a tree-like pattern showing the parentchild relationships between processes.|\n",
    "|vmstat| Outputs a snapshot of system resource usage including memory,swap, and disk I/O. To see a continuous display, follow the command with a time delay (in seconds) for updates. Here’s an example: vmstat 5. Terminate the output with ctrl-C.|\n",
    "|xload| A graphical program that draws a graph showing system load over time.|\n",
    "|tload| Similar to the xload program but draws the graph in the terminal. Terminate the output with ctrl-C|"
   ]
  },
  {
   "cell_type": "markdown",
   "metadata": {},
   "source": [
    "# Summing Up\n",
    "\n",
    "r, Linux relies primarily on command line \n",
    "tools for process management."
   ]
  }
 ],
 "metadata": {
  "interpreter": {
   "hash": "fbbcd2e6edcb24eb7238d003204e89dfec81969763d5f6010a55d994217de1a3"
  },
  "kernelspec": {
   "display_name": "Python 3.9.7 64-bit ('base': conda)",
   "language": "python",
   "name": "python3"
  },
  "language_info": {
   "codemirror_mode": {
    "name": "ipython",
    "version": 3
   },
   "file_extension": ".py",
   "mimetype": "text/x-python",
   "name": "python",
   "nbconvert_exporter": "python",
   "pygments_lexer": "ipython3",
   "version": "3.9.7"
  },
  "orig_nbformat": 4
 },
 "nbformat": 4,
 "nbformat_minor": 2
}
