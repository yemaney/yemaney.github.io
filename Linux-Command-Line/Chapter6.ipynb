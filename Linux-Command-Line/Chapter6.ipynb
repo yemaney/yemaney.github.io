{
 "cells": [
  {
   "cell_type": "markdown",
   "metadata": {},
   "source": [
    "# 6 Redirection\n",
    "\n",
    "I/O redirection\n",
    "- input / output redirection\n",
    "\n",
    "|Command| Action|\n",
    "|-|-|\n",
    "|cat| Concatenate files|\n",
    "|sort| Sort lines of text|\n",
    "|uniq| Report or omit repeated lines|\n",
    "|grep| Print lines matching a pattern|\n",
    "|wc| Print newline, word, and byte counts for each file|\n",
    "|head| Output the first part of a file|\n",
    "|tail| Output the last part of a file|\n",
    "|tee| Read from standard input and write to standard output and files|"
   ]
  },
  {
   "cell_type": "markdown",
   "metadata": {},
   "source": [
    "## Standard input, Output, and Error\n",
    "\n",
    "Program outputs generally fall into two categories\n",
    "- program results\n",
    "- status and errors\n",
    "\n",
    "Programs actually send their results to a special file called `standard output` and their status messages to `standard error`, linked to the screen not saved to disk file by default. \n",
    "\n",
    "Many programs take input from a facility called `standard input`, which is by default attached to the keyboard..\n",
    "\n",
    "I/O redirection allows us to changed where output goes and where input comes from"
   ]
  },
  {
   "cell_type": "markdown",
   "metadata": {},
   "source": [
    "## Redirecting Standard Output\n",
    "\n",
    "To redirect standard output use\n",
    "- output `>` filename "
   ]
  },
  {
   "cell_type": "code",
   "execution_count": 3,
   "metadata": {},
   "outputs": [],
   "source": [
    "!ls -l /usr/bin > ls-output.txt"
   ]
  },
  {
   "cell_type": "code",
   "execution_count": 4,
   "metadata": {},
   "outputs": [
    {
     "name": "stdout",
     "output_type": "stream",
     "text": [
      "-rwxrwxrwx 1 yemane yemane 81057 Nov 29 19:50 ls-output.txt\n"
     ]
    }
   ],
   "source": [
    "!ls -l ls-output.txt"
   ]
  },
  {
   "cell_type": "markdown",
   "metadata": {},
   "source": [
    "Try with a fake directory"
   ]
  },
  {
   "cell_type": "code",
   "execution_count": 5,
   "metadata": {},
   "outputs": [
    {
     "name": "stdout",
     "output_type": "stream",
     "text": [
      "ls: cannot access '/bin/usr': No such file or directory\n"
     ]
    }
   ],
   "source": [
    "!ls -l /bin/usr > ls-output.txt"
   ]
  },
  {
   "cell_type": "markdown",
   "metadata": {},
   "source": [
    "Now the file is zero length. The destination file is always rewritten from the beginning. Since the command had an error, which is sent to stderror (stdoutput), nothing is written to file."
   ]
  },
  {
   "cell_type": "code",
   "execution_count": 6,
   "metadata": {},
   "outputs": [
    {
     "name": "stdout",
     "output_type": "stream",
     "text": [
      "-rwxrwxrwx 1 yemane yemane 0 Nov 29 19:53 ls-output.txt\n"
     ]
    }
   ],
   "source": [
    "!ls -l ls-output.txt"
   ]
  },
  {
   "cell_type": "markdown",
   "metadata": {},
   "source": [
    "Truncate existing file or create an empty file"
   ]
  },
  {
   "cell_type": "code",
   "execution_count": 9,
   "metadata": {},
   "outputs": [],
   "source": [
    "!> ls-output.txt"
   ]
  },
  {
   "cell_type": "markdown",
   "metadata": {},
   "source": [
    "To append redirection output use\n",
    "- output `>>` filename "
   ]
  },
  {
   "cell_type": "code",
   "execution_count": 10,
   "metadata": {},
   "outputs": [],
   "source": [
    "!ls -l /usr/bin >> ls-output.txt\n",
    "!ls -l /usr/bin >> ls-output.txt\n",
    "!ls -l /usr/bin >> ls-output.txt"
   ]
  },
  {
   "cell_type": "markdown",
   "metadata": {},
   "source": [
    "We repeated the command three times, resulting in an output file \n",
    "three times as large"
   ]
  },
  {
   "cell_type": "code",
   "execution_count": 11,
   "metadata": {},
   "outputs": [
    {
     "name": "stdout",
     "output_type": "stream",
     "text": [
      "-rwxrwxrwx 1 yemane yemane 243171 Nov 29 19:59 ls-output.txt\n"
     ]
    }
   ],
   "source": [
    "!ls -l ls-output.txt"
   ]
  },
  {
   "cell_type": "markdown",
   "metadata": {},
   "source": [
    "## Redirecting Standard Error\n",
    "\n",
    "To redirect standard error, we must refer to its file descriptor. While we have referred to the first three of these file streams as standard input, output, and error, the shell references them internally as file descriptors 0, 1, and 2, respectively. The shell provides a notation for redirecting files using the file descriptor number. Because standard error is the same as file descriptor number 2, we can redirect standard error with this notation:"
   ]
  },
  {
   "cell_type": "markdown",
   "metadata": {},
   "source": [
    "The file descriptor 2 is placed immediately before the redirection operator"
   ]
  },
  {
   "cell_type": "code",
   "execution_count": 12,
   "metadata": {},
   "outputs": [],
   "source": [
    "!ls -l /bin/usr 2> ls-error.txt"
   ]
  },
  {
   "cell_type": "markdown",
   "metadata": {},
   "source": [
    "### Redirecting Standard Output and Standard Error to One File\n",
    "\n",
    "To do this, we must redirect both the standard output and standard error at the same time."
   ]
  },
  {
   "cell_type": "code",
   "execution_count": 14,
   "metadata": {},
   "outputs": [],
   "source": [
    "!ls -l /bin/usr &> ls-output.txt"
   ]
  },
  {
   "cell_type": "markdown",
   "metadata": {},
   "source": [
    "### Disposing of Unwanted Output\n",
    "\n",
    "The system provides a way to do this by redirecting output to a \n",
    "special file called `/dev/null`. This file is a system device often referred to as a bit bucket, which accepts input and does nothing with it. To suppress error messages from a command."
   ]
  },
  {
   "cell_type": "code",
   "execution_count": 15,
   "metadata": {},
   "outputs": [],
   "source": [
    "!ls -l /bin/usr 2> /dev/null"
   ]
  },
  {
   "cell_type": "markdown",
   "metadata": {},
   "source": [
    "## Redirecting Standard Input"
   ]
  },
  {
   "cell_type": "markdown",
   "metadata": {},
   "source": [
    "#### cat: Concatenate Files\n",
    "- Multiple files name as: \n",
    "    - movie.mpeg.001 movie.mpeg.002 ... movie.mpeg.099\n",
    "- Join them by\n",
    "    - cat movie.mpeg.0* > movie.mpeg\n",
    "    \n",
    "Because wildcards always expand in sorted order, the arguments will be \n",
    "arranged in the correct order."
   ]
  },
  {
   "cell_type": "markdown",
   "metadata": {},
   "source": [
    "In the absence of filename arguments, cat copies standard input to standard output, so we see our line of text repeated. We can use this behavior to create short text files. Let’s say we wanted to create a file called lazy_dog.txt containing the text in our example\n",
    "\n",
    "```sh\n",
    "$ cat > lazy_dog.txt\n",
    "$ The quick brown fox jumped over the lazy dog.\n",
    "$ ctrl-D\n",
    "```"
   ]
  },
  {
   "cell_type": "markdown",
   "metadata": {},
   "source": [
    "Using the `<` redirection operator, we change the source of standard input \n",
    "from the keyboard to the file lazy_dog.txt"
   ]
  },
  {
   "cell_type": "code",
   "execution_count": 1,
   "metadata": {},
   "outputs": [
    {
     "name": "stdout",
     "output_type": "stream",
     "text": [
      "The quick brown fox jumped over the lazy dog.\n"
     ]
    }
   ],
   "source": [
    "!cat < lazy_dog.txt"
   ]
  },
  {
   "cell_type": "markdown",
   "metadata": {},
   "source": [
    "## Pipelines\n",
    "\n",
    "The capability of commands to read data from standard input and send to \n",
    "standard output is utilized by a shell feature called pipelines. Using the pipe operator `|`, the standard output of one command can be piped into the standard input of another.\n",
    "\n",
    "```\n",
    "command1 | command2\n",
    "```"
   ]
  },
  {
   "cell_type": "markdown",
   "metadata": {},
   "source": [
    "### Filters\n",
    "\n",
    "It is possible to put several commands together into a pipeline. Frequently, the commands used this way are referred to as `filters`. Filters take input, change it somehow, and then output it. The first one we will try is `sort`."
   ]
  },
  {
   "cell_type": "markdown",
   "metadata": {},
   "source": [
    "list of all the executable programs in /bin and /usr/bin, put them in sorted order, and view the resulting list.\n",
    "\n",
    "Because we specified two directories (/bin and /usr/bin), the output of ls\n",
    "would have consisted of two sorted lists, one for each directory. By including sort in our pipeline, we changed the data to produce a single, sorted list."
   ]
  },
  {
   "cell_type": "code",
   "execution_count": null,
   "metadata": {},
   "outputs": [],
   "source": [
    "!ls /bin /usr/bin | sort | less"
   ]
  },
  {
   "cell_type": "markdown",
   "metadata": {},
   "source": [
    "### The difference between > and |\n",
    "\n",
    "Simply put, the redirection operator connects a command with a file, while the pipeline operator connects the output of one command with the input of a second command.\n",
    "\n",
    "```\n",
    "command1 > file1\n",
    "command1 | command2\n",
    "```"
   ]
  },
  {
   "cell_type": "markdown",
   "metadata": {},
   "source": [
    "#### Uniq: Report or Omit Repeated Lines\n",
    "\n",
    "The uniq command is often used in conjunction with sort. uniq accepts a \n",
    "sorted list of data from either standard input or a single filename argument (see the uniq man page for details) and, by default, removes any duplicates from the list. "
   ]
  },
  {
   "cell_type": "code",
   "execution_count": 2,
   "metadata": {},
   "outputs": [],
   "source": [
    "!ls /bin /usr/bin | sort | uniq > list.txt"
   ]
  },
  {
   "cell_type": "markdown",
   "metadata": {},
   "source": [
    "If we want to see the list of duplicates instead, we add the -d option"
   ]
  },
  {
   "cell_type": "code",
   "execution_count": 4,
   "metadata": {},
   "outputs": [],
   "source": [
    "!ls /bin /usr/bin | sort | uniq -d > list.txt"
   ]
  },
  {
   "cell_type": "markdown",
   "metadata": {},
   "source": [
    "#### wc: Print Line, Word, and Byte Counts\n",
    "\n",
    "The wc (word count) command is used to display the number of lines, words, and bytes contained in files."
   ]
  },
  {
   "cell_type": "code",
   "execution_count": 5,
   "metadata": {},
   "outputs": [
    {
     "name": "stdout",
     "output_type": "stream",
     "text": [
      " 1278  1278 13070 list.txt\n"
     ]
    }
   ],
   "source": [
    "!wc list.txt"
   ]
  },
  {
   "cell_type": "markdown",
   "metadata": {},
   "source": [
    "if executed without  command line arguments, wc accepts standard input. The -l option limits its output to report only lines. Adding it to a pipeline is a handy way to count things. "
   ]
  },
  {
   "cell_type": "code",
   "execution_count": 6,
   "metadata": {},
   "outputs": [
    {
     "name": "stdout",
     "output_type": "stream",
     "text": [
      "1281\n"
     ]
    }
   ],
   "source": [
    "!ls /bin /usr/bin | sort | uniq | wc -l"
   ]
  },
  {
   "cell_type": "markdown",
   "metadata": {},
   "source": [
    "#### grep: Print Lines Matching a Pattern\n",
    "grep is a powerful program used to find text patterns within files.\n",
    "\n",
    "```\n",
    "grep pattern filename\n",
    "```\n",
    "\n",
    "options\n",
    "- i :  causes grep to ignore case when performing the search\n",
    "- v :  tells grep to print only those lines that do not match the pattern"
   ]
  },
  {
   "cell_type": "code",
   "execution_count": 7,
   "metadata": {},
   "outputs": [
    {
     "name": "stdout",
     "output_type": "stream",
     "text": [
      "bunzip2\n",
      "bzip2\n",
      "bzip2recover\n",
      "funzip\n",
      "gpg-zip\n",
      "gunzip\n",
      "gzip\n",
      "preunzip\n",
      "prezip\n",
      "prezip-bin\n",
      "unzip\n",
      "unzipsfx\n",
      "zipdetails\n",
      "zipgrep\n",
      "zipinfo\n"
     ]
    }
   ],
   "source": [
    "!ls /bin /usr/bin | sort | uniq | grep zip"
   ]
  },
  {
   "cell_type": "markdown",
   "metadata": {},
   "source": [
    "#### head/tail: Print First/Last Part of Files\n",
    "\n",
    "By default, both commands print 10 lines of text, but this can be adjusted with the `-n` option"
   ]
  },
  {
   "cell_type": "code",
   "execution_count": 9,
   "metadata": {},
   "outputs": [
    {
     "name": "stdout",
     "output_type": "stream",
     "text": [
      "NF\n",
      "VGAuthService\n",
      "X\n",
      "X11\n",
      "Xephyr\n"
     ]
    }
   ],
   "source": [
    "!head -n 5 list.txt"
   ]
  },
  {
   "cell_type": "code",
   "execution_count": 10,
   "metadata": {},
   "outputs": [
    {
     "name": "stdout",
     "output_type": "stream",
     "text": [
      "zipgrep\n",
      "zipinfo\n",
      "zless\n",
      "zmore\n",
      "znew\n"
     ]
    }
   ],
   "source": [
    "!tail -n 5 list.txt"
   ]
  },
  {
   "cell_type": "code",
   "execution_count": 11,
   "metadata": {},
   "outputs": [
    {
     "name": "stdout",
     "output_type": "stream",
     "text": [
      "zipgrep\n",
      "zipinfo\n",
      "zless\n",
      "zmore\n",
      "znew\n"
     ]
    }
   ],
   "source": [
    "!ls /usr/bin | tail -n 5"
   ]
  },
  {
   "cell_type": "markdown",
   "metadata": {},
   "source": [
    "tail has an option that allows you to view files in real time"
   ]
  },
  {
   "cell_type": "code",
   "execution_count": 12,
   "metadata": {},
   "outputs": [
    {
     "name": "stdout",
     "output_type": "stream",
     "text": [
      "tail: cannot open '/var/log/messages' for reading: No such file or directory\n",
      "tail: no files remaining\n"
     ]
    }
   ],
   "source": [
    "!tail -f /var/log/messages"
   ]
  },
  {
   "cell_type": "markdown",
   "metadata": {},
   "source": [
    "#### tee: Read from Stdin and Output to Stdout and Files\n",
    "\n",
    "The tee program reads standard input and copies it to both standard output (allowing the data to continue down the pipeline) and to one or more files. This is useful for capturing a pipeline’s contents at an intermediate stage of processing. "
   ]
  },
  {
   "cell_type": "markdown",
   "metadata": {},
   "source": [
    "capture the entire directory listing to the file ls.txt before grep filters the pipeline’s contents"
   ]
  },
  {
   "cell_type": "code",
   "execution_count": 13,
   "metadata": {},
   "outputs": [
    {
     "name": "stdout",
     "output_type": "stream",
     "text": [
      "bunzip2\n",
      "bzip2\n",
      "bzip2recover\n",
      "funzip\n",
      "gpg-zip\n",
      "gunzip\n",
      "gzip\n",
      "preunzip\n",
      "prezip\n",
      "prezip-bin\n",
      "unzip\n",
      "unzipsfx\n",
      "zipdetails\n",
      "zipgrep\n",
      "zipinfo\n"
     ]
    }
   ],
   "source": [
    "!ls /usr/bin | tee ls.txt | grep zip"
   ]
  },
  {
   "cell_type": "markdown",
   "metadata": {},
   "source": [
    "# Summing Up\n",
    "\n",
    "There are many commands that make use of standard input and output, and almost all command line programs use standard error to display their informative messages"
   ]
  }
 ],
 "metadata": {
  "interpreter": {
   "hash": "fbbcd2e6edcb24eb7238d003204e89dfec81969763d5f6010a55d994217de1a3"
  },
  "kernelspec": {
   "display_name": "Python 3.9.7 64-bit ('base': conda)",
   "language": "python",
   "name": "python3"
  },
  "language_info": {
   "codemirror_mode": {
    "name": "ipython",
    "version": 3
   },
   "file_extension": ".py",
   "mimetype": "text/x-python",
   "name": "python",
   "nbconvert_exporter": "python",
   "pygments_lexer": "ipython3",
   "version": "3.9.7"
  },
  "orig_nbformat": 4
 },
 "nbformat": 4,
 "nbformat_minor": 2
}
