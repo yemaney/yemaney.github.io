{
 "cells": [
  {
   "cell_type": "markdown",
   "metadata": {},
   "source": [
    "# Design Patterns with First-Class Functions\n",
    "\n",
    "In particular, in the context of languages with first-class functions, Norvig suggests rethinking the `Strategy, Command, Template Method, and Visitor patterns`. The general idea is: `you can replace instances of some participant class in these patterns with simple functions`, reducing a lot of boilerplate code. In this chapter, we will refactor Strategy using function objects, and discuss a similar approach to simplifying the Command pattern."
   ]
  },
  {
   "cell_type": "markdown",
   "metadata": {},
   "source": [
    "## Case Study: Refactoring Strategy\n",
    "\n",
    "Strategy is a good example of a design pattern that can be simpler in Python if you leverage functions as first-class objects."
   ]
  },
  {
   "cell_type": "markdown",
   "metadata": {},
   "source": [
    "### Classic Strategy\n",
    "\n",
    "The Strategy pattern is summarized like this in Design Patterns:\n",
    "\n",
    "Define a family of algorithms, encapsulate each one, and make them interchangeable. Strategy lets the algorithm vary indepenently from clients that use it.\n",
    "\n",
    "---\n",
    "\n",
    "A clear example of Strategy pattern in the ecommerce domain is computing discounts to orders according to the attributes of the customer or inspection of the ordered items.\n",
    "\n",
    "Consider an online store with these discount rules:\n",
    "- Customers with 1,000 or more fidelity points get a global 5% discount per order\n",
    "- A 10% discount is applied to each line item with 20 or more units in the same order\n",
    "- Orders with at least 10  distinct items get a 7% global discount\n",
    "\n",
    "For brevity assume that only one discount can be applied to an order\n",
    "\n",
    "---\n",
    "\n",
    "Context:\n",
    "- Provides a service by `delegating some computation to interchangeable components that implement alternative algorithm`s. In ecommerce example, the context is an Order, which is configured to apply a promotional discount according to one of the several algorithsm\n",
    "\n",
    "Strategy:\n",
    "- The interface common to the components that implement the different algorithms. In our example, this role is played by an abstract class called Promotion\n",
    "\n",
    "Concrete Strategy\n",
    "- One of the concrete subclasses of Strategy. FidelityPromo, BulkPromo, and LargePromo are the three concrete strategies implemeneted.\n",
    "\n",
    "---\n",
    "In our example,\n",
    "before instantiating an order, the system would somehow select a promotional discount\n",
    "strategy and pass it to the Order constructor. The selection of the strategy is outside of\n",
    "the scope of the pattern."
   ]
  },
  {
   "cell_type": "code",
   "execution_count": 1,
   "metadata": {},
   "outputs": [],
   "source": [
    "from abc import ABC, abstractmethod\n",
    "from collections import namedtuple\n",
    "\n",
    "Customer = namedtuple('Customer', 'name fidelity')\n",
    "\n",
    "class LineItem:\n",
    "     \n",
    "     def __init__(self, product, quantity, price) -> None:\n",
    "         self.product = product\n",
    "         self.quantity = quantity\n",
    "         self.price = price\n",
    "         \n",
    "     def total(self):\n",
    "          return self.price * self.quantity\n",
    "     \n",
    "     \n",
    "class Order: # the context\n",
    "     \n",
    "     def __init__(self, customer: Customer, cart, promotion=None) -> None:\n",
    "          self.customer = customer\n",
    "          self.cart = list(cart)\n",
    "          self.promotion = promotion\n",
    "          \n",
    "     def total(self):\n",
    "          if not hasattr(self, '__total'):\n",
    "               self.__total = sum(item.total() for item in self.cart)\n",
    "          return self.__total\n",
    "          \n",
    "     def due(self):\n",
    "          if self.promotion is None:\n",
    "               discount = 0\n",
    "          else:\n",
    "               discount = self.promotion.discount(self)\n",
    "          return self.total() - discount\n",
    "     \n",
    "     def __repr__(self) -> str:\n",
    "         return f\"{self.customer.name}, {self.total():.2f}, {self.due():.2f}\"\n",
    "    \n",
    "\n",
    "class Promotion(ABC): # The Strategy: an abstract base class\n",
    "     \n",
    "     @abstractmethod\n",
    "     def discount(self, order: Order):\n",
    "          \"\"\"Return discount as a positive dollar amount\"\"\"\n",
    "          \n",
    "          \n",
    "class FidelityPromo(Promotion):\n",
    "     \"\"\"5% discount for each lineitem with 20 or more units\"\"\"\n",
    "     \n",
    "     def discount(self, order: Order):\n",
    "         return order.total() * 0.05 if order.customer.fidelity == 1000 else 0 \n",
    "    \n",
    "    \n",
    "class BulkItemPromo(Promotion):\n",
    "     \"\"\"10% discount for each lineitem with 20 or more units\"\"\"\n",
    "     \n",
    "     def discount(self, order: Order):\n",
    "          discount = 0\n",
    "          for item in order.cart:\n",
    "              if item.quantity >= 20:\n",
    "                   discount += item.total() * .1\n",
    "          return discount         \n",
    "          \n",
    "          \n",
    "class LargeOrderPromo(Promotion):\n",
    "     \"\"\"7% discount for orders with 10 or more distinct items\"\"\"\n",
    "     \n",
    "     def discount(self, order: Order):\n",
    "          distinct_items = {item.product for item in order.cart}\n",
    "          if len(distinct_items) >= 10:\n",
    "              return order.total() * 0.7\n",
    "          return 0\n"
   ]
  },
  {
   "cell_type": "code",
   "execution_count": 2,
   "metadata": {},
   "outputs": [],
   "source": [
    "joe = Customer('John Doe', 0)\n",
    "ann = Customer('Ann Smith', 1100)\n",
    "\n",
    "cart = [LineItem('banana', 4, .5), \n",
    "  LineItem('apple', 10, 1.5),\n",
    "  LineItem('watermellon', 5, 5.0)]"
   ]
  },
  {
   "cell_type": "code",
   "execution_count": 3,
   "metadata": {},
   "outputs": [
    {
     "name": "stdout",
     "output_type": "stream",
     "text": [
      "John Doe, 42.00, 42.00\n",
      "Ann Smith, 42.00, 42.00\n"
     ]
    }
   ],
   "source": [
    "print(Order(joe, cart, FidelityPromo()))\n",
    "print(Order(ann, cart, FidelityPromo()))"
   ]
  },
  {
   "cell_type": "code",
   "execution_count": 4,
   "metadata": {},
   "outputs": [
    {
     "data": {
      "text/plain": [
       "John Doe, 30.00, 28.50"
      ]
     },
     "execution_count": 4,
     "metadata": {},
     "output_type": "execute_result"
    }
   ],
   "source": [
    "banana_cart = [LineItem('banana', 30, .5), \n",
    "LineItem('apple', 10, 1.5)]\n",
    "Order(joe, banana_cart, BulkItemPromo()) "
   ]
  },
  {
   "cell_type": "code",
   "execution_count": 5,
   "metadata": {},
   "outputs": [
    {
     "data": {
      "text/plain": [
       "John Doe, 10.00, 3.00"
      ]
     },
     "execution_count": 5,
     "metadata": {},
     "output_type": "execute_result"
    }
   ],
   "source": [
    "long_order = [LineItem(str(item_code), 1, 1.0) \n",
    "for item_code in range(10)]\n",
    "Order(joe, long_order, LargeOrderPromo()) \n"
   ]
  },
  {
   "cell_type": "code",
   "execution_count": 6,
   "metadata": {},
   "outputs": [
    {
     "data": {
      "text/plain": [
       "John Doe, 42.00, 42.00"
      ]
     },
     "execution_count": 6,
     "metadata": {},
     "output_type": "execute_result"
    }
   ],
   "source": [
    "Order(joe, cart, LargeOrderPromo())"
   ]
  },
  {
   "cell_type": "markdown",
   "metadata": {},
   "source": [
    "### Function-Oriented Strategy\n",
    "\n",
    "Each concrete strategy aboce is a class with a single method, discount. Furthermore, the strategy instances have no state (no instance attributes). You could say they look a lot like plain functions.\n",
    "\n",
    "Refactoring below:"
   ]
  },
  {
   "cell_type": "code",
   "execution_count": 7,
   "metadata": {},
   "outputs": [],
   "source": [
    "from collections import namedtuple\n",
    "\n",
    "Customer = namedtuple('Customer', 'name fidelity')\n",
    "\n",
    "class LineItem:\n",
    "    def __init__(self, product, quantity, price):\n",
    "        self.product = product\n",
    "        self.quantity = quantity\n",
    "        self.price = price\n",
    "        \n",
    "    def total(self):\n",
    "        return self.price * self.quantity\n",
    "    \n",
    "    \n",
    "class Order: # the Context\n",
    "    def __init__(self, customer, cart, promotion=None):\n",
    "        self.customer = customer\n",
    "        self.cart = list(cart)\n",
    "        self.promotion = promotion\n",
    "        \n",
    "    def total(self):\n",
    "        if not hasattr(self, '__total'):\n",
    "            self.__total = sum(item.total() for item in self.cart)\n",
    "        return self.__total\n",
    "    \n",
    "    def due(self):\n",
    "        if self.promotion is None:\n",
    "            discount = 0\n",
    "        else:\n",
    "            discount = self.promotion(self) \n",
    "        return self.total() - discount\n",
    "    \n",
    "    def __repr__(self) -> str:\n",
    "         return f\"{self.customer.name}, {self.total():.2f}, {self.due():.2f}\"\n",
    "    \n",
    "\n",
    "def fidelity_promo(order): \n",
    " \"\"\"5% discount for customers with 1000 or more fidelity points\"\"\"\n",
    " return order.total() * .05 if order.customer.fidelity >= 1000 else 0\n",
    "\n",
    "\n",
    "def bulk_item_promo(order):\n",
    " \"\"\"10% discount for each LineItem with 20 or more units\"\"\"\n",
    " discount = 0\n",
    " for item in order.cart:\n",
    "     if item.quantity >= 20:\n",
    "         discount += item.total() * .1\n",
    " return discount\n",
    "\n",
    "\n",
    "def large_order_promo(order):\n",
    "    \"\"\"7% discount for orders with 10 or more distinct items\"\"\"\n",
    "    distinct_items = {item.product for item in order.cart}\n",
    "    if len(distinct_items) >= 10:\n",
    "        return order.total() * .07\n",
    "    return 0"
   ]
  },
  {
   "cell_type": "code",
   "execution_count": 8,
   "metadata": {},
   "outputs": [
    {
     "data": {
      "text/plain": [
       "John Doe, 42.00, 42.00"
      ]
     },
     "execution_count": 8,
     "metadata": {},
     "output_type": "execute_result"
    }
   ],
   "source": [
    "Order(joe, cart, fidelity_promo)"
   ]
  },
  {
   "cell_type": "markdown",
   "metadata": {},
   "source": [
    "“Strategy objectsoften make good flyweights.” A definition of the Flyweight in another part of that workstates: “A flyweight is a shared object that can be used in multiple contexts simultaneously.” The sharing is `recommended to reduce the cost of creating a new concrete strategy object when the same strategy is applied over and over again`\n",
    "\n",
    "\n",
    "Often concrete strategies have no internal state; they only deal with data from the context. If that is the case, then by all means use plain old functions"
   ]
  },
  {
   "cell_type": "markdown",
   "metadata": {},
   "source": [
    "### Choosing The Best Strategy: Simple Aproach"
   ]
  },
  {
   "cell_type": "code",
   "execution_count": 9,
   "metadata": {},
   "outputs": [],
   "source": [
    "promos = [fidelity_promo, bulk_item_promo, large_order_promo] \n",
    "\n",
    "def best_promo(order): \n",
    "    \"\"\"Select best discount available\"\"\"\n",
    "    return max(promo(order) for promo in promos)"
   ]
  },
  {
   "cell_type": "code",
   "execution_count": 10,
   "metadata": {},
   "outputs": [
    {
     "data": {
      "text/plain": [
       "John Doe, 10.00, 9.30"
      ]
     },
     "execution_count": 10,
     "metadata": {},
     "output_type": "execute_result"
    }
   ],
   "source": [
    "Order(joe, long_order, best_promo)"
   ]
  },
  {
   "cell_type": "markdown",
   "metadata": {},
   "source": [
    "1. promos: a list of strategies implemented as functions\n",
    "2. best_promo:  takes an instance of Order as arguement, as do the other *_promo functions\n",
    "3. Using a generator expression, we apply each of the functions from promos to the order and return the maximum discount computed"
   ]
  },
  {
   "cell_type": "markdown",
   "metadata": {},
   "source": [
    "### Finding Strategies in a Module\n",
    "\n",
    "Modules in python are also first-class objects, and the standard library provides several functions to handle them. The built in `globals` is desricribed as the following in python.\n",
    "\n",
    "gloabls()\n",
    "- Return a dictionary representing the current global symbol table. This is always the dictionary of the current module ( inside a function or method, this is the module where it is defined, not the module from which it is called)\n",
    "\n",
    "Below is a somewhat a hackish way of using  globals to help beest_promo automaticcally find the other  available *_promo functions"
   ]
  },
  {
   "cell_type": "code",
   "execution_count": 14,
   "metadata": {},
   "outputs": [],
   "source": [
    "promos = [globals()[name] for name in globals()\n",
    "          if name.endswith('_promo')\n",
    "          and name != 'best_promo']\n",
    "\n",
    "def best_promo(order):\n",
    "    \"\"\"Select best discount available\n",
    "    \"\"\"\n",
    "    return max(promo(order) for promo in promos)"
   ]
  },
  {
   "cell_type": "markdown",
   "metadata": {},
   "source": [
    "1. Iterate over each name in the dictionary returned by globals()\n",
    "2. Select only names that end with the _promo suffix\n",
    "3. Filter out the best_promo itself, to avoud an infinite recursion\n",
    "4. No changes inside best_promo\n",
    "\n",
    "Another way of collecting the available promotions would be to create a module and put all the strategy functions there, except for best_promo.\n"
   ]
  },
  {
   "cell_type": "markdown",
   "metadata": {},
   "source": [
    "The function inspect.getmembers returns the attributes of an object—in this case, the promotions module—optionally filtered by a predicate (a boolean function). We use inspect.isfunction to get only the functions from the module.\n",
    "\n",
    "Works regardless of the names given to the functions; all that matters is\n",
    "that the promotions module contains only functions that calculate discounts given orders. Of course, this is an implicit assumption of the code. If someone were to create a function with a different signature in the promotions module, then best_promo wouldbreak while trying to apply it to an order"
   ]
  },
  {
   "cell_type": "code",
   "execution_count": null,
   "metadata": {},
   "outputs": [],
   "source": [
    "# The promos list is built by introspection of a new promotions module\n",
    "import inspect\n",
    "\n",
    "promos = [func for name, func in\n",
    " inspect.getmembers(promotions, inspect.isfunction)]\n",
    "\n",
    "def best_promo(order):\n",
    " \"\"\"Select best discount available\n",
    " \"\"\"\n",
    " return max(promo(order) for promo in promos)"
   ]
  },
  {
   "cell_type": "markdown",
   "metadata": {},
   "source": [
    "## Command\n",
    "\n",
    "The goal of Command is to decouple an object that invokes an operation (the Invoker) from the provider object that implements it (the Receiver). In the example from Design Patterns, each invoker is a menu item in a graphical application, and the receivers are the document being edited or the application itself.\n",
    "\n",
    "The idea is to put a Command object between the two, implementing an interface with a single method, execute, which calls some method in the Receiver to perform the desired operation. That way the Invoker does not need to know the interface of the Receiver, and different receivers can be adapted through different Command subclasses. The Invoker is configured with a concrete command and calls its execute method to operate it.\n",
    "\n",
    "Quoting from Gamma et al., “Commands are an object-oriented replacement for callbacks.” The question is: do we need an object-oriented replacement for callbacks? Sometimes yes, but not always.\n",
    "\n",
    "Instead of giving the Invoker a Command instance, we can simply give it a function. Instead of calling command.execute(), the Invoker can just call command(). The Macro Command can be implemented with a class implementing `__call__`. Instances of Macro Command would be callables, each holding a list of functions for future invocation"
   ]
  },
  {
   "cell_type": "code",
   "execution_count": 18,
   "metadata": {},
   "outputs": [],
   "source": [
    "class MacroCommand:\n",
    "    \n",
    "    def __init__(self, commands) -> None:\n",
    "        self.commands = list(commands)\n",
    "        \n",
    "    def __call__(self) -> None:\n",
    "        for command in self.commands:\n",
    "            command()"
   ]
  },
  {
   "cell_type": "markdown",
   "metadata": {},
   "source": [
    "1. Building a list from the commands arguements ensures that it is iterable and keeps a local copy of the comman references in each MacroCommand instance\n",
    "2. When an instance of MacroCommand is invoked, each command in self.commands is called ins equence\n",
    "\n",
    "More advanced uses of the Command pattern- to support undo, for example- may require more than a simple callback function. "
   ]
  },
  {
   "cell_type": "markdown",
   "metadata": {},
   "source": [
    "# Chapter Summary\n",
    "\n",
    "In many cases, functions or callable objects provide a more natural way of implementing callbacks in Python than mimicking the Strategy or the Command patterns as described by Gamma, Helm, Johnson, and Vlissides. The refactoring of Strategy and the discussionof Command in this chapter are examples of a more general insight: sometimes you may encounter a design pattern or an API that requires that components implement an\n",
    "interface with a single method, and that method has a generic-sounding name such as “execute”, “run”, or “doIt”. Such patterns or APIs often can be implemented with less boilerplate code in Python using first-class functions or other callables. The message from Peter Norvig’s design patterns slides is that the Command and Strategy patterns—along with Template Method and Visitor—can be made simpler or even “invisible” with first-class functions, at least for some applications of these patterns."
   ]
  }
 ],
 "metadata": {
  "interpreter": {
   "hash": "d58cd66771b86600ed196df3ae1631a1e510be967e3cfbdfd84098f57ff410b8"
  },
  "kernelspec": {
   "display_name": "Python 3.8.11 64-bit ('base': conda)",
   "name": "python3"
  },
  "language_info": {
   "codemirror_mode": {
    "name": "ipython",
    "version": 3
   },
   "file_extension": ".py",
   "mimetype": "text/x-python",
   "name": "python",
   "nbconvert_exporter": "python",
   "pygments_lexer": "ipython3",
   "version": "3.8.11"
  },
  "orig_nbformat": 4
 },
 "nbformat": 4,
 "nbformat_minor": 2
}
