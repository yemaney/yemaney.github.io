{
 "cells": [
  {
   "cell_type": "markdown",
   "metadata": {},
   "source": [
    "# Overview of Built-In Sequences\n",
    "\n",
    "The standard library offers a rich selection of sequence types implemented in C:\n",
    "\n",
    "Container sequences\n",
    "- list, tuple, and collections.deque can hold items of different types.\n",
    "\n",
    "Flat sequences\n",
    "- str, bytes, bytearray, memoryview, and array.array hold items of one type.\n",
    "\n",
    "*Container sequences hold references to the objects they contain*, which may be of any\n",
    "type, while *flat sequences physically store the value of each item* within its own memory\n",
    "space, and not as distinct objects. Thus, flat sequences are more compact, but they are\n",
    "limited to holding primitive values like characters, bytes, and numbers.\n",
    "Another way of grouping sequence types is by mutability:\n",
    "\n",
    "Mutable sequences\n",
    "- list, bytearray, array.array, collections.deque, and memoryview\n",
    "\n",
    "Immutable sequences\n",
    "- tuple, str, and bytes"
   ]
  },
  {
   "cell_type": "markdown",
   "metadata": {},
   "source": [
    "# List Comprehensions and Generator Expressions\n",
    "\n",
    "A quick way to build a sequence is using a list comprehension (if the target is a list)\n",
    "or a generator expression (for all other kinds of sequences)."
   ]
  },
  {
   "cell_type": "markdown",
   "metadata": {},
   "source": [
    "## List Comprehensions and Readability"
   ]
  },
  {
   "cell_type": "code",
   "execution_count": 1,
   "metadata": {},
   "outputs": [
    {
     "data": {
      "text/plain": [
       "[36, 162, 163, 165, 8364, 164]"
      ]
     },
     "execution_count": 1,
     "metadata": {},
     "output_type": "execute_result"
    }
   ],
   "source": [
    "symbols = '$¢£¥€¤'\n",
    "codes = []\n",
    "for symbol in symbols:\n",
    "    codes.append(ord(symbol))\n",
    "codes"
   ]
  },
  {
   "cell_type": "code",
   "execution_count": 2,
   "metadata": {},
   "outputs": [
    {
     "data": {
      "text/plain": [
       "[36, 162, 163, 165, 8364, 164]"
      ]
     },
     "execution_count": 2,
     "metadata": {},
     "output_type": "execute_result"
    }
   ],
   "source": [
    "symbols = '$¢£¥€¤'\n",
    "codes = [ord(symbol) for symbol in symbols]\n",
    "codes "
   ]
  },
  {
   "cell_type": "markdown",
   "metadata": {},
   "source": [
    "## Listcomps Versus map and filter\n",
    "\n",
    "Listcomps do everything the map and filter functions do, without the contortions of\n",
    "the functionally challenged Python lambda"
   ]
  },
  {
   "cell_type": "code",
   "execution_count": 3,
   "metadata": {},
   "outputs": [
    {
     "data": {
      "text/plain": [
       "[162, 163, 165, 8364, 164]"
      ]
     },
     "execution_count": 3,
     "metadata": {},
     "output_type": "execute_result"
    }
   ],
   "source": [
    "symbols = '$¢£¥€¤'\n",
    "beyond_ascii = [ord(s) for s in symbols if ord(s) > 127]\n",
    "beyond_ascii"
   ]
  },
  {
   "cell_type": "code",
   "execution_count": 4,
   "metadata": {},
   "outputs": [
    {
     "data": {
      "text/plain": [
       "[162, 163, 165, 8364, 164]"
      ]
     },
     "execution_count": 4,
     "metadata": {},
     "output_type": "execute_result"
    }
   ],
   "source": [
    "beyond_ascii = list(filter(lambda c: c > 127, map(ord, symbols)))\n",
    "beyond_ascii"
   ]
  },
  {
   "cell_type": "markdown",
   "metadata": {},
   "source": [
    "## Cartesian Products\n",
    "\n",
    "Listcomps can generate lists from the Cartesian product of two or more iterables. The\n",
    "items that make up the cartesian product are tuples made from items from every input\n",
    "iterable. The resulting list has a length equal to the lengths of the input iterables mul‐\n",
    "tiplied."
   ]
  },
  {
   "cell_type": "code",
   "execution_count": 5,
   "metadata": {},
   "outputs": [
    {
     "data": {
      "text/plain": [
       "[('black', 'S'),\n",
       " ('black', 'M'),\n",
       " ('black', 'L'),\n",
       " ('white', 'S'),\n",
       " ('white', 'M'),\n",
       " ('white', 'L')]"
      ]
     },
     "execution_count": 5,
     "metadata": {},
     "output_type": "execute_result"
    }
   ],
   "source": [
    "colors = ['black', 'white']\n",
    "sizes = ['S', 'M', 'L']\n",
    "tshirts = [(color, size) for color in colors for size in sizes]\n",
    "tshirts"
   ]
  },
  {
   "cell_type": "markdown",
   "metadata": {},
   "source": [
    "## Generator Expressions\n",
    "\n",
    "To initialize tuples, arrays, and other types of sequences, you could also start from a\n",
    "listcomp, but a genexp saves memory because it yields items one by one using the iterator\n",
    "protocol instead of building a whole list just to feed another constructor.\n",
    "Genexps use the same syntax as listcomps, but are enclosed in parentheses rather than\n",
    "brackets"
   ]
  },
  {
   "cell_type": "code",
   "execution_count": 6,
   "metadata": {},
   "outputs": [
    {
     "data": {
      "text/plain": [
       "(36, 162, 163, 165, 8364, 164)"
      ]
     },
     "execution_count": 6,
     "metadata": {},
     "output_type": "execute_result"
    }
   ],
   "source": [
    "symbols = '$¢£¥€¤'\n",
    "# If the generator expression is the single argument in a function call,\n",
    "# there is no need to duplicate the enclosing parentheses\n",
    "tuple(ord(symbol) for symbol in symbols)"
   ]
  },
  {
   "cell_type": "code",
   "execution_count": 8,
   "metadata": {},
   "outputs": [
    {
     "data": {
      "text/plain": [
       "array('I', [36, 162, 163, 165, 8364, 164])"
      ]
     },
     "execution_count": 8,
     "metadata": {},
     "output_type": "execute_result"
    }
   ],
   "source": [
    "import array\n",
    "# The array constructor takes two arguments, so the parentheses around \n",
    "# the generator expression are mandatory. The first argument of the \n",
    "# array constructor defines the storage type used for the numbers in the array\n",
    "array.array('I', (ord(symbol) for symbol in symbols))"
   ]
  },
  {
   "cell_type": "markdown",
   "metadata": {},
   "source": [
    "uses a **genexp** with a Cartesian product to print out a roster of T-shirts of\n",
    "two colors in three sizes. **In contrast with Example 2-4, here the six-item list of T-shirts is never built in memory: the generator expression feeds the for loop producing one item at a time.** If the two lists used in the Cartesian product had 1,000 items each, using\n",
    "a generator expression would save the expense of building a list with a million items\n",
    "just to feed the for loop.\n",
    "\n",
    "\n",
    "- The generator expression yields items one by one; a list with all six T-shirt\n",
    "variations is never produced in this example"
   ]
  },
  {
   "cell_type": "code",
   "execution_count": 9,
   "metadata": {},
   "outputs": [
    {
     "name": "stdout",
     "output_type": "stream",
     "text": [
      "black S\n",
      "black M\n",
      "black L\n",
      "white S\n",
      "white M\n",
      "white L\n"
     ]
    }
   ],
   "source": [
    "colors = ['black', 'white']\n",
    "sizes = ['S', 'M', 'L']\n",
    "for tshirt in ('%s %s' % (c, s) for c in colors for s in sizes):\n",
    "    print(tshirt)"
   ]
  },
  {
   "cell_type": "markdown",
   "metadata": {},
   "source": [
    "# Tuples Are Not Just Immutable Lists\n",
    "Tuples do double duty: they can be used as immutable lists and also\n",
    "as records with no field names. This use is sometimes overlooked, so we will start with\n",
    "that"
   ]
  },
  {
   "cell_type": "markdown",
   "metadata": {},
   "source": [
    "## Tuples as Records\n",
    "\n",
    "Tuples hold records: each item in the tuple holds the data for one field and the position\n",
    "of the item gives its meaning.\n",
    "If you think of a tuple just as an immutable list, the quantity and the order of the items\n",
    "may or may not be important, depending on the context. But when using a tuple as a\n",
    "collection of fields, the number of items is often fixed and their order is always vital.\n"
   ]
  },
  {
   "cell_type": "code",
   "execution_count": 10,
   "metadata": {},
   "outputs": [
    {
     "name": "stdout",
     "output_type": "stream",
     "text": [
      "BRA/CE342567\n",
      "ESP/XDA205856\n",
      "USA/31195855\n",
      "USA\n",
      "BRA\n",
      "ESP\n"
     ]
    }
   ],
   "source": [
    "lax_coordinates = (33.9425, -118.408056)\n",
    "city, year, pop, chg, area = ('Tokyo', 2003, 32450, 0.66, 8014) \n",
    "traveler_ids = [('USA', '31195855'), ('BRA', 'CE342567'), \n",
    "                ('ESP', 'XDA205856')]\n",
    "\n",
    "# The % formatting operator understands tuples and treats each item as a separate field.\n",
    "for passport in sorted(traveler_ids): \n",
    "    print('%s/%s' % passport) \n",
    "    \n",
    "for country, _ in traveler_ids: \n",
    "    print(country)"
   ]
  },
  {
   "cell_type": "markdown",
   "metadata": {},
   "source": [
    "## Tuple Unpacking\n",
    "\n",
    "Tuple unpacking works with any iterable object. The only require‐\n",
    "ment is that the iterable yields exactly one item per variable in the\n",
    "receiving tuple, unless you use a star (*) to capture excess items"
   ]
  },
  {
   "cell_type": "code",
   "execution_count": 1,
   "metadata": {},
   "outputs": [
    {
     "data": {
      "text/plain": [
       "33.9425"
      ]
     },
     "execution_count": 1,
     "metadata": {},
     "output_type": "execute_result"
    }
   ],
   "source": [
    "# The most visible form of tuple unpacking is parallel assignment; that is, assigning items\n",
    "# from an iterable to a tuple of variables, as you can see in this example:\n",
    "lax_coordinates = (33.9425, -118.408056)\n",
    "latitude, longitude = lax_coordinates # tuple unpacking\n",
    "latitude"
   ]
  },
  {
   "cell_type": "markdown",
   "metadata": {},
   "source": [
    "### **Using * to grab excess items**\n",
    "\n",
    "Defining function parameters with *args to grab arbitrary excess arguments is a classic\n",
    "Python feature"
   ]
  },
  {
   "cell_type": "code",
   "execution_count": 13,
   "metadata": {},
   "outputs": [
    {
     "data": {
      "text/plain": [
       "(0, 1, [2, 3, 4])"
      ]
     },
     "execution_count": 13,
     "metadata": {},
     "output_type": "execute_result"
    }
   ],
   "source": [
    "a, b, *rest = range(5)\n",
    "a, b, rest\n",
    "\n",
    "# In the context of parallel assignment, the * prefix can be applied to exactly one variable,\n",
    "# but it can appear in any position"
   ]
  },
  {
   "cell_type": "markdown",
   "metadata": {},
   "source": [
    "## Nested Tuple Unpacking"
   ]
  },
  {
   "cell_type": "markdown",
   "metadata": {},
   "source": [
    "Each tuple holds a record with four fields, the last of which is a coordinate pair.\n",
    "By assigning the last field to a tuple, we unpack the coordinates.\n",
    "if longitude <= 0: limits the output to metropolitan areas in the Western\n",
    "hemisphere"
   ]
  },
  {
   "cell_type": "code",
   "execution_count": 14,
   "metadata": {},
   "outputs": [
    {
     "name": "stdout",
     "output_type": "stream",
     "text": [
      "                |   lat.    |   long.  \n",
      "Mexico City     |   19.4333 |  -99.1333\n",
      "New York-Newark |   40.8086 |  -74.0204\n",
      "Sao Paulo       |  -23.5478 |  -46.6358\n"
     ]
    }
   ],
   "source": [
    "metro_areas = [\n",
    " ('Tokyo', 'JP', 36.933, (35.689722, 139.691667)), # \n",
    " ('Delhi NCR', 'IN', 21.935, (28.613889, 77.208889)),\n",
    " ('Mexico City', 'MX', 20.142, (19.433333, -99.133333)),\n",
    " ('New York-Newark', 'US', 20.104, (40.808611, -74.020386)),\n",
    " ('Sao Paulo', 'BR', 19.649, (-23.547778, -46.635833)),\n",
    "]\n",
    "\n",
    "print('{:15} | {:^9} | {:^9}'.format('', 'lat.', 'long.'))\n",
    "fmt = '{:15} | {:9.4f} | {:9.4f}'\n",
    "for name, cc, pop, (latitude, longitude) in metro_areas: # \n",
    " if longitude <= 0: # \n",
    "  print(fmt.format(name, latitude, longitude))"
   ]
  },
  {
   "cell_type": "markdown",
   "metadata": {},
   "source": [
    "## Named Tuples\n",
    "\n",
    "The collections.namedtuple function is a factory that produces subclasses of tuple\n",
    "enhanced with field names and a class name—which helps debugging."
   ]
  },
  {
   "cell_type": "code",
   "execution_count": 15,
   "metadata": {},
   "outputs": [
    {
     "data": {
      "text/plain": [
       "City(name='Tokyo', country='JP', population=36.933, coordinates=(35.689722, 139.691667))"
      ]
     },
     "execution_count": 15,
     "metadata": {},
     "output_type": "execute_result"
    }
   ],
   "source": [
    "from collections import namedtuple\n",
    "City = namedtuple('City', 'name country population coordinates')\n",
    "tokyo = City('Tokyo', 'JP', 36.933, (35.689722, 139.691667))\n",
    "tokyo"
   ]
  },
  {
   "cell_type": "code",
   "execution_count": 17,
   "metadata": {},
   "outputs": [
    {
     "data": {
      "text/plain": [
       "36.933"
      ]
     },
     "execution_count": 17,
     "metadata": {},
     "output_type": "execute_result"
    }
   ],
   "source": [
    "tokyo.population"
   ]
  },
  {
   "cell_type": "markdown",
   "metadata": {},
   "source": [
    "1. Two parameters are required to create a named tuple: a class name and a list of\n",
    "field names, which can be given as an iterable of strings or as a single space\u0002delimited string.\n",
    "2. Data must be passed as positional arguments to the constructor (in contrast, the\n",
    "tuple constructor takes a single iterable).\n",
    "3. You can access the fields by name or position"
   ]
  },
  {
   "cell_type": "code",
   "execution_count": 18,
   "metadata": {},
   "outputs": [
    {
     "data": {
      "text/plain": [
       "('name', 'country', 'population', 'coordinates')"
      ]
     },
     "execution_count": 18,
     "metadata": {},
     "output_type": "execute_result"
    }
   ],
   "source": [
    "City._fields"
   ]
  },
  {
   "cell_type": "code",
   "execution_count": 19,
   "metadata": {},
   "outputs": [
    {
     "data": {
      "text/plain": [
       "{'name': 'Delhi NCR',\n",
       " 'country': 'IN',\n",
       " 'population': 21.935,\n",
       " 'coordinates': LatLong(lat=28.613889, long=77.208889)}"
      ]
     },
     "execution_count": 19,
     "metadata": {},
     "output_type": "execute_result"
    }
   ],
   "source": [
    "LatLong = namedtuple('LatLong', 'lat long')\n",
    "delhi_data = ('Delhi NCR', 'IN', 21.935, LatLong(28.613889, 77.208889))\n",
    "delhi = City._make(delhi_data)\n",
    "delhi._asdict()"
   ]
  },
  {
   "cell_type": "code",
   "execution_count": 20,
   "metadata": {},
   "outputs": [
    {
     "name": "stdout",
     "output_type": "stream",
     "text": [
      "name: Delhi NCR\n",
      "country: IN\n",
      "population: 21.935\n",
      "coordinates: LatLong(lat=28.613889, long=77.208889)\n"
     ]
    }
   ],
   "source": [
    "for key, value in delhi._asdict().items():\n",
    "    print(key + ':', value)"
   ]
  },
  {
   "cell_type": "markdown",
   "metadata": {},
   "source": [
    "1. _fields is a tuple with the field names of the class.\n",
    "2. _make() allow you to instantiate a named tuple from an iterable; City(*del\n",
    "hi_data) would do the same.\n",
    "3. _asdict() returns a collections.OrderedDict built from the named tuple\n",
    "instance. That can be used to produce a nice display of city data"
   ]
  },
  {
   "cell_type": "markdown",
   "metadata": {},
   "source": [
    "## Tuples as Immutable Lists\n",
    "\n",
    "When using a tuple as an immutable variation of list, it helps to know how similar\n",
    "they actually are. As you can see in Table 2-1, tuple supports all list methods that do\n",
    "not involve adding or removing items, with one exception—tuple lacks the __re\n",
    "versed__ method. However, that is just for optimization; reversed(my_tuple) works\n",
    "without it."
   ]
  },
  {
   "cell_type": "markdown",
   "metadata": {},
   "source": [
    "##"
   ]
  },
  {
   "cell_type": "markdown",
   "metadata": {},
   "source": [
    "## Why Slices and Range Exclude the Last Item\n",
    "\n",
    "The Pythonic convention of excluding the last item in slices and ranges works well with\n",
    "the zero-based indexing used in Python, C, and many other languages. Some convenient\n",
    "features of the convention are:\n",
    "- It’s easy to see the length of a slice or range when only the stop position is given:\n",
    "range(3) and my_list[:3] both produce three items.\n",
    "- It’s easy to compute the length of a slice or range when start and stop are given: just\n",
    "subtract stop - start.\n",
    "- It’s easy to split a sequence in two parts at any index x, without overlapping: simply\n",
    "get my_list[:x] and my_list[x:]"
   ]
  },
  {
   "cell_type": "code",
   "execution_count": 22,
   "metadata": {},
   "outputs": [
    {
     "data": {
      "text/plain": [
       "[10, 20]"
      ]
     },
     "execution_count": 22,
     "metadata": {},
     "output_type": "execute_result"
    }
   ],
   "source": [
    "l = [10, 20, 30, 40, 50, 60]\n",
    "l[:2]"
   ]
  },
  {
   "cell_type": "code",
   "execution_count": 23,
   "metadata": {},
   "outputs": [
    {
     "data": {
      "text/plain": [
       "[30, 40, 50, 60]"
      ]
     },
     "execution_count": 23,
     "metadata": {},
     "output_type": "execute_result"
    }
   ],
   "source": [
    "l[2:]"
   ]
  },
  {
   "cell_type": "markdown",
   "metadata": {},
   "source": [
    "## Slice Objects\n",
    "This is no secret, but worth repeating just in case: s[a:b:c] can be used to specify a\n",
    "stride or step c, causing the resulting slice to skip items. The stride can also be negative,\n",
    "returning items in reverse."
   ]
  },
  {
   "cell_type": "code",
   "execution_count": 24,
   "metadata": {},
   "outputs": [
    {
     "data": {
      "text/plain": [
       "'bye'"
      ]
     },
     "execution_count": 24,
     "metadata": {},
     "output_type": "execute_result"
    }
   ],
   "source": [
    "s = 'bicycle'\n",
    "s[::3]"
   ]
  },
  {
   "cell_type": "code",
   "execution_count": 25,
   "metadata": {},
   "outputs": [
    {
     "data": {
      "text/plain": [
       "'elcycib'"
      ]
     },
     "execution_count": 25,
     "metadata": {},
     "output_type": "execute_result"
    }
   ],
   "source": [
    "s[::-1]"
   ]
  },
  {
   "cell_type": "code",
   "execution_count": 26,
   "metadata": {},
   "outputs": [
    {
     "data": {
      "text/plain": [
       "'eccb'"
      ]
     },
     "execution_count": 26,
     "metadata": {},
     "output_type": "execute_result"
    }
   ],
   "source": [
    "s[::-2]"
   ]
  },
  {
   "cell_type": "code",
   "execution_count": 34,
   "metadata": {},
   "outputs": [
    {
     "name": "stdout",
     "output_type": "stream",
     "text": [
      "17.50  3  $5 imoroni PiBrella                 $\n",
      "$4.95  2  $9 mm Tactile Switch x20             \n",
      "$28.00  1  $ anavise Jr. - PV-201              \n",
      "$34.95  1  $ iTFT Mini Kit 320x240             \n",
      " \n"
     ]
    }
   ],
   "source": [
    "invoice = \"\"\"\n",
    "0.....6.................................40........52...55........\n",
    "1909 Pimoroni PiBrella                 $17.50  3  $52.50\n",
    "1489 6mm Tactile Switch x20             $4.95  2  $9.90\n",
    "1510 Panavise Jr. - PV-201              $28.00  1  $28.00\n",
    "1601 PiTFT Mini Kit 320x240             $34.95  1  $34.95\n",
    "\"\"\"\n",
    "SKU = slice(0, 6)\n",
    "DESCRIPTION = slice(6, 40)\n",
    "UNIT_PRICE = slice(40, 52)\n",
    "QUANTITY = slice(52, 55)\n",
    "ITEM_TOTAL = slice(55, None)\n",
    "line_items = invoice.split('\\n')[2:]\n",
    "for item in line_items:\n",
    "    print(item[UNIT_PRICE], item[DESCRIPTION])"
   ]
  },
  {
   "cell_type": "markdown",
   "metadata": {},
   "source": [
    "## Multidimensional Slicing and Ellipsis\n",
    "\n",
    "The [] operator can also take multiple indexes or slices separated by commas. This is\n",
    "used, for instance, in the external NumPy package, where items of a two-dimensional\n",
    "numpy.ndarray can be fetched using the syntax a[i, j] and a two-dimensional slice\n",
    "obtained with an expression like a[m:n, k:l]\n",
    "\n",
    "The **__getitem__** and **__setitem__** special methods that handle\n",
    "the [] operator simply receive the indices in a[i, j] as a tuple. In other words, to\n",
    "evaluate a[i, j], Python calls **a.__getitem__((i, j))**\n",
    "\n",
    "The built-in sequence types in Python are one-dimensional, so they support only one\n",
    "index or slice, and not a tuple of them\n",
    "\n",
    "The ellipsis—written with three full stops **(...)** and not … (Unicode U+2026)—is rec‐\n",
    "ognized as a token by the Python parser. It is an alias to the Ellipsis object, the single\n",
    "instance of the ellipsis class.2 As such, it can be passed as an argument to functions\n",
    "and as part of a slice specification, as in f(a, ..., z) or a[i:...]. NumPy uses ...\n",
    "as a shortcut when slicing arrays of many dimensions; for example, if x is a four\u0002dimensional array, x[i, ...] is a shortcut for x[i, :, :, :,]. "
   ]
  },
  {
   "cell_type": "markdown",
   "metadata": {},
   "source": [
    "## Assigning to Slices\n",
    "\n",
    "Mutable sequences can be grafted, excised, and otherwise modified in place using slice\n",
    "notation on the left side of an assignment statement or as the target of a del statement.\n",
    "The next few examples give an idea of the power of this notation"
   ]
  },
  {
   "cell_type": "code",
   "execution_count": 42,
   "metadata": {},
   "outputs": [
    {
     "data": {
      "text/plain": [
       "[0, 1, 2, 3, 4, 5, 6, 7, 8, 9]"
      ]
     },
     "execution_count": 42,
     "metadata": {},
     "output_type": "execute_result"
    }
   ],
   "source": [
    "l = list(range(10))\n",
    "l"
   ]
  },
  {
   "cell_type": "code",
   "execution_count": 43,
   "metadata": {},
   "outputs": [
    {
     "data": {
      "text/plain": [
       "[0, 1, 20, 30, 5, 6, 7, 8, 9]"
      ]
     },
     "execution_count": 43,
     "metadata": {},
     "output_type": "execute_result"
    }
   ],
   "source": [
    "l[2:5] = [20, 30]\n",
    "l"
   ]
  },
  {
   "cell_type": "code",
   "execution_count": 44,
   "metadata": {},
   "outputs": [
    {
     "data": {
      "text/plain": [
       "[0, 1, 20, 30, 5, 8, 9]"
      ]
     },
     "execution_count": 44,
     "metadata": {},
     "output_type": "execute_result"
    }
   ],
   "source": [
    "del l[5:7]\n",
    "l"
   ]
  },
  {
   "cell_type": "code",
   "execution_count": 45,
   "metadata": {},
   "outputs": [
    {
     "data": {
      "text/plain": [
       "[0, 1, 20, 11, 5, 22, 9]"
      ]
     },
     "execution_count": 45,
     "metadata": {},
     "output_type": "execute_result"
    }
   ],
   "source": [
    "l[3::2] = [11, 22]\n",
    "l"
   ]
  },
  {
   "cell_type": "code",
   "execution_count": 46,
   "metadata": {},
   "outputs": [
    {
     "ename": "TypeError",
     "evalue": "can only assign an iterable",
     "output_type": "error",
     "traceback": [
      "\u001b[1;31m---------------------------------------------------------------------------\u001b[0m",
      "\u001b[1;31mTypeError\u001b[0m                                 Traceback (most recent call last)",
      "\u001b[1;32m<ipython-input-46-da8b10461280>\u001b[0m in \u001b[0;36m<module>\u001b[1;34m\u001b[0m\n\u001b[1;32m----> 1\u001b[1;33m \u001b[0ml\u001b[0m\u001b[1;33m[\u001b[0m\u001b[1;36m2\u001b[0m\u001b[1;33m:\u001b[0m\u001b[1;36m5\u001b[0m\u001b[1;33m]\u001b[0m \u001b[1;33m=\u001b[0m \u001b[1;36m100\u001b[0m\u001b[1;33m\u001b[0m\u001b[1;33m\u001b[0m\u001b[0m\n\u001b[0m",
      "\u001b[1;31mTypeError\u001b[0m: can only assign an iterable"
     ]
    }
   ],
   "source": [
    "l[2:5] = 100"
   ]
  },
  {
   "cell_type": "markdown",
   "metadata": {},
   "source": [
    "When the target of the assignment is a slice, the right side must be an iterable\n",
    "object, even if it has just one item"
   ]
  },
  {
   "cell_type": "markdown",
   "metadata": {},
   "source": [
    "# Slicing\n",
    "\n",
    "A common feature of list, tuple, str, and all sequence types in Python is the support\n",
    "of slicing operations, which are more powerful than most people realize"
   ]
  },
  {
   "cell_type": "markdown",
   "metadata": {},
   "source": [
    "# Using + and * with Sequences\n",
    "\n",
    "Python programmers expect that sequences support + and *. Usually both operands of\n",
    "+ must be of the same sequence type, and neither of them is modified but a new sequence\n",
    "of the same type is created as result of the concatenation.\n",
    "To concatenate multiple copies of the same sequence, multiply it by an integer. Again,\n",
    "a new sequence is created"
   ]
  },
  {
   "cell_type": "code",
   "execution_count": 48,
   "metadata": {},
   "outputs": [
    {
     "data": {
      "text/plain": [
       "[1, 2, 3, 1, 2, 3, 1, 2, 3, 1, 2, 3, 1, 2, 3]"
      ]
     },
     "execution_count": 48,
     "metadata": {},
     "output_type": "execute_result"
    }
   ],
   "source": [
    "l = [1,2,3]\n",
    "l * 5"
   ]
  },
  {
   "cell_type": "markdown",
   "metadata": {},
   "source": [
    "## Building Lists of Lists\n",
    "\n",
    "Sometimes we need to initialize a list with a certain number of nested lists—for example,\n",
    "to distribute students in a list of teams or to represent squares on a game board. The\n",
    "best way of doing so is with a list comprehension"
   ]
  },
  {
   "cell_type": "code",
   "execution_count": 1,
   "metadata": {},
   "outputs": [
    {
     "data": {
      "text/plain": [
       "[['_', '_', '_'], ['_', '_', '_'], ['_', '_', '_']]"
      ]
     },
     "execution_count": 1,
     "metadata": {},
     "output_type": "execute_result"
    }
   ],
   "source": [
    "board = [['_'] * 3 for i in range(3)]\n",
    "board"
   ]
  },
  {
   "cell_type": "code",
   "execution_count": 2,
   "metadata": {},
   "outputs": [
    {
     "data": {
      "text/plain": [
       "[['_', '_', '_'], ['_', '_', 'X'], ['_', '_', '_']]"
      ]
     },
     "execution_count": 2,
     "metadata": {},
     "output_type": "execute_result"
    }
   ],
   "source": [
    "board[1][2] = 'X' \n",
    "board"
   ]
  },
  {
   "cell_type": "code",
   "execution_count": 3,
   "metadata": {},
   "outputs": [
    {
     "data": {
      "text/plain": [
       "[['_', '_', 'O'], ['_', '_', 'O'], ['_', '_', 'O']]"
      ]
     },
     "execution_count": 3,
     "metadata": {},
     "output_type": "execute_result"
    }
   ],
   "source": [
    "weird_board = [['_'] * 3] * 3\n",
    "weird_board[1][2] = 'O'\n",
    "weird_board"
   ]
  },
  {
   "cell_type": "markdown",
   "metadata": {},
   "source": [
    "- The outer list is made of three references to the same inner list. While it is\n",
    "unchanged, all seems right.\n",
    "- Placing a mark in row 1, column 2, reveals that all rows are aliases referring to\n",
    "the same object"
   ]
  },
  {
   "cell_type": "code",
   "execution_count": null,
   "metadata": {},
   "outputs": [],
   "source": [
    "# The problem with Example 2-13 is that, in essence, it behaves like this code:\n",
    "row = ['_'] * 3\n",
    "board = []\n",
    "for i in range(3):\n",
    "    board.append(row)\n",
    "# The same row is appended three times to board\n",
    "\n",
    "# On the other hand, the list comprehension from Example 2-12 is equivalent to this code:\n",
    "board []\n",
    "for i in range(3):\n",
    "    row = ['_'] * 3\n",
    "    board.append(row)\n",
    "    \n",
    "# Each iteration builds a new row and appends it to board\n"
   ]
  },
  {
   "cell_type": "markdown",
   "metadata": {},
   "source": [
    "# Augmented Assignment with Sequences\n",
    "\n",
    "The augmented assignment operators **+=** and ***=** behave very differently depending on\n",
    "the first operand. To simplify the discussion, we will focus on augmented addition first\n",
    "(+=), but the concepts also apply to *= and to other augmented assignment operators.\n",
    "**The special method that makes += work is `__iadd__` (for “in-place addition”)**. However,\n",
    "**if `__iadd__` is not implemented, Python falls back to calling `__add__`.** Consider this\n",
    "simple expression\n",
    "\n",
    ">>> a += b\n",
    "\n",
    "If a implements `__iadd__`, that will be called. In the case of mutable sequences (e.g.,\n",
    "list, bytearray, array.array), a will be changed in place (i.e., the effect will be similar\n",
    "to a.extend(b)). However, when a does not implement `__iadd__`, the expression a +=\n",
    "b has the same effect as a = a + b: the expression a + b is evaluated first, producing a\n",
    "new object, which is then bound to a. **In other words, the identity of the object bound\n",
    "to a may or may not change, depending on the availability of `__iadd__`**.\n",
    "In general, for mutable sequences, it is a good bet that `__iadd__` is implemented and\n",
    "that += happens in place. For immutable sequences, clearly there is no way for that to\n",
    "happen.\n",
    "What I just wrote about += also applies to *=, which is implemented via `__imul__`. The\n",
    "`__iadd__` and `__imul__` special methods are discussed in Chapter 13.\n",
    "Here is a demonstration of *= with a mutable sequence and then an immutable one"
   ]
  },
  {
   "cell_type": "code",
   "execution_count": 4,
   "metadata": {},
   "outputs": [
    {
     "data": {
      "text/plain": [
       "2308150552576"
      ]
     },
     "execution_count": 4,
     "metadata": {},
     "output_type": "execute_result"
    }
   ],
   "source": [
    "l = [1, 2, 3]\n",
    "id(l)"
   ]
  },
  {
   "cell_type": "code",
   "execution_count": 5,
   "metadata": {},
   "outputs": [
    {
     "data": {
      "text/plain": [
       "[1, 2, 3, 1, 2, 3]"
      ]
     },
     "execution_count": 5,
     "metadata": {},
     "output_type": "execute_result"
    }
   ],
   "source": [
    "l *= 2\n",
    "l"
   ]
  },
  {
   "cell_type": "code",
   "execution_count": 6,
   "metadata": {},
   "outputs": [
    {
     "data": {
      "text/plain": [
       "2308150552576"
      ]
     },
     "execution_count": 6,
     "metadata": {},
     "output_type": "execute_result"
    }
   ],
   "source": [
    "id(l)"
   ]
  },
  {
   "cell_type": "code",
   "execution_count": 7,
   "metadata": {},
   "outputs": [
    {
     "data": {
      "text/plain": [
       "2308162732864"
      ]
     },
     "execution_count": 7,
     "metadata": {},
     "output_type": "execute_result"
    }
   ],
   "source": [
    "t = (1, 2, 3)\n",
    "id(t)"
   ]
  },
  {
   "cell_type": "code",
   "execution_count": 8,
   "metadata": {},
   "outputs": [
    {
     "data": {
      "text/plain": [
       "2308146360720"
      ]
     },
     "execution_count": 8,
     "metadata": {},
     "output_type": "execute_result"
    }
   ],
   "source": [
    "t *= 3\n",
    "id(t)"
   ]
  },
  {
   "cell_type": "markdown",
   "metadata": {},
   "source": [
    "- After multiplication, the list is the same object, with new items appended\n",
    "- After multiplication, a new tuple is created\n",
    "\n",
    "Repeated concatenation of immutable sequences is inefficient, because instead of just\n",
    "appending new items, the interpreter has to copy the whole target sequence to create a\n",
    "new one with the new items concatenated.3"
   ]
  },
  {
   "cell_type": "markdown",
   "metadata": {},
   "source": [
    "## A += Assignment Puzzler"
   ]
  },
  {
   "cell_type": "code",
   "execution_count": 9,
   "metadata": {},
   "outputs": [
    {
     "ename": "TypeError",
     "evalue": "'tuple' object does not support item assignment",
     "output_type": "error",
     "traceback": [
      "\u001b[1;31m---------------------------------------------------------------------------\u001b[0m",
      "\u001b[1;31mTypeError\u001b[0m                                 Traceback (most recent call last)",
      "\u001b[1;32m<ipython-input-9-97269d2c248b>\u001b[0m in \u001b[0;36m<module>\u001b[1;34m\u001b[0m\n\u001b[0;32m      1\u001b[0m \u001b[0mt\u001b[0m \u001b[1;33m=\u001b[0m \u001b[1;33m(\u001b[0m\u001b[1;36m1\u001b[0m\u001b[1;33m,\u001b[0m \u001b[1;36m2\u001b[0m\u001b[1;33m,\u001b[0m \u001b[1;33m[\u001b[0m\u001b[1;36m30\u001b[0m\u001b[1;33m,\u001b[0m \u001b[1;36m40\u001b[0m\u001b[1;33m]\u001b[0m\u001b[1;33m)\u001b[0m\u001b[1;33m\u001b[0m\u001b[1;33m\u001b[0m\u001b[0m\n\u001b[1;32m----> 2\u001b[1;33m \u001b[0mt\u001b[0m\u001b[1;33m[\u001b[0m\u001b[1;36m2\u001b[0m\u001b[1;33m]\u001b[0m \u001b[1;33m+=\u001b[0m \u001b[1;33m[\u001b[0m\u001b[1;36m50\u001b[0m\u001b[1;33m,\u001b[0m \u001b[1;36m60\u001b[0m\u001b[1;33m]\u001b[0m\u001b[1;33m\u001b[0m\u001b[1;33m\u001b[0m\u001b[0m\n\u001b[0m",
      "\u001b[1;31mTypeError\u001b[0m: 'tuple' object does not support item assignment"
     ]
    }
   ],
   "source": [
    "t = (1, 2, [30, 40])\n",
    "t[2] += [50, 60]"
   ]
  },
  {
   "cell_type": "code",
   "execution_count": 10,
   "metadata": {},
   "outputs": [
    {
     "data": {
      "text/plain": [
       "(1, 2, [30, 40, 50, 60])"
      ]
     },
     "execution_count": 10,
     "metadata": {},
     "output_type": "execute_result"
    }
   ],
   "source": [
    "t"
   ]
  },
  {
   "cell_type": "code",
   "execution_count": 11,
   "metadata": {},
   "outputs": [
    {
     "ename": "NameError",
     "evalue": "name 'dis' is not defined",
     "output_type": "error",
     "traceback": [
      "\u001b[1;31m---------------------------------------------------------------------------\u001b[0m",
      "\u001b[1;31mNameError\u001b[0m                                 Traceback (most recent call last)",
      "\u001b[1;32m<ipython-input-11-6f24089e471c>\u001b[0m in \u001b[0;36m<module>\u001b[1;34m\u001b[0m\n\u001b[1;32m----> 1\u001b[1;33m \u001b[0mdis\u001b[0m\u001b[1;33m.\u001b[0m\u001b[0mdis\u001b[0m\u001b[1;33m[\u001b[0m\u001b[1;34m's[a] += b'\u001b[0m\u001b[1;33m]\u001b[0m\u001b[1;33m\u001b[0m\u001b[1;33m\u001b[0m\u001b[0m\n\u001b[0m",
      "\u001b[1;31mNameError\u001b[0m: name 'dis' is not defined"
     ]
    }
   ],
   "source": [
    "dis.dis['s[a] += b']"
   ]
  },
  {
   "cell_type": "markdown",
   "metadata": {},
   "source": [
    "This example is quite a corner case—in 15 years of using Python, I have never seen this\n",
    "strange behavior actually bite somebody.\n",
    "I take three lessons from this:\n",
    "- Putting mutable items in tuples is not a good idea\n",
    "- Augmented assignment is not an atomic operation—we just saw it throwing an\n",
    "exception after doing part of its job.\n",
    "- Inspecting Python bytecode is not too difficult, and is often helpful to see what is\n",
    "going on under the hood."
   ]
  },
  {
   "cell_type": "markdown",
   "metadata": {},
   "source": [
    "# list.sort and the sorted Built-in Function\n",
    "\n",
    "The **list.sort method sorts a list in place—that is, without making a copy. It returns None to remind us that it changes the target object, and does not create a new list**. This is an important **Python API convention: functions or methods that change an object in place should return Non**e to make it clear to the caller that the object itself was changed, and no new object was created. The same behavior can be seen, for example, in the\n",
    "random.shuffle function\n",
    "\n",
    "\n",
    "In contrast, the **built-in function sorted creates a new list** and returns it. In fact, it\n",
    "accepts any iterable object as an argument, including immutable sequences and gener‐\n",
    "ators\n",
    "\n",
    "Both list.sort and sorted take two optional, keyword-only arguments:\n",
    "- reverse\n",
    "    - If True, the items are returned in descending order (i.e., by reversing the comparison\n",
    "of the items). The default is False.\n",
    "- key\n",
    "    - A one-argument function that will be applied to each item to produce its sorting\n",
    "    key. For example, when sorting a list of strings, key=str.lower can be used to\n",
    "    perform a case-insensitive sort, and key=len will sort the strings by character\n",
    "    length. The default is the identity function (i.e., the items themselves are compared)"
   ]
  },
  {
   "cell_type": "code",
   "execution_count": 12,
   "metadata": {},
   "outputs": [
    {
     "data": {
      "text/plain": [
       "['apple', 'banana', 'grape', 'raspberry']"
      ]
     },
     "execution_count": 12,
     "metadata": {},
     "output_type": "execute_result"
    }
   ],
   "source": [
    "fruits = ['grape', 'raspberry', 'apple', 'banana']\n",
    "sorted(fruits)"
   ]
  },
  {
   "cell_type": "code",
   "execution_count": 13,
   "metadata": {},
   "outputs": [
    {
     "data": {
      "text/plain": [
       "['grape', 'raspberry', 'apple', 'banana']"
      ]
     },
     "execution_count": 13,
     "metadata": {},
     "output_type": "execute_result"
    }
   ],
   "source": [
    "fruits"
   ]
  },
  {
   "cell_type": "code",
   "execution_count": 14,
   "metadata": {},
   "outputs": [
    {
     "data": {
      "text/plain": [
       "['raspberry', 'grape', 'banana', 'apple']"
      ]
     },
     "execution_count": 14,
     "metadata": {},
     "output_type": "execute_result"
    }
   ],
   "source": [
    "sorted(fruits, reverse=True)"
   ]
  },
  {
   "cell_type": "code",
   "execution_count": 15,
   "metadata": {},
   "outputs": [
    {
     "data": {
      "text/plain": [
       "['grape', 'apple', 'banana', 'raspberry']"
      ]
     },
     "execution_count": 15,
     "metadata": {},
     "output_type": "execute_result"
    }
   ],
   "source": [
    "sorted(fruits, key=len)"
   ]
  },
  {
   "cell_type": "code",
   "execution_count": 18,
   "metadata": {},
   "outputs": [
    {
     "data": {
      "text/plain": [
       "['apple', 'banana', 'grape', 'raspberry']"
      ]
     },
     "execution_count": 18,
     "metadata": {},
     "output_type": "execute_result"
    }
   ],
   "source": [
    "fruits.sort()\n",
    "fruits"
   ]
  },
  {
   "cell_type": "markdown",
   "metadata": {},
   "source": [
    "# Managing Ordered Sequences with bisect\n",
    "\n",
    "The bisect module offers two main functions—bisect and insort—that use the bi‐\n",
    "nary search algorithm to quickly find and insert items in any sorted sequence."
   ]
  },
  {
   "cell_type": "markdown",
   "metadata": {},
   "source": [
    "## Searching with bisect\n",
    "\n",
    "bisect(haystack, needle) does a binary search for needle in haystack—which must be a sorted sequence—to **locate the position where needle can be inserted while main‐taining haystack in ascending order. In other words, all items appearing up to that position are less than or equal to needle.** You could use the result of bisect(haystack, needle) as the index argument to haystack.insert(index, needle)—however, using insort does both steps, and is faster."
   ]
  },
  {
   "cell_type": "code",
   "execution_count": 19,
   "metadata": {},
   "outputs": [
    {
     "name": "stdout",
     "output_type": "stream",
     "text": [
      "DEMO: bisect_right\n",
      "haystack ->  1  4  5  6  8 12 15 20 21 23 23 26 29 30\n",
      "31 @ 14  | | | | | | | | | | | | | |31\n",
      "30 @ 14  | | | | | | | | | | | | | |30\n",
      "29 @ 13  | | | | | | | | | | | | |29\n",
      "23 @ 11  | | | | | | | | | | |23\n",
      "22 @  9  | | | | | | | | |22\n",
      "10 @  5  | | | | |10\n",
      " 8 @  5  | | | | |8 \n",
      " 5 @  3  | | |5 \n",
      " 2 @  1  |2 \n",
      " 1 @  1  |1 \n",
      " 0 @  0 0 \n"
     ]
    }
   ],
   "source": [
    "import bisect\n",
    "import sys\n",
    "\n",
    "HAYSTACK = [1, 4, 5, 6, 8, 12, 15, 20, 21, 23, 23, 26, 29, 30]\n",
    "NEEDLES = [0, 1, 2, 5, 8, 10, 22, 23, 29, 30, 31]\n",
    "\n",
    "ROW_FMT = '{0:2d} @ {1:2d} {2}{0:<2d}'\n",
    "\n",
    "def demo(bisect_fn):\n",
    "    for needle in reversed(NEEDLES):\n",
    "        position = bisect_fn(HAYSTACK, needle) # Use the chosen bisect function to get the insertion point\n",
    "        offset = position * ' |' # Build a pattern of vertical bars proportional to the offset\n",
    "        print(ROW_FMT.format(needle, position, offset)) # Print formatted row showing needle and insertion point\n",
    "    \n",
    "if sys.argv[-1] == 'left': # Choose the bisect function to use according to the last command-lineargument\n",
    "    bisect_fn = bisect.bisect_left\n",
    "else:\n",
    "    bisect_fn = bisect.bisect\n",
    "    \n",
    "print('DEMO:', bisect_fn.__name__)  # Print header with name of function selected\n",
    "print('haystack ->', ' '.join('%2d' % n for n in HAYSTACK))\n",
    "demo(bisect_fn)"
   ]
  },
  {
   "cell_type": "markdown",
   "metadata": {},
   "source": [
    "The behavior of bisect can be fine-tuned in two ways. First, a pair of optional arguments, **lo and hi**, allow narrowing the region in the sequence to be searched when inserting. lo defaults to 0 and hi to the len() of the sequence.\n",
    "\n",
    "Second, bisect is actually an alias for **bisect_right**, and there is a sister function called\n",
    "**bisect_left**. Their difference is apparent only when the needle compares equal to an\n",
    "item in the list: bisect_right returns an insertion point after the existing item, and\n",
    "bisect_left returns the position of the existing item, so insertion would occur before it. With simple types like int this makes no difference, but if the sequence contains\n",
    "objects that are distinct yet compare equal, then it may be relevant.  For example, 1 and\n",
    "1.0 are distinct, but 1 == 1.0 is True"
   ]
  },
  {
   "cell_type": "markdown",
   "metadata": {},
   "source": [
    "An interesting application of bisect is to perform table lookups by numeric values—\n",
    "for example, to convert test scores to letter grades, as in"
   ]
  },
  {
   "cell_type": "code",
   "execution_count": 21,
   "metadata": {},
   "outputs": [
    {
     "data": {
      "text/plain": [
       "['F', 'A', 'C', 'C', 'B', 'A', 'A']"
      ]
     },
     "execution_count": 21,
     "metadata": {},
     "output_type": "execute_result"
    }
   ],
   "source": [
    "def grade(score, breakpoints=[60, 70, 80, 90], grades='FDCBA'):\n",
    "    i = bisect.bisect(breakpoints, score)\n",
    "    return grades[i]\n",
    "\n",
    "[grade(score) for score in [33, 99, 77, 70, 89, 90, 100]]"
   ]
  },
  {
   "cell_type": "markdown",
   "metadata": {},
   "source": [
    "## Inserting  with bisect.insort\n",
    "\n",
    "Sorting is expensive, so once you have a sorted sequence, it’s good to keep it that way.\n",
    "That is why bisect.insort was created.\n",
    "insort(seq, item) inserts item into seq so as to keep seq in ascending order"
   ]
  },
  {
   "cell_type": "code",
   "execution_count": 22,
   "metadata": {},
   "outputs": [
    {
     "name": "stdout",
     "output_type": "stream",
     "text": [
      "10 -> [10]\n",
      " 0 -> [0, 10]\n",
      " 6 -> [0, 6, 10]\n",
      " 8 -> [0, 6, 8, 10]\n",
      " 7 -> [0, 6, 7, 8, 10]\n",
      " 2 -> [0, 2, 6, 7, 8, 10]\n",
      "10 -> [0, 2, 6, 7, 8, 10, 10]\n"
     ]
    }
   ],
   "source": [
    "import  bisect\n",
    "import random\n",
    "\n",
    "SIZE = 7\n",
    "random.seed(1729)\n",
    "\n",
    "my_list = []\n",
    "for i in range(SIZE):\n",
    "    new_item = random.randrange(SIZE*2)\n",
    "    bisect.insort(my_list, new_item)\n",
    "    \n",
    "    print('%2d ->' % new_item, my_list)"
   ]
  },
  {
   "cell_type": "markdown",
   "metadata": {},
   "source": [
    "Like bisect, insort takes optional lo, hi arguments to limit the search to a sub\u0002sequence. There is also an insort_left variation that uses bisect_left to find inser‐\n",
    "tion points.\n",
    "Much of what we have seen so far in this chapter applies to sequences in general, not\n",
    "just lists or tuples. Python programmers sometimes overuse the list type because it is\n",
    "so handy—I know I’ve done it. If you are handling lists of numbers, arrays are the way\n",
    "to go. The remainder of the chapter is devoted to them"
   ]
  },
  {
   "cell_type": "markdown",
   "metadata": {},
   "source": [
    "# When a List Is Not the Answer\n",
    "\n",
    "The list type is flexible and easy to use, but depending on specific requirements, there\n",
    "are better options. For example, if you need to store 10 million floating-point values, an\n",
    "array is much more efficient, because an array does not actually hold full-fledged float\n",
    "objects, but only the packed bytes representing their machine values—just like an array\n",
    "in the C language. On the other hand, if you are constantly adding and removing items\n",
    "from the ends of a list as a FIFO or LIFO data structure, a deque (double-ended queue)\n",
    "works faster."
   ]
  },
  {
   "cell_type": "markdown",
   "metadata": {},
   "source": [
    "## Arrays\n",
    "\n",
    "If the list will only contain numbers, an array.array is more efficient than a list: it\n",
    "supports all mutable sequence operations (including .pop, .insert, and .extend), and\n",
    "additional methods for fast loading and saving such as .frombytes and .tofile.\n",
    "A Python array is as lean as a C array. When creating an array, you provide a typecode,\n",
    "a letter to determine the underlying C type used to store each item in the array. For\n",
    "example, b is the typecode for signed char. If you create an array('b'), then each item\n",
    "will be stored in a single byte and interpreted as an integer from –128 to 127. For large\n",
    "sequences of numbers, this saves a lot of memory. And Python will not let you put any\n",
    "number that does not match the type for the array"
   ]
  },
  {
   "cell_type": "code",
   "execution_count": 23,
   "metadata": {},
   "outputs": [
    {
     "data": {
      "text/plain": [
       "0.5963321947530882"
      ]
     },
     "execution_count": 23,
     "metadata": {},
     "output_type": "execute_result"
    }
   ],
   "source": [
    "from array import array\n",
    "from random import random\n",
    "\n",
    "floats = array('d', (random() for i in range(10**7)))\n",
    "floats[-1]"
   ]
  },
  {
   "cell_type": "code",
   "execution_count": 26,
   "metadata": {},
   "outputs": [],
   "source": [
    "fp = open('floats.bin', 'wb')\n",
    "floats.tofile(fp) \n",
    "fp.close()"
   ]
  },
  {
   "cell_type": "code",
   "execution_count": 27,
   "metadata": {},
   "outputs": [
    {
     "data": {
      "text/plain": [
       "0.5963321947530882"
      ]
     },
     "execution_count": 27,
     "metadata": {},
     "output_type": "execute_result"
    }
   ],
   "source": [
    "floats2 = array('d')\n",
    "fp = open('floats.bin', 'rb')\n",
    "floats2.fromfile(fp, 10**7)\n",
    "fp.close()\n",
    "floats2[-1]"
   ]
  },
  {
   "cell_type": "code",
   "execution_count": 28,
   "metadata": {},
   "outputs": [
    {
     "data": {
      "text/plain": [
       "True"
      ]
     },
     "execution_count": 28,
     "metadata": {},
     "output_type": "execute_result"
    }
   ],
   "source": [
    "floats2 == floats"
   ]
  },
  {
   "cell_type": "markdown",
   "metadata": {},
   "source": [
    "As you can see, array.tofile and array.fromfile are easy to use. If you try the ex‐\n",
    "ample, you’ll notice they are also very fast. A quick experiment show that it takes about\n",
    "0.1s for array.fromfile to load 10 million double-precision floats from a binary file\n",
    "created with array.tofile. That is nearly 60 times faster than reading the numbers\n",
    "from a text file, which also involves parsing each line with the float built-in. Saving\n",
    "with array.tofile is about 7 times faster than writing one float per line in a text file.\n",
    "In addition, the size of the binary file with 10 million doubles is 80,000,000 bytes (8\n",
    "bytes per double, zero overhead), while the text file has 181,515,739 bytes, for the same\n",
    "data"
   ]
  },
  {
   "cell_type": "markdown",
   "metadata": {},
   "source": [
    "## Memory Views\n",
    "\n",
    "The built-in memorview class is a shared-memory sequence type that lets you handle slices of arrays without copying bytes.\n",
    "\n",
    "A memoryview is essentially a generalized NumPy array structure in Python itself\n",
    "(without the math). It allows you to share memory between data-structures (things like\n",
    "PIL images, SQLlite databases, NumPy arrays, etc.) without first copying. This is very\n",
    "important for large data sets\n",
    "\n",
    "Using notation similar to the array module, the memoryview.cast method lets you\n",
    "change the way multiple bytes are read or written as units without moving bits around\n",
    "(just like the C cast operator). memoryview.cast returns yet another memoryviewobject,\n",
    "always sharing the same memory"
   ]
  },
  {
   "cell_type": "code",
   "execution_count": 29,
   "metadata": {},
   "outputs": [
    {
     "data": {
      "text/plain": [
       "5"
      ]
     },
     "execution_count": 29,
     "metadata": {},
     "output_type": "execute_result"
    }
   ],
   "source": [
    "numbers = array('h', [-2, -1, 0, 1, 2])\n",
    "memv = memoryview(numbers)\n",
    "len(memv)"
   ]
  },
  {
   "cell_type": "code",
   "execution_count": 30,
   "metadata": {},
   "outputs": [
    {
     "data": {
      "text/plain": [
       "-2"
      ]
     },
     "execution_count": 30,
     "metadata": {},
     "output_type": "execute_result"
    }
   ],
   "source": [
    "memv[0]"
   ]
  },
  {
   "cell_type": "code",
   "execution_count": 31,
   "metadata": {},
   "outputs": [
    {
     "data": {
      "text/plain": [
       "[254, 255, 255, 255, 0, 0, 1, 0, 2, 0]"
      ]
     },
     "execution_count": 31,
     "metadata": {},
     "output_type": "execute_result"
    }
   ],
   "source": [
    "memv_oct = memv.cast('B')\n",
    "memv_oct.tolist()"
   ]
  },
  {
   "cell_type": "code",
   "execution_count": 32,
   "metadata": {},
   "outputs": [
    {
     "data": {
      "text/plain": [
       "array('h', [-2, -1, 1024, 1, 2])"
      ]
     },
     "execution_count": 32,
     "metadata": {},
     "output_type": "execute_result"
    }
   ],
   "source": [
    "memv_oct[5] = 4\n",
    "numbers"
   ]
  },
  {
   "cell_type": "markdown",
   "metadata": {},
   "source": [
    "1. Build memoryview from array of 5 short signed integers (typecode 'h').\n",
    "memv sees the same 5 items in the array.\n",
    "2. Create memv_oct by casting the elements of memv to typecode 'B' (unsigned\n",
    "char).\n",
    "3. Export elements of memv_oct as a list, for inspection.\n",
    "4. Assign value 4 to byte offset 5.\n",
    "5. Note change to numbers: a 4 in the most significant byte of a 2-byte unsigned\n",
    "integer is 1024."
   ]
  },
  {
   "cell_type": "markdown",
   "metadata": {},
   "source": [
    "## NumPy and SciPy\n"
   ]
  },
  {
   "cell_type": "code",
   "execution_count": 33,
   "metadata": {},
   "outputs": [
    {
     "data": {
      "text/plain": [
       "array([ 0,  1,  2,  3,  4,  5,  6,  7,  8,  9, 10, 11])"
      ]
     },
     "execution_count": 33,
     "metadata": {},
     "output_type": "execute_result"
    }
   ],
   "source": [
    "import numpy\n",
    "\n",
    "a = numpy.arange(12)\n",
    "a"
   ]
  },
  {
   "cell_type": "code",
   "execution_count": 34,
   "metadata": {},
   "outputs": [
    {
     "data": {
      "text/plain": [
       "numpy.ndarray"
      ]
     },
     "execution_count": 34,
     "metadata": {},
     "output_type": "execute_result"
    }
   ],
   "source": [
    "type(a)"
   ]
  },
  {
   "cell_type": "code",
   "execution_count": 35,
   "metadata": {},
   "outputs": [
    {
     "data": {
      "text/plain": [
       "(12,)"
      ]
     },
     "execution_count": 35,
     "metadata": {},
     "output_type": "execute_result"
    }
   ],
   "source": [
    "a.shape"
   ]
  },
  {
   "cell_type": "code",
   "execution_count": 36,
   "metadata": {},
   "outputs": [
    {
     "data": {
      "text/plain": [
       "array([[ 0,  1,  2,  3],\n",
       "       [ 4,  5,  6,  7],\n",
       "       [ 8,  9, 10, 11]])"
      ]
     },
     "execution_count": 36,
     "metadata": {},
     "output_type": "execute_result"
    }
   ],
   "source": [
    "a.shape = 3,4\n",
    "a"
   ]
  },
  {
   "cell_type": "code",
   "execution_count": 37,
   "metadata": {},
   "outputs": [
    {
     "data": {
      "text/plain": [
       "array([ 8,  9, 10, 11])"
      ]
     },
     "execution_count": 37,
     "metadata": {},
     "output_type": "execute_result"
    }
   ],
   "source": [
    "a[2]"
   ]
  },
  {
   "cell_type": "code",
   "execution_count": 38,
   "metadata": {},
   "outputs": [
    {
     "data": {
      "text/plain": [
       "9"
      ]
     },
     "execution_count": 38,
     "metadata": {},
     "output_type": "execute_result"
    }
   ],
   "source": [
    "a[2, 1]"
   ]
  },
  {
   "cell_type": "code",
   "execution_count": 39,
   "metadata": {},
   "outputs": [
    {
     "data": {
      "text/plain": [
       "array([1, 5, 9])"
      ]
     },
     "execution_count": 39,
     "metadata": {},
     "output_type": "execute_result"
    }
   ],
   "source": [
    "a[:, 1]"
   ]
  },
  {
   "cell_type": "code",
   "execution_count": 42,
   "metadata": {},
   "outputs": [
    {
     "data": {
      "text/plain": [
       "array([[ 0,  4,  8],\n",
       "       [ 1,  5,  9],\n",
       "       [ 2,  6, 10],\n",
       "       [ 3,  7, 11]])"
      ]
     },
     "execution_count": 42,
     "metadata": {},
     "output_type": "execute_result"
    }
   ],
   "source": [
    "a.transpose()"
   ]
  },
  {
   "cell_type": "markdown",
   "metadata": {},
   "source": [
    "NumPy also supports high-level operations for loading, saving, and operating on all\n",
    "elements of a numpy.ndarray"
   ]
  },
  {
   "cell_type": "markdown",
   "metadata": {},
   "source": [
    "## Deques and Other Queues\n",
    "\n",
    "The .append and .pop methods make a list usable as a stack or a queue (if you\n",
    "use .append and .pop(0), you get LIFO behavior). But inserting and removing from\n",
    "the left of a list (the 0-index end) is costly because the entire list must be shifted.\n",
    "The class collections.deque is a thread-safe double-ended queue designed for fast\n",
    "inserting and removing from both ends. It is also the way to go if you need to keep a list\n",
    "of “last seen items” or something like that, because a deque can be bounded—i.e., created\n",
    "with a maximum length—and then, when it is full, it discards items from the opposite\n",
    "end when you append new ones. \n"
   ]
  },
  {
   "cell_type": "code",
   "execution_count": 44,
   "metadata": {},
   "outputs": [
    {
     "data": {
      "text/plain": [
       "deque([0, 1, 2, 3, 4, 5, 6, 7, 8, 9])"
      ]
     },
     "execution_count": 44,
     "metadata": {},
     "output_type": "execute_result"
    }
   ],
   "source": [
    "from collections import deque\n",
    "\n",
    "dq = deque(range(10), maxlen=10)\n",
    "dq"
   ]
  },
  {
   "cell_type": "code",
   "execution_count": 45,
   "metadata": {},
   "outputs": [
    {
     "data": {
      "text/plain": [
       "deque([7, 8, 9, 0, 1, 2, 3, 4, 5, 6])"
      ]
     },
     "execution_count": 45,
     "metadata": {},
     "output_type": "execute_result"
    }
   ],
   "source": [
    "dq.rotate(3)\n",
    "dq"
   ]
  },
  {
   "cell_type": "code",
   "execution_count": 46,
   "metadata": {},
   "outputs": [
    {
     "data": {
      "text/plain": [
       "deque([1, 2, 3, 4, 5, 6, 7, 8, 9, 0])"
      ]
     },
     "execution_count": 46,
     "metadata": {},
     "output_type": "execute_result"
    }
   ],
   "source": [
    "dq.rotate(-4)\n",
    "dq"
   ]
  },
  {
   "cell_type": "code",
   "execution_count": 47,
   "metadata": {},
   "outputs": [
    {
     "data": {
      "text/plain": [
       "deque([-1, 1, 2, 3, 4, 5, 6, 7, 8, 9])"
      ]
     },
     "execution_count": 47,
     "metadata": {},
     "output_type": "execute_result"
    }
   ],
   "source": [
    "dq.appendleft(-1)\n",
    "dq"
   ]
  },
  {
   "cell_type": "code",
   "execution_count": 48,
   "metadata": {},
   "outputs": [
    {
     "data": {
      "text/plain": [
       "deque([3, 4, 5, 6, 7, 8, 9, 11, 22, 33])"
      ]
     },
     "execution_count": 48,
     "metadata": {},
     "output_type": "execute_result"
    }
   ],
   "source": [
    "dq.extend([11, 22, 33])\n",
    "dq"
   ]
  },
  {
   "cell_type": "code",
   "execution_count": 49,
   "metadata": {},
   "outputs": [
    {
     "data": {
      "text/plain": [
       "deque([40, 30, 20, 10, 3, 4, 5, 6, 7, 8])"
      ]
     },
     "execution_count": 49,
     "metadata": {},
     "output_type": "execute_result"
    }
   ],
   "source": [
    "dq.extendleft([10, 20, 30, 40])\n",
    "dq"
   ]
  },
  {
   "cell_type": "markdown",
   "metadata": {},
   "source": [
    "1. The optional maxlen argument sets the maximum number of items allowed in\n",
    "this instance of deque; this sets a read-only maxlen instance attribute.\n",
    "2. Rotating with n > 0 takes items from the right end and prepends them to the\n",
    "left; when n < 0 items are taken from left and appended to the right.\n",
    "3. Appending to a deque that is full (len(d) == d.maxlen) discards items from\n",
    "the other end; note in the next line that the 0 is dropped.\n",
    "4. Adding three items to the right pushes out the leftmost -1, 1, and 2.\n",
    "5. Note that extendleft(iter) works by appending each successive item of the\n",
    "iter argument to the left of the deque, therefore the final position of the items\n",
    "is reversed\n",
    "\n",
    "\n",
    "Note that deque implements most of the list methods, and adds a few specific to its\n",
    "design, like popleft and rotate. But there is a hidden cost: removing items from the\n",
    "middle of a deque is not as fast. It is really optimized for appending and popping from\n",
    "the ends.\n",
    "The append and popleft operations are atomic, so deque is safe to use as a LIFO queue\n",
    "in multithreaded applications without the need for using locks"
   ]
  },
  {
   "cell_type": "markdown",
   "metadata": {},
   "source": [
    "Besides deque, other Python standard library packages implement queues:\n",
    "\n",
    "- queue\n",
    "    - This provides the synchronized (i.e., thread-safe) classes Queue, LifoQueue, and\n",
    "    PriorityQueue. These are used for safe communication between threads. All three\n",
    "    classes can be bounded by providing a maxsize argument greater than 0 to the\n",
    "    constructor. However, they don’t discard items to make room as deque does. In‐\n",
    "    stead, when the queue is full the insertion of a new item blocks—i.e., it waits until\n",
    "    some other thread makes room by taking an item from the queue, which is useful\n",
    "    to throttle the number of live threads.\n",
    "- multiprocessing\n",
    "    - Implements its own bounded Queue, very similar to queue.Queue but designed for\n",
    "    interprocess communication. A specialized multiprocessing.JoinableQueue is\n",
    "    also available for easier task management.\n",
    "- asyncio\n",
    "    - Newly added to Python 3.4, asyncio provides Queue, LifoQueue, PriorityQueue,\n",
    "    and JoinableQueue with APIs inspired by the classes contained in the queue and\n",
    "    multiprocessing modules, but adapted for managing tasks in asynchronous pro‐\n",
    "    gramming.\n",
    "- heapq\n",
    "    - In contrast to the previous three modules, heapq does not implement a queue class,\n",
    "    but provides functions like heappush and heappop that let you use a mutable se‐\n",
    "    quence as a heap queue or priority queue"
   ]
  },
  {
   "cell_type": "markdown",
   "metadata": {},
   "source": [
    "# Chapter Summary\n",
    "\n",
    "Mastering the standard library sequence types is a prerequisite for writing concise, effective, and idiomatic Python code.\n",
    "\n",
    "Python sequences are often categorized as mutable or immutable, but it is also useful\n",
    "to consider a different axis: flat sequences and container sequences. The former are more\n",
    "compact, faster, and easier to use, but are limited to storing atomic data such as numbers,\n",
    "characters, and bytes. Container sequences are more flexible, but may surprise you when\n",
    "they hold mutable objects, so you need to be careful to use them correctly with nested\n",
    "data structures.\n",
    "\n",
    "List comprehensions and generator expressions are powerful notations to build and\n",
    "initialize sequences. If you are not yet comfortable with them, take the time to master\n",
    "their basic usage. It is not hard, and soon you will be hooked.\n",
    "\n",
    "Tuples in Python play two roles: as records with unnamed fields and as immutable lists.\n",
    "When a tuple is used as a record, tuple unpacking is the safest, most readable way of\n",
    "getting at the fields. The new * syntax makes tuple unpacking even better by making it\n",
    "easier to ignore some fields and to deal with optional fields. Named tuples are not so\n",
    "new, but deserve more attention: like tuples, they have very little overhead per instance,\n",
    "yet provide convenient access to the fields by name and a handy ._asdict() to export\n",
    "the record as an OrderedDict.\n",
    "\n",
    "Sequence slicing is a favorite Python syntax feature, and it is even more powerful than\n",
    "many realize. Multidimensional slicing and ellipsis (...) notation, as used in NumPy,\n",
    "may also be supported by user-defined sequences. Assigning to slices is a very expressive\n",
    "way of editing mutable sequences.\n",
    "\n",
    "Repeated concatenation as in seq * n is convenient and, with care, can be used to\n",
    "initialize lists of lists containing immutable items. Augmented assignment with += and\n",
    "*= behaves differently for mutable and immutable sequences. In the latter case, these\n",
    "operators necessarily build new sequences. But if the target sequence is mutable, it is\n",
    "usually changed in place—but not always, depending on how the sequence is imple‐\n",
    "mented.\n",
    "\n",
    "The sort method and the sorted built-in function are easy to use and flexible, thanks\n",
    "to the key optional argument they accept, with a function to calculate the ordering\n",
    "criterion. By the way, key can also be used with the min and max built-in functions. To\n",
    "keep a sorted sequence in order, always insert items into it using bisect.insort; to\n",
    "search it efficiently, use bisect.bisect.\n",
    "\n",
    "Beyond lists and tuples, the Python standard library provides array.array. Although\n",
    "NumPy and SciPy are not part of the standard library, if you do any kind of numerical\n",
    "processing on large sets of data, studying even a small part of these libraries can take\n",
    "you a long way.\n",
    "\n",
    "We closed by visiting the versatile and thread-safe collections.deque, comparing its\n",
    "API with that of list in Table 2-3 and mentioning other queue implementations in the\n",
    "standard library."
   ]
  }
 ],
 "metadata": {
  "interpreter": {
   "hash": "d58cd66771b86600ed196df3ae1631a1e510be967e3cfbdfd84098f57ff410b8"
  },
  "kernelspec": {
   "display_name": "Python 3.8.11 64-bit ('base': conda)",
   "name": "python3"
  },
  "language_info": {
   "codemirror_mode": {
    "name": "ipython",
    "version": 3
   },
   "file_extension": ".py",
   "mimetype": "text/x-python",
   "name": "python",
   "nbconvert_exporter": "python",
   "pygments_lexer": "ipython3",
   "version": "3.8.11"
  },
  "orig_nbformat": 4
 },
 "nbformat": 4,
 "nbformat_minor": 2
}
