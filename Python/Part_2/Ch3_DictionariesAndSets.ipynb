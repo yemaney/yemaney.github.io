{
 "cells": [
  {
   "cell_type": "markdown",
   "metadata": {},
   "source": [
    "# Dictionaries and Sets"
   ]
  },
  {
   "cell_type": "markdown",
   "metadata": {},
   "source": [
    "Implementations of specialized mappings often extend dict or collections.User\n",
    "Dict, instead of these ABCs. The main value of the ABCs is documenting and formal‐\n",
    "izing the minimal interfaces for mappings, and serving as criteria for isinstance tests\n",
    "in code that needs to support mappings in a broad sense:"
   ]
  },
  {
   "cell_type": "code",
   "execution_count": 1,
   "metadata": {},
   "outputs": [
    {
     "data": {
      "text/plain": [
       "True"
      ]
     },
     "execution_count": 1,
     "metadata": {},
     "output_type": "execute_result"
    }
   ],
   "source": [
    "from collections import abc\n",
    "my_dict = {}\n",
    "isinstance(my_dict, abc.Mapping)"
   ]
  },
  {
   "cell_type": "markdown",
   "metadata": {},
   "source": [
    "All mapping types in the standard library use the basic dict in their implementation,\n",
    "so they share the limitation that the keys must be hashable (the values need not be\n",
    "hashable, only the keys)\n",
    "\n",
    "- An object is hashable if it has a hash value which never changes during its lifetime (it\n",
    "needs a __hash__() method), and can be compared to other objects (it needs an\n",
    "__eq__() method). Hashable objects which compare equal must have the same hash\n",
    "value. […]"
   ]
  },
  {
   "cell_type": "code",
   "execution_count": 2,
   "metadata": {},
   "outputs": [
    {
     "data": {
      "text/plain": [
       "-3907003130834322577"
      ]
     },
     "execution_count": 2,
     "metadata": {},
     "output_type": "execute_result"
    }
   ],
   "source": [
    "tt = (1,2, (30, 40))\n",
    "hash(tt)"
   ]
  },
  {
   "cell_type": "markdown",
   "metadata": {},
   "source": [
    "Given these ground rules, you can build dictionaries in several ways."
   ]
  },
  {
   "cell_type": "code",
   "execution_count": 3,
   "metadata": {},
   "outputs": [
    {
     "data": {
      "text/plain": [
       "True"
      ]
     },
     "execution_count": 3,
     "metadata": {},
     "output_type": "execute_result"
    }
   ],
   "source": [
    "a = dict(one=1, two=2, three=3)\n",
    "b = {'one': 1, 'two': 2, 'three': 3}\n",
    "c = dict(zip(['one', 'two', 'three'], [1, 2, 3]))\n",
    "d = dict([('two', 2), ('one', 1), ('three', 3)])\n",
    "e = dict({'three': 3, 'one': 1, 'two': 2})\n",
    "a == b == c == d == e"
   ]
  },
  {
   "cell_type": "markdown",
   "metadata": {},
   "source": [
    "# Dict Comprehensions"
   ]
  },
  {
   "cell_type": "code",
   "execution_count": 4,
   "metadata": {},
   "outputs": [
    {
     "data": {
      "text/plain": [
       "{'China': 86,\n",
       " 'India': 91,\n",
       " 'United States': 1,\n",
       " 'Indonesia': 62,\n",
       " 'Brazil': 55,\n",
       " 'Pakistan': 92,\n",
       " 'Bangladesh': 880,\n",
       " 'Nigeria': 234,\n",
       " 'Russia': 7,\n",
       " 'Japan': 81}"
      ]
     },
     "execution_count": 4,
     "metadata": {},
     "output_type": "execute_result"
    }
   ],
   "source": [
    "DIAL_CODES = [ \n",
    "(86, 'China'),\n",
    "(91, 'India'),\n",
    "(1, 'United States'),\n",
    "(62, 'Indonesia'),\n",
    "(55, 'Brazil'),\n",
    "(92, 'Pakistan'),\n",
    "(880, 'Bangladesh'),\n",
    "(234, 'Nigeria'),\n",
    "(7, 'Russia'),\n",
    "(81, 'Japan'),\n",
    "]\n",
    "country_code = {country: code for code, country in DIAL_CODES} \n",
    "country_code"
   ]
  },
  {
   "cell_type": "code",
   "execution_count": 5,
   "metadata": {},
   "outputs": [
    {
     "data": {
      "text/plain": [
       "{1: 'UNITED STATES', 62: 'INDONESIA', 55: 'BRAZIL', 7: 'RUSSIA'}"
      ]
     },
     "execution_count": 5,
     "metadata": {},
     "output_type": "execute_result"
    }
   ],
   "source": [
    "{code: country.upper() for country, code in country_code.items() if code < 66}"
   ]
  },
  {
   "cell_type": "markdown",
   "metadata": {},
   "source": [
    "1. A list of pairs can be used directly with the dict constructor.\n",
    "2. Here the pairs are reversed: country is the key, and code is the value.\n",
    "3. Reversing the pairs again, values uppercased and items filtered by code < 66"
   ]
  },
  {
   "cell_type": "markdown",
   "metadata": {},
   "source": [
    "# Overview of Common Mapping Methods"
   ]
  },
  {
   "cell_type": "markdown",
   "metadata": {},
   "source": [
    "The basic API for mappings is quite rich. Table 3-1 shows the methods implemented by dict and two of its most useful variations: defaultdict and OrderedDict, both defined in the collections module\n",
    "\n",
    "\n",
    "The way update handles its first argument m is a prime example of duck typing: it first\n",
    "checks whether m has a keys method and, if it does, assumes it is a mapping. Otherwise,\n",
    "update falls back to iterating over m, assuming its items are (key, value) pairs. The\n",
    "constructor for most Python mappings uses the logic of update internally, which means\n",
    "they can be initialized from other mappings or from any iterable object producing (key,\n",
    "value) pairs"
   ]
  },
  {
   "cell_type": "markdown",
   "metadata": {},
   "source": [
    "## Handling Missing Keys with setdefault\n",
    "\n",
    "In line with the fail-fast philosophy, dict access with d[k] raises an error when k is not an existing key. Every Pythonista knows that d.get(k, default) is an alternative to d[k] whenever a default value is more convenient than handling KeyError. However, when updating the value found (if it is mutable), using either `__getitem__` or get is\n",
    "awkward and inefficient. "
   ]
  },
  {
   "cell_type": "markdown",
   "metadata": {},
   "source": [
    "setdefault(key, def_value) works in a similar way as get(), but the difference is that each time a key is absent, a new key is created with the def_value associated to the key passed in arguments.\n"
   ]
  },
  {
   "cell_type": "code",
   "execution_count": 6,
   "metadata": {},
   "outputs": [
    {
     "name": "stdout",
     "output_type": "stream",
     "text": [
      "0091\n",
      "Not Present\n"
     ]
    },
    {
     "data": {
      "text/plain": [
       "{'India': '0091',\n",
       " 'Australia': '0025',\n",
       " 'Nepal': '00977',\n",
       " 'Japan': 'Not Present'}"
      ]
     },
     "execution_count": 6,
     "metadata": {},
     "output_type": "execute_result"
    }
   ],
   "source": [
    "country_code = {'India' : '0091',\n",
    "\t\t\t\t'Australia' : '0025',\n",
    "\t\t\t\t'Nepal' : '00977'}\n",
    "\n",
    "# Set a default value for Japan\n",
    "country_code.setdefault('Japan', 'Not Present')\n",
    "\n",
    "# search dictionary for country code of India\n",
    "print(country_code['India'])\n",
    "\n",
    "# search dictionary for country code of Japan\n",
    "print(country_code['Japan'])\n",
    "\n",
    "country_code"
   ]
  },
  {
   "cell_type": "markdown",
   "metadata": {},
   "source": [
    "# Mapping with Flexible Key Lookup\n",
    "\n",
    "Sometimes it is convenient to have mappings that return some made-up value when a\n",
    "missing key is searched. There are two main approaches to this: one is to use a default\n",
    "dict instead of a plain dict. The other is to subclass dict or any other mapping type\n",
    "and add a __missing__ method. Both solutions are covered next"
   ]
  },
  {
   "cell_type": "markdown",
   "metadata": {},
   "source": [
    "## defaultdict: Another Take on Missing Keys\n",
    "\n",
    "A defaultdict is configured to create items on demand\n",
    "whenever a missing key is searched. Here is how it works: when instantiating a defaultdict, you provide a callable that is used to produce a default value whenever `__getitem__` is passed a nonexistent key argument"
   ]
  },
  {
   "cell_type": "code",
   "execution_count": 7,
   "metadata": {},
   "outputs": [
    {
     "name": "stdout",
     "output_type": "stream",
     "text": [
      "The value associated with 'a' is : 1\n",
      "The value associated with 'c' is : []\n"
     ]
    }
   ],
   "source": [
    "# Python code to demonstrate defaultdict\n",
    "\n",
    "# importing \"collections\" for defaultdict\n",
    "import collections\n",
    "\n",
    "# declaring defaultdict\n",
    "# sets default value 'Key Not found' to absent keys\n",
    "defd = collections.defaultdict(list)\n",
    "\n",
    "# initializing values\n",
    "defd['a'] = 1\n",
    "\n",
    "# initializing values\n",
    "defd['b'] = 2\n",
    "\n",
    "# printing value\n",
    "print (\"The value associated with 'a' is : \",end=\"\")\n",
    "print (defd['a'])\n",
    "\n",
    "# printing value associated with 'c'\n",
    "print (\"The value associated with 'c' is : \",end=\"\")\n",
    "print (defd['c'])"
   ]
  },
  {
   "cell_type": "markdown",
   "metadata": {},
   "source": [
    "## The `__missing__` Method\n",
    "\n",
    "Underlying the way mappings deal with missing keys is the aptly named `__missing__` method. This method is not defined in the base dict class, but dict is aware of it: if you subclass dict and provide a `__missing__` method, the standard dict.__getitem__will call it whenever a key is not found, instead of raising KeyError\n"
   ]
  },
  {
   "cell_type": "code",
   "execution_count": 8,
   "metadata": {},
   "outputs": [],
   "source": [
    "class StrKeyDict0(dict): \n",
    "    def __missing__(self, key):\n",
    "        if isinstance(key, str): \n",
    "            raise KeyError(key)\n",
    "        return self[str(key)] \n",
    "    \n",
    "    def get(self, key, default=None):\n",
    "        try:\n",
    "            return self[key] \n",
    "        except KeyError:\n",
    "            return default\n",
    "         \n",
    "    def __contains__(self, key):\n",
    "        return key in self.keys() or str(key) in self.keys() "
   ]
  },
  {
   "cell_type": "markdown",
   "metadata": {},
   "source": [
    "1. StrKeyDict0 inherits from dict.\n",
    "2. Check whether key is already a str. If it is, and it’s missing, raise KeyError.\n",
    "3. Build str from key and look it up.\n",
    "4. The get method delegatesto `__getitem__` by using the self[key] notation; that\n",
    "gives the opportunity for our `__missing__` to act.\n",
    "5. If a KeyError was raised, `__missing__` already failed, so we return the default.\n",
    "6. Search for unmodified key (the instance may contain non-str keys), then for a\n",
    "str built from the key"
   ]
  },
  {
   "cell_type": "code",
   "execution_count": 9,
   "metadata": {},
   "outputs": [
    {
     "data": {
      "text/plain": [
       "'two'"
      ]
     },
     "execution_count": 9,
     "metadata": {},
     "output_type": "execute_result"
    }
   ],
   "source": [
    "d = StrKeyDict0([('2', 'two'), ('4', 'four')])\n",
    "d['2']"
   ]
  },
  {
   "cell_type": "code",
   "execution_count": 10,
   "metadata": {},
   "outputs": [
    {
     "ename": "KeyError",
     "evalue": "'1'",
     "output_type": "error",
     "traceback": [
      "\u001b[1;31m---------------------------------------------------------------------------\u001b[0m",
      "\u001b[1;31mKeyError\u001b[0m                                  Traceback (most recent call last)",
      "\u001b[1;32m<ipython-input-10-abe283337115>\u001b[0m in \u001b[0;36m<module>\u001b[1;34m\u001b[0m\n\u001b[1;32m----> 1\u001b[1;33m \u001b[0md\u001b[0m\u001b[1;33m[\u001b[0m\u001b[1;36m1\u001b[0m\u001b[1;33m]\u001b[0m\u001b[1;33m\u001b[0m\u001b[1;33m\u001b[0m\u001b[0m\n\u001b[0m",
      "\u001b[1;32m<ipython-input-8-667dc37e01c4>\u001b[0m in \u001b[0;36m__missing__\u001b[1;34m(self, key)\u001b[0m\n\u001b[0;32m      3\u001b[0m         \u001b[1;32mif\u001b[0m \u001b[0misinstance\u001b[0m\u001b[1;33m(\u001b[0m\u001b[0mkey\u001b[0m\u001b[1;33m,\u001b[0m \u001b[0mstr\u001b[0m\u001b[1;33m)\u001b[0m\u001b[1;33m:\u001b[0m\u001b[1;33m\u001b[0m\u001b[1;33m\u001b[0m\u001b[0m\n\u001b[0;32m      4\u001b[0m             \u001b[1;32mraise\u001b[0m \u001b[0mKeyError\u001b[0m\u001b[1;33m(\u001b[0m\u001b[0mkey\u001b[0m\u001b[1;33m)\u001b[0m\u001b[1;33m\u001b[0m\u001b[1;33m\u001b[0m\u001b[0m\n\u001b[1;32m----> 5\u001b[1;33m         \u001b[1;32mreturn\u001b[0m \u001b[0mself\u001b[0m\u001b[1;33m[\u001b[0m\u001b[0mstr\u001b[0m\u001b[1;33m(\u001b[0m\u001b[0mkey\u001b[0m\u001b[1;33m)\u001b[0m\u001b[1;33m]\u001b[0m\u001b[1;33m\u001b[0m\u001b[1;33m\u001b[0m\u001b[0m\n\u001b[0m\u001b[0;32m      6\u001b[0m     \u001b[1;32mdef\u001b[0m \u001b[0mget\u001b[0m\u001b[1;33m(\u001b[0m\u001b[0mself\u001b[0m\u001b[1;33m,\u001b[0m \u001b[0mkey\u001b[0m\u001b[1;33m,\u001b[0m \u001b[0mdefault\u001b[0m\u001b[1;33m=\u001b[0m\u001b[1;32mNone\u001b[0m\u001b[1;33m)\u001b[0m\u001b[1;33m:\u001b[0m\u001b[1;33m\u001b[0m\u001b[1;33m\u001b[0m\u001b[0m\n\u001b[0;32m      7\u001b[0m         \u001b[1;32mtry\u001b[0m\u001b[1;33m:\u001b[0m\u001b[1;33m\u001b[0m\u001b[1;33m\u001b[0m\u001b[0m\n",
      "\u001b[1;32m<ipython-input-8-667dc37e01c4>\u001b[0m in \u001b[0;36m__missing__\u001b[1;34m(self, key)\u001b[0m\n\u001b[0;32m      2\u001b[0m     \u001b[1;32mdef\u001b[0m \u001b[0m__missing__\u001b[0m\u001b[1;33m(\u001b[0m\u001b[0mself\u001b[0m\u001b[1;33m,\u001b[0m \u001b[0mkey\u001b[0m\u001b[1;33m)\u001b[0m\u001b[1;33m:\u001b[0m\u001b[1;33m\u001b[0m\u001b[1;33m\u001b[0m\u001b[0m\n\u001b[0;32m      3\u001b[0m         \u001b[1;32mif\u001b[0m \u001b[0misinstance\u001b[0m\u001b[1;33m(\u001b[0m\u001b[0mkey\u001b[0m\u001b[1;33m,\u001b[0m \u001b[0mstr\u001b[0m\u001b[1;33m)\u001b[0m\u001b[1;33m:\u001b[0m\u001b[1;33m\u001b[0m\u001b[1;33m\u001b[0m\u001b[0m\n\u001b[1;32m----> 4\u001b[1;33m             \u001b[1;32mraise\u001b[0m \u001b[0mKeyError\u001b[0m\u001b[1;33m(\u001b[0m\u001b[0mkey\u001b[0m\u001b[1;33m)\u001b[0m\u001b[1;33m\u001b[0m\u001b[1;33m\u001b[0m\u001b[0m\n\u001b[0m\u001b[0;32m      5\u001b[0m         \u001b[1;32mreturn\u001b[0m \u001b[0mself\u001b[0m\u001b[1;33m[\u001b[0m\u001b[0mstr\u001b[0m\u001b[1;33m(\u001b[0m\u001b[0mkey\u001b[0m\u001b[1;33m)\u001b[0m\u001b[1;33m]\u001b[0m\u001b[1;33m\u001b[0m\u001b[1;33m\u001b[0m\u001b[0m\n\u001b[0;32m      6\u001b[0m     \u001b[1;32mdef\u001b[0m \u001b[0mget\u001b[0m\u001b[1;33m(\u001b[0m\u001b[0mself\u001b[0m\u001b[1;33m,\u001b[0m \u001b[0mkey\u001b[0m\u001b[1;33m,\u001b[0m \u001b[0mdefault\u001b[0m\u001b[1;33m=\u001b[0m\u001b[1;32mNone\u001b[0m\u001b[1;33m)\u001b[0m\u001b[1;33m:\u001b[0m\u001b[1;33m\u001b[0m\u001b[1;33m\u001b[0m\u001b[0m\n",
      "\u001b[1;31mKeyError\u001b[0m: '1'"
     ]
    }
   ],
   "source": [
    "d[1]"
   ]
  },
  {
   "cell_type": "code",
   "execution_count": 11,
   "metadata": {},
   "outputs": [
    {
     "data": {
      "text/plain": [
       "'Missing'"
      ]
     },
     "execution_count": 11,
     "metadata": {},
     "output_type": "execute_result"
    }
   ],
   "source": [
    "d.get('1', 'Missing')"
   ]
  },
  {
   "cell_type": "code",
   "execution_count": 12,
   "metadata": {},
   "outputs": [
    {
     "data": {
      "text/plain": [
       "'two'"
      ]
     },
     "execution_count": 12,
     "metadata": {},
     "output_type": "execute_result"
    }
   ],
   "source": [
    "d.get('2')"
   ]
  },
  {
   "cell_type": "code",
   "execution_count": 13,
   "metadata": {},
   "outputs": [
    {
     "data": {
      "text/plain": [
       "True"
      ]
     },
     "execution_count": 13,
     "metadata": {},
     "output_type": "execute_result"
    }
   ],
   "source": [
    "2 in d"
   ]
  },
  {
   "cell_type": "markdown",
   "metadata": {},
   "source": [
    "# Variations of dict\n",
    "\n",
    "In this section, we summarize the various mapping types included in the collections module of the standard library, besides defaultdict\n"
   ]
  },
  {
   "cell_type": "markdown",
   "metadata": {},
   "source": [
    "collections.OrderedDict\n",
    "- Maintains keys in insertion order, allowing iteration over items in a predictable order. The popitem method of an OrderDict pops the first item by defaly, but if called as my_odict.popitem(last=True), it pops the last item added.\n",
    "\n",
    "collections.ChainMap\n",
    "- Holds a list of mappings that can be searched as one. The lookup is performed on each mapping in order, and succeeds if the key is found in any of them. This is useful to interpreters for languages with nested scopes, where each mapping represents a scope context.\n",
    "\n",
    "collections.Counter\n",
    "- A mapping that holds an integer count for each key. Updating an existing key adds to its count. This can be used to count instances of hashable objects (the keys) or as a multiset - a set that can hold several occurrences of each element. Counter implements the * and - operators to combine tallies, and other useful emthods such as most_common([n]), which returns an ordered list of tuples witht he n most commmon items and their counts.\n",
    "\n",
    "collections.UserDict\n",
    "- A pure python implementation of a mapping that works like a standard dict. Designed to be subclassed"
   ]
  },
  {
   "cell_type": "markdown",
   "metadata": {},
   "source": [
    "# Subclassing UserDict\n",
    "\n",
    "The main reason why it’s preferable to subclass from UserDict rather than from dict is that the built-in has some implementation shortcuts that end up forcing us to overrid methods that we can just inherit from UserDict with no problems\n",
    "\n",
    "Note that UserDict does not inherit from dict, but has an internal dict instance, called data, which holds the actual items. This avoids undesired recursion when coding special methods like `__setitem__`, and simplifies the coding of `__contains__`,"
   ]
  },
  {
   "cell_type": "code",
   "execution_count": 14,
   "metadata": {},
   "outputs": [],
   "source": [
    "from collections import UserDict\n",
    "\n",
    "class StrKeyDict(UserDict):\n",
    "    \n",
    "    def __missing__(self, key):\n",
    "        if isinstance(key, str):\n",
    "            raise KeyError(key)\n",
    "        return self[str(key)]\n",
    "    \n",
    "    def __contains__(self, key: object) -> bool:\n",
    "        return str(key) in self.data\n",
    "    \n",
    "    def __setitem__(self, key, item) -> None:\n",
    "        self.data[str(key)] = item "
   ]
  },
  {
   "cell_type": "markdown",
   "metadata": {},
   "source": [
    "1. StrKeyDict extends UserDict.\n",
    "2. `__missing__` is exactly as in Example 3-7.\n",
    "3. `__contains__` is simpler: we can assume allstored keys are str and we can check on self.data instead of invoking self.keys() as we did in StrKeyDict0\n",
    "4. `__setitem__` converts any key to a str. This method is easier to overwrite when we can delegate to the self.data attribute"
   ]
  },
  {
   "cell_type": "markdown",
   "metadata": {},
   "source": [
    "Because UserDict subclasses MutableMapping, the remaining methods that make StrKeyDict a full-fledged mapping are inherited from UserDict, MutableMapping, or Mapping. The latter have several useful concrete methods, in spite of being abstract base classes (ABCs)\n",
    "\n",
    "\n",
    "MutableMapping.update\n",
    "- This powerful method can be called directly but is also used by `__init__` to load the instance from other mappings, from iterables of (key, value) pairs, and key-word arguements. Because it uses self[key] = value to add items, it ends up calling our implentation of `__setitem__`\n",
    "\n",
    "\n",
    "Mapping.get\n",
    "- In StrKeyDict0 (Example 3-7), we had to code our own get to obtain results con‐sistent with __getitem__, but in Example 3-8 we inherited Mapping.get, which isimplemented exactly like StrKeyDict0.get"
   ]
  },
  {
   "cell_type": "markdown",
   "metadata": {},
   "source": [
    "# Immutable Mappings\n",
    "\n",
    "Since Python 3.3, the types module provides a wrapper class called MappingProxy Type, which, given a mapping, returns a mappingproxy instance that is a read-only but dynamic view of the original mapping. This means that updates to the original mapping can be seen in the mappingproxy, but changes cannot be made through it. "
   ]
  },
  {
   "cell_type": "code",
   "execution_count": 15,
   "metadata": {},
   "outputs": [
    {
     "data": {
      "text/plain": [
       "mappingproxy({1: 'A'})"
      ]
     },
     "execution_count": 15,
     "metadata": {},
     "output_type": "execute_result"
    }
   ],
   "source": [
    "from types import MappingProxyType\n",
    "\n",
    "d = {1: 'A'}\n",
    "\n",
    "d_proxy = MappingProxyType(d)\n",
    "d_proxy"
   ]
  },
  {
   "cell_type": "code",
   "execution_count": 16,
   "metadata": {},
   "outputs": [
    {
     "data": {
      "text/plain": [
       "'A'"
      ]
     },
     "execution_count": 16,
     "metadata": {},
     "output_type": "execute_result"
    }
   ],
   "source": [
    "d_proxy[1]"
   ]
  },
  {
   "cell_type": "code",
   "execution_count": 17,
   "metadata": {},
   "outputs": [
    {
     "ename": "TypeError",
     "evalue": "'mappingproxy' object does not support item assignment",
     "output_type": "error",
     "traceback": [
      "\u001b[1;31m---------------------------------------------------------------------------\u001b[0m",
      "\u001b[1;31mTypeError\u001b[0m                                 Traceback (most recent call last)",
      "\u001b[1;32m<ipython-input-17-bc17a9a62754>\u001b[0m in \u001b[0;36m<module>\u001b[1;34m\u001b[0m\n\u001b[1;32m----> 1\u001b[1;33m \u001b[0md_proxy\u001b[0m\u001b[1;33m[\u001b[0m\u001b[1;36m2\u001b[0m\u001b[1;33m]\u001b[0m \u001b[1;33m=\u001b[0m \u001b[1;34m'x'\u001b[0m\u001b[1;33m\u001b[0m\u001b[1;33m\u001b[0m\u001b[0m\n\u001b[0m",
      "\u001b[1;31mTypeError\u001b[0m: 'mappingproxy' object does not support item assignment"
     ]
    }
   ],
   "source": [
    "d_proxy[2] = 'x'"
   ]
  },
  {
   "cell_type": "markdown",
   "metadata": {},
   "source": [
    "# Set Theory\n",
    "\n",
    "A set is a collection of unique objects. A basice use case is removing duplicates."
   ]
  },
  {
   "cell_type": "code",
   "execution_count": 18,
   "metadata": {},
   "outputs": [
    {
     "data": {
      "text/plain": [
       "{'eggs', 'spam'}"
      ]
     },
     "execution_count": 18,
     "metadata": {},
     "output_type": "execute_result"
    }
   ],
   "source": [
    "l = ['spam', 'spam', 'eggs', 'spam']\n",
    "set(l)"
   ]
  },
  {
   "cell_type": "code",
   "execution_count": 19,
   "metadata": {},
   "outputs": [
    {
     "data": {
      "text/plain": [
       "['eggs', 'spam']"
      ]
     },
     "execution_count": 19,
     "metadata": {},
     "output_type": "execute_result"
    }
   ],
   "source": [
    "list(set(l))"
   ]
  },
  {
   "cell_type": "markdown",
   "metadata": {},
   "source": [
    "Set elements must be hashable. The set type is not hashable but frozenset is, so you can have frozenset elements inside a set.\n",
    "\n",
    "In addition to guaranteeing uniqueness, the set types implement the essential set operations as infix operators, so, given two sets a & b, a | b returns  their uniion, a & b computes the instersection, a - b the difference."
   ]
  },
  {
   "cell_type": "markdown",
   "metadata": {},
   "source": [
    "## set Literals\n",
    "\n",
    "The syntax of set literals—{1}, {1, 2}, etc.—looks exactly like the math notation, with one important exception: there’s no literal notation for the empty set, so we must remember to write set()"
   ]
  },
  {
   "cell_type": "code",
   "execution_count": 20,
   "metadata": {},
   "outputs": [
    {
     "data": {
      "text/plain": [
       "set"
      ]
     },
     "execution_count": 20,
     "metadata": {},
     "output_type": "execute_result"
    }
   ],
   "source": [
    "s ={1}\n",
    "type(s)"
   ]
  },
  {
   "cell_type": "code",
   "execution_count": 21,
   "metadata": {},
   "outputs": [
    {
     "data": {
      "text/plain": [
       "set"
      ]
     },
     "execution_count": 21,
     "metadata": {},
     "output_type": "execute_result"
    }
   ],
   "source": [
    "s.pop()\n",
    "type(s)"
   ]
  },
  {
   "cell_type": "markdown",
   "metadata": {},
   "source": [
    "Literal set syntax like {1, 2, 3} is both faster and more readable than calling the constructor.  (e.g., set([1, 2, 3])). The latter form is slower because, to evaluate it,Python has to look up the set name to fetch the constructor, then build a list, and finally pass it to the constructor. "
   ]
  },
  {
   "cell_type": "code",
   "execution_count": 22,
   "metadata": {},
   "outputs": [
    {
     "name": "stdout",
     "output_type": "stream",
     "text": [
      "  1           0 LOAD_CONST               0 (1)\n",
      "              2 BUILD_SET                1\n",
      "              4 RETURN_VALUE\n"
     ]
    }
   ],
   "source": [
    "from dis import dis\n",
    "dis('{1}')"
   ]
  },
  {
   "cell_type": "code",
   "execution_count": 23,
   "metadata": {},
   "outputs": [
    {
     "name": "stdout",
     "output_type": "stream",
     "text": [
      "  1           0 LOAD_NAME                0 (set)\n",
      "              2 LOAD_CONST               0 (1)\n",
      "              4 BUILD_LIST               1\n",
      "              6 CALL_FUNCTION            1\n",
      "              8 RETURN_VALUE\n"
     ]
    }
   ],
   "source": [
    "dis('set([1])')"
   ]
  },
  {
   "cell_type": "markdown",
   "metadata": {},
   "source": [
    "There is no special syntax to represent frozenset literals—they must be created by\n",
    "calling the constructor."
   ]
  },
  {
   "cell_type": "code",
   "execution_count": 24,
   "metadata": {},
   "outputs": [
    {
     "data": {
      "text/plain": [
       "frozenset({0, 1, 2, 3, 4, 5, 6, 7, 8, 9})"
      ]
     },
     "execution_count": 24,
     "metadata": {},
     "output_type": "execute_result"
    }
   ],
   "source": [
    "frozenset(range(10))"
   ]
  },
  {
   "cell_type": "markdown",
   "metadata": {},
   "source": [
    "## Set Comprehensions"
   ]
  },
  {
   "cell_type": "code",
   "execution_count": 25,
   "metadata": {},
   "outputs": [
    {
     "data": {
      "text/plain": [
       "{'¢', '£', '¤', '¥', '§', '©', '¬', '®', '°', '±', 'µ', '¶', '×', '÷'}"
      ]
     },
     "execution_count": 25,
     "metadata": {},
     "output_type": "execute_result"
    }
   ],
   "source": [
    "from unicodedata import name\n",
    "\n",
    "{chr(i) for i in range(64, 256) if 'SIGN' in name(chr(i),'')}"
   ]
  },
  {
   "cell_type": "markdown",
   "metadata": {},
   "source": [
    "# dict and set Under the Hood\n",
    "\n",
    "dicts and sets are much faster at checking for needle in haystack than lists"
   ]
  },
  {
   "cell_type": "markdown",
   "metadata": {},
   "source": [
    "## Hash Tables in Dictionaries\n",
    "\n",
    "A hash table is a sparse array. In standard data structure tests, the cells in a hash table are often called \"buckets\". In a dict hash table, there is a bucket for each item, and it contains two fields: a reference to the key and a reference to the value of the item. Because all buckets have the same size, access to an individual bucket is done by offsey.\n",
    "\n",
    "Python tries to keep at least 1/3 of the buckets empty; if the hash table become too crowded, it is copied to a new location with room for more buckets.\n",
    "\n",
    "To put an item in a hash table, the first step is to calculate the hash value of the item key, which is done with the hash() built-in function."
   ]
  },
  {
   "cell_type": "markdown",
   "metadata": {},
   "source": [
    "### Hashes and equality\n",
    "\n",
    "The hash() built-in function works directly with built in types and falls back to calling `__hash__` for user-defined types. If two objects compare equal, their hash values must also be equal, otherwise the hash table algorithm does not work.\n",
    "\n",
    "Also, to be effective as hash table indexes, hash values should scatter around the index space as much as possible. This means that, ideally, objects that are similar but not equal should have hash values that differ widely."
   ]
  },
  {
   "cell_type": "markdown",
   "metadata": {},
   "source": [
    "### The hash table algorithm\n",
    "\n",
    "To fetch the value at my dict[search_key], python calls has(search_key) to obtain the hash value of search_key and uses the least significant bits of that number as an offset to lookup a bucket in the hash table. Number of bits used depend on the current size of the table. If the bucket is empty, KeyError is raised. Otherwise the found bucket has an item-a found_key:found_value pair-and then Python checks whether search_key == found_key. if they match, thaw was the item sought: found_value is returned.\n",
    "\n",
    "However, if search_key and found_key do not match, this is a hash collision. This happens because a hash function maps arbitrary objects to a small number of bits, and—in addition—the hash table is indexed with a subset of those bits. In order to resolve the collision, the algorithm then takes different bits in the hash, massages them in a particular way, and uses the result as an offset to look up a different bucket. If that is empty,\n",
    "KeyError is raised; if not, either the keys match and the item value is returned, or the collision resolution process is repeated\n",
    "\n",
    "The process to insert or update an item is the same, except that when an empty bucket is located, the new item is put there, and when a bucket with a matching key is found, the value in that bucket is overwritten with the new value. Additionally, when inserting items, Python may determine that the hash table is too crowded and rebuild it to a new location with more room. As the hash table grows, so does the number of hash bits used as bucket offsets, and this keeps the rate of collisions low."
   ]
  },
  {
   "cell_type": "markdown",
   "metadata": {},
   "source": [
    "## Practical Consequences of How dict Works"
   ]
  },
  {
   "cell_type": "markdown",
   "metadata": {},
   "source": [
    "### Keys must be hashable objects\n",
    "\n",
    "An object is hashable if all of these requirements are met:\n",
    "1. It supports the hash() function via a hash() method that always returns the same\n",
    "value over the lifetime of the object.\n",
    "2. It supports equality via an eq() method.\n",
    "3. If a == b is True then hash(a) == hash(b) must also be True.\n",
    "\n",
    "User-defined types are hashable by default because their hash value is their id() and they all compare not equal. \n",
    "\n",
    "If you implement a class with a custom `__eq__` method, you must\n",
    "also implement a suitable `__hash__`, because you must always make\n",
    "sure that if a == b is True then hash(a) == hash(b) is also True.\n",
    "Otherwise you are breaking an invariant of the hash table algo‐\n",
    "rithm, with the grave consequence that dicts and sets will not deal\n",
    "reliably with your objects. If a custom `__eq__` depends on muta‐\n",
    "ble state, then `__hash__` must raise TypeError with a message like\n",
    "unhashable type: 'MyClass'."
   ]
  },
  {
   "cell_type": "markdown",
   "metadata": {},
   "source": [
    "### dicts have significant memory overhead\n",
    "\n",
    "Because a dict uses a hash table internally, and hash tables must be sparse to work, they are not space efficient. For example, if you are handling a large quantity of records, it makes sense to store them in a list of tuples or named tuples instead of using a list of dictionaries in JSON style, with one dict per record. Replacing dicts with tuples reduces the memory usage in two ways: by removing the overhead of one hash table per record and by not storing the field names again with each record.\n",
    "\n",
    "For user-defined types, the `__slots__` class attribute changes the storage of instance attributes from a dict to a tuple in each instance."
   ]
  },
  {
   "cell_type": "markdown",
   "metadata": {},
   "source": [
    "### Key search is very fast\n",
    "\n",
    "The dict implementation is ana example of trading space for time: dictionaries have significant memory overhead, but they provide fast access regardless of the size of the dictionary-as long as it fits in the memory."
   ]
  },
  {
   "cell_type": "markdown",
   "metadata": {},
   "source": [
    "### Key ordering depends on isertion order\n",
    "\n",
    "When a hash collision happens, the second key ends up in a position that it would not normally occupy if it had been inserted first. So, a dict built as dict([(key1, value1), (key2, value2)]) compares equal to dict([(key2, value2), (key1, value1)]), but their key ordering may not be the same if the hashes of key1 and key2 collide."
   ]
  },
  {
   "cell_type": "markdown",
   "metadata": {},
   "source": [
    "### Adding items to a dict may change the order of existing keys\n",
    "\n",
    "Whenever you add a new item to a dict, the Python interpreter may decide that the hash table of that dictionary needs to grow. This entails building a new, bigger hash table, and adding all current items to the new table. During this process, new (but different) hash collisions may happen, with the result that the keys are likely to be ordered differently in the new hash table. All of this is implementation-dependent, so you cannot reliably predict when it will happen. If you are iterating over the dictionary keys\n",
    "and changing them at the same time, your loop may not scan all the items as expected, not even the items that were already in the dictionary before you added to it. This is why modifying the contents of a dict while iterating through it is a bad idea. If you need to scan and add items to a dictionary, do it in two steps: read the dict from start to finish and collect the needed additions in a second dict. Then update the first one with it.\n"
   ]
  },
  {
   "cell_type": "markdown",
   "metadata": {},
   "source": [
    "## How Sets Work -- Practical Consequences"
   ]
  },
  {
   "cell_type": "markdown",
   "metadata": {},
   "source": [
    "The set and frozenset types are also implemented with a hash table, except that each bucket holds only a reference to the element (as if it were a key in a dict, but without a value to go with it). In fact, before set was added to the language, we often used dictionaries with dummy values just to perform fast membership tests on the keys.\n",
    "\n",
    "- Set elements must be hashable objects.\n",
    "- Sets have a significant memory overhead.\n",
    "- Membership testing is very efficient.\n",
    "- Element ordering depends on insertion order.\n",
    "- Adding elements to a set may change the order of other elements"
   ]
  },
  {
   "cell_type": "markdown",
   "metadata": {},
   "source": [
    "# Chapter summary"
   ]
  },
  {
   "cell_type": "markdown",
   "metadata": {},
   "source": [
    "Dictionaries are a keystone of Python. Beyond the basic dict, the standard library offers handy, ready-to-use specialized mappings like defaultdict, OrderedDict, ChainMap, and Counter, all defined in the collections module. The same module also provides the easy-to-extend UserDict class\n",
    "\n",
    "Two powerful methods available in most mappings are setdefault and update. The setdefault method is used to update items holding mutable values, for example, in a dict of list values, to avoid redundant searches for the same key. The update method allows bulk insertion or overwriting of items from any other mapping, from iterables providing (key, value) pairs and from keyword arguments. Mapping constructors also use update internally, allowing instances to be initialized from mappings, iterables, or keyword arguments\n",
    "\n",
    "A clever hook in the mapping API is the `__missing__` method, which lets you customize what happens when a key is not found.\n",
    "\n",
    "The collections.abc module provides the Mapping and MutableMapping abstract base classes for reference and type checking. The little-known MappingProxyType from the types module creates immutable mappings. There are also ABCs for Set and Mutable Set.\n",
    "\n",
    "The hash table implementation underlying dict and set is extremely fast. Understanding its logic explains why items are apparently unordered and may even be reordered behind our backs. There is a price to pay for all this speed, and the price is in memory"
   ]
  }
 ],
 "metadata": {
  "interpreter": {
   "hash": "d58cd66771b86600ed196df3ae1631a1e510be967e3cfbdfd84098f57ff410b8"
  },
  "kernelspec": {
   "display_name": "Python 3.8.11 64-bit ('base': conda)",
   "name": "python3"
  },
  "language_info": {
   "codemirror_mode": {
    "name": "ipython",
    "version": 3
   },
   "file_extension": ".py",
   "mimetype": "text/x-python",
   "name": "python",
   "nbconvert_exporter": "python",
   "pygments_lexer": "ipython3",
   "version": "3.8.11"
  },
  "orig_nbformat": 4
 },
 "nbformat": 4,
 "nbformat_minor": 2
}
