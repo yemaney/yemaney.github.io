{
 "cells": [
  {
   "cell_type": "markdown",
   "metadata": {},
   "source": [
    "## A Pythonic Card Deck"
   ]
  },
  {
   "cell_type": "code",
   "execution_count": 1,
   "metadata": {},
   "outputs": [],
   "source": [
    "from collections import namedtuple\n",
    "from typing import Union\n",
    "\n",
    "Card = namedtuple('Card', ['rank', 'suit'])\n",
    "\n",
    "class FrenchDeck:\n",
    "    ranks = [str(n) for n in range(2,11)] + list('JQKA')\n",
    "    suits = 'spades diamonds clubs hearts'.split()\n",
    "    \n",
    "    def __init__(self):\n",
    "        self._cards = [Card(rank, suit) for suit in self.suits\n",
    "                       for rank in self.ranks]\n",
    "        \n",
    "    def __len__(self):\n",
    "        return len(self._cards)\n",
    "    \n",
    "    def __getitem__(self, position: Union[int, slice]):\n",
    "        return self._cards[position]"
   ]
  },
  {
   "cell_type": "code",
   "execution_count": 2,
   "metadata": {},
   "outputs": [
    {
     "data": {
      "text/plain": [
       "Card(rank='7', suit='diamonds')"
      ]
     },
     "execution_count": 2,
     "metadata": {},
     "output_type": "execute_result"
    }
   ],
   "source": [
    "beer_cards = Card('7', 'diamonds')\n",
    "beer_cards"
   ]
  },
  {
   "cell_type": "code",
   "execution_count": 3,
   "metadata": {},
   "outputs": [
    {
     "data": {
      "text/plain": [
       "52"
      ]
     },
     "execution_count": 3,
     "metadata": {},
     "output_type": "execute_result"
    }
   ],
   "source": [
    "deck = FrenchDeck()\n",
    "len(deck)"
   ]
  },
  {
   "cell_type": "code",
   "execution_count": 4,
   "metadata": {},
   "outputs": [
    {
     "data": {
      "text/plain": [
       "Card(rank='2', suit='spades')"
      ]
     },
     "execution_count": 4,
     "metadata": {},
     "output_type": "execute_result"
    }
   ],
   "source": [
    "deck[0]"
   ]
  },
  {
   "cell_type": "code",
   "execution_count": 5,
   "metadata": {},
   "outputs": [
    {
     "data": {
      "text/plain": [
       "Card(rank='Q', suit='spades')"
      ]
     },
     "execution_count": 5,
     "metadata": {},
     "output_type": "execute_result"
    }
   ],
   "source": [
    "from random import choice\n",
    "\n",
    "choice(deck)"
   ]
  },
  {
   "cell_type": "markdown",
   "metadata": {},
   "source": [
    "Because our `__getitem__` delegates to the [] operator of self._cards, our deck auto‐\n",
    "matically supports slicing. \n",
    "\n",
    "Just by implementing the `__getitem__` special method, our deck is also iterable:"
   ]
  },
  {
   "cell_type": "code",
   "execution_count": 6,
   "metadata": {},
   "outputs": [
    {
     "data": {
      "text/plain": [
       "[Card(rank='2', suit='spades'),\n",
       " Card(rank='3', suit='spades'),\n",
       " Card(rank='4', suit='spades')]"
      ]
     },
     "execution_count": 6,
     "metadata": {},
     "output_type": "execute_result"
    }
   ],
   "source": [
    "deck[:3]"
   ]
  },
  {
   "cell_type": "code",
   "execution_count": 7,
   "metadata": {},
   "outputs": [
    {
     "name": "stdout",
     "output_type": "stream",
     "text": [
      "Card(rank='2', suit='spades')\n",
      "Card(rank='3', suit='spades')\n"
     ]
    }
   ],
   "source": [
    "i = 0\n",
    "for card in deck:\n",
    "    print(card)\n",
    "    i += 1\n",
    "    if i == 2:\n",
    "        break"
   ]
  },
  {
   "cell_type": "code",
   "execution_count": 8,
   "metadata": {},
   "outputs": [
    {
     "name": "stdout",
     "output_type": "stream",
     "text": [
      "Card(rank='A', suit='hearts')\n",
      "Card(rank='K', suit='hearts')\n"
     ]
    }
   ],
   "source": [
    "i = 0\n",
    "for card in reversed(deck):\n",
    "    print(card)\n",
    "    i += 1\n",
    "    if i == 2:\n",
    "        break"
   ]
  },
  {
   "cell_type": "code",
   "execution_count": 9,
   "metadata": {},
   "outputs": [
    {
     "data": {
      "text/plain": [
       "True"
      ]
     },
     "execution_count": 9,
     "metadata": {},
     "output_type": "execute_result"
    }
   ],
   "source": [
    "Card('Q', 'hearts') in deck"
   ]
  },
  {
   "cell_type": "code",
   "execution_count": 10,
   "metadata": {},
   "outputs": [
    {
     "data": {
      "text/plain": [
       "False"
      ]
     },
     "execution_count": 10,
     "metadata": {},
     "output_type": "execute_result"
    }
   ],
   "source": [
    "Card('7', 'beasts') in deck"
   ]
  },
  {
   "cell_type": "markdown",
   "metadata": {},
   "source": [
    "sorting..."
   ]
  },
  {
   "cell_type": "code",
   "execution_count": 11,
   "metadata": {},
   "outputs": [],
   "source": [
    "suite_values = dict(spades=3, hearts=2, diamonds=1, clubs=0)\n",
    "\n",
    "def spades_high(card):\n",
    "    rank_value = FrenchDeck.ranks.index(card.rank)\n",
    "    return rank_value * len(suite_values) + suite_values[card.suit]"
   ]
  },
  {
   "cell_type": "code",
   "execution_count": 12,
   "metadata": {},
   "outputs": [
    {
     "name": "stdout",
     "output_type": "stream",
     "text": [
      "Card(rank='2', suit='clubs')\n",
      "Card(rank='2', suit='diamonds')\n",
      "Card(rank='2', suit='hearts')\n"
     ]
    }
   ],
   "source": [
    "i = 0 \n",
    "for card in sorted(deck, key=spades_high):\n",
    "    print(card)\n",
    "    i += 1 \n",
    "    if i == 3:\n",
    "        break"
   ]
  },
  {
   "cell_type": "markdown",
   "metadata": {},
   "source": [
    "## How Special Methods Are Used\n",
    "The first thing to know about special methods is that they are meant to be called by the\n",
    "Python interpreter, and not by you. You don’t write my_object.`__len__`(). You write\n",
    "len(my_object) and, if my_object is an instance of a user-defined class, then Python\n",
    "calls the `__len__` instance method you implemented"
   ]
  },
  {
   "cell_type": "markdown",
   "metadata": {},
   "source": [
    "### Emulating Numeric Types\n",
    "Several special methods allow user objects to respond to operators such as +. We will\n",
    "cover that in more detail in Chapter 13, but here our goal is to further illustrate the use\n",
    "of special methods through another simple example.\n",
    "We will implement a class to represent two-dimensional vectors—that is Euclidean\n",
    "vectors like those used in math and physics (see Figure 1-1"
   ]
  },
  {
   "cell_type": "code",
   "execution_count": 13,
   "metadata": {},
   "outputs": [],
   "source": [
    "# Example 1-2. A simple two-dimensional vector class\n",
    "from math import hypot\n",
    "\n",
    "class Vector:\n",
    "    \n",
    "    def __init__(self, x=0, y=0):\n",
    "        self.x = x\n",
    "        self.y = y\n",
    "        \n",
    "    def __repr__(self) -> str:\n",
    "        return 'Vector (%r, %r)' % (self.x, self.y)\n",
    "    \n",
    "    def __abs__(self):\n",
    "        return hypot(self.x, self.y)\n",
    "    \n",
    "    def __bool__(self):\n",
    "        return bool(abs(self))\n",
    "    \n",
    "    def __add__(self, other):\n",
    "        x = self.x + other.x\n",
    "        y = self.y + other.y\n",
    "        return Vector(x, y)\n",
    "    \n",
    "    def __mul__(self, scalar):\n",
    "        return Vector(self.x * scalar, self.y * scalar)"
   ]
  },
  {
   "cell_type": "code",
   "execution_count": 14,
   "metadata": {},
   "outputs": [
    {
     "data": {
      "text/plain": [
       "Vector (4, 5)"
      ]
     },
     "execution_count": 14,
     "metadata": {},
     "output_type": "execute_result"
    }
   ],
   "source": [
    "v1 = Vector(2,4)\n",
    "v2 = Vector(2,1)\n",
    "v1 + v2"
   ]
  },
  {
   "cell_type": "code",
   "execution_count": 15,
   "metadata": {},
   "outputs": [
    {
     "data": {
      "text/plain": [
       "5.0"
      ]
     },
     "execution_count": 15,
     "metadata": {},
     "output_type": "execute_result"
    }
   ],
   "source": [
    "v = Vector(3, 4)\n",
    "abs(v)"
   ]
  },
  {
   "cell_type": "code",
   "execution_count": 16,
   "metadata": {},
   "outputs": [
    {
     "data": {
      "text/plain": [
       "Vector (9, 12)"
      ]
     },
     "execution_count": 16,
     "metadata": {},
     "output_type": "execute_result"
    }
   ],
   "source": [
    "v * 3"
   ]
  },
  {
   "cell_type": "code",
   "execution_count": 17,
   "metadata": {},
   "outputs": [
    {
     "data": {
      "text/plain": [
       "15.0"
      ]
     },
     "execution_count": 17,
     "metadata": {},
     "output_type": "execute_result"
    }
   ],
   "source": [
    "abs(v * 3)"
   ]
  },
  {
   "cell_type": "markdown",
   "metadata": {},
   "source": [
    "### String Representation\n",
    "The `__repr__` special method is called by the repr built-in to get the string represen‐\n",
    "tation of the object for inspection. If we did not implement `__repr__`, vector instances\n",
    "would be shown in the console like <Vector object at 0x10e100070>.\n",
    "\n",
    "The string returned by `__repr__` should be unambiguous and, if possible, match the\n",
    "source code necessary to re-create the object being represented. That is why our chosen\n",
    "representation looks like calling the constructor of the class (e.g., Vector(3, 4)).\n",
    "\n",
    "Contrast `__repr__` with `__str__`, which is called by the str() constructor and implicitly\n",
    "used by the print function. `__str__` should return a string suitable for display to end\n",
    "users\n",
    "\n",
    "If you only implement one of these special methods, choose `__repr__`, because when\n",
    "no custom `__str__` is available, Python will call `__repr__` as a fallback."
   ]
  },
  {
   "cell_type": "markdown",
   "metadata": {},
   "source": [
    "### Arithmetic Operators\n",
    "Example 1-2 implements two operators: + and *, to show basic usage of `__add__` and\n",
    "`__mul__`. Note that in both cases, the methods create and return a new instance of\n",
    "Vector, and do not modify either operand—self or other are merely read. This is the\n",
    "expected behavior of infix operators: to create new objects and not touch their operands.\n",
    "I will have a lot more to say about that in Chapter 13"
   ]
  },
  {
   "cell_type": "markdown",
   "metadata": {},
   "source": [
    "### Boolean Value of a Custom Type\n",
    "\n",
    "Although Python has a bool type, it accepts any object in a boolean context, such as the\n",
    "expression controlling an if or while statement, or as operands to and, or, and not. To\n",
    "determine whether a value x is truthy or falsy, Python applies bool(x), which always\n",
    "returns True or False.\n",
    "By default, instances of user-defined classes are considered truthy, unless either\n",
    "`__bool__` or `__len__` is implemented. Basically, bool(x) calls x.`__bool__`() and uses\n",
    "the result. If `__bool__` is not implemented, Python tries to invoke x.`__len__`(), and if\n",
    "that returns zero, bool returns False. Otherwise bool returns True.\n",
    "Our implementation of `__bool__` is conceptually simple: it returns False if the mag‐\n",
    "nitude of the vector is zero, True otherwise. We convert the magnitude to a Boolean\n",
    "using bool(abs(self)) because `__bool__` is expected to return a boolean."
   ]
  },
  {
   "cell_type": "markdown",
   "metadata": {},
   "source": [
    "## Chapter Summary\n",
    "By implementing special methods, your objects can behave like the built-in types, en‐\n",
    "abling the expressive coding style the community considers Pythonic.\n",
    "\n",
    "A basic requirement for a Python object is to provide usable string representations of\n",
    "itself, one used for debugging and logging, another for presentation to end users. That\n",
    "is why the special methods `__repr__` and `__str__` exist in the data model.\n",
    "\n",
    "Thanks to operator overloading, Python offers a rich selection of numeric types, from\n",
    "the built-ins to decimal.Decimal and fractions.Fraction, all supporting infix arith‐\n",
    "metic operators. Implementing operators, including reversed operators and augmented\n",
    "assignment"
   ]
  }
 ],
 "metadata": {
  "interpreter": {
   "hash": "d58cd66771b86600ed196df3ae1631a1e510be967e3cfbdfd84098f57ff410b8"
  },
  "kernelspec": {
   "display_name": "Python 3.8.11 64-bit ('base': conda)",
   "name": "python3"
  },
  "language_info": {
   "codemirror_mode": {
    "name": "ipython",
    "version": 3
   },
   "file_extension": ".py",
   "mimetype": "text/x-python",
   "name": "python",
   "nbconvert_exporter": "python",
   "pygments_lexer": "ipython3",
   "version": "3.8.11"
  },
  "orig_nbformat": 4
 },
 "nbformat": 4,
 "nbformat_minor": 2
}
