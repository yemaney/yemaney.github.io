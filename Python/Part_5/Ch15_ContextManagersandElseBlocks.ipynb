{
 "cells": [
  {
   "cell_type": "markdown",
   "metadata": {},
   "source": [
    "# Context Managers and else Blocks\n"
   ]
  },
  {
   "cell_type": "markdown",
   "metadata": {},
   "source": [
    "## Do This, Then That: else Blocks Beyond if\n",
    "\n",
    "- EAFP : Easier to ask for forgiveness than permission.\n",
    "- LBYL : Look before you leap\n",
    "\n",
    "---\n",
    "\n",
    "- the else clause can be used not only in if statements but also in for, while, and try statements.\n",
    "- The semantics of for/else, while/else, and try/else are closely related, but very different from if/else.\n",
    "\n",
    "--- \n",
    "\n",
    "- for\n",
    "  - the else block will run only if and when the for `loop runs to completion`\n",
    "- while\n",
    "  - the else block will run only if and when the while `loop exits because the condition became falsy`\n",
    "- try\n",
    "  - the else block will only run `if no exception is raised` in the try block"
   ]
  },
  {
   "cell_type": "markdown",
   "metadata": {},
   "source": [
    "---\n",
    "\n",
    "```py\n",
    "for item in my_list:\n",
    "    if item.flavor == 'banana':\n",
    "        break\n",
    "else:\n",
    "    raise ValueError('No banana flavor found')\n",
    "```\n",
    "\n",
    "--- \n",
    "\n",
    "```py\n",
    "try:\n",
    "    dangerous_call()\n",
    "except OSError:\n",
    "    log('OSError...')\n",
    "else:\n",
    "    after_call()\n",
    "```\n"
   ]
  },
  {
   "cell_type": "markdown",
   "metadata": {},
   "source": [
    "## Context Managers and with Blocks\n",
    "\n",
    "- Context manager objects exist to control a with statement, just like iterators exist to control a for statement.\n",
    "- The with statement was designed to simplify the try/finally pattern, which guarantees that some operation is performed after a block of code\n",
    "- code in the finally clause usually releases a critical resource or restores some previous state that was temporarily changed."
   ]
  },
  {
   "cell_type": "markdown",
   "metadata": {},
   "source": [
    "- The context manager protocol consists of the `__enter__` and `__exit__` methods.\n",
    "- At the start of the with, `__enter__` is invoked on the context manager object.\n",
    "- The role of the finally clause is played by a call to `__exit__` on the context manager object at the end of the with block"
   ]
  },
  {
   "cell_type": "code",
   "execution_count": 4,
   "metadata": {},
   "outputs": [],
   "source": [
    "with open('./../README.md') as fp:\n",
    "    src = src = fp.read()"
   ]
  },
  {
   "cell_type": "code",
   "execution_count": 5,
   "metadata": {},
   "outputs": [
    {
     "data": {
      "text/plain": [
       "26"
      ]
     },
     "execution_count": 5,
     "metadata": {},
     "output_type": "execute_result"
    }
   ],
   "source": [
    "len(src)"
   ]
  },
  {
   "cell_type": "code",
   "execution_count": 6,
   "metadata": {},
   "outputs": [
    {
     "data": {
      "text/plain": [
       "<_io.TextIOWrapper name='./../README.md' mode='r' encoding='cp1252'>"
      ]
     },
     "execution_count": 6,
     "metadata": {},
     "output_type": "execute_result"
    }
   ],
   "source": [
    "fp"
   ]
  },
  {
   "cell_type": "code",
   "execution_count": 8,
   "metadata": {},
   "outputs": [
    {
     "name": "stdout",
     "output_type": "stream",
     "text": [
      "# Python\n",
      "Mastering Python\n",
      "\n"
     ]
    }
   ],
   "source": [
    "print(src)"
   ]
  },
  {
   "cell_type": "code",
   "execution_count": 9,
   "metadata": {},
   "outputs": [
    {
     "ename": "ValueError",
     "evalue": "I/O operation on closed file.",
     "output_type": "error",
     "traceback": [
      "\u001b[1;31m---------------------------------------------------------------------------\u001b[0m",
      "\u001b[1;31mValueError\u001b[0m                                Traceback (most recent call last)",
      "\u001b[1;32m<ipython-input-9-5b707e20d623>\u001b[0m in \u001b[0;36m<module>\u001b[1;34m\u001b[0m\n\u001b[1;32m----> 1\u001b[1;33m \u001b[0mfp\u001b[0m\u001b[1;33m.\u001b[0m\u001b[0mread\u001b[0m\u001b[1;33m(\u001b[0m\u001b[1;33m)\u001b[0m\u001b[1;33m\u001b[0m\u001b[1;33m\u001b[0m\u001b[0m\n\u001b[0m",
      "\u001b[1;31mValueError\u001b[0m: I/O operation on closed file."
     ]
    }
   ],
   "source": [
    "fp.read()"
   ]
  },
  {
   "cell_type": "markdown",
   "metadata": {},
   "source": [
    "1. fp is bound to the opened file because the file’s `__enter__` method returns self.\n",
    "2.  can’t perform I/O with fp because at the end of the with block, the TextIOWrapper.`__exit__` method is called and closes the file."
   ]
  },
  {
   "cell_type": "code",
   "execution_count": 3,
   "metadata": {},
   "outputs": [],
   "source": [
    "class LookingGlass:\n",
    "    \n",
    "    def __enter__(self):\n",
    "        import sys\n",
    "        self.original_write = sys.stdout.write\n",
    "        sys.stdout.write = self.reverse_write\n",
    "        return \"JABBERWOCKY\"\n",
    "    \n",
    "    def reverse_write(self, text):\n",
    "        self.original_write(text[::-1])\n",
    "        \n",
    "    def __exit__(self, exc_type, exc_value, traceback):\n",
    "        import sys\n",
    "        sys.stdout.write = self.original_write\n",
    "        if exc_type is ZeroDivisionError:\n",
    "            print('Please DO NOT divide by zero!')\n",
    "            return True"
   ]
  },
  {
   "cell_type": "markdown",
   "metadata": {},
   "source": [
    "1. Python invokes `__enter__` with no arguments besides self\n",
    "2. Hold the original sys.stdout.write method in an instance attribute for later use\n",
    "3. Monkey patch sys.stdout.write replactin it with our own method\n",
    "4. Return \"JABBERWOCKY\" string just so we have something to put in the target variable what\n",
    "5. Our replacement to sys.stdout.write reverses the text argument and calls the original implementation.\n",
    "6. Python calls `__exit__` with None, None, None if all went well; if an exception is raised, the three arguments get the exception data, as described next.\n",
    "7. It’s cheap to import modules again because Python caches them\n",
    "8. Restore the original method to sys.stdout.write\n",
    "9. If the exception is not None and itstype is ZeroDivisionError, print a message…\n",
    "10. …and return True to tell the interpreter that the exception was handled.\n",
    "11. If `__exit__` returns None or anything but True, any exception raised in the with block will be propagated"
   ]
  },
  {
   "cell_type": "code",
   "execution_count": 8,
   "metadata": {},
   "outputs": [
    {
     "data": {
      "text/plain": [
       "<__main__.LookingGlass at 0x2ebd1aa0730>"
      ]
     },
     "execution_count": 8,
     "metadata": {},
     "output_type": "execute_result"
    }
   ],
   "source": [
    "manager = LookingGlass()\n",
    "manager"
   ]
  },
  {
   "cell_type": "code",
   "execution_count": 9,
   "metadata": {},
   "outputs": [
    {
     "data": {
      "text/plain": [
       "'JABBERWOCKY'"
      ]
     },
     "execution_count": 9,
     "metadata": {},
     "output_type": "execute_result"
    }
   ],
   "source": [
    "monster = manager.__enter__()\n",
    "monster\n"
   ]
  },
  {
   "cell_type": "markdown",
   "metadata": {},
   "source": [
    "## The contextlib Utilities\n",
    "\n",
    "- closing\n",
    "  - A function to build context managers out of objects that provide a `close()` method but don’t implement the `__enter__`/`__exit__` protocol.\n",
    "- suppress\n",
    "  - A context manager to temporarily ignore specified exceptions.\n",
    "- @contextmanager\n",
    "  - A decorator that lets you build a context manager from a simple `generator` function, instead of creating a class and implementing the protocol.\n",
    "- ContextDecorator\n",
    "  - A base class for defining class-based context managers that can also be used as function decorators, running the entire function within a managed context\n",
    "- ExitStack\n",
    "  - A context manager that lets you enter a variable number of context managers. \n",
    "  - When the with block ends, ExitStack calls the stacked context managers’ `__exit__` methods in LIFO order (last entered, first exited). \n",
    "  - Use this class when you don’t know beforehand how many context managers you need to enter in your with block; for example, when opening all files from an arbitrary list of files at the same time"
   ]
  },
  {
   "cell_type": "markdown",
   "metadata": {},
   "source": [
    "## Using @contextmanager\n",
    "\n",
    "- The @contextmanager decorator reduces the boilerplate of creating a context manager\n",
    "- just implement a generator with a single yield\n",
    "-  everything before the yield will be executed at the beginning of the while block when the interpreter calls `__enter__`;\n",
    "- code after yield will run when `__exit__` "
   ]
  },
  {
   "cell_type": "code",
   "execution_count": 11,
   "metadata": {},
   "outputs": [],
   "source": [
    "import contextlib\n",
    "\n",
    "@contextlib.contextmanager\n",
    "def looking_glass():\n",
    "    import sys\n",
    "    original_write = sys.stdout.write\n",
    "    \n",
    "    def reverse_write(text): \n",
    "        original_write(text[::-1])\n",
    "    \n",
    "    sys.stdout.write = reverse_write\n",
    "    yield 'JABBERWOCKY'\n",
    "    sys.stdout.write = original_write"
   ]
  },
  {
   "cell_type": "markdown",
   "metadata": {},
   "source": [
    "1. Apply the contextmanager decorator\n",
    "2. Preserve original sys.stdout.write method\n",
    "3. Define custom reverse_write function; original_write will be available in the closure\n",
    "4. replace sys.stdout.write with reverse_write\n",
    "5.  Yield the value that will be bound to the target variable in the as clause of the with statement. This function pauses at this point while the body of the with executes.\n",
    "6.  When control exits the with block in any way, execution continues after the yield; here the original sys.stdout.write is restored."
   ]
  },
  {
   "cell_type": "markdown",
   "metadata": {},
   "source": [
    "Essentially the contextlib.contextmanager decorator wraps the function in a class that implements the `__enter__` and `__exit__` methods. \n",
    "\n",
    "\n",
    "The `__enter__` method of that class:\n",
    "1. Invokes the generator function and holds on to the generator object—let’s call it gen.\n",
    "2. Calls next(gen) to make it run to the yield keyword.\n",
    "3. Returns the value yielded by next(gen), so it can be bound to a target variable in the with/as form.\n",
    "\n",
    "\n",
    "When the with block terminates, the `__exit__` method:\n",
    "1. Checks an exception was passed as exc_type; if so, gen.throw(exception) is invoked, causing the exception to be raised in the yield line inside the generator function body.\n",
    "2. Otherwise, next(gen) is called, resuming the execution of the generator function body after the yield"
   ]
  },
  {
   "cell_type": "markdown",
   "metadata": {},
   "source": [
    "- A serious flaw: if an exception is raised in the body of the with block, the Python interpreter will catch it and raise it again in the yield expression inside looking_glass. \n",
    "- But there is no error handling there, so the looking_glass function will abort without ever restoring the original sys.stdout.write method, leaving the system in an invalid state"
   ]
  },
  {
   "cell_type": "code",
   "execution_count": 12,
   "metadata": {},
   "outputs": [],
   "source": [
    "@contextlib.contextmanager\n",
    "def looking_glass():\n",
    "    import sys\n",
    "    original_write = sys.stdout.write\n",
    "    def reverse_write(text):\n",
    "        original_write(text[::-1])\n",
    "    sys.stdout.write = reverse_write\n",
    "    msg = '' \n",
    "    try:\n",
    "        yield 'JABBERWOCKY'\n",
    "    except ZeroDivisionError: \n",
    "        msg = 'Please DO NOT divide by zero!'\n",
    "    finally:\n",
    "        sys.stdout.write = original_write \n",
    "        if msg:\n",
    "            print(msg)"
   ]
  },
  {
   "cell_type": "markdown",
   "metadata": {},
   "source": [
    "1. Create a variable for a possible error message\n",
    "2. Handle ZeroDivisionError by setting an error message.\n",
    "3. Undo monkey-patching of sys.stdout.write\n",
    "4. Display error message, if it was set.\n",
    "\n",
    "With @contextmanager, the default behavior is inverted: the `__exit__` method provided by the decorator assumes any exception sent into the generator is handled and should be suppressed. You must explicitly re-raise an exception in the decorated function if you don’t want @contextmanager to suppress it."
   ]
  },
  {
   "cell_type": "markdown",
   "metadata": {},
   "source": [
    "# Chapter Summary\n",
    "\n",
    "- discussion of else blocks in for, while, and try statements\n",
    "- the `__enter__/__exit__` methods,\n",
    "- with is a tool for factoring out common setup and teardown code, or any pair of operations that need to be done before and after another procedure\n",
    "- the` @contextmanager` decorator, makes it possible to implement a context manager using a simple generator with one yield"
   ]
  }
 ],
 "metadata": {
  "interpreter": {
   "hash": "d58cd66771b86600ed196df3ae1631a1e510be967e3cfbdfd84098f57ff410b8"
  },
  "kernelspec": {
   "display_name": "Python 3.8.11 64-bit ('base': conda)",
   "language": "python",
   "name": "python3"
  },
  "language_info": {
   "codemirror_mode": {
    "name": "ipython",
    "version": 3
   },
   "file_extension": ".py",
   "mimetype": "text/x-python",
   "name": "python",
   "nbconvert_exporter": "python",
   "pygments_lexer": "ipython3",
   "version": "3.8.11"
  },
  "orig_nbformat": 4
 },
 "nbformat": 4,
 "nbformat_minor": 2
}
