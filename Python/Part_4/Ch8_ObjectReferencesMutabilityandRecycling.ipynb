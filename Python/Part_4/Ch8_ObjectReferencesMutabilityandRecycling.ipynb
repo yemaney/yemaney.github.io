{
 "cells": [
  {
   "cell_type": "markdown",
   "metadata": {},
   "source": [
    "# Object References, Mutability, and Recycling"
   ]
  },
  {
   "cell_type": "markdown",
   "metadata": {},
   "source": [
    "## Variables Are Not Boxes\n",
    "\n",
    "In python: variables are labels, not boxes. "
   ]
  },
  {
   "cell_type": "code",
   "execution_count": 1,
   "metadata": {},
   "outputs": [],
   "source": [
    "# . Variables are assigned to objects only after the objects are created\n",
    "\n",
    "class Gizmo:\n",
    "    def __init__(self) -> None:\n",
    "        print(f'Gizmo id: {id(self)}')"
   ]
  },
  {
   "cell_type": "code",
   "execution_count": 2,
   "metadata": {},
   "outputs": [
    {
     "name": "stdout",
     "output_type": "stream",
     "text": [
      "Gizmo id: 2538552574160\n"
     ]
    }
   ],
   "source": [
    "x = Gizmo()"
   ]
  },
  {
   "cell_type": "code",
   "execution_count": 3,
   "metadata": {},
   "outputs": [
    {
     "name": "stdout",
     "output_type": "stream",
     "text": [
      "Gizmo id: 2538552575216\n"
     ]
    },
    {
     "ename": "TypeError",
     "evalue": "unsupported operand type(s) for *: 'Gizmo' and 'int'",
     "output_type": "error",
     "traceback": [
      "\u001b[1;31m---------------------------------------------------------------------------\u001b[0m",
      "\u001b[1;31mTypeError\u001b[0m                                 Traceback (most recent call last)",
      "\u001b[1;32m<ipython-input-3-2beac7b9470d>\u001b[0m in \u001b[0;36m<module>\u001b[1;34m\u001b[0m\n\u001b[1;32m----> 1\u001b[1;33m \u001b[0my\u001b[0m \u001b[1;33m=\u001b[0m \u001b[0mGizmo\u001b[0m\u001b[1;33m(\u001b[0m\u001b[1;33m)\u001b[0m \u001b[1;33m*\u001b[0m \u001b[1;36m10\u001b[0m\u001b[1;33m\u001b[0m\u001b[1;33m\u001b[0m\u001b[0m\n\u001b[0m",
      "\u001b[1;31mTypeError\u001b[0m: unsupported operand type(s) for *: 'Gizmo' and 'int'"
     ]
    }
   ],
   "source": [
    "y = Gizmo() * 10"
   ]
  },
  {
   "cell_type": "code",
   "execution_count": 5,
   "metadata": {},
   "outputs": [
    {
     "ename": "NameError",
     "evalue": "name 'y' is not defined",
     "output_type": "error",
     "traceback": [
      "\u001b[1;31m---------------------------------------------------------------------------\u001b[0m",
      "\u001b[1;31mNameError\u001b[0m                                 Traceback (most recent call last)",
      "\u001b[1;32m<ipython-input-5-9063a9f0e032>\u001b[0m in \u001b[0;36m<module>\u001b[1;34m\u001b[0m\n\u001b[1;32m----> 1\u001b[1;33m \u001b[0my\u001b[0m\u001b[1;33m\u001b[0m\u001b[1;33m\u001b[0m\u001b[0m\n\u001b[0m",
      "\u001b[1;31mNameError\u001b[0m: name 'y' is not defined"
     ]
    }
   ],
   "source": [
    "y"
   ]
  },
  {
   "cell_type": "markdown",
   "metadata": {},
   "source": [
    "1. The output Gizmo id: ... is a side effect of creating a Gizmo instance.\n",
    "2. Multiplying a Gizmo instance will raise an exception\n",
    "3. Here is proof that a second Gizmo was actually instantiated before the multiplication was attempted.\n",
    "4. But variable y was never created, because the exception happened while the right hand side of the assignment was being evaluated.\n",
    "\n",
    "- To understand an assignment in Python, always read the righthand side first: that’s where the object is created or retrieved. After that, the variable on the left is bound to the object, like a label stuck to it"
   ]
  },
  {
   "cell_type": "markdown",
   "metadata": {},
   "source": [
    "## Identity, Equality, Aliases\n",
    "\n",
    "Because variables are mere labels, nothing prevents an object from having several labels assigned to it."
   ]
  },
  {
   "cell_type": "code",
   "execution_count": 6,
   "metadata": {},
   "outputs": [
    {
     "data": {
      "text/plain": [
       "True"
      ]
     },
     "execution_count": 6,
     "metadata": {},
     "output_type": "execute_result"
    }
   ],
   "source": [
    "charles = {'name': 'Charles L. Dodgson', 'born': 1832}\n",
    "lewis = charles\n",
    "lewis is charles"
   ]
  },
  {
   "cell_type": "code",
   "execution_count": 7,
   "metadata": {},
   "outputs": [
    {
     "data": {
      "text/plain": [
       "(2538564925120, 2538564925120)"
      ]
     },
     "execution_count": 7,
     "metadata": {},
     "output_type": "execute_result"
    }
   ],
   "source": [
    "id(charles), id(lewis)"
   ]
  },
  {
   "cell_type": "code",
   "execution_count": 8,
   "metadata": {},
   "outputs": [
    {
     "data": {
      "text/plain": [
       "{'name': 'Charles L. Dodgson', 'born': 1832, 'balance': 950}"
      ]
     },
     "execution_count": 8,
     "metadata": {},
     "output_type": "execute_result"
    }
   ],
   "source": [
    "lewis['balance'] = 950\n",
    "charles"
   ]
  },
  {
   "cell_type": "markdown",
   "metadata": {},
   "source": [
    "1. lewis is an alias for charles.\n",
    "2. The is operator and the id function confirm it.\n",
    "3. Adding an item to lewis is the same as adding an item to charles."
   ]
  },
  {
   "cell_type": "code",
   "execution_count": 9,
   "metadata": {},
   "outputs": [
    {
     "data": {
      "text/plain": [
       "True"
      ]
     },
     "execution_count": 9,
     "metadata": {},
     "output_type": "execute_result"
    }
   ],
   "source": [
    "alex = {'name': 'Charles L. Dodgson', 'born': 1832, 'balance': 950}\n",
    "alex == charles"
   ]
  },
  {
   "cell_type": "code",
   "execution_count": 10,
   "metadata": {},
   "outputs": [
    {
     "data": {
      "text/plain": [
       "True"
      ]
     },
     "execution_count": 10,
     "metadata": {},
     "output_type": "execute_result"
    }
   ],
   "source": [
    "alex is not charles"
   ]
  },
  {
   "cell_type": "markdown",
   "metadata": {},
   "source": [
    "1. alex refers to an object that is a replica of the object assigned to charles\n",
    "2. The objects compare equal, because of the `__eq__` implementation in the dict class.\n",
    "3. But they are distinct objects. This is the Pythonic way of writing the negative identity comparison: a is not b"
   ]
  },
  {
   "cell_type": "markdown",
   "metadata": {},
   "source": [
    "Every object has an identity, a type and a value. An object’s identity never changes once it has been created; you may think of it as the object’s address in memory. The is operator compares the identity of two objects; the id() function returns an integer representing its identity"
   ]
  },
  {
   "cell_type": "markdown",
   "metadata": {},
   "source": [
    "### Choosing Between == and is\n",
    "\n",
    "The == operator compares the `values` of objects (the data they hold), while is compares their `identities`"
   ]
  },
  {
   "cell_type": "markdown",
   "metadata": {},
   "source": [
    "### The Relative Immutability of Tuples\n",
    "\n",
    "Tuples, like most Python collections—lists, dicts, sets, etc.—hold references to objects.If the referenced items are mutable, they `may change even if the tuple itself does no`t. In other words, the immutability of tuples really refers to the physical contents of the\n",
    "`tuple data structure (i.e., the references it holds), and does not extend to the referenced objects`."
   ]
  },
  {
   "cell_type": "code",
   "execution_count": 11,
   "metadata": {},
   "outputs": [
    {
     "data": {
      "text/plain": [
       "True"
      ]
     },
     "execution_count": 11,
     "metadata": {},
     "output_type": "execute_result"
    }
   ],
   "source": [
    "t1 = (1, 2, [30, 40])\n",
    "t2 = (1, 2, [30, 40])\n",
    "\n",
    "t1 == t2"
   ]
  },
  {
   "cell_type": "code",
   "execution_count": 12,
   "metadata": {},
   "outputs": [
    {
     "data": {
      "text/plain": [
       "2538565644032"
      ]
     },
     "execution_count": 12,
     "metadata": {},
     "output_type": "execute_result"
    }
   ],
   "source": [
    "id(t1[-1])"
   ]
  },
  {
   "cell_type": "code",
   "execution_count": 13,
   "metadata": {},
   "outputs": [
    {
     "data": {
      "text/plain": [
       "(1, 2, [30, 40, 99])"
      ]
     },
     "execution_count": 13,
     "metadata": {},
     "output_type": "execute_result"
    }
   ],
   "source": [
    "t1[-1].append(99)\n",
    "t1"
   ]
  },
  {
   "cell_type": "code",
   "execution_count": 14,
   "metadata": {},
   "outputs": [
    {
     "data": {
      "text/plain": [
       "2538565644032"
      ]
     },
     "execution_count": 14,
     "metadata": {},
     "output_type": "execute_result"
    }
   ],
   "source": [
    "id(t1[-1])"
   ]
  },
  {
   "cell_type": "markdown",
   "metadata": {},
   "source": [
    "1. t1 is immutable, but t1[-1] is mutable.\n",
    "2. Inspect the identity of the list at t1[-1].\n",
    "3. Modify the t1[-1] list in place.\n",
    "4. The identity of t1[-1] has not changed, only its value."
   ]
  },
  {
   "cell_type": "markdown",
   "metadata": {},
   "source": [
    "## Copies Are Shallow by Default"
   ]
  },
  {
   "cell_type": "code",
   "execution_count": 16,
   "metadata": {},
   "outputs": [
    {
     "data": {
      "text/plain": [
       "[3, [55, 44], (7, 8, 9)]"
      ]
     },
     "execution_count": 16,
     "metadata": {},
     "output_type": "execute_result"
    }
   ],
   "source": [
    "l1 = [3, [55, 44], (7, 8, 9)]\n",
    "l2 = list(l1)\n",
    "l2"
   ]
  },
  {
   "cell_type": "code",
   "execution_count": 18,
   "metadata": {},
   "outputs": [
    {
     "data": {
      "text/plain": [
       "False"
      ]
     },
     "execution_count": 18,
     "metadata": {},
     "output_type": "execute_result"
    }
   ],
   "source": [
    "l2 is l1"
   ]
  },
  {
   "cell_type": "markdown",
   "metadata": {},
   "source": [
    "1. list(l1) creates a copy of l1\n",
    "2. The copies are equal\n",
    "3. But refer to two different objects\n",
    "\n",
    "copy is filled with references to the same items held by\n",
    "the original container"
   ]
  },
  {
   "cell_type": "code",
   "execution_count": 19,
   "metadata": {},
   "outputs": [
    {
     "name": "stdout",
     "output_type": "stream",
     "text": [
      "l1: [3, [44], (7, 8, 9), 100]\n",
      "l2: [3, [44], (7, 8, 9)]\n"
     ]
    }
   ],
   "source": [
    "l1.append(100)\n",
    "l1[1].remove(55) \n",
    "print('l1:', l1)\n",
    "print('l2:', l2)"
   ]
  },
  {
   "cell_type": "code",
   "execution_count": 20,
   "metadata": {},
   "outputs": [
    {
     "name": "stdout",
     "output_type": "stream",
     "text": [
      "l1: [3, [44, 33, 22], (7, 8, 9), 100]\n",
      "l2: [3, [44, 33, 22], (7, 8, 9, 10, 11)]\n"
     ]
    }
   ],
   "source": [
    "l2[1] += [33, 22]\n",
    "l2[2] += (10, 11)\n",
    "print('l1:', l1)\n",
    "print('l2:', l2)"
   ]
  },
  {
   "cell_type": "markdown",
   "metadata": {},
   "source": [
    "1. Appending 100 to l1 has no effect on l2\n",
    "2. Here we remove 55 from the inner list l1[1]. This affects l2 because l2[1] is bound to the same list as l1[1].\n",
    "3. For a mutable object like the list referred by l2[1], the operator += changes the list in place. This change is visible at l1[1], which is an alias for l2[1].\n",
    "4. += on a tuple creates a new tuple and rebinds the variable l2[2] here.Now the tuples in the last position of l1 and l2 are no longer the same object."
   ]
  },
  {
   "cell_type": "markdown",
   "metadata": {},
   "source": [
    "### Deep and Shallow Copies of Arbitrary Objects"
   ]
  },
  {
   "cell_type": "code",
   "execution_count": 23,
   "metadata": {},
   "outputs": [],
   "source": [
    "class Bus:\n",
    "    def __init__(self, passengers = None) -> None:\n",
    "        if passengers is None:\n",
    "            self.passengers = []\n",
    "        else:\n",
    "            self.passengers = list(passengers)\n",
    "            \n",
    "    def pick(self, name: str):\n",
    "        self.passengers.append(name)\n",
    "        \n",
    "    def drop(self, name: str):\n",
    "        self.passengers.remove(name)"
   ]
  },
  {
   "cell_type": "code",
   "execution_count": 24,
   "metadata": {},
   "outputs": [
    {
     "data": {
      "text/plain": [
       "(2538565823216, 2538565823360, 2538565823552)"
      ]
     },
     "execution_count": 24,
     "metadata": {},
     "output_type": "execute_result"
    }
   ],
   "source": [
    "import copy\n",
    "\n",
    "bus1 = Bus(['Alice', 'Bill', 'Claire', 'David'])\n",
    "bus2 = copy.copy(bus1)\n",
    "bus3 = copy.deepcopy(bus1)\n",
    "\n",
    "id(bus1), id(bus2), id(bus3)"
   ]
  },
  {
   "cell_type": "code",
   "execution_count": 25,
   "metadata": {},
   "outputs": [
    {
     "data": {
      "text/plain": [
       "['Alice', 'Claire', 'David']"
      ]
     },
     "execution_count": 25,
     "metadata": {},
     "output_type": "execute_result"
    }
   ],
   "source": [
    "bus1.drop('Bill')\n",
    "bus2.passengers"
   ]
  },
  {
   "cell_type": "code",
   "execution_count": 26,
   "metadata": {},
   "outputs": [
    {
     "data": {
      "text/plain": [
       "(2538565802176, 2538565802176, 2538552513408)"
      ]
     },
     "execution_count": 26,
     "metadata": {},
     "output_type": "execute_result"
    }
   ],
   "source": [
    "id(bus1.passengers), id(bus2.passengers), id(bus3.passengers)"
   ]
  },
  {
   "cell_type": "code",
   "execution_count": 27,
   "metadata": {},
   "outputs": [
    {
     "data": {
      "text/plain": [
       "['Alice', 'Bill', 'Claire', 'David']"
      ]
     },
     "execution_count": 27,
     "metadata": {},
     "output_type": "execute_result"
    }
   ],
   "source": [
    "bus3.passengers"
   ]
  },
  {
   "cell_type": "markdown",
   "metadata": {},
   "source": [
    "1. Using copy and deepcopy, we create three distinct Bus instances.\n",
    "2. After bus1 drops 'Bill', he is also missing from bus2\n",
    "3. Inspection of the passengers atributes shows that bus1 and bus2 share the same list object, because bus2 is a shallow copy of bus1.\n",
    "4. bus3 is a deep copy of bus1, so its passengers attribute refers to another list."
   ]
  },
  {
   "cell_type": "markdown",
   "metadata": {},
   "source": [
    "The deepcopy function remembers the objects already copied to handle cyclic references gracefully."
   ]
  },
  {
   "cell_type": "code",
   "execution_count": 28,
   "metadata": {},
   "outputs": [
    {
     "data": {
      "text/plain": [
       "[10, 20, [[...], 30]]"
      ]
     },
     "execution_count": 28,
     "metadata": {},
     "output_type": "execute_result"
    }
   ],
   "source": [
    "a = [10, 20]\n",
    "b = [a, 30]\n",
    "a.append(b)\n",
    "a"
   ]
  },
  {
   "cell_type": "code",
   "execution_count": 29,
   "metadata": {},
   "outputs": [
    {
     "data": {
      "text/plain": [
       "[10, 20, [[...], 30]]"
      ]
     },
     "execution_count": 29,
     "metadata": {},
     "output_type": "execute_result"
    }
   ],
   "source": [
    "c = copy.deepcopy(a)\n",
    "c"
   ]
  },
  {
   "cell_type": "markdown",
   "metadata": {},
   "source": [
    "## Function Parameters as References\n",
    "\n",
    "Call by sharing means that each formal parameter of the function gets a copy of each reference in the arguments. In other words, the parameters inside the function become aliases of the actual arguments\n",
    "\n",
    "The result of this scheme is that `a function may change any mutable object passed as a parameter`, but it cannot change the identity of those objects ."
   ]
  },
  {
   "cell_type": "code",
   "execution_count": 31,
   "metadata": {},
   "outputs": [],
   "source": [
    "def f(a, b):\n",
    "    a += b\n",
    "    return a\n",
    "\n",
    "x = 1\n",
    "y = 2"
   ]
  },
  {
   "cell_type": "code",
   "execution_count": 32,
   "metadata": {},
   "outputs": [
    {
     "data": {
      "text/plain": [
       "3"
      ]
     },
     "execution_count": 32,
     "metadata": {},
     "output_type": "execute_result"
    }
   ],
   "source": [
    "f(x, y)"
   ]
  },
  {
   "cell_type": "code",
   "execution_count": 33,
   "metadata": {},
   "outputs": [
    {
     "data": {
      "text/plain": [
       "(1, 2)"
      ]
     },
     "execution_count": 33,
     "metadata": {},
     "output_type": "execute_result"
    }
   ],
   "source": [
    "x, y"
   ]
  },
  {
   "cell_type": "code",
   "execution_count": 34,
   "metadata": {},
   "outputs": [
    {
     "data": {
      "text/plain": [
       "[1, 2, 3, 4]"
      ]
     },
     "execution_count": 34,
     "metadata": {},
     "output_type": "execute_result"
    }
   ],
   "source": [
    "a = [1, 2]\n",
    "b = [3, 4]\n",
    "f(a, b)"
   ]
  },
  {
   "cell_type": "code",
   "execution_count": 35,
   "metadata": {},
   "outputs": [
    {
     "data": {
      "text/plain": [
       "([1, 2, 3, 4], [3, 4])"
      ]
     },
     "execution_count": 35,
     "metadata": {},
     "output_type": "execute_result"
    }
   ],
   "source": [
    "a, b "
   ]
  },
  {
   "cell_type": "code",
   "execution_count": 36,
   "metadata": {},
   "outputs": [
    {
     "data": {
      "text/plain": [
       "(10, 20, 30, 40)"
      ]
     },
     "execution_count": 36,
     "metadata": {},
     "output_type": "execute_result"
    }
   ],
   "source": [
    "t = (10, 20)\n",
    "u = (30, 40)\n",
    "\n",
    "f(t, u) "
   ]
  },
  {
   "cell_type": "code",
   "execution_count": 37,
   "metadata": {},
   "outputs": [
    {
     "data": {
      "text/plain": [
       "((10, 20), (30, 40))"
      ]
     },
     "execution_count": 37,
     "metadata": {},
     "output_type": "execute_result"
    }
   ],
   "source": [
    "t, u"
   ]
  },
  {
   "cell_type": "markdown",
   "metadata": {},
   "source": [
    "1. The number x is unchanged.\n",
    "2. The list a is changed.\n",
    "3. The tuple t is unchanged."
   ]
  },
  {
   "cell_type": "markdown",
   "metadata": {},
   "source": [
    "### Mutable Types as Parameter Defaults: Bad Idea"
   ]
  },
  {
   "cell_type": "code",
   "execution_count": 38,
   "metadata": {},
   "outputs": [],
   "source": [
    "class HauntedBus:\n",
    "    \"\"\"A bus model haunted by ghost passengers\"\"\"\n",
    "    \n",
    "    def __init__(self, passengers=[]) -> None:\n",
    "        self.passengers = passengers\n",
    "        \n",
    "    def pick(self, name):\n",
    "         self.passengers.append(name) \n",
    "    \n",
    "    def drop(self, name):\n",
    "        self.passengers.remove(name)"
   ]
  },
  {
   "cell_type": "markdown",
   "metadata": {},
   "source": [
    "1. When the passengers argument is not passed, this parameter is bound to the default list object, which is initially empty.\n",
    "2. This assignment makes self.passengers an alias for passengers, which is itself\n",
    "an alias for the default list, when no passengers argument is given.\n",
    "3. When the methods .remove() and .append() are used with self.passengers\n",
    "we are actually mutating the default list, which is an attribute of the function object."
   ]
  },
  {
   "cell_type": "code",
   "execution_count": 39,
   "metadata": {},
   "outputs": [
    {
     "data": {
      "text/plain": [
       "['Alice', 'Bill']"
      ]
     },
     "execution_count": 39,
     "metadata": {},
     "output_type": "execute_result"
    }
   ],
   "source": [
    "bus1 = HauntedBus(['Alice', 'Bill'])\n",
    "bus1.passengers"
   ]
  },
  {
   "cell_type": "code",
   "execution_count": 40,
   "metadata": {},
   "outputs": [
    {
     "data": {
      "text/plain": [
       "['Bill', 'Charlie']"
      ]
     },
     "execution_count": 40,
     "metadata": {},
     "output_type": "execute_result"
    }
   ],
   "source": [
    "bus1.pick('Charlie')\n",
    "bus1.drop('Alice')\n",
    "bus1.passengers"
   ]
  },
  {
   "cell_type": "code",
   "execution_count": 41,
   "metadata": {},
   "outputs": [
    {
     "data": {
      "text/plain": [
       "['Carrie']"
      ]
     },
     "execution_count": 41,
     "metadata": {},
     "output_type": "execute_result"
    }
   ],
   "source": [
    "bus2 = HauntedBus()\n",
    "bus2.pick('Carrie')\n",
    "bus2.passengers"
   ]
  },
  {
   "cell_type": "code",
   "execution_count": 42,
   "metadata": {},
   "outputs": [
    {
     "data": {
      "text/plain": [
       "['Carrie']"
      ]
     },
     "execution_count": 42,
     "metadata": {},
     "output_type": "execute_result"
    }
   ],
   "source": [
    "bus3 = HauntedBus()\n",
    "bus3.passengers"
   ]
  },
  {
   "cell_type": "code",
   "execution_count": 43,
   "metadata": {},
   "outputs": [
    {
     "data": {
      "text/plain": [
       "['Carrie', 'Dave']"
      ]
     },
     "execution_count": 43,
     "metadata": {},
     "output_type": "execute_result"
    }
   ],
   "source": [
    "bus3.pick('Dave')\n",
    "bus2.passengers "
   ]
  },
  {
   "cell_type": "code",
   "execution_count": 44,
   "metadata": {},
   "outputs": [
    {
     "data": {
      "text/plain": [
       "True"
      ]
     },
     "execution_count": 44,
     "metadata": {},
     "output_type": "execute_result"
    }
   ],
   "source": [
    "bus2.passengers is bus3.passengers"
   ]
  },
  {
   "cell_type": "markdown",
   "metadata": {},
   "source": [
    "The problem is that Bus instances that don’t get an initial passenger list end up sharing the same passenger list among themselves."
   ]
  },
  {
   "cell_type": "code",
   "execution_count": 45,
   "metadata": {},
   "outputs": [
    {
     "data": {
      "text/plain": [
       "(['Carrie', 'Dave'],)"
      ]
     },
     "execution_count": 45,
     "metadata": {},
     "output_type": "execute_result"
    }
   ],
   "source": [
    "HauntedBus.__init__.__defaults__"
   ]
  },
  {
   "cell_type": "markdown",
   "metadata": {},
   "source": [
    "### Defensive Programming with Mutable Parameters\n"
   ]
  },
  {
   "cell_type": "markdown",
   "metadata": {},
   "source": [
    "1. Make a copy of the passengers list, or convert it to a list if it’s not one"
   ]
  },
  {
   "cell_type": "code",
   "execution_count": 46,
   "metadata": {},
   "outputs": [],
   "source": [
    "class TwilightBus:\n",
    " \"\"\"A bus model that makes passengers vanish\"\"\"\n",
    " def __init__(self, passengers=None):\n",
    "    if passengers is None:\n",
    "        self.passengers = [] \n",
    "    else:\n",
    "        self.passengers = list(passengers) # 1\n",
    " \n",
    " def pick(self, name):\n",
    "    self.passengers.append(name)\n",
    " \n",
    " def drop(self, name):\n",
    "    self.passengers.remove(name) \n"
   ]
  },
  {
   "cell_type": "markdown",
   "metadata": {},
   "source": [
    "## del and Garbage Collection\n",
    "\n",
    "The del statement deletes names, not objects. An object may be garbage collected as result of a del command, but only if the variable deleted holds the last reference to the object, or if the object becomes unreachable.Rebinding a variable may also cause the number of references to an object to reach zero, causing its destruction\n",
    "\n",
    "In CPython, the primary algorithm for garbage collection is reference counting. Essentially, each object keeps count of how many references point to it. As soon as that refcount reaches zero, the object is immediately destroyed"
   ]
  },
  {
   "cell_type": "code",
   "execution_count": 49,
   "metadata": {},
   "outputs": [
    {
     "name": "stdout",
     "output_type": "stream",
     "text": [
      "Gone with the wind...\n"
     ]
    },
    {
     "data": {
      "text/plain": [
       "True"
      ]
     },
     "execution_count": 49,
     "metadata": {},
     "output_type": "execute_result"
    }
   ],
   "source": [
    "import weakref\n",
    "\n",
    "s1 = {1, 2, 3}\n",
    "s2 = s1\n",
    "\n",
    "def bye(): \n",
    "    print('Gone with the wind...')\n",
    "    \n",
    "ender = weakref.finalize(s1, bye)\n",
    "ender.alive"
   ]
  },
  {
   "cell_type": "code",
   "execution_count": 50,
   "metadata": {},
   "outputs": [
    {
     "data": {
      "text/plain": [
       "True"
      ]
     },
     "execution_count": 50,
     "metadata": {},
     "output_type": "execute_result"
    }
   ],
   "source": [
    "del s1\n",
    "ender.alive"
   ]
  },
  {
   "cell_type": "code",
   "execution_count": 51,
   "metadata": {},
   "outputs": [
    {
     "name": "stdout",
     "output_type": "stream",
     "text": [
      "Gone with the wind...\n"
     ]
    }
   ],
   "source": [
    "s2 = 'spam' "
   ]
  },
  {
   "cell_type": "code",
   "execution_count": 52,
   "metadata": {},
   "outputs": [
    {
     "data": {
      "text/plain": [
       "False"
      ]
     },
     "execution_count": 52,
     "metadata": {},
     "output_type": "execute_result"
    }
   ],
   "source": [
    "ender.alive"
   ]
  },
  {
   "cell_type": "markdown",
   "metadata": {},
   "source": [
    "1. s1 and s2 are aliases referring to the same set, {1, 2, 3}.\n",
    "2. This function must not be a bound method of the object about to be destroyed or otherwise hold a reference to it.\n",
    "3. Register the bye callback on the object referred by s1.\n",
    "4. The .alive attribute is True before the finalize object is called.\n",
    "5. As discussed, del does not delete an object, just a reference to it\n",
    "6. Rebinding the last reference, s2, makes {1, 2, 3} unreachable. It is destroyed, the bye callback is invoked, and ender.alive becomes False"
   ]
  },
  {
   "cell_type": "markdown",
   "metadata": {},
   "source": [
    "# Chapter Summary\n",
    "\n",
    "Every Python object has an identity, a type, and a value. Only the value of an object changes over time.\n",
    "\n",
    "If an immutable collection holds references to mutable items, then its value may actually change when the value of a mutable item changes.\n",
    "\n",
    "\n",
    "- Augmented assignment with += or *= creates new objects if the lefthand variable is bound to an immutable object, but may modify a mutable object in place.\n",
    "- Assigning a new value to an existing variable does not change the object previously bound to it. This is called a rebinding: the variable is now bound to a different object. If that variable was the last reference to the previous object, that object will be garbage collected.\n",
    "- Function parameters are passed as aliases, which means the function may change any mutable object received as an argument. There is no way to prevent this, except making local copies or using immutable objects (e.g., passing a tuple instead of a list).\n",
    "- Using mutable objects as default values for function parameters is dangerous because if the parameters are changed in place, then the default is changed, affecting every future call that relies on the default."
   ]
  }
 ],
 "metadata": {
  "interpreter": {
   "hash": "d58cd66771b86600ed196df3ae1631a1e510be967e3cfbdfd84098f57ff410b8"
  },
  "kernelspec": {
   "display_name": "Python 3.8.11 64-bit ('base': conda)",
   "language": "python",
   "name": "python3"
  },
  "language_info": {
   "codemirror_mode": {
    "name": "ipython",
    "version": 3
   },
   "file_extension": ".py",
   "mimetype": "text/x-python",
   "name": "python",
   "nbconvert_exporter": "python",
   "pygments_lexer": "ipython3",
   "version": "3.8.11"
  },
  "orig_nbformat": 4
 },
 "nbformat": 4,
 "nbformat_minor": 2
}
