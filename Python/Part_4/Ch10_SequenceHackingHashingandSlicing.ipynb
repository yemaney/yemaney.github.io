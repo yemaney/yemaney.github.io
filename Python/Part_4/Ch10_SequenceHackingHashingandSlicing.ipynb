{
 "cells": [
  {
   "cell_type": "markdown",
   "metadata": {},
   "source": [
    "# Sequence Hacking, Hashing, and Slicing\n"
   ]
  },
  {
   "cell_type": "markdown",
   "metadata": {},
   "source": [
    "## Vector Take #1: Vector2d Compatible"
   ]
  },
  {
   "cell_type": "code",
   "execution_count": 30,
   "metadata": {},
   "outputs": [],
   "source": [
    "from array import array\n",
    "import reprlib\n",
    "import math\n",
    "\n",
    "class Vector:\n",
    "    typecode = 'd'\n",
    "    shortcut_names = 'xyzt'\n",
    "\n",
    "    def __init__(self, components):\n",
    "        self._components = array(self.typecode, components)\n",
    "        \n",
    "    def __iter__(self):\n",
    "        return iter(self._components)\n",
    "    \n",
    "    def __repr__(self) -> str:\n",
    "        components = reprlib.repr(self._components)\n",
    "        components = components[components.find('['):-1]\n",
    "        return 'Vector({})'.format(components)\n",
    "    \n",
    "    def __str__(self) -> str:\n",
    "        return str(tuple(self))\n",
    "    \n",
    "    def __bytes__(self):\n",
    "         return (bytes([ord(self.typecode)]) +\n",
    "                 bytes(self._components))\n",
    "         \n",
    "    def __eq__(self, __o: object) -> bool:\n",
    "        return tuple(self) == tuple(__o)\n",
    "    \n",
    "    def __abs__(self):\n",
    "        return math.sqrt(sum(x * x for x in self))\n",
    "    \n",
    "    def __bool__(self):\n",
    "        return bool(abs(self))\n",
    "    \n",
    "    @classmethod\n",
    "    def from_bytes(cls, octets):\n",
    "        typecode = chr(octets[0])\n",
    "        memv = memoryview(octets[1:]).cast(typecode)\n",
    "        return cls(memv)\n",
    "    \n",
    "    def __len__(self):\n",
    "        return len(self._components)\n",
    "    \n",
    "    def __getitem__(self, index):\n",
    "        return self._components[index]\n",
    "    \n",
    "    def __getattr__(self, name):\n",
    "        cls = type(self)  #1 \n",
    "        if len(name) == 1: #2\n",
    "            pos = cls.shortcut_names.find(name) #3\n",
    "        if 0 <= pos < len(self._components): #4\n",
    "            return self._components[pos]\n",
    "        msg = '{.__name__!r} object has no attribute {!r}' #5\n",
    "        raise AttributeError(msg.format(cls, name))\n",
    "    \n",
    "    def __setattr__(self, name, value):\n",
    "        cls = type(self)\n",
    "        if len(name) == 1: # 1\n",
    "            if name in cls.shortcut_names: # 2\n",
    "                error = 'readonly attribute {attr_name!r}'\n",
    "            elif name.islower(): # 3\n",
    "                error = \"can't set attributes 'a' to 'z' in {cls_name!r}\"\n",
    "            else:\n",
    "                error = '' # 4\n",
    "            if error: # 5\n",
    "                msg = error.format(cls_name=cls.__name__, attr_name=name)\n",
    "                raise AttributeError(msg)\n",
    "        super().__setattr__(name, value)"
   ]
  },
  {
   "cell_type": "markdown",
   "metadata": {},
   "source": [
    "1. The self._components instance “protected” attribute will hold an array with the Vector components\n",
    "2. To allow iteration, we return an iterator over self._components\n",
    "3. Use reprlib.repr() to get a limited-length representation of self._components (e.g., array('d', [0.0, 1.0, 2.0, 3.0, 4.0, ...])).\n",
    "4. Remove the array('d', prefix and the trailing ) before plugging the string into a Vector constructor call.\n",
    "5. Build a bytes object directly from self._components\n",
    "6. We can’t use hypot anymore, so we sum the squares of the components and compute the sqrt of that.\n",
    "7. The only change needed from the earlier frombytes is in the last line: we passthe memoryview directly to the constructor, without unpacking with * as we did before."
   ]
  },
  {
   "cell_type": "markdown",
   "metadata": {},
   "source": [
    "## Protocols and Duck Typing\n",
    "\n",
    "In the context of object-oriented programming, a protocol is an informal interface, defined only in documentation and not in code. For example, the sequence protocol in Python entails just the `__len__` and `__getitem__` methods. Any class Spam that implements those methods with the standard signature and semantics can be used anywhere a sequence is expected. Whether Spam is a subclass of this or that is irrelevant; all that matters is that it provides the necessary methods.\n"
   ]
  },
  {
   "cell_type": "markdown",
   "metadata": {},
   "source": [
    "## Vector Take #2: A Sliceable Sequence\n",
    "\n",
    "```python\n",
    "class Vector:\n",
    "    # many lines omitted\n",
    "    # ...\n",
    "    def __len__(self):\n",
    "        return len(self._components)\n",
    "    def __getitem__(self, index):\n",
    "        return self._components[index]\n",
    "```"
   ]
  },
  {
   "cell_type": "code",
   "execution_count": 3,
   "metadata": {},
   "outputs": [
    {
     "data": {
      "text/plain": [
       "3"
      ]
     },
     "execution_count": 3,
     "metadata": {},
     "output_type": "execute_result"
    }
   ],
   "source": [
    "v1 = Vector([3, 4, 5])\n",
    "len(v1)"
   ]
  },
  {
   "cell_type": "code",
   "execution_count": 4,
   "metadata": {},
   "outputs": [
    {
     "data": {
      "text/plain": [
       "(3.0, 5.0)"
      ]
     },
     "execution_count": 4,
     "metadata": {},
     "output_type": "execute_result"
    }
   ],
   "source": [
    "v1[0], v1[-1]"
   ]
  },
  {
   "cell_type": "code",
   "execution_count": 5,
   "metadata": {},
   "outputs": [],
   "source": [
    "v7 = Vector(range(7))"
   ]
  },
  {
   "cell_type": "code",
   "execution_count": 6,
   "metadata": {},
   "outputs": [
    {
     "data": {
      "text/plain": [
       "array('d', [1.0, 2.0, 3.0])"
      ]
     },
     "execution_count": 6,
     "metadata": {},
     "output_type": "execute_result"
    }
   ],
   "source": [
    "v7[1:4]"
   ]
  },
  {
   "cell_type": "markdown",
   "metadata": {},
   "source": [
    "It would be better if a slice of a Vector was also a Vector instance and not a array. To make Vector produce slices as Vector instances, we can’t just delegate the slicing to array. We need to analyze the arguments we get in `__getitem__` and do the right thing."
   ]
  },
  {
   "cell_type": "markdown",
   "metadata": {},
   "source": [
    "### How Slicing Works\n"
   ]
  },
  {
   "cell_type": "code",
   "execution_count": 7,
   "metadata": {},
   "outputs": [],
   "source": [
    "class MySeq:\n",
    "    def __getitem__(self, index):\n",
    "        return index"
   ]
  },
  {
   "cell_type": "code",
   "execution_count": 8,
   "metadata": {},
   "outputs": [
    {
     "data": {
      "text/plain": [
       "1"
      ]
     },
     "execution_count": 8,
     "metadata": {},
     "output_type": "execute_result"
    }
   ],
   "source": [
    "s = MySeq()\n",
    "s[1]"
   ]
  },
  {
   "cell_type": "code",
   "execution_count": 9,
   "metadata": {},
   "outputs": [
    {
     "data": {
      "text/plain": [
       "slice(1, 4, None)"
      ]
     },
     "execution_count": 9,
     "metadata": {},
     "output_type": "execute_result"
    }
   ],
   "source": [
    "s[1:4]"
   ]
  },
  {
   "cell_type": "code",
   "execution_count": 10,
   "metadata": {},
   "outputs": [
    {
     "data": {
      "text/plain": [
       "slice(1, 4, 2)"
      ]
     },
     "execution_count": 10,
     "metadata": {},
     "output_type": "execute_result"
    }
   ],
   "source": [
    "s[1:4:2]"
   ]
  },
  {
   "cell_type": "code",
   "execution_count": 11,
   "metadata": {},
   "outputs": [
    {
     "data": {
      "text/plain": [
       "(slice(1, 4, 2), 9)"
      ]
     },
     "execution_count": 11,
     "metadata": {},
     "output_type": "execute_result"
    }
   ],
   "source": [
    "s[1:4:2, 9]"
   ]
  },
  {
   "cell_type": "code",
   "execution_count": 12,
   "metadata": {},
   "outputs": [
    {
     "data": {
      "text/plain": [
       "(slice(1, 4, 2), slice(7, 9, None))"
      ]
     },
     "execution_count": 12,
     "metadata": {},
     "output_type": "execute_result"
    }
   ],
   "source": [
    "s[1:4:2, 7:9]"
   ]
  },
  {
   "cell_type": "markdown",
   "metadata": {},
   "source": [
    "1. For this demonstration, `__getitem__` merely returns whatever is passed to it\n",
    "2. slice(1, 4, 2) means start at 1, stop at 4, step by 2.\n",
    "3. Surprise: the presence of commas inside the [] means `__getitem__` receives a tuple. The tuple may even hold several slice objects."
   ]
  },
  {
   "cell_type": "markdown",
   "metadata": {},
   "source": [
    "Inspecting a slice we find the data attributes start, stop, and step, and an indices method."
   ]
  },
  {
   "cell_type": "code",
   "execution_count": 14,
   "metadata": {},
   "outputs": [
    {
     "name": "stdout",
     "output_type": "stream",
     "text": [
      "['__class__', '__delattr__', '__dir__', '__doc__', '__eq__', '__format__', '__ge__', '__getattribute__', '__gt__', '__hash__', '__init__', '__init_subclass__', '__le__', '__lt__', '__ne__', '__new__', '__reduce__', '__reduce_ex__', '__repr__', '__setattr__', '__sizeof__', '__str__', '__subclasshook__', 'indices', 'start', 'step', 'stop']\n"
     ]
    }
   ],
   "source": [
    "print(dir(slice))"
   ]
  },
  {
   "cell_type": "markdown",
   "metadata": {},
   "source": [
    "### A Slice-Aware `__getitem__`\n",
    "\n",
    "```py\n",
    "def __len__(self):\n",
    "    return len(self._components)\n",
    "\n",
    "def __getitem__(self, index):\n",
    "    cls = type(self) # 1\n",
    "    if isinstance(index, slice): # 2\n",
    "         return cls(self._components[index]) # 3\n",
    "    elif isinstance(index, numbers.Integral): # 4\n",
    "        return self._components[index] # 5\n",
    "    else:\n",
    "        msg = '{cls.__name__} indices must be integers'\n",
    "        raise TypeError(msg.format(cls=cls)) # 6\n",
    "```\n",
    "\n",
    "1. Get the class of the instance for later use\n",
    "2. If the index argument is a slice...\n",
    "3. invoke the class to build nother Vector instance from a slice of the _components array\n",
    "4. If the index is an int or some other kind of integer...\n",
    "5. just return the specific item from _components\n",
    "6. otherwise raise an exception"
   ]
  },
  {
   "cell_type": "markdown",
   "metadata": {},
   "source": [
    "## Vector Take #3: Dynamic Attribute Access\n",
    "\n",
    "It may be convenient to access the first few components with shortcut letters such as x, y, z instead of v[0], v[1] and v[2]\n",
    "\n",
    "```py\n",
    "\n",
    "shortcut_names = 'xyzt'\n",
    "\n",
    "def __getattr__(self, name):\n",
    "    cls = type(self)  #1 \n",
    "    if len(name) == 1: #2\n",
    "        pos = cls.shortcut_names.find(name) #3\n",
    "    if 0 <= pos < len(self._components): #4\n",
    "        return self._components[pos]\n",
    "    msg = '{.__name__!r} object has no attribute {!r}' #5\n",
    "    raise AttributeError(msg.format(cls, name))\n",
    "```\n",
    "\n",
    "1. Get vector class for later use\n",
    "2. If the name is one character, it maye be one of the shortcut_names\n",
    "3. find position of 1-letter name\n",
    "4. if the position is within range, return the array element\n",
    "5. if either test failed, raise AttributeError"
   ]
  },
  {
   "cell_type": "code",
   "execution_count": 24,
   "metadata": {},
   "outputs": [
    {
     "data": {
      "text/plain": [
       "Vector([0.0, 1.0, 2.0, 3.0, 4.0])"
      ]
     },
     "execution_count": 24,
     "metadata": {},
     "output_type": "execute_result"
    }
   ],
   "source": [
    "v = Vector(range(5))\n",
    "v"
   ]
  },
  {
   "cell_type": "code",
   "execution_count": 26,
   "metadata": {},
   "outputs": [
    {
     "data": {
      "text/plain": [
       "0.0"
      ]
     },
     "execution_count": 26,
     "metadata": {},
     "output_type": "execute_result"
    }
   ],
   "source": [
    "v.x"
   ]
  },
  {
   "cell_type": "code",
   "execution_count": 27,
   "metadata": {},
   "outputs": [
    {
     "data": {
      "text/plain": [
       "10"
      ]
     },
     "execution_count": 27,
     "metadata": {},
     "output_type": "execute_result"
    }
   ],
   "source": [
    "v.x = 10\n",
    "v.x"
   ]
  },
  {
   "cell_type": "code",
   "execution_count": 28,
   "metadata": {},
   "outputs": [
    {
     "data": {
      "text/plain": [
       "Vector([0.0, 1.0, 2.0, 3.0, 4.0])"
      ]
     },
     "execution_count": 28,
     "metadata": {},
     "output_type": "execute_result"
    }
   ],
   "source": [
    "v"
   ]
  },
  {
   "cell_type": "markdown",
   "metadata": {},
   "source": [
    "1. Access element v[0] as v.x\n",
    "2. Assign new value to v.x. This should raise an exception\n",
    "3. reading v.x shows the new value, 10\n",
    "4. However, the vector components did not change\n",
    "\n",
    "Python only calls `__getattr__` as a fall back, when the object does not have the named attribute. However, after we assign v.x = 10, the v object now has an x attribute, so `__getattr__` will no longer be called to retrieve v.x: the interpreter will just return the value 10 that is bound to v.x. On the other hand, our implementation of `__getattr__` pays no attention to instance attributes other than self._components, from\n",
    "where it retrieves the values of the “virtual attributes” listed in shortcut_names.\n",
    "\n",
    "We need to customize the logic for setting attributes in our Vector class in order to avoid this inconsistency.\n",
    "\n"
   ]
  },
  {
   "cell_type": "markdown",
   "metadata": {},
   "source": [
    "```py\n",
    "def __setattr__(self, name, value):\n",
    "    cls = type(self)\n",
    "    if len(name) == 1: # 1\n",
    "        if name in cls.shortcut_names: # 2\n",
    "            error = 'readonly attribute {attr_name!r}'\n",
    "        elif name.islower(): # 3\n",
    "            error = \"can't set attributes 'a' to 'z' in {cls_name!r}\"\n",
    "        else:\n",
    "            error = '' # 4\n",
    "        if error: # 5\n",
    "            msg = error.format(cls_name=cls.__name__, attr_name=name)\n",
    "            raise AttributeError(msg)\n",
    "     super().__setattr__(name, value) # 6\n",
    "```\n",
    "\n",
    "1. Special handling for single-character attribute names\n",
    "2. If name is one of the xyzt, set specific error message\n",
    "3. if name is lowercase, set error message about all singe-letter names\n",
    "4. otherwise set blank error message \n",
    "5. if there is a nonblank error  message raise AttributeError\n",
    "6. Defalt case: call `__setattr__` on superclass for standard behavior\n",
    "\n",
    "\n",
    "\n",
    "The super() function provides a way to access methods of super‐\n",
    "classes dynamically, a necessity in a dynamic language support‐\n",
    "ing multiple inheritance like Python. It’s used to delegate some task\n",
    "from a method in a subclass to a suitable method in a superclass\n",
    "\n",
    "very often when you implement `__getattr__` you need to code\n",
    "`__setattr__` as well, to avoid inconsistent behavior in your objects.\n",
    "\n",
    "If we wanted to allow changing components, we could implement `__setitem__` to enable v[0] = 1.1 and/or `__setattr__` to make v.x = 1.1 work."
   ]
  },
  {
   "cell_type": "markdown",
   "metadata": {},
   "source": [
    "## Vector Take #4: Hashing and a Faster ==\n",
    "\n",
    "\n",
    "```py\n",
    "from array import array\n",
    "import reprlib\n",
    "import math\n",
    "import functools # \n",
    "import operator # \n",
    "\n",
    "\n",
    "class Vector:\n",
    "    typecode = 'd'\n",
    "\n",
    "    \n",
    "    def __eq__(self, other): # \n",
    "        return tuple(self) == tuple(other)\n",
    "    \n",
    "    def __hash__(self):\n",
    "        hashes = (hash(x) for x in self._components) # \n",
    "        return functools.reduce(operator.xor, hashes, 0) \n",
    "```\n",
    "\n",
    "\n",
    "1. Import functools to use reduce\n",
    "2. Import operator to use xor\n",
    "3. Create a generator expression to lazily compute the hash of each component.\n",
    "4. Feed hashes to reduce with the xor function to compute the aggregate hash value; the third argument, 0, is the initializer \n",
    "\n",
    "\n",
    "Another way to implement hash function with map, making the mapping step more visible.\n",
    "\n",
    "```py\n",
    "def __hash__(self):\n",
    "    hashes = map(hash, self._components)\n",
    "    return functools.reduce(operator.xor, hashes)\n",
    "\n",
    "```\n",
    "\n",
    "Rethinking the  `__eq__` implemented as:\n",
    "```py \n",
    "def __eq__(self, other):\n",
    "     return tuple(self) == tuple(other)\n",
    "```\n",
    "Very inefficient for Vector  instances that may have thousands off components, as it will have to build two tuples copying all the values to compare.\n",
    "\n",
    "```py\n",
    "def __eq__(self, other):\n",
    "    if len(self) != len(other): # \n",
    "        return False\n",
    "    for a, b in zip(self, other): # \n",
    "        if a != b: # \n",
    "            return False\n",
    "    return True \n",
    "\n",
    "```\n",
    "\n",
    "1. If len of the objects are different, they ar not equal\n",
    "2. zip produces a generator of tuples made from the items in each iterable argument.\n",
    "3. As soon as two components are different, exit return False\n",
    "4. Otherwise, the objects are equal\n",
    "\n",
    "Even simpler with all()\n",
    "\n",
    "```py\n",
    "def __eq__(self, other):\n",
    "     return len(self) == len(other) and all(a == b for a, b in zip(self, other))\n",
    "```"
   ]
  },
  {
   "cell_type": "markdown",
   "metadata": {},
   "source": [
    "# Chapter Summary\n",
    "\n",
    "1. The fact that Vector behaves as a sequence just by implementing `__getitem__` and `__len__` prompted a discussion of protocols, the informal interfaces used in duck-typed languages4\n",
    "2. returning new Vector instances, just like a Pythonic sequence is expected to do.\n",
    "3. provide read-only access to the first few Vector components by implementing `__getattr__`. implementing `__setattr__` as well, to forbid assigning values to single-letter attributes Very often, when you code a `__getattr__` you need to add `__setattr__` too, in order to avoid inconsistent behavior\n",
    "4. Implementing the `__hash__` function provided the perfect context for using `functools.reduce`,  used the `all` reducing built-in to create a more efficient `__eq__` method.\n",
    "\n",
    "\n",
    "\n"
   ]
  }
 ],
 "metadata": {
  "interpreter": {
   "hash": "d58cd66771b86600ed196df3ae1631a1e510be967e3cfbdfd84098f57ff410b8"
  },
  "kernelspec": {
   "display_name": "Python 3.8.11 64-bit ('base': conda)",
   "language": "python",
   "name": "python3"
  },
  "language_info": {
   "codemirror_mode": {
    "name": "ipython",
    "version": 3
   },
   "file_extension": ".py",
   "mimetype": "text/x-python",
   "name": "python",
   "nbconvert_exporter": "python",
   "pygments_lexer": "ipython3",
   "version": "3.8.11"
  },
  "orig_nbformat": 4
 },
 "nbformat": 4,
 "nbformat_minor": 2
}
