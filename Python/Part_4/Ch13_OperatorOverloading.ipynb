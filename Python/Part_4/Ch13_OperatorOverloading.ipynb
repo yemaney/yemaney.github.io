{
 "cells": [
  {
   "cell_type": "markdown",
   "metadata": {},
   "source": [
    "# Operator Overloading: Doing It Right\n",
    "\n",
    "- Operator overloading allows user-defined objects to interoperate with infix operators such as + and | or unary operators like - and ~."
   ]
  },
  {
   "cell_type": "markdown",
   "metadata": {},
   "source": [
    "## Operator Overloading 101\n",
    "\n",
    "- We cannot overload operators for the built-in types.\n",
    "- We cannot create new operators, only overload existing ones.\n",
    "- A few operators can’t be overloaded: is, and, or, not (but the bitwise &, |, ~, can)."
   ]
  },
  {
   "cell_type": "markdown",
   "metadata": {},
   "source": [
    "## Unary Operators\n",
    "\n",
    "- - `__neg__` : Arithmetic unary negation\n",
    "- + `__pos__` : Arithmetic unary plus\n",
    "- ~ `__invert__` : Bitwise inverse of an integer: \n",
    "  - ~x == -(x+1). If x is 2 then ~x == -3.\n",
    "\n",
    "\n",
    "It’s easy to support the unary operators. Simply implement the appropriate special method, which will receive just one argument: self. Use whatever logic makes sense in your class, but stick to the fundamental rule of operators: `always return a new object.`\n",
    "\n",
    "\n",
    "```py\n",
    "#  Example for Vector\n",
    "def __neg__(self):\n",
    "    return Vector(-x for x in self) \n",
    "\n",
    "def __pos__(self):\n",
    "     return Vector(self)\n",
    "\n",
    "```"
   ]
  },
  {
   "cell_type": "markdown",
   "metadata": {},
   "source": [
    "## Overloading + for Vector Addition\n",
    "\n",
    "```py\n",
    "import itertools\n",
    "\n",
    "\n",
    "def __add__(self, other):\n",
    "    pairs = itertools.zip_longest(self, other, fillvalue=0.0)\n",
    "    return Vector(a + b for a, b in pairs) \n",
    "```"
   ]
  },
  {
   "cell_type": "markdown",
   "metadata": {},
   "source": [
    "To support operations involving objects of different types, Python implements a special dispatching mechanism for the infix operator special methods. \n",
    "\n",
    "1. If a has `__add__`, call a.`__add__`(b) and return result unless it’s NotImplemented\n",
    "2. If a doesn’t have `__add__`, or calling it returns NotImplemented, check if b has `__radd__`, then call b.`__radd__`(a) and return result unless it’s NotImplemented.\n",
    "3. If b doesn’t have `__radd__`, or calling it returns NotImplemented, raise TypeError with an unsupported operand types message.\n",
    "\n",
    "\n",
    "\n",
    "Therefore, to make the mixed-type additions work, we need to implement the Vector.`__radd__` method.\n",
    "\n",
    "```py\n",
    "def __add__(self, other): # \n",
    "    pairs = itertools.zip_longest(self, other, fillvalue=0.0)\n",
    "    return Vector(a + b for a, b in pairs)\n",
    " \n",
    " \n",
    "def __radd__(self, other):\n",
    "    return self + other\n",
    "```\n"
   ]
  },
  {
   "cell_type": "markdown",
   "metadata": {},
   "source": [
    "## Overloading * for Scalar Multiplication\n",
    "\n",
    "```py\n",
    "import numbers\n",
    "\n",
    "def __mul__(self, scalar):\n",
    "    if isinstance(scalar, numbers.Real):\n",
    "        return Vector(n * scalar for n in self)\n",
    "    else:\n",
    "        return NotImplemented\n",
    "\n",
    "\n",
    "def __rmul__(self, scalar):\n",
    "    return self * scalar\n",
    "\n",
    "```"
   ]
  },
  {
   "cell_type": "markdown",
   "metadata": {},
   "source": [
    "## Rich Comparison Operators\n",
    "\n",
    "- The same set of methods are used in forward and reverse operator calls. The rules are summarized in Table 13-2. For example, in the case of ==, both the forward and reverse calls invoke `__eq__`, only swapping arguments; and a forward call to `__gt__` is followed by a reverse call to `__lt__` with the swapped arguments.\n",
    "- In the case of == and !=, if the reverse call fails, Python compares the object IDs instead of raising TypeError."
   ]
  },
  {
   "cell_type": "code",
   "execution_count": null,
   "metadata": {},
   "outputs": [],
   "source": [
    "class Vector:\n",
    "    # many lines omitted\n",
    "    def __eq__(self, other):\n",
    "        if isinstance(other, Vector):\n",
    "            return (len(self) == len(other) and\n",
    "                    all(a == b for a, b in zip(self, other)))\n",
    "        else:\n",
    "            return NotImplemented \n"
   ]
  },
  {
   "cell_type": "markdown",
   "metadata": {},
   "source": [
    "## Augmented Assignment Operators\n",
    "\n",
    "If a class does not implement the in-place operators, the augmented\n",
    "assignment operators are just syntactic sugar: a += b is evaluated exactly as a = a + b.\n",
    "\n",
    "If you have `__add__` then `+= will work with no additional code`.\n",
    "\n",
    "However, if you do implement an in-place operator method such as `__iadd__`, that method is called to compute the result of a += b. As the name says, those `operators are expected to change the left hand operand in place, and not create a new object as the result.`"
   ]
  },
  {
   "cell_type": "markdown",
   "metadata": {},
   "source": [
    "# Chapter Summary\n",
    "\n",
    "- restrictions Python imposes on operator overloading: no overloading of operators in built-in types, and overloading limited to existing operators, except for a few ones (is, and, or, not)\n",
    "- unary and infix operators are supposed to produce results by creating new objects, and should never change their operands\n",
    "- To support operations with other types, we return the NotImplemented special value—not an exception—allowing the interpreter to try again by swapping the operands and calling the reverse special method for that operator (e.g., `__radd__`)\n",
    "- Mixing operand types means we need to detect when we get an operand we can’t handle. \n",
    "  - tried the operation, catching a TypeError exception if it happened\n",
    "  - an explicit isinstance test\n",
    "    -  explicit type checking is more predictable.\n",
    "    -  avoid testing with a concrete class\n",
    "-  The way Python evaluates  comparison operators  is slightly different, with a different logic for choosing the reverse method, and special fallback handling for == and !=, which never generate errors because Python compares the object IDs as a last resort\n",
    "-  Python handles augmented assignment operators by default as a combination of plain operator followed by assignment,\n",
    "-  For sequence types, + usually requires that both operands are of the same type, while += often accepts any iterable as the righthand operand."
   ]
  }
 ],
 "metadata": {
  "interpreter": {
   "hash": "d58cd66771b86600ed196df3ae1631a1e510be967e3cfbdfd84098f57ff410b8"
  },
  "kernelspec": {
   "display_name": "Python 3.8.11 64-bit ('base': conda)",
   "language": "python",
   "name": "python3"
  },
  "language_info": {
   "codemirror_mode": {
    "name": "ipython",
    "version": 3
   },
   "file_extension": ".py",
   "mimetype": "text/x-python",
   "name": "python",
   "nbconvert_exporter": "python",
   "pygments_lexer": "ipython3",
   "version": "3.8.11"
  },
  "orig_nbformat": 4
 },
 "nbformat": 4,
 "nbformat_minor": 2
}
