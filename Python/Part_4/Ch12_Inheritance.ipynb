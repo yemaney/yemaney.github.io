{
 "cells": [
  {
   "cell_type": "markdown",
   "metadata": {},
   "source": [
    "# Inheritance: For Good or For Worse\n",
    "\n",
    "- The pitfalls of subclassing from built-in types\n",
    "- Multiple inheritance and the method resolution order"
   ]
  },
  {
   "cell_type": "markdown",
   "metadata": {},
   "source": [
    "## Subclassing Built-In Types Is Tricky\n",
    "\n",
    "-  code of the built-ins (written in C) does not call special methods overridden by user-defined classes."
   ]
  },
  {
   "cell_type": "code",
   "execution_count": 3,
   "metadata": {},
   "outputs": [],
   "source": [
    "class DoppleDict(dict):\n",
    "    def __setitem__(self, key, value):\n",
    "        return super().__setitem__(key, [value] * 2)"
   ]
  },
  {
   "cell_type": "code",
   "execution_count": 4,
   "metadata": {},
   "outputs": [
    {
     "data": {
      "text/plain": [
       "{'one': 1}"
      ]
     },
     "execution_count": 4,
     "metadata": {},
     "output_type": "execute_result"
    }
   ],
   "source": [
    "dd = DoppleDict(one=1)\n",
    "dd"
   ]
  },
  {
   "cell_type": "code",
   "execution_count": 5,
   "metadata": {},
   "outputs": [
    {
     "data": {
      "text/plain": [
       "{'one': 1, 'two': [2, 2]}"
      ]
     },
     "execution_count": 5,
     "metadata": {},
     "output_type": "execute_result"
    }
   ],
   "source": [
    "dd['two'] = 2 \n",
    "dd"
   ]
  },
  {
   "cell_type": "code",
   "execution_count": 7,
   "metadata": {},
   "outputs": [
    {
     "data": {
      "text/plain": [
       "{'one': 1, 'two': [2, 2], 'three': 3}"
      ]
     },
     "execution_count": 7,
     "metadata": {},
     "output_type": "execute_result"
    }
   ],
   "source": [
    "dd.update(three=3)\n",
    "dd"
   ]
  },
  {
   "cell_type": "markdown",
   "metadata": {},
   "source": [
    "1. The `__init__` method inherited from dict clearly ignored that `__setitem__` was overridden: the value of 'one' is not duplicated\n",
    "2. The [] operator calls our `__setitem__` and works as expected: 'two' maps to the duplicated value [2, 2]\n",
    "3. The update method from dict does not use our version of `__setitem__` either: the value of 'three' was not duplicated."
   ]
  },
  {
   "cell_type": "markdown",
   "metadata": {},
   "source": [
    "Subclassing built-in types like dict or list or str directly is errorprone because the built-in methods mostly ignore user-defined\n",
    "overrides. Instead of subclassing the built-ins, `derive your classes from the collections module using UserDict, UserList, and UserString, which are designed to be easily extended`"
   ]
  },
  {
   "cell_type": "code",
   "execution_count": 8,
   "metadata": {},
   "outputs": [],
   "source": [
    "import collections\n",
    "\n",
    "class DoppleDict(collections.UserDict):\n",
    "    def __setitem__(self, key, value):\n",
    "        return super().__setitem__(key, [value] * 2)"
   ]
  },
  {
   "cell_type": "code",
   "execution_count": 10,
   "metadata": {},
   "outputs": [
    {
     "data": {
      "text/plain": [
       "{'one': [1, 1]}"
      ]
     },
     "execution_count": 10,
     "metadata": {},
     "output_type": "execute_result"
    }
   ],
   "source": [
    "dd = DoppleDict(one=1)\n",
    "dd"
   ]
  },
  {
   "cell_type": "code",
   "execution_count": 11,
   "metadata": {},
   "outputs": [
    {
     "data": {
      "text/plain": [
       "{'one': [1, 1], 'two': [2, 2]}"
      ]
     },
     "execution_count": 11,
     "metadata": {},
     "output_type": "execute_result"
    }
   ],
   "source": [
    "dd['two'] = 2\n",
    "dd"
   ]
  },
  {
   "cell_type": "code",
   "execution_count": 13,
   "metadata": {},
   "outputs": [
    {
     "data": {
      "text/plain": [
       "{'one': [1, 1], 'two': [2, 2], 'three': [3, 3]}"
      ]
     },
     "execution_count": 13,
     "metadata": {},
     "output_type": "execute_result"
    }
   ],
   "source": [
    "dd.update(three=3)\n",
    "dd"
   ]
  },
  {
   "cell_type": "markdown",
   "metadata": {},
   "source": [
    "To summarize: the problem described in this section applies only to method delegation within the C language implementation of the built-in types."
   ]
  },
  {
   "cell_type": "markdown",
   "metadata": {},
   "source": [
    "## Multiple Inheritance and Method Resolution Order\n",
    "\n",
    "Any language implementing multiple inheritance needs to deal with potential naming conflicts when unrelated ancestor classes implement a method by the same name"
   ]
  },
  {
   "cell_type": "code",
   "execution_count": 14,
   "metadata": {},
   "outputs": [],
   "source": [
    "class A:\n",
    "    def ping(self):\n",
    "        print('ping', self)\n",
    "      \n",
    "        \n",
    "class B(A):\n",
    "    def pong(self):\n",
    "        print('pong', self)\n",
    "        \n",
    "\n",
    "class C(A):\n",
    "    def pong(self):\n",
    "        print('PONG', self)\n",
    "        \n",
    "\n",
    "class D(B, C):\n",
    "    def ping(self):\n",
    "        super().ping()\n",
    "        print('post-ping:', self)\n",
    "        \n",
    "    def pingpong(self):\n",
    "        self.ping()\n",
    "        super().ping()\n",
    "        self.pong()\n",
    "        super().pong()\n",
    "        C.pong(self)"
   ]
  },
  {
   "cell_type": "code",
   "execution_count": 15,
   "metadata": {},
   "outputs": [
    {
     "name": "stdout",
     "output_type": "stream",
     "text": [
      "pong <__main__.D object at 0x00000232FFA313D0>\n"
     ]
    }
   ],
   "source": [
    "d = D()\n",
    "d.pong()"
   ]
  },
  {
   "cell_type": "code",
   "execution_count": 16,
   "metadata": {},
   "outputs": [
    {
     "name": "stdout",
     "output_type": "stream",
     "text": [
      "PONG <__main__.D object at 0x00000232FFA313D0>\n"
     ]
    }
   ],
   "source": [
    "C.pong(d)"
   ]
  },
  {
   "cell_type": "markdown",
   "metadata": {},
   "source": [
    "1. Simply calling d.pong() causes the B version to run.\n",
    "2. You can always call a method on a superclass directly, passing the instance as an explicit argument.\n",
    "\n",
    "\n",
    "The ambiguity of a call like d.pong() is resolved because Python follows a specific order when traversing the inheritance graph. That order is called MRO: Method Resolution Order. Classes have an attribute called `__mro__` holding a tuple of references to the superclasses in MRO order, from the current class all the way to the object class."
   ]
  },
  {
   "cell_type": "code",
   "execution_count": 17,
   "metadata": {},
   "outputs": [
    {
     "data": {
      "text/plain": [
       "(__main__.D, __main__.B, __main__.C, __main__.A, object)"
      ]
     },
     "execution_count": 17,
     "metadata": {},
     "output_type": "execute_result"
    }
   ],
   "source": [
    "D.__mro__    "
   ]
  },
  {
   "cell_type": "code",
   "execution_count": 18,
   "metadata": {},
   "outputs": [
    {
     "name": "stdout",
     "output_type": "stream",
     "text": [
      "ping <__main__.D object at 0x00000232FFA313D0>\n",
      "post-ping: <__main__.D object at 0x00000232FFA313D0>\n"
     ]
    }
   ],
   "source": [
    "d.ping()"
   ]
  },
  {
   "cell_type": "markdown",
   "metadata": {},
   "source": [
    "1. The ping of D makes two calls.\n",
    "2. The first call is super().ping(); the super delegates the ping call to class A; A.ping outputs this line.\n",
    "3. The second call is print('post-ping:', self), which outputs this line."
   ]
  },
  {
   "cell_type": "code",
   "execution_count": 19,
   "metadata": {},
   "outputs": [
    {
     "name": "stdout",
     "output_type": "stream",
     "text": [
      "ping <__main__.D object at 0x00000232FFA313D0>\n",
      "post-ping: <__main__.D object at 0x00000232FFA313D0>\n",
      "ping <__main__.D object at 0x00000232FFA313D0>\n",
      "pong <__main__.D object at 0x00000232FFA313D0>\n",
      "pong <__main__.D object at 0x00000232FFA313D0>\n",
      "PONG <__main__.D object at 0x00000232FFA313D0>\n"
     ]
    }
   ],
   "source": [
    "d.pingpong()"
   ]
  },
  {
   "cell_type": "markdown",
   "metadata": {},
   "source": [
    "1. Call #1 is self.ping(), which runs the ping method of D, which outputs this line and the next one.\n",
    "2. Call #2 is super.ping(),which bypassesthe ping in D and findsthe ping method in A.\n",
    "3. Call #3 is self.pong(), which finds the B implementation of pong, according to the `__mro__`.\n",
    "4. Call #4 is super.pong(), which finds the same B.pong implementation, also following the `__mro__`.\n",
    "5. Call #5 is C.pong(self), which finds the C.pong implementation, ignoring the `__mro__`.\n",
    "\n",
    "The MRO takes into account not only the inheritance graph but also the `order in which superclasses are listed in a subclass declaration.`\n",
    "- if the D class was declared as class D(C, B):, the `__mro__` of class D would be different: C would be searched before B."
   ]
  },
  {
   "cell_type": "markdown",
   "metadata": {},
   "source": [
    "## Coping with Multiple Inheritance"
   ]
  },
  {
   "cell_type": "markdown",
   "metadata": {},
   "source": [
    "### 1. Distinguish Interface Inheritance from Implementation Inheritance\n",
    "\n",
    "-  Inheritance of interface creates a subtype, implying an “is-a relationship\n",
    "-  Inheritance of implementation avoids code duplication by reuse.\n",
    "\n",
    "`Inheritance for code reuse is an implementation detail, and it can often be replaced by composition and delegation`. On the other hand, interface inheritance is the backbone of a framework."
   ]
  },
  {
   "cell_type": "markdown",
   "metadata": {},
   "source": [
    "### 2. Make Interfaces Explicit with ABCs\n",
    "\n",
    "- In Python ≥ 3.4, this means: subclass abc.ABC"
   ]
  },
  {
   "cell_type": "markdown",
   "metadata": {},
   "source": [
    "### 3. Use Mixins for Code Reuse\n",
    "\n",
    "If a class is designed to `provide method implementations for reuse by multiple unrelated subclasses`, without implying an “is-a” relationship, it should be an explicit `mixin` class.\n",
    "\n",
    "\n",
    "- A mixin should never be instantiated, and concrete classes should not inherit only from a mixin. \n",
    "- Each mixin should provide a single specific behavior, implementing few and very closely related methods"
   ]
  },
  {
   "cell_type": "markdown",
   "metadata": {},
   "source": [
    "### 4. Make Mixins Explicit by Naming\n",
    "\n",
    "There is no formal way in Python to state that a class is a mixin, so it is highly recommended that they are named with a `…Mixin suffix`"
   ]
  },
  {
   "cell_type": "markdown",
   "metadata": {},
   "source": [
    "### 5. An ABC May Also Be a Mixin; The Reverse Is Not True\n",
    "\n",
    "- Because an ABC can implement concrete methods, it works as a mixin as well. "
   ]
  },
  {
   "cell_type": "markdown",
   "metadata": {},
   "source": [
    "### 6. Don’t Subclass from More Than One Concrete Class\n",
    "\n",
    "- Concrete classes should have zero or at most one concrete superclass\n",
    "- all but one of the superclasses of a concrete class should be ABCs or mixins."
   ]
  },
  {
   "cell_type": "markdown",
   "metadata": {},
   "source": [
    "### 7. Provide Aggregate Classes to Users\n",
    "\n",
    "- If some combination of ABCs or mixins is particularly useful to client code, provide a class that brings them together in a sensible way"
   ]
  },
  {
   "cell_type": "markdown",
   "metadata": {},
   "source": [
    "### 8. “Favor Object Composition Over Class Inheritance.”\n",
    "\n",
    "- favoring composition leads to more flexible designs\n",
    "- Composition and delegation can replace the use of mixins to make behaviors available to different classes, but cannot replace the use of interface inheritance to define a hierarchy of types."
   ]
  },
  {
   "cell_type": "markdown",
   "metadata": {},
   "source": [
    "# Chapter Summary\n",
    "\n",
    "- explained issues with subclassing built=in types:  their native methods implemented in C do not call overridden methods in subclasses\n",
    "- t’s easier to subclass UserList, UserDict, or UserString—all defined in the collections module\n",
    "- saw how the method resolution order, encoded in the `__mro__` class attribute, addresses the problem of potential naming conflicts in inherited methods\n",
    "- Also explore how to cope with multiple inheritances. And why composition is favored over inheritance"
   ]
  }
 ],
 "metadata": {
  "interpreter": {
   "hash": "d58cd66771b86600ed196df3ae1631a1e510be967e3cfbdfd84098f57ff410b8"
  },
  "kernelspec": {
   "display_name": "Python 3.8.11 64-bit ('base': conda)",
   "language": "python",
   "name": "python3"
  },
  "language_info": {
   "codemirror_mode": {
    "name": "ipython",
    "version": 3
   },
   "file_extension": ".py",
   "mimetype": "text/x-python",
   "name": "python",
   "nbconvert_exporter": "python",
   "pygments_lexer": "ipython3",
   "version": "3.8.11"
  },
  "orig_nbformat": 4
 },
 "nbformat": 4,
 "nbformat_minor": 2
}
